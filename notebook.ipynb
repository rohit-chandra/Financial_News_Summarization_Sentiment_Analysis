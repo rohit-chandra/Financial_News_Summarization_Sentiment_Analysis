{
 "cells": [
  {
   "attachments": {},
   "cell_type": "markdown",
   "metadata": {},
   "source": [
    "# 1. Import Dependencies"
   ]
  },
  {
   "cell_type": "code",
   "execution_count": 122,
   "metadata": {},
   "outputs": [],
   "source": [
    "from transformers import PegasusForConditionalGeneration, PegasusTokenizer, pipeline\n",
    "from bs4 import BeautifulSoup\n",
    "import requests\n",
    "import csv\n"
   ]
  },
  {
   "attachments": {},
   "cell_type": "markdown",
   "metadata": {},
   "source": [
    "# 2. Setup Summarization Model"
   ]
  },
  {
   "attachments": {},
   "cell_type": "markdown",
   "metadata": {},
   "source": [
    "reference code: https://huggingface.co/human-centered-summarization/financial-summarization-pegasus"
   ]
  },
  {
   "cell_type": "code",
   "execution_count": 2,
   "metadata": {},
   "outputs": [
    {
     "data": {
      "application/vnd.jupyter.widget-view+json": {
       "model_id": "64c398b3de0f494385c043d77691cbe9",
       "version_major": 2,
       "version_minor": 0
      },
      "text/plain": [
       "Downloading pytorch_model.bin:   0%|          | 0.00/2.28G [00:00<?, ?B/s]"
      ]
     },
     "metadata": {},
     "output_type": "display_data"
    },
    {
     "name": "stderr",
     "output_type": "stream",
     "text": [
      "c:\\Users\\Admin\\anaconda3\\envs\\nick_stock_sentiment\\lib\\site-packages\\huggingface_hub\\file_download.py:133: UserWarning: `huggingface_hub` cache-system uses symlinks by default to efficiently store duplicated files but your machine does not support them in C:\\Users\\Admin\\.cache\\huggingface\\hub. Caching files will still work but in a degraded version that might require more space on your disk. This warning can be disabled by setting the `HF_HUB_DISABLE_SYMLINKS_WARNING` environment variable. For more details, see https://huggingface.co/docs/huggingface_hub/how-to-cache#limitations.\n",
      "To support symlinks on Windows, you either need to activate Developer Mode or to run Python as an administrator. In order to see activate developer mode, see this article: https://docs.microsoft.com/en-us/windows/apps/get-started/enable-your-device-for-development\n",
      "  warnings.warn(message)\n"
     ]
    }
   ],
   "source": [
    "# name of the model we want to use for summarization. You can use any other model from the HuggingFace library\n",
    "model_name = \"human-centered-summarization/financial-summarization-pegasus\"\n",
    "\n",
    "# tokenizer is used to encode/decode the text into input format which the model expects\n",
    "tokenizer = PegasusTokenizer.from_pretrained(model_name)\n",
    "\n",
    "# load the model\n",
    "model = PegasusForConditionalGeneration.from_pretrained(model_name)"
   ]
  },
  {
   "attachments": {},
   "cell_type": "markdown",
   "metadata": {},
   "source": [
    "# 3. Summarize a single Article"
   ]
  },
  {
   "cell_type": "code",
   "execution_count": 15,
   "metadata": {},
   "outputs": [],
   "source": [
    "\n",
    "url = \"https://finance.yahoo.com/news/stock-market-news-today-live-updates-june-1-2023-115051823.html\"\n",
    "r = requests.get(url)\n",
    "soup = BeautifulSoup(r.text, 'html.parser')\n",
    "paragraphs = soup.find_all('p')"
   ]
  },
  {
   "cell_type": "code",
   "execution_count": 20,
   "metadata": {},
   "outputs": [
    {
     "data": {
      "text/plain": [
       "<Response [200]>"
      ]
     },
     "execution_count": 20,
     "metadata": {},
     "output_type": "execute_result"
    }
   ],
   "source": [
    "r"
   ]
  },
  {
   "cell_type": "code",
   "execution_count": 21,
   "metadata": {},
   "outputs": [
    {
     "data": {
      "text/plain": [
       "'<!doctype html><html id=\"atomic\" class=\"NoJs Fz(62.5%) Pos(r) finance smartphone-lite bktfinance-US-en-US-def ua-android browser ua-2.3 failsafe\" lang=\"en-US\"><head><script>\\n        window.performance.mark(\\'PageStart\\');\\n        (function(html){var c = document.documentElement.classList;c.add(\\'JsEnabled\\', \\'jsenabled\\');c.remove(\\'NoJs\\');})(document.documentElement);\\n        /**\\n        * Empty darlaOnready method, to avoid JS error.\\n        * This can happen when Async Darla JS file is loaded earlier than Darla Proxy JS.\\n        * This method will be overridden by Darla Proxy\\n        */\\n        window.darlaOnready = function() {};\\n        </script><title>Stocks pop as house passes debt deal</title><meta http-equiv=\"content-type\" content=\"text/html; charset=utf-8\"><meta http-equiv=\"x-dns-prefetch-control\" content=\"on\"><meta http-equiv=\"X-UA-Compatible\" content=\"chrome=1\"><meta name=\"oath:guce:consent-host\" content=\"guce.yahoo.com\"><meta name=\"viewport\" content=\"width=device-width, initial-scale=1\"><meta name=\"news_keywords\" content=\"debt ceiling, Janet Yellen, Nasdaq Composite, House vote, Dow Jones Industrial Average\"><meta name=\"twitter:title\" content=\"Stocks rise as House passes debt deal: Stock market news today\"><meta property=\"og:title\" content=\"Stocks rise as House passes debt deal: Stock market news today\"><meta property=\"og:url\" content=\"https://finance.yahoo.com/news/stock-market-news-today-live-updates-june-1-2023-115051823.html\"><meta property=\"al:android:url\" content=\"yfinance://article/6fdadfbd-86b1-4237-bd2b-1c4739f8d85a\"><meta name=\"apple-itunes-app\" content=\"app-id=,app-argument=yfinance://article/6fdadfbd-86b1-4237-bd2b-1c4739f8d85a\"><link rel=\"amphtml\" href=\"https://finance.yahoo.com/amphtml/news/stock-market-news-today-live-updates-june-1-2023-115051823.html\"><meta name=\"twitter:description\" content=\"Stocks rose on Thursday after the House passed a bill to extend the U.S. debt limit.\"><meta name=\"description\" content=\"Stocks rose on Thursday after the House passed a bill to extend the U.S. debt limit.\"><meta property=\"og:description\" content=\"Stocks rose on Thursday after the House passed a bill to extend the U.S. debt limit.\"><meta property=\"al:android:app_name\" content=\"Yahoo Finance\"><meta property=\"al:android:package\" content=\"com.yahoo.mobile.client.android.finance\"><meta name=\"twitter:site\" content=\"@YahooFinance\"><meta name=\"twitter:dnt\" content=\"on\"><meta property=\"og:type\" content=\"article\"><meta property=\"og:site_name\" content=\"Yahoo Finance\"><link rel=\"alternate\" href=\"https://finance.yahoo.com/news/stock-market-news-today-live-updates-june-1-2023-115051823.html\" hreflang=\"x-default\"><link rel=\"canonical\" href=\"https://finance.yahoo.com/news/stock-market-news-today-live-updates-june-1-2023-115051823.html\"><link rel=\"alternate\" href=\"https://finance.yahoo.com/news/stock-market-news-today-live-updates-june-1-2023-115051823.html\" hreflang=\"en-US\"><link rel=\"alternate\" href=\"https://ca.finance.yahoo.com/news/stock-market-news-today-live-updates-june-1-2023-115051823.html\" hreflang=\"en-CA\"><link rel=\"alternate\" href=\"https://au.finance.yahoo.com/news/stock-market-news-today-live-updates-june-1-2023-115051823.html\" hreflang=\"en-AU\"><link rel=\"alternate\" href=\"https://nz.finance.yahoo.com/news/stock-market-news-today-live-updates-june-1-2023-115051823.html\" hreflang=\"en-NZ\"><link rel=\"alternate\" href=\"https://sg.finance.yahoo.com/news/stock-market-news-today-live-updates-june-1-2023-115051823.html\" hreflang=\"en-SG\"><link rel=\"alternate\" href=\"https://malaysia.news.yahoo.com/stock-market-news-today-live-updates-june-1-2023-115051823.html\" hreflang=\"en-MY\"><link rel=\"alternate\" href=\"https://ph.news.yahoo.com/stock-market-news-today-live-updates-june-1-2023-115051823.html\" hreflang=\"en-PH\"><link rel=\"alternate\" href=\"https://sg.news.yahoo.com/stock-market-news-today-live-updates-june-1-2023-115051823.html\" hreflang=\"en-SG\"><link rel=\"alternate\" href=\"https://au.news.yahoo.com/stock-market-news-today-live-updates-june-1-2023-115051823.html\" hreflang=\"en-AU\"><link rel=\"alternate\" href=\"https://nz.news.yahoo.com/stock-market-news-today-live-updates-june-1-2023-115051823.html\" hreflang=\"en-NZ\"><link rel=\"alternate\" href=\"https://uk.finance.yahoo.com/news/stock-market-news-today-live-updates-june-1-2023-115051823.html\" hreflang=\"en-GB\"><link rel=\"alternate\" href=\"https://uk.news.yahoo.com/stock-market-news-today-live-updates-june-1-2023-115051823.html\" hreflang=\"en-GB\"><link rel=\"alternate\" href=\"https://ca.news.yahoo.com/stock-market-news-today-live-updates-june-1-2023-115051823.html\" hreflang=\"en-CA\"><link rel=\"preload\" href=\"https://s.yimg.com/uu/api/res/1.2/5yrTr3v6tHtE3Kkaq0NG_A--~B/Zmk9c3RyaW07aD0zNjA7dz02NDA7c209MTthcHBpZD15dGFjaHlvbg--/https://media-mbst-pub-ue1.s3.amazonaws.com/creatr-uploaded-images/2019-09/1af93af0-db18-11e9-bff7-e34690b9be52\" as=\"image\"><meta name=\"twitter:image\" content=\"https://s.yimg.com/ny/api/res/1.2/Yv369Bi2.3b1uwth60X2bA--/YXBwaWQ9aGlnaGxhbmRlcjt3PTEyMDA7aD04MDA-/https://s.yimg.com/os/creatr-uploaded-images/2023-04/b9823b20-dd2d-11ed-bfcf-229e3d926b32\"><meta name=\"twitter:image:src\" content=\"https://s.yimg.com/ny/api/res/1.2/Yv369Bi2.3b1uwth60X2bA--/YXBwaWQ9aGlnaGxhbmRlcjt3PTEyMDA7aD04MDA-/https://s.yimg.com/os/creatr-uploaded-images/2023-04/b9823b20-dd2d-11ed-bfcf-229e3d926b32\"><meta property=\"og:image\" content=\"https://s.yimg.com/ny/api/res/1.2/Yv369Bi2.3b1uwth60X2bA--/YXBwaWQ9aGlnaGxhbmRlcjt3PTEyMDA7aD04MDA-/https://s.yimg.com/os/creatr-uploaded-images/2023-04/b9823b20-dd2d-11ed-bfcf-229e3d926b32\"><meta property=\"og:image:width\" content=\"1200\"><meta property=\"og:image:height\" content=\"800\"><meta name=\"robots\" content=\"max-image-preview:large\"><meta property=\"twitter:card\" content=\"summary_large_image\"><link rel=\"shortcut icon\" href=\"https://s.yimg.com/rz/l/favicon.ico\"><link rel=\"preload\" href=\"https://s.yimg.com/cv/apiv2/ngy-fonts/YahooSans-VF-Web.woff2\" as=\"font\" type=\"font/woff2\" crossorigin><link rel=\"preload\" href=\"https://s.yimg.com/cv/apiv2/fonts/2019/YahooSansCond-XBold.woff2\" as=\"font\" type=\"font/woff2\" crossorigin><link rel=\"dns-prefetch\" href=\"//geo.yahoo.com\"><link rel=\"preconnect\" href=\"//geo.yahoo.com\"><link rel=\"dns-prefetch\" href=\"//geo.query.yahoo.com\"><link rel=\"preconnect\" href=\"//geo.query.yahoo.com\"><link rel=\"dns-prefetch\" href=\"//search.yahoo.com\"><link rel=\"preconnect\" href=\"//search.yahoo.com\"><link rel=\"dns-prefetch\" href=\"//udc.yahoo.com\"><link rel=\"preconnect\" href=\"//udc.yahoo.com\"><link rel=\"dns-prefetch\" href=\"//s.yimg.com\"><link rel=\"preconnect\" href=\"//s.yimg.com\"><link rel=\"stylesheet\" type=\"text/css\" href=\"https://s.yimg.com/dr/fp/css/fusion.atomic.f0fd0509ca65372abde8f8a01adeebd5.css\"><link rel=\"stylesheet\" type=\"text/css\" href=\"https://s.yimg.com/aaq/art/css/sdacontainer.7071768451db14ed357aca3116377c69.css\"><link rel=\"stylesheet\" type=\"text/css\" href=\"https://s.yimg.com/os/yc/css/bundle.c60a6d54.css\"><link rel=\"stylesheet\" type=\"text/css\" href=\"https://s.yimg.com/aaq/art/css/yahoosans.aed6490aa508ed41867accc82c4b153d.css\"><link rel=\"stylesheet\" type=\"text/css\" href=\"https://s.yimg.com/aaq/art/css/mobileweb.7703ddedd8fe0eed436b06d247ae7757.css\"><link rel=\"stylesheet\" type=\"text/css\" href=\"https://s.yimg.com/uc/finance/dd-site/modules/css/tdv2-wafer-adfeedback.custom.smartphone.892444a0239165161b3a5b8e7de0dd0f.css\"><link rel=\"stylesheet\" type=\"text/css\" href=\"https://s.yimg.com/aaq/cprops/colors_1.1.27.min.css\"><link rel=\"stylesheet\" type=\"text/css\" href=\"https://s.yimg.com/aaq/nel/css/tdv2-wafer-content-list.custom.45f01f005c629741cf7c510f94504957.css\"><link rel=\"stylesheet\" type=\"text/css\" href=\"https://s.yimg.com/aaq/nel/css/tdv2-wafer-header.custom.smartphone.b0d0f0f882282ce0330ca02d643a17cd.css\"><script type=\"text/javascript\" src=\"https://s.yimg.com/aaq/art/js/caas.3a6e69a64a04ae71af75502261ac65dc.js\" defer></script><script type=\"text/javascript\" src=\"https://s.yimg.com/rq/darla/4-11-1/js/g-r-min.js\" async onload=\"darlaOnready()\"></script><script type=\"text/javascript\" src=\"https://s.yimg.com/aaq/wf/wf-loader-2.6.63.js\" defer></script><script type=\"text/javascript\" src=\"https://s.yimg.com/aaq/wf/wf-lightbox-1.10.6.js\" defer></script><script type=\"text/javascript\" src=\"https://s.yimg.com/ss/rapid-3.53.38.js\"></script><script type=\"text/javascript\">/*! CMP 6.3.0 Copyright 2018 Oath Holdings, Inc. */\\n!function(){var t={2131:function(t){\"use strict\";function e(t){return(e=\"function\"==typeof Symbol&&\"symbol\"==typeof Symbol.iterator?function(t){return typeof t}:function(t){return t&&\"function\"==typeof Symbol&&t.constructor===Symbol&&t!==Symbol.prototype?\"symbol\":typeof t})(t)}t.exports=function(){for(var t,n,o=[],r=window,a=r;a;){try{if(a.frames.__tcfapiLocator){t=a;break}}catch(t){}if(a===r.top)break;a=a.parent}t||(function t(){var e=r.document,n=!!r.frames.__tcfapiLocator;if(!n)if(e.body){var o=e.createElement(\"iframe\");o.style.cssText=\"display:none\",o.name=\"__tcfapiLocator\",e.body.appendChild(o)}else setTimeout(t,5);return!n}(),r.__tcfapi=function(){for(var t=arguments.length,e=new Array(t),r=0;r<t;r++)e[r]=arguments[r];if(!e.length)return o;\"setGdprApplies\"===e[0]?e.length>3&&2===parseInt(e[1],10)&&\"boolean\"==typeof e[3]&&(n=e[3],\"function\"==typeof e[2]&&e[2](\"set\",!0)):\"ping\"===e[0]?\"function\"==typeof e[2]&&e[2]({gdprApplies:n,cmpLoaded:!1,cmpStatus:\"stub\"}):o.push(e)},r.addEventListener(\"message\",(function(t){var n=\"string\"==typeof t.data,o={};if(n)try{o=JSON.parse(t.data)}catch(t){}else o=t.data;var r=\"object\"===e(o)?o.__tcfapiCall:null;r&&window.__tcfapi(r.command,r.version,(function(e,o){var a={__tcfapiReturn:{returnValue:e,success:o,callId:r.callId}};t&&t.source&&t.source.postMessage&&t.source.postMessage(n?JSON.stringify(a):a,\"*\")}),r.parameter)}),!1))}},7037:function(t,e,n){\"use strict\";n.r(e);var o=n(2131);n.n(o)()()},7781:function(){!function(){for(var t,e=\"__uspapiLocator\",n=[],o=window;o;){try{if(o.frames.__uspapiLocator){t=o;break}}catch(t){}if(o===window.top)break;o=o.parent}t||(function t(){var n=window.document;if(!window.frames.__uspapiLocator)if(n.body){var o=n.createElement(\"iframe\");o.style.cssText=\"display:none\",o.name=e,n.body.appendChild(o)}else setTimeout(t,5)}(),window.__uspapi=function(){for(var t=arguments.length,e=new Array(t),o=0;o<t;o++)e[o]=arguments[o];if(!e.length)return n;n.push(e)},window.addEventListener(\"message\",(function(t){var e=\"string\"==typeof t.data,n={};try{n=e?JSON.parse(t.data):t.data}catch(t){}var o=n.__uspapiCall;o&&window.__uspapi(o.command,o.version,(function(n,r){var a={__uspapiReturn:{returnValue:n,success:r,callId:o.callId}};e&&(a=JSON.stringify(a)),t&&t.source&&t.source.postMessage(a,\"*\")}),o.parameter)}),!1))}()}},e={};function n(o){var r=e[o];if(void 0!==r)return r.exports;var a=e[o]={exports:{}};return t[o](a,a.exports,n),a.exports}n.n=function(t){var e=t&&t.__esModule?function(){return t.default}:function(){return t};return n.d(e,{a:e}),e},n.d=function(t,e){for(var o in e)n.o(e,o)&&!n.o(t,o)&&Object.defineProperty(t,o,{enumerable:!0,get:e[o]})},n.o=function(t,e){return Object.prototype.hasOwnProperty.call(t,e)},n.r=function(t){\"undefined\"!=typeof Symbol&&Symbol.toStringTag&&Object.defineProperty(t,Symbol.toStringTag,{value:\"Module\"}),Object.defineProperty(t,\"__esModule\",{value:!0})},function(){\"use strict\";n(7781);!window.document.documentMode&&n(7037)}()}();</script><script type=\"text/javascript\" src=\"https://s.yimg.com/aaq/cmp/version/6.3.0/cmp.js\" async></script><script type=\"text/javascript\" src=\"https://s.yimg.com/aaq/vzm/cs_1.4.0.js\" async></script><script type=\"text/javascript\" src=\"https://s.yimg.com/aaq/nel/jsc/tdv2-wafer-utils.19c76fb8.js\" defer></script><script type=\"text/javascript\" src=\"https://s.yimg.com/oa/canary/consent.js\" async></script><script type=\"text/javascript\" src=\"https://yep.video.yahoo.com/oath/js/1/oath-player.js?ypv=8.5.43&amp;lang=en-US\"></script><script type=\"text/javascript\" src=\"https://s.yimg.com/aaq/wf/wf-bind-1.1.3.js\" defer></script><script type=\"text/javascript\" src=\"https://s.yimg.com/aaq/wf/wf-toggle-1.15.4.js\" defer></script><script type=\"text/javascript\" src=\"https://s.yimg.com/aaq/wf/wf-fetch-1.18.12.js\" defer></script><script type=\"text/javascript\" src=\"https://s.yimg.com/aaq/nel/js/spotIm.custom.SpotIMJAC.deeplink.mobile.a9c94b4ce20322daf49ffd2d921e2e01.js\" defer></script><script type=\"text/javascript\" src=\"https://s.yimg.com/aaq/wf/wf-darla-1.9.4.js\" defer></script><script type=\"text/javascript\" src=\"https://s.yimg.com/aaq/wf/wf-video-2.22.12.js\" defer></script><script type=\"text/javascript\" src=\"https://s.yimg.com/aaq/wf/wf-beacon-1.3.4.js\" defer></script><script type=\"text/javascript\" src=\"https://s.yimg.com/aaq/wf/wf-scrollview-2.18.9.js\" defer></script><script type=\"text/javascript\" src=\"https://s.yimg.com/aaq/wf/wf-form-1.33.1.js\" defer></script><script type=\"text/javascript\" src=\"https://s.yimg.com/aaq/wf/wf-caas-1.33.1.js\" defer></script><script type=\"text/javascript\" src=\"https://s.yimg.com/aaq/wf/wf-countdown-1.2.5.js\" defer></script><script type=\"text/javascript\" src=\"https://s.yimg.com/aaq/wf/wf-image-1.4.0.js\" defer></script><script type=\"text/javascript\" src=\"https://s.yimg.com/aaq/nel/js/tdv2-wafer-content-list.custom.c5b1d1b30a366567b8d67f27e343f60d.js\" defer></script><script type=\"text/javascript\" src=\"https://s.yimg.com/aaq/fp/js/react-wafer-featurebar.custom.default.95a7979b4c06295e22960043d003fb49.js\" defer></script><script type=\"text/javascript\" src=\"https://s.yimg.com/aaq/wf/wf-text-1.2.0.js\" defer></script><script type=\"text/javascript\" src=\"https://s.yimg.com/aaq/wf/wf-rapid-1.10.7.js\" defer></script><script type=\"text/javascript\" src=\"https://s.yimg.com/aaq/wf/wf-progress-loader-1.2.10.js\" defer></script><link rel=\"stylesheet\" type=\"text/css\" href=\"https://s.yimg.com/aaq/c/356aa99.caas-article2_mweb.min.css\"></head><body dir=\"ltr\"><script id=\"wafer-db-config\" type=\"application/json\">\\n            {\\n                \"name\": \"article-server\",\\n                \"version\": 1\\n            }\\n        </script><script id=\"wafer-video-config\" type=\"application/json\">\\n            {\"playerScript\":\"https://yep.video.yahoo.com/oath/js/1/oath-player.js?ypv=8.5.43&lang=en-US\"}\\n        </script><script type=\"application/json\" class=\"wafer-state\">\\n            {\\n                \"dedupUuids\": \"6fdadfbd-86b1-4237-bd2b-1c4739f8d85a\",\\n                \"geminiAds\": {\\n                    \"geminiDedupeToken\": \"PHToken\"\\n                },\\n                \"publisherBlobPageContext\": \"%7B%22lu%22%3A%220%22%2C%22pageType%22%3A%22content%22%2C%22site%22%3A%22finance%22%2C%22appName%22%3A%22article%22%2C%22pageDesign%22%3A%22non_modal%22%2C%22pageContentType%22%3A%22story%22%2C%22ctopid%22%3A%221996000%3B1542500%3B1577000%22%2C%22hashtag%22%3A%22news%3B%24%5Egspc%3Byfstocksliveblog%3Byfmarkets%3B%24%5Edji%3B%24%5Eixic%3B1996000%3B1542500%3B1577000%22%2C%22wiki_topics%22%3A%22Janet_Yellen%3BNasdaq_Composite%3BDow_Jones_Industrial_Average%3BDefault_(finance)%3BWall_Street%3BUnited_States_Secretary_of_the_Treasury%3BJoshua_Bolten%22%2C%22lmsid%22%3A%22a077000000BAh3wAAD%22%2C%22revsp%22%3A%22yahoofinance.com%22%2C%22lpstaid%22%3A%226fdadfbd-86b1-4237-bd2b-1c4739f8d85a%22%2C%22yctIds%22%3A%22yct%3A001000348%3Byct%3A001000661%3Byct%3A001000323%3Byct%3A001000298%22%7D\"\\n            }\\n        </script><script type=\"text/javascript\">\\n    (function() {\\n        \\nwindow.YAHOO = window.YAHOO || {};\\nwindow.YAHOO.context = {\\n    \"apptype\": \"\",\\n    \"authed\": \"0\",\\n    \"browserName\": \"android browser\",\\n    \"browserVersion\": \"2.3\",\\n    \"bucket\": \"finance-US-en-US-def\",\\n    \"contentSite\": \"news\",\\n    \"crumb\": \"RkG7xUrR38Y\",\\n    \"device\": \"smartphone-lite\",\\n    \"errBeaconConfig\": {\\n        \"beaconPath\": \"_td_api/beacon/error\",\\n        \"site\": \"finance\"\\n    },\\n    \"feature\": [\\n        \"caasEnableCommentsCountViaOpenweb\",\\n        \"caasEnableSingleSlotting\",\\n        \"contentMetaCheckInArticleAd\",\\n        \"coViewNrtRelated\",\\n        \"disableCommentsMessage\",\\n        \"enableAdditionalPageContextParams\",\\n        \"enableAdlite\",\\n        \"enableBodyAdSlotsFederationInBody\",\\n        \"enableInArticleAd\",\\n        \"enableLiveDynamicData\",\\n        \"enableMonalixaEyebrowMWeb\",\\n        \"enableSpotImAdsStream\",\\n        \"enableSpotImComments\",\\n        \"enableUnifiedGeo\",\\n        \"enableWidgetA\",\\n        \"enableXrayCardsFollowButton\",\\n        \"enableXrayEntityAboutFacts\",\\n        \"enableXrayHyperloopCards\",\\n        \"enableXrayNcp\",\\n        \"enableXrayTickerEntities\",\\n        \"hulkMonalixaUpsell\",\\n        \"mwebYahooBackButtonLogo\",\\n        \"caasRemoveDuplicateImage\",\\n        \"caasNoRapidClickClass\",\\n        \"enableFooterFromFPMS\",\\n        \"fuseAtomicCssAws\"\\n    ],\\n    \"guid\": \"\",\\n    \"intl\": \"us\",\\n    \"lang\": \"en-US\",\\n    \"meta\": {\\n        \"categoryLabel\": \"Business\",\\n        \"commentsAllowed\": true,\\n        \"commentsCount\": \"498\",\\n        \"contentType\": \"story\",\\n        \"messageId\": \"\",\\n        \"replyId\": \"\",\\n        \"siteAttribute\": \"ticker=\\\\\"^IXIC;^GSPC;^DJI\\\\\" wiki_topics=\\\\\"Janet_Yellen;Nasdaq_Composite;Dow_Jones_Industrial_Average;Default_%28finance%29;Wall_Street;United_States_Secretary_of_the_Treasury;Joshua_Bolten\\\\\" ctopid=\\\\\"1996000;1542500;1577000\\\\\" hashtag=\\\\\"news;$^gspc;yfstocksliveblog;yfmarkets;$^dji;$^ixic;1996000;1542500;1577000\\\\\" rs=\\\\\"lmsid:a077000000BAh3wAAD;revsp:yahoofinance.com;lpstaid:6fdadfbd-86b1-4237-bd2b-1c4739f8d85a;lu:0;pct:story\\\\\"\",\\n        \"tags\": \"debt ceiling, Janet Yellen, Nasdaq Composite, House vote, Dow Jones Industrial Average\",\\n        \"title\": \"Stocks rise as House passes debt deal: Stock market news today\",\\n        \"url\": \"https://finance.yahoo.com/news/stock-market-news-today-live-updates-june-1-2023-115051823.html\",\\n        \"uuid\": \"6fdadfbd-86b1-4237-bd2b-1c4739f8d85a\",\\n        \"xhrPathPrefix\": \"/nel_ms/_rcv/remote\"\\n    },\\n    \"mode\": \"failsafe\",\\n    \"osName\": \"android\",\\n    \"osVersion\": \"2.3\",\\n    \"partner\": \"none\",\\n    \"region\": \"US\",\\n    \"rid\": \"fsGBrIHk\",\\n    \"site\": \"finance\",\\n    \"tpConsent\": false,\\n    \"ynet\": \"0\"\\n};\\n\\n\\n    }());\\n</script><header id=\"Header\" class=\"T(0) W(100%) Reader-open Pos(f) Z(4)\"><div id=\"module-featurebar\" class=\"wafer-rapid-module\"><script>\\n                    window.performance.mark(\\'featurebar\\');\\n                    window.performance.measure(\\'featurebarDone\\',\\'PageStart\\',\\'featurebar\\');\\n                    </script></div><div id=\"module-header\" class=\"wafer-rapid-module\"><div><div id=\"header-wrapper\" class=\"Bgc(#fff) Bdbc($c-fuji-grey-d) Bdbs(s) Bdbw(1px) D(tb) Pos(r) W(100%)\"><div class=\"D(tbr)\"><a id=\"header-back-button\" class=\"D(n) Pos(a) H(100%) W(100%) wafer-toggle Reader-open_D(ib) Z(2)\" data-wf-toggle-class=\"click:remove:Reader-open\" data-wf-toggle-target=\"body\" data-ylk=\"elm:backbtn;itc:0;sec:hl-viewer;slk:close-back-btn\" href=\"https://www.yahoo.com/\" aria-label=\"Back\" title=\"Back\"><svg class=\"Bdrs(50%) Pb(16px) Pstart(14px) Pend(10px) Pt(19px) header-back-icon Cur(p)\" width=\"18\" style=\"fill:#6000d2;stroke:#6000d2;stroke-width:0;vertical-align:bottom\" height=\"18\" viewbox=\"0 0 32 32\" data-icon=\"CoreArrowLeft\"><path d=\"M22.72.665c-.886-.887-2.323-.887-3.21 0L4.175 16 19.51 31.335c.442.443 1.023.665 1.604.665s1.162-.222 1.605-.665c.886-.887.886-2.324 0-3.21L10.596 16 22.72 3.876c.887-.887.887-2.324 0-3.21z\"></path></svg></a><div class=\"D(tbc) Va(m)\"><h1 class=\"Fz(0) Mb(13px) Mend(-5px) Mt(14px) Pstart(10px) Trs($logoTransition) Reader-open_Pstart(40px)\"><a id=\"header-logo\" href=\"https://www.yahoo.com/\" class=\"D(b) Pos(r) Bgi(n)!\" data-ylk=\"elm:img;elmt:logo;sec:hd;slk:logo\"><img src=\"https://s.yimg.com/rz/p/yahoo_en-US_h_p_bestfit_2.png\" height=\"25px\" width=\"90px\" alt=\"Yahoo\" title=\"Yahoo\"></a></h1></div><div class=\"wafer-fetch adobe-Promo\" data-wf-trigger=\"onLoad\" data-wf-body=\"{&quot;ctrl&quot;:&quot;SubscriptionMonalixa&quot;,&quot;m_id&quot;:&quot;react-wafer-subscription&quot;,&quot;m_mode&quot;:&quot;json&quot;,&quot;config&quot;:{&quot;appid&quot;:&quot;116ea02c-2fd4-4203-92e5-1ec1c8fae6af&quot;,&quot;placement&quot;:&quot;finance-mobile-web-article-eyebrow&quot;}}\" data-wf-url=\"/fp_ms/_rcv/remote?m_mode=json&amp;ctrl=SubscriptionMonalixa&amp;m_id=react-wafer-subscription\"></div></div></div></div><script>\\n                    window.performance.mark(\\'header\\');\\n                    window.performance.measure(\\'headerDone\\',\\'PageStart\\',\\'header\\');\\n                    </script></div><style type=\"text/css\">.progress-loader-bar-wrapper {\\n    bottom: 0;\\n    height: 2px;\\n    left: 0;\\n    position: absolute;\\n    width: 100%;\\n}\\n\\n.progress-loader {\\n    width: 100%;\\n    height: 100%;\\n    line-height: 0px;\\n}\\n\\n.progress-loader canvas {\\n    vertical-align: top;\\n}</style><div class=\"progress-loader-bar-wrapper\"><div class=\"progress-loader wafer-progress-loader\" data-wf-stroke-color=\"#430297\" data-wf-type=\"rectangle\" data-wf-iteration-count=\"infinite\" data-wf-direction=\"both\" data-wf-scroll-height-container=\"#module-article\"></div></div></header><div id=\"HeadlineSection\" class=\"Pos(r) Z(3) Mt(52px)\"></div><div id=\"Masterwrap\" class=\"W(100%) Pos(r) Op(1)\"><div id=\"Page\" class=\"Z(2) Pos(r)\"><main class=\"W(100%) \" role=\"main\"><div id=\"caas-content-body\"><div id=\"content-wrapper\"><div><div id=\"module-article\"><div class=\"caas caas-cc enableAdSlotsFederationInBody enableAdsMon enableCommentsCountViaOpenweb enableExpApi enableInArticleAd enableSingleSlotting enableXrayCardsFollowButton enableXrayEntityAboutFacts enableXrayHyperloopCards enableXrayNcp enableXrayTickerEntities exposeYctIds hulkMonalixaUpsell noRapidClickClass outStream showCommentsIconInShareSec finance caas-ynet\" data-assets=\"[]\" data-cobrandname=\"\" data-device=\"smartphone\" data-i18n=\"{&quot;{0} min&quot;:&quot;{0} min&quot;,&quot;{0} min read&quot;:&quot;{0} min read&quot;,&quot;{0} mins read&quot;:&quot;{0} mins read&quot;,&quot;{0} Views&quot;:&quot;{0} Views&quot;,&quot;{0} followers&quot;:&quot;{0} followers&quot;,&quot;{0} symbols&quot;:&quot;{0} symbols&quot;,&quot;{0} at {1}&quot;:&quot;{0} at {1}&quot;,&quot;360_TITLE&quot;:&quot;The 360&quot;,&quot;Ad&quot;:&quot;Ad&quot;,&quot;AD_PLACEHOLDER_TEXT&quot;:&quot;Advertisement&quot;,&quot;AND&quot;:&quot;and&quot;,&quot;AR_INLINE_FALLBACK&quot;:&quot;This story has augmented reality! Tap the video above to see how it looks and download the \\\\u003Ca href=\\\\&quot;https:\\\\u002F\\\\u002Fitunes.apple.com\\\\u002Fus\\\\u002Fapp\\\\u002Fyahoo-news-live-breaking-news\\\\u002Fid304158842?mt=8\\\\&quot;\\\\u003EYahoo News app\\\\u003C\\\\u002Fa\\\\u003E to launch the full experience. Augmented reality is currently available to iPhone users (iPhone 8 and later) with the latest version of iOS.&quot;,&quot;AR_INTRO_LINK&quot;:&quot;Read more about how it works here.&quot;,&quot;AR_INTRO&quot;:&quot;Yahoo News now features augmented reality, an immersive storytelling format that brings our journalism to life in new ways. Experience it below.&quot;,&quot;AR_TITLE_MODEL_VIEWER&quot;:&quot;Tap to see in your space &amp;rarr;&quot;,&quot;BUY_NOW&quot;:&quot;Buy Now&quot;,&quot;CLOSE&quot;:&quot;Close&quot;,&quot;CLOSE_TOOLTIP&quot;:&quot;Close tooltip&quot;,&quot;CLOSE_XRAY_MODAL&quot;:&quot;Close more info modal dialog&quot;,&quot;COLLAPSE&quot;:&quot;Collapse&quot;,&quot;COMMENTS&quot;:&quot;Comments&quot;,&quot;CONS&quot;:&quot;Cons&quot;,&quot;CONSENT_BLOCKED_3P&quot;:&quot;This content is not available due to your privacy preferences.&quot;,&quot;CONSENT_BLOCKED_3P_LINK_TEXT&quot;:&quot;Update your settings here to see it.&quot;,&quot;CONTINUE_READING&quot;:&quot;Continue reading&quot;,&quot;DISCLAIMER_GENERAL&quot;:&quot;We may receive commission from purchases made via links on this page. Pricing and availability are subject to change.&quot;,&quot;DISCLAIMER_AFFILIATE&quot;:&quot;We may earn commission from links on this page, but we only recommend products we believe in. Pricing and availability are subject to change.&quot;,&quot;DISCLAIMER_BRAND_AFFILIATE&quot;:&quot;We have received compensation to create this article, and receive commission from purchases made via links on this page. Pricing and availability are subject to change.&quot;,&quot;DISCLAIMER_ASR_AFFILIATE&quot;:&quot;We may receive commission from purchases made via links on this page. Pricing and availability are subject to change. This content is created by a 3rd party.&quot;,&quot;DISCLAIMER_SUBS_AFFILIATE&quot;:&quot;Some of the products written about here are offered in affiliation with Yahoo. We may receive a share from purchases made via links on this page. Pricing and availability are subject to change.&quot;,&quot;DISCLAIMER_AOL_AFFILIATE&quot;:&quot;Some of the products written about here are offered in affiliation with AOL. We may receive a share from purchases made via links on this page. Pricing and availability are subject to change.&quot;,&quot;EMAIL&quot;:&quot;Email&quot;,&quot;ENGADGET_DISCLAIMER&quot;:&quot;All products recommended by Engadget are selected by our editorial team, independent of our parent company. Some of our stories include affiliate links. If you buy something through one of these links, we may earn an affiliate commission.&quot;,&quot;EXPLORE_THE_TOPICS&quot;:&quot;Explore the topics mentioned in this article&quot;,&quot;FACT_CHECK&quot;:&quot;Fact Check&quot;,&quot;FACTUAL_AUTHOR_EXPERTISE&quot;:&quot;Author expertise&quot;,&quot;FACTUAL_GRADE_TITLE&quot;:&quot;The Factual Grade&quot;,&quot;FACTUAL_GRADE_SUBTITLE&quot;:&quot;The Factual Article Grade based on&quot;,&quot;FACTUAL_LEARN_MORE&quot;:&quot;Learn more about how the Factual works&quot;,&quot;FACTUAL_OPINIONATED_TONE&quot;:&quot;Opinionated tone&quot;,&quot;FACTUAL_QUALITY_HIGH&quot;:&quot;High&quot;,&quot;FACTUAL_QUALITY_MEDIUM&quot;:&quot;Medium&quot;,&quot;FACTUAL_QUALITY_LOW&quot;:&quot;Low&quot;,&quot;FACTUAL_CRED_VERY_HIGH&quot;:&quot;Very High&quot;,&quot;FACTUAL_CRED_HIGH&quot;:&quot;High&quot;,&quot;FACTUAL_CRED_VERY_LOW&quot;:&quot;Very Low&quot;,&quot;FACTUAL_CRED_MIXED&quot;:&quot;Mixed&quot;,&quot;FACTUAL_CRED_LOW&quot;:&quot;Low&quot;,&quot;FACTUAL_CRED_NA&quot;:&quot;Not Available&quot;,&quot;FACTUAL_OPINION_SCORE_HIGH&quot;:&quot;Generally Neutral&quot;,&quot;FACTUAL_OPINION_SCORE_MEDIUM&quot;:&quot;Moderately opinionated&quot;,&quot;FACTUAL_OPINION_SCORE_LOW&quot;:&quot;Very Opinionated&quot;,&quot;FACTUAL_RATING&quot;:&quot;Article rating&quot;,&quot;FACTUAL_SITE_QUALITY&quot;:&quot;Site quality&quot;,&quot;FACTUAL_SOURCE_QUALITY&quot;:&quot;Source quality&quot;,&quot;FEEDBACK_MSG&quot;:&quot;Thank you for your feedback!&quot;,&quot;FEEDBACK_NO_BTN&quot;:&quot;No&quot;,&quot;FEEDBACK_USEFUL&quot;:&quot;Was this data useful?&quot;,&quot;FEEDBACK_YES_BTN&quot;:&quot;Yes&quot;,&quot;FOLLOW&quot;:&quot;Follow&quot;,&quot;GET_APP&quot;:&quot;Get the App&quot;,&quot;GRAPHIQ&quot;:&quot;Visualization by Graphiq&quot;,&quot;IN_THIS_ARTICLE&quot;:&quot;In this article&quot;,&quot;LESS&quot;:&quot;Less&quot;,&quot;LIVE&quot;:&quot;Live&quot;,&quot;MORE&quot;:&quot;More&quot;,&quot;MORE_CONTENT_BELOW&quot;:&quot;More content below&quot;,&quot;NEW&quot;:&quot;New&quot;,&quot;NEWS_APP_PROMOTION_CAPTION&quot;:&quot;Stay in the know at a glance with the Top 10 daily stories&quot;,&quot;NEWS_APP_PROMOTION_HEADLINE&quot;:&quot;Yahoo News is better in the app&quot;,&quot;NEXT_PHOTO&quot;:&quot;Next photo&quot;,&quot;OOPS&quot;:&quot;Oops!&quot;,&quot;OPEN_XRAY_MODAL&quot;:&quot;More info modal dialog&quot;,&quot;ORIGINALLY_PUBLISHED&quot;:&quot;Originally published&quot;,&quot;PHOTOS&quot;:&quot;Photos&quot;,&quot;PIN_IT&quot;:&quot;Pin it&quot;,&quot;POWERED_BY_YAHOO_FINANCE&quot;:&quot;Powered by Yahoo Finance&quot;,&quot;PROS&quot;:&quot;Pros&quot;,&quot;PREVIOUS_PHOTO&quot;:&quot;Previous photo&quot;,&quot;PUBLISHED&quot;:&quot;Published&quot;,&quot;PUBLISHER_ATTRIBUTION&quot;:&quot;View article source&quot;,&quot;QUICK_OVERVIEW&quot;:&quot;Quick Overview&quot;,&quot;REACTIONS&quot;:&quot;Reactions&quot;,&quot;READ_FULL_ARTICLE&quot;:&quot;Read full article&quot;,&quot;READ_MORE&quot;:&quot;Read More&quot;,&quot;RECIPE_DIRECTION_TITLE&quot;:&quot;Directions&quot;,&quot;RECIPE_INGREDIENTS_TITLE&quot;:&quot;Ingredients&quot;,&quot;Scroll to continue with content&quot;:&quot;Scroll to continue with content&quot;,&quot;SEE_GALLERY&quot;:&quot;See Gallery&quot;,&quot;SEE_LESS&quot;:&quot;See less&quot;,&quot;SEE_MORE&quot;:&quot;See more&quot;,&quot;SEE {0} MORE&quot;:&quot;See {0} more&quot;,&quot;SHARE_FACEBOOK&quot;:&quot;Share on Facebook&quot;,&quot;SHARE_LINKEDIN&quot;:&quot;Share on LinkedIn&quot;,&quot;SHARE_REDDIT&quot;:&quot;Share on Reddit&quot;,&quot;SHARE_LINE&quot;:&quot;Share on Line&quot;,&quot;SHARE_WHATSAPP&quot;:&quot;Share on WhatsApp&quot;,&quot;SHARE&quot;:&quot;Share&quot;,&quot;SHARES&quot;:&quot;Shares&quot;,&quot;SHOW_MEDIA&quot;:&quot;Show media&quot;,&quot;SHOW_NEXT_CARDS&quot;:&quot;Show next cards&quot;,&quot;SHOW_PREVIOUS_CARDS&quot;:&quot;Show previous cards&quot;,&quot;SHOW_TEXT_ONLY&quot;:&quot;Show text only&quot;,&quot;SLIDE {0} OF {1}&quot;:&quot;Slide {0} of {1}&quot;,&quot;SOMETHING_WENT_WRONG&quot;:&quot;Something went wrong.&quot;,&quot;SOURCE_BIAS_RATING_LEAN_LEFT&quot;:&quot;Moderate-left&quot;,&quot;SOURCE_BIAS_RATING_LEAN_RIGHT&quot;:&quot;Moderate-right&quot;,&quot;SOURCE_BIAS_RATING_LEFT&quot;:&quot;Left&quot;,&quot;SOURCE_BIAS_RATING_RIGHT&quot;:&quot;Right&quot;,&quot;SOURCE_BIAS_RATING_CENTER&quot;:&quot;Center&quot;,&quot;SOURCE_BIAS_RATING_TITLE&quot;:&quot;Source bias rating&quot;,&quot;SOURCE_BIAS_TEXT&quot;:&quot;Political bias ratings for each source come from non-partisan sources via The Factual. Please note that there is no uniformly accepted way to judge the bias of a news organization, so this information is included to help you understand how a story may be framed or why a story is being reported on. More info &quot;,&quot;SOURCE_BIAS_TEXT_HERE&quot;:&quot;here&quot;,&quot;STORY_CONTINUES&quot;:&quot;Story continues&quot;,&quot;STRUCTURED_SUMMARY_TITLE&quot;:&quot;Summary&quot;,&quot;STRUCTURED_SUMMARY_TOOLTIP_TEXT&quot;:&quot;Smart Summary powered by Yahoo, available on select stories.&quot;,&quot;SUMMARY&quot;:&quot;Summary&quot;,&quot;SWIPE_DOWN_TO_CLOSE&quot;:&quot;Swipe down to close.&quot;,&quot;TAGS&quot;:&quot;Tags&quot;,&quot;TODAY&quot;:&quot;Today&quot;,&quot;TOMORROW&quot;:&quot;Tomorrow&quot;,&quot;TRY_LATER&quot;:&quot;Please try again later.&quot;,&quot;TWEET&quot;:&quot;Tweet&quot;,&quot;UNFOLLOW&quot;:&quot;Unfollow&quot;,&quot;UNIT_OF_TIME_HOUR&quot;:&quot;hr&quot;,&quot;UNIT_OF_TIME_MINUTE&quot;:&quot;min&quot;,&quot;UPDATED&quot;:&quot;Updated&quot;,&quot;VIDEO_TITLE&quot;:&quot; [Video]&quot;,&quot;VIDEO_TRANSCRIPT&quot;:&quot;Video Transcript&quot;,&quot;VIDEO_A11Y_DISABLE_FULLSCREEN&quot;:&quot;Full Screen, button, disabled, temporarily not available for screen reader users&quot;,&quot;VIEW_AR_IMAGE&quot;:&quot;View this in your space in AR&quot;,&quot;VIEW_PHOTOS&quot;:&quot;View photos&quot;,&quot;YOU_MAY_ALSO_BE_INTERESTED_IN&quot;:&quot;You may also be interested in:&quot;,&quot;VERSUS&quot;:&quot;vs&quot;,&quot;WATCHLIST&quot;:&quot;Watchlist&quot;}\" data-lang=\"en-US\" data-tz=\"America/Los_Angeles\" data-params=\"{&quot;features&quot;:{&quot;enableAdSlotsFederationInBody&quot;:true,&quot;enableAdsMon&quot;:true,&quot;enableCommentsCountViaOpenweb&quot;:true,&quot;enableExpApi&quot;:true,&quot;enableInArticleAd&quot;:true,&quot;enableSingleSlotting&quot;:true,&quot;enableXrayCardsFollowButton&quot;:true,&quot;enableXrayEntityAboutFacts&quot;:true,&quot;enableXrayHyperloopCards&quot;:true,&quot;enableXrayNcp&quot;:true,&quot;enableXrayTickerEntities&quot;:true,&quot;exposeYctIds&quot;:true,&quot;hulkMonalixaUpsell&quot;:true,&quot;noRapidClickClass&quot;:true,&quot;outStream&quot;:true,&quot;showCommentsIconInShareSec&quot;:true},&quot;config&quot;:{&quot;authorBylineCollapseLineCount&quot;:2,&quot;commerceQuickOverviewLimit&quot;:5,&quot;freezeOnLinkClick&quot;:true,&quot;lazyOffsetY&quot;:900,&quot;livecoverage&quot;:{&quot;defer&quot;:false},&quot;imageCaptionCollapseLineCount&quot;:3,&quot;uiShowPreviousButtonOnLoad&quot;:false,&quot;prestigeScrollMarginTop&quot;:-52}}\" data-space-id=\"980779999\" id=\"caas-art-6fdadfbd-86b1-4237-bd2b-1c4739f8d85a\"><article role=\"article\" tabindex=\"-1\"><script type=\"application/ld+json\">\\n        {\"@context\":\"http://schema.org\",\"@type\":\"NewsArticle\",\"mainEntityOfPage\":\"https://finance.yahoo.com/news/stock-market-news-today-live-updates-june-1-2023-115051823.html\",\"headline\":\"Stocks rise as House passes debt deal: Stock market news today\",\"datePublished\":\"2023-06-01T20:12:41.000Z\",\"dateModified\":\"2023-06-01T20:44:34.079Z\",\"keywords\":[\"debt ceiling\",\"Janet Yellen\",\"Nasdaq Composite\",\"House vote\",\"Dow Jones Industrial Average\"],\"description\":\"Stocks rose on Thursday after the House passed a bill to extend the U.S. debt limit.\",\"publisher\":{\"@type\":\"Organization\",\"name\":\"Yahoo Finance\",\"logo\":{\"@type\":\"ImageObject\",\"url\":\"https://s.yimg.com/rz/p/yahoo_finance_en-US_h_p_finance_2.png\",\"width\":354,\"height\":50},\"url\":\"https://finance.yahoo.com/\"},\"author\":{\"@type\":\"Person\",\"name\":\" Josh Schafer\",\"url\":\"https://www.yahoo.com/author/josh-schafer/\",\"jobTitle\":\"Reporter\"},\"creator\":{\"@type\":\"Person\",\"name\":\" Josh Schafer\",\"url\":\"https://www.yahoo.com/author/josh-schafer/\",\"jobTitle\":\"Reporter\"},\"provider\":{\"@type\":\"Organization\",\"name\":\"Yahoo Finance\",\"url\":\"http://finance.yahoo.com/\",\"logo\":{\"@type\":\"ImageObject\",\"width\":484,\"height\":100,\"url\":\"https://s.yimg.com/os/creatr-uploaded-images/2020-12/02246f50-3412-11eb-bfdd-de89f8b3b8b8\"}},\"image\":{\"@type\":\"ImageObject\",\"url\":\"https://s.yimg.com/ny/api/res/1.2/Yv369Bi2.3b1uwth60X2bA--/YXBwaWQ9aGlnaGxhbmRlcjt3PTEyMDA7aD04MDA-/https://s.yimg.com/os/creatr-uploaded-images/2023-04/b9823b20-dd2d-11ed-bfcf-229e3d926b32\",\"width\":1200,\"height\":800},\"thumbnailUrl\":\"https://s.yimg.com/ny/api/res/1.2/Yv369Bi2.3b1uwth60X2bA--/YXBwaWQ9aGlnaGxhbmRlcjt3PTEyMDA7aD04MDA-/https://s.yimg.com/os/creatr-uploaded-images/2023-04/b9823b20-dd2d-11ed-bfcf-229e3d926b32\",\"video\":{\"@context\":\"https://schema.org\",\"@type\":\"VideoObject\",\"name\":\"Yahoo Finance LIVE - Jun 1 PM\",\"description\":\"Executives, experts, and influencers join the Yahoo Finance team to discuss what\\'s moving the world of finance.\",\"thumbnailUrl\":\"https://s.yimg.com/uu/api/res/1.2/JROOHNXjo16ZbnG0EpU6Ag--~B/aD0xMDgwO3c9MTkyMDthcHBpZD15dGFjaHlvbg--/https://media-mbst-pub-ue1.s3.amazonaws.com/creatr-uploaded-images/2019-09/1af93af0-db18-11e9-bff7-e34690b9be52\",\"uploadDate\":\"2023-06-01T18:50:08Z\",\"duration\":\"PT11M32S\",\"contentUrl\":\"https://video.media.yql.yahoo.com/v1/video/sapi/hlsstreams/c424fae4-e454-3ef0-8e0d-9ad4d82ea6f3.m3u8?site=finance&region=US&lang=en-US&devtype=smartphone&src=sapi\",\"embedUrl\":\"https://finance.yahoo.com/video/yahoo-finance-live-jun-1-124802911.html?format=embed\",\"identifier\":\"c424fae4-e454-3ef0-8e0d-9ad4d82ea6f3\"}}\\n    </script><script class=\"caas-yvideo-config\" type=\"application/ld+json\">\\n    {}\\n</script><script class=\"caas-timezone-config\" type=\"application/ld+json\">\\n    {\"longForm\":{\"weekday\":\"short\",\"day\":\"numeric\",\"hour\":\"numeric\",\"hourCycle\":\"h12\",\"minute\":\"2-digit\",\"month\":\"long\",\"year\":\"numeric\",\"timeZoneName\":\"short\"},\"shortForm\":{\"day\":\"numeric\",\"month\":\"long\",\"year\":\"numeric\"}}\\n</script><script class=\"caas-embedded-config\" type=\"application/ld+json\">\\n    {\"twitter\":{\"timeout\":5000}}\\n</script><header class=\"caas-header\"><div class=\"caas-logo\"><a class=\"link caas-attr-provider-logo\" href=\"http://finance.yahoo.com/\" data-ylk=\"sec:logo-provider;elm:logo;slk:Yahoo Finance;itc:0;g:6fdadfbd-86b1-4237-bd2b-1c4739f8d85a\"><img class=\"caas-img\" alt=\"Yahoo Finance\" src=\"https://s.yimg.com/ny/api/res/1.2/oNcxjAfRAXvvfIpl8z3IAg--/YXBwaWQ9aGlnaGxhbmRlcjt3PTE5NDtoPTQw/https://s.yimg.com/os/creatr-uploaded-images/2020-12/02246f50-3412-11eb-bfdd-de89f8b3b8b8\" data-src=\"https://s.yimg.com/ny/api/res/1.2/oNcxjAfRAXvvfIpl8z3IAg--/YXBwaWQ9aGlnaGxhbmRlcjt3PTE5NDtoPTQw/https://s.yimg.com/os/creatr-uploaded-images/2020-12/02246f50-3412-11eb-bfdd-de89f8b3b8b8\"><span class=\"caas-logo-divider\"></span><span class=\"caas-attr-provider\">Yahoo Finance</span></a></div><div class=\"caas-title-wrapper\"><h1 data-test-locator=\"headline\">Stocks rise as House passes debt deal: Stock market news today</h1></div></header><div class=\"caas-attr author\"><a class=\"link caas-attr-logo\" href=\"https://www.yahoo.com/author/josh-schafer/\" data-ylk=\"elm:icon;slk: Josh Schafer\"><img class=\"caas-img\" alt=\" Josh Schafer\" src=\"https://s.yimg.com/ny/api/res/1.2/7gFiVeenh4I2LcvVdSEKtA--/YXBwaWQ9aGlnaGxhbmRlcjt3PTgwO2g9ODA-/https://o.aolcdn.com/images/dims?image_uri=https%3A%2F%2Fo.aolcdn.com%2Fimages%2Fdims%3Fimage_uri%3Dhttps%253A%252F%252Fs.yimg.com%252Fos%252Fcreatr-uploaded-images%252F2023-01%252F0a5fa490-8de9-11ed-9f87-aae4842c02a3%26compress%3D1%26progressive%3D1%26quality%3D75%26client%3Dhawkeye%26signature%3De3ee5f2dca43f0d798bee581e9194cfe8f783257&amp;compress=1&amp;progressive=1&amp;quality=75&amp;client=hawkeye&amp;signature=722a9ebb27b488e0dce6968a6d5410299485c0c0\" data-src=\"https://s.yimg.com/ny/api/res/1.2/7gFiVeenh4I2LcvVdSEKtA--/YXBwaWQ9aGlnaGxhbmRlcjt3PTgwO2g9ODA-/https://o.aolcdn.com/images/dims?image_uri=https%3A%2F%2Fo.aolcdn.com%2Fimages%2Fdims%3Fimage_uri%3Dhttps%253A%252F%252Fs.yimg.com%252Fos%252Fcreatr-uploaded-images%252F2023-01%252F0a5fa490-8de9-11ed-9f87-aae4842c02a3%26compress%3D1%26progressive%3D1%26quality%3D75%26client%3Dhawkeye%26signature%3De3ee5f2dca43f0d798bee581e9194cfe8f783257&amp;compress=1&amp;progressive=1&amp;quality=75&amp;client=hawkeye&amp;signature=722a9ebb27b488e0dce6968a6d5410299485c0c0\"></a><div class=\"caas-attr-meta\"><div class=\"caas-attr-item-author\"><span class=\"caas-author-byline-collapse\"><a class=\"link\" href=\"https://www.yahoo.com/author/josh-schafer/\" data-ylk=\"elm:author;slk: Josh Schafer;itc:0\"> Josh Schafer</a></span></div><div class=\"caas-attr-time-style\"><time class=\"caas-attr-meta-time\" datetime=\"2023-06-01T20:12:41.000Z\">June 1, 2023 at 1:12 PM</time><span class=\"caas-attr-meta-separator\">·</span><span class=\"caas-attr-mins-read\">3 min read</span></div></div></div><div class=\"caas-xray-wrapper caas-xray-wrapper-type-cards caas-xray-wrapper-position-top\"><div class=\"xray-header\"><div class=\"xray-header-title\">In this article: </div></div><div class=\"xray-entity-lightbox-trigger wafer-lightbox\" data-wf-lightbox-target=\"#xray-lightbox-wrapper-template-6fdadfbd-86b1-4237-bd2b-1c4739f8d85a\"></div><ul class=\"caas-xray-pills xray-as-lightbox xray-article-pills wafer-scrollview\" data-wf-behavior=\"native\"><li><div class=\"caas-xray-entity caas-xray-card caas-xray-card-type-ticker link  \" data-entity-id=\"^IXIC\" data-entity-type=\"ticker\" data-sports-player-id=\"\"><button aria-haspopup=\"dialog\" aria-label=\"^IXIC\" class=\"xray-card-click-target caas-button\" data-ylk=\"cid:^IXIC;elmt:ticker;g:6fdadfbd-86b1-4237-bd2b-1c4739f8d85a;itc:1;pos:0;sec:pill;slk:^IXIC;elm:pill-open;cpos:1\"></button><div class=\"xray-card-content\"><div class=\"xray-card-left-column\"><div class=\"xray-card-row-title\"><span class=\"xray-entity-title-link\">^IXIC</span></div><div class=\"xray-card-row-subtitle\"><fin-streamer class=\"xray-fin-streamer xray-fin-streamer-type-quote xray-fin-streamer-percent-change\" data-field=\"regularMarketChangePercent\" data-symbol=\"^IXIC\" data-trend=\"txt\" data-watchlist-slug=\"\" data-xray-id=\"^IXIC\"><div class=\"xray-loading-dots xray-fin-streamer-loader\"><span class=\"xray-loading-dot\"></span><span class=\"xray-loading-dot\"></span><span class=\"xray-loading-dot\"></span></div></fin-streamer></div></div><div class=\"caas-xray-entity-follow-button-boundary-container wafer-rapid-module\" id=\"xray-follow-rapid-module-1-top\"><div class=\"caas-xray-entity-follow-button wafer-fetch\" data-wf-body=\"{&quot;articleId&quot;:&quot;6fdadfbd-86b1-4237-bd2b-1c4739f8d85a&quot;,&quot;bucket&quot;:[&quot;finance-US-en-US-def&quot;],&quot;device&quot;:&quot;smartphone&quot;,&quot;entityId&quot;:&quot;^IXIC&quot;,&quot;entityType&quot;:&quot;ticker&quot;,&quot;lang&quot;:&quot;en-US&quot;,&quot;m_id&quot;:&quot;x-ray&quot;,&quot;m_mode&quot;:&quot;json&quot;,&quot;region&quot;:&quot;US&quot;,&quot;site&quot;:&quot;finance&quot;,&quot;theme&quot;:&quot;light&quot;,&quot;config&quot;:{&quot;features&quot;:{&quot;enableAthleteHeaderV2&quot;:false,&quot;enableMovieShowtimes&quot;:false,&quot;enableTeamBettingOdds&quot;:false}},&quot;ctrl&quot;:&quot;Follow&quot;,&quot;entityLabel&quot;:&quot;^IXIC&quot;,&quot;iconOnly&quot;:true,&quot;position&quot;:1}\" data-wf-boundary=\"caas-xray-entity-follow-button-boundary-container\" data-wf-cache=\"0\" data-wf-credentials=\"include\" data-wf-session-retry-count=\"1\" data-wf-target=\".caas-xray-entity-follow-button-wf-container\" data-wf-trigger=\"onLoad\" data-wf-url=\"https://embed.fireplace.yahoo.com/_rcv/remote\"><div class=\"caas-xray-entity-follow-button-placeholder\"><span class=\"caas-xray-entity-follow-button-placeholder-icon\"><span class=\"starOutline icon\"><svg width=\"18\" height=\"18\" viewbox=\"0 0 24 24\"><path d=\"M8.48186998,8.32925207 L1.96976839,8.54025207 C1.08316301,8.56825207 0.670346742,9.65725207 1.31106157,10.2722521 L6.29784205,15.0522521 L4.88447112,21.1762521 C4.68555965,22.3152521 5.65112989,22.6662521 6.14590968,22.4302521 L12.0132982,19.2092521 L17.7987232,22.4302521 C18.2785097,22.6582521 19.2620719,22.3332521 19.0591622,21.1762521 L17.7297539,15.0522521 L22.6885469,10.2722521 C23.3302613,9.65725207 22.9164454,8.56825207 22.0308396,8.54025207 L15.5477251,8.32925207 L12.9308898,2.10925207 C12.5840442,1.29525207 11.4355554,1.29725207 11.0917084,2.11325207 L8.48186998,8.32925207 Z M15.5377296,14.3792521 L16.6472357,19.4902521 L12.0202951,16.9142521 L7.32638427,19.4912521 L8.5038602,14.3872521 L4.41767888,10.4762521 L9.82627162,10.2972521 L12.0142978,5.08125207 L14.2033235,10.2962521 L19.5969229,10.4762521 L15.5377296,14.3792521 Z\" transform=\"\"></path></svg></span></span></div><div class=\"caas-xray-entity-follow-button-wf-container\"></div></div></div></div></div><template class=\"xray-lightbox-entity-template\" data-entity-id=\"^IXIC\"><div class=\"xray-rmp-wrapper wafer-rapid-module\" id=\"xray-lightbox-rapid-module\"><div class=\"xray-rmp wafer-fetch\" data-wf-body=\"{&quot;articleId&quot;:&quot;6fdadfbd-86b1-4237-bd2b-1c4739f8d85a&quot;,&quot;bucket&quot;:[&quot;finance-US-en-US-def&quot;],&quot;device&quot;:&quot;smartphone&quot;,&quot;entityId&quot;:&quot;^IXIC&quot;,&quot;entityType&quot;:&quot;ticker&quot;,&quot;lang&quot;:&quot;en-US&quot;,&quot;m_id&quot;:&quot;x-ray&quot;,&quot;m_mode&quot;:&quot;json&quot;,&quot;region&quot;:&quot;US&quot;,&quot;site&quot;:&quot;finance&quot;,&quot;theme&quot;:&quot;light&quot;,&quot;config&quot;:{&quot;features&quot;:{&quot;enableAthleteHeaderV2&quot;:false,&quot;enableMovieShowtimes&quot;:false,&quot;enableTeamBettingOdds&quot;:false}},&quot;ctrl&quot;:&quot;OverlayEntity&quot;,&quot;entitySubType&quot;:null}\" data-wf-boundary=\"xray-rmp-wrapper\" data-wf-credentials=\"include\" data-wf-replace=\"1\" data-wf-session-retry-count=\"1\" data-wf-target=\".xray-rmp\" data-wf-trigger=\"onLoad\" data-wf-url=\"https://embed.fireplace.yahoo.com/_rcv/remote\"><div class=\"xray-card-loader\"></div><div class=\"xray-error-wrapper\"><div class=\"xray-error\"><span class=\"exclamation icon\"><svg width=\"48\" height=\"48\" viewbox=\"0 0 48 48\"><path d=\"M22 26V14c0-1.106.896-2 2-2s2 .894 2 2v12c0 1.104-.896 2-2 2s-2-.896-2-2zm0 8c0-1.104.896-2 2-2s2 .896 2 2-.896 2-2 2-2-.896-2-2zM6.002 24c0 9.924 8.076 18 17.998 18 9.924 0 18-8.076 18-18S33.924 6 24 6C14.078 6 6.002 14.076 6.002 24zM2 24C2 11.87 11.87 2 24 2c12.128 0 22 9.87 22 22s-9.872 22-22 22C11.87 46 2 36.13 2 24z\" transform=\"\"></path></svg></span><div class=\"xray-error-msg\"><div>Oops!</div><div>Something went wrong.</div><div>Please try again later.</div><div>Swipe down to close.</div></div></div></div></div></div></template></li><li><div class=\"caas-xray-entity caas-xray-card caas-xray-card-type-ticker link  \" data-entity-id=\"^GSPC\" data-entity-type=\"ticker\" data-sports-player-id=\"\"><button aria-haspopup=\"dialog\" aria-label=\"^GSPC\" class=\"xray-card-click-target caas-button\" data-ylk=\"cid:^GSPC;elmt:ticker;g:6fdadfbd-86b1-4237-bd2b-1c4739f8d85a;itc:1;pos:1;sec:pill;slk:^GSPC;elm:pill-open;cpos:1\"></button><div class=\"xray-card-content\"><div class=\"xray-card-left-column\"><div class=\"xray-card-row-title\"><span class=\"xray-entity-title-link\">^GSPC</span></div><div class=\"xray-card-row-subtitle\"><fin-streamer class=\"xray-fin-streamer xray-fin-streamer-type-quote xray-fin-streamer-percent-change\" data-field=\"regularMarketChangePercent\" data-symbol=\"^GSPC\" data-trend=\"txt\" data-watchlist-slug=\"\" data-xray-id=\"^GSPC\"><div class=\"xray-loading-dots xray-fin-streamer-loader\"><span class=\"xray-loading-dot\"></span><span class=\"xray-loading-dot\"></span><span class=\"xray-loading-dot\"></span></div></fin-streamer></div></div><div class=\"caas-xray-entity-follow-button-boundary-container wafer-rapid-module\" id=\"xray-follow-rapid-module-2-top\"><div class=\"caas-xray-entity-follow-button wafer-fetch\" data-wf-body=\"{&quot;articleId&quot;:&quot;6fdadfbd-86b1-4237-bd2b-1c4739f8d85a&quot;,&quot;bucket&quot;:[&quot;finance-US-en-US-def&quot;],&quot;device&quot;:&quot;smartphone&quot;,&quot;entityId&quot;:&quot;^GSPC&quot;,&quot;entityType&quot;:&quot;ticker&quot;,&quot;lang&quot;:&quot;en-US&quot;,&quot;m_id&quot;:&quot;x-ray&quot;,&quot;m_mode&quot;:&quot;json&quot;,&quot;region&quot;:&quot;US&quot;,&quot;site&quot;:&quot;finance&quot;,&quot;theme&quot;:&quot;light&quot;,&quot;config&quot;:{&quot;features&quot;:{&quot;enableAthleteHeaderV2&quot;:false,&quot;enableMovieShowtimes&quot;:false,&quot;enableTeamBettingOdds&quot;:false}},&quot;ctrl&quot;:&quot;Follow&quot;,&quot;entityLabel&quot;:&quot;^GSPC&quot;,&quot;iconOnly&quot;:true,&quot;position&quot;:2,&quot;showIconOnlyLabel&quot;:false}\" data-wf-boundary=\"caas-xray-entity-follow-button-boundary-container\" data-wf-cache=\"0\" data-wf-credentials=\"include\" data-wf-session-retry-count=\"1\" data-wf-target=\".caas-xray-entity-follow-button-wf-container\" data-wf-trigger=\"onLoad\" data-wf-url=\"https://embed.fireplace.yahoo.com/_rcv/remote\"><div class=\"caas-xray-entity-follow-button-placeholder\"><span class=\"caas-xray-entity-follow-button-placeholder-icon\"><span class=\"starOutline icon\"><svg width=\"18\" height=\"18\" viewbox=\"0 0 24 24\"><path d=\"M8.48186998,8.32925207 L1.96976839,8.54025207 C1.08316301,8.56825207 0.670346742,9.65725207 1.31106157,10.2722521 L6.29784205,15.0522521 L4.88447112,21.1762521 C4.68555965,22.3152521 5.65112989,22.6662521 6.14590968,22.4302521 L12.0132982,19.2092521 L17.7987232,22.4302521 C18.2785097,22.6582521 19.2620719,22.3332521 19.0591622,21.1762521 L17.7297539,15.0522521 L22.6885469,10.2722521 C23.3302613,9.65725207 22.9164454,8.56825207 22.0308396,8.54025207 L15.5477251,8.32925207 L12.9308898,2.10925207 C12.5840442,1.29525207 11.4355554,1.29725207 11.0917084,2.11325207 L8.48186998,8.32925207 Z M15.5377296,14.3792521 L16.6472357,19.4902521 L12.0202951,16.9142521 L7.32638427,19.4912521 L8.5038602,14.3872521 L4.41767888,10.4762521 L9.82627162,10.2972521 L12.0142978,5.08125207 L14.2033235,10.2962521 L19.5969229,10.4762521 L15.5377296,14.3792521 Z\" transform=\"\"></path></svg></span></span></div><div class=\"caas-xray-entity-follow-button-wf-container\"></div></div></div></div></div><template class=\"xray-lightbox-entity-template\" data-entity-id=\"^GSPC\"><div class=\"xray-rmp-wrapper wafer-rapid-module\" id=\"xray-lightbox-rapid-module\"><div class=\"xray-rmp wafer-fetch\" data-wf-body=\"{&quot;articleId&quot;:&quot;6fdadfbd-86b1-4237-bd2b-1c4739f8d85a&quot;,&quot;bucket&quot;:[&quot;finance-US-en-US-def&quot;],&quot;device&quot;:&quot;smartphone&quot;,&quot;entityId&quot;:&quot;^GSPC&quot;,&quot;entityType&quot;:&quot;ticker&quot;,&quot;lang&quot;:&quot;en-US&quot;,&quot;m_id&quot;:&quot;x-ray&quot;,&quot;m_mode&quot;:&quot;json&quot;,&quot;region&quot;:&quot;US&quot;,&quot;site&quot;:&quot;finance&quot;,&quot;theme&quot;:&quot;light&quot;,&quot;config&quot;:{&quot;features&quot;:{&quot;enableAthleteHeaderV2&quot;:false,&quot;enableMovieShowtimes&quot;:false,&quot;enableTeamBettingOdds&quot;:false}},&quot;ctrl&quot;:&quot;OverlayEntity&quot;,&quot;entitySubType&quot;:null}\" data-wf-boundary=\"xray-rmp-wrapper\" data-wf-credentials=\"include\" data-wf-replace=\"1\" data-wf-session-retry-count=\"1\" data-wf-target=\".xray-rmp\" data-wf-trigger=\"onLoad\" data-wf-url=\"https://embed.fireplace.yahoo.com/_rcv/remote\"><div class=\"xray-card-loader\"></div><div class=\"xray-error-wrapper\"><div class=\"xray-error\"><span class=\"exclamation icon\"><svg width=\"48\" height=\"48\" viewbox=\"0 0 48 48\"><path d=\"M22 26V14c0-1.106.896-2 2-2s2 .894 2 2v12c0 1.104-.896 2-2 2s-2-.896-2-2zm0 8c0-1.104.896-2 2-2s2 .896 2 2-.896 2-2 2-2-.896-2-2zM6.002 24c0 9.924 8.076 18 17.998 18 9.924 0 18-8.076 18-18S33.924 6 24 6C14.078 6 6.002 14.076 6.002 24zM2 24C2 11.87 11.87 2 24 2c12.128 0 22 9.87 22 22s-9.872 22-22 22C11.87 46 2 36.13 2 24z\" transform=\"\"></path></svg></span><div class=\"xray-error-msg\"><div>Oops!</div><div>Something went wrong.</div><div>Please try again later.</div><div>Swipe down to close.</div></div></div></div></div></div></template></li><li><div class=\"caas-xray-entity caas-xray-card caas-xray-card-type-ticker link  \" data-entity-id=\"^DJI\" data-entity-type=\"ticker\" data-sports-player-id=\"\"><button aria-haspopup=\"dialog\" aria-label=\"^DJI\" class=\"xray-card-click-target caas-button\" data-ylk=\"cid:^DJI;elmt:ticker;g:6fdadfbd-86b1-4237-bd2b-1c4739f8d85a;itc:1;pos:2;sec:pill;slk:^DJI;elm:pill-open;cpos:1\"></button><div class=\"xray-card-content\"><div class=\"xray-card-left-column\"><div class=\"xray-card-row-title\"><span class=\"xray-entity-title-link\">^DJI</span></div><div class=\"xray-card-row-subtitle\"><fin-streamer class=\"xray-fin-streamer xray-fin-streamer-type-quote xray-fin-streamer-percent-change\" data-field=\"regularMarketChangePercent\" data-symbol=\"^DJI\" data-trend=\"txt\" data-watchlist-slug=\"\" data-xray-id=\"^DJI\"><div class=\"xray-loading-dots xray-fin-streamer-loader\"><span class=\"xray-loading-dot\"></span><span class=\"xray-loading-dot\"></span><span class=\"xray-loading-dot\"></span></div></fin-streamer></div></div><div class=\"caas-xray-entity-follow-button-boundary-container wafer-rapid-module\" id=\"xray-follow-rapid-module-3-top\"><div class=\"caas-xray-entity-follow-button wafer-fetch\" data-wf-body=\"{&quot;articleId&quot;:&quot;6fdadfbd-86b1-4237-bd2b-1c4739f8d85a&quot;,&quot;bucket&quot;:[&quot;finance-US-en-US-def&quot;],&quot;device&quot;:&quot;smartphone&quot;,&quot;entityId&quot;:&quot;^DJI&quot;,&quot;entityType&quot;:&quot;ticker&quot;,&quot;lang&quot;:&quot;en-US&quot;,&quot;m_id&quot;:&quot;x-ray&quot;,&quot;m_mode&quot;:&quot;json&quot;,&quot;region&quot;:&quot;US&quot;,&quot;site&quot;:&quot;finance&quot;,&quot;theme&quot;:&quot;light&quot;,&quot;config&quot;:{&quot;features&quot;:{&quot;enableAthleteHeaderV2&quot;:false,&quot;enableMovieShowtimes&quot;:false,&quot;enableTeamBettingOdds&quot;:false}},&quot;ctrl&quot;:&quot;Follow&quot;,&quot;entityLabel&quot;:&quot;^DJI&quot;,&quot;iconOnly&quot;:true,&quot;position&quot;:3,&quot;showIconOnlyLabel&quot;:false}\" data-wf-boundary=\"caas-xray-entity-follow-button-boundary-container\" data-wf-cache=\"0\" data-wf-credentials=\"include\" data-wf-session-retry-count=\"1\" data-wf-target=\".caas-xray-entity-follow-button-wf-container\" data-wf-trigger=\"onLoad\" data-wf-url=\"https://embed.fireplace.yahoo.com/_rcv/remote\"><div class=\"caas-xray-entity-follow-button-placeholder\"><span class=\"caas-xray-entity-follow-button-placeholder-icon\"><span class=\"starOutline icon\"><svg width=\"18\" height=\"18\" viewbox=\"0 0 24 24\"><path d=\"M8.48186998,8.32925207 L1.96976839,8.54025207 C1.08316301,8.56825207 0.670346742,9.65725207 1.31106157,10.2722521 L6.29784205,15.0522521 L4.88447112,21.1762521 C4.68555965,22.3152521 5.65112989,22.6662521 6.14590968,22.4302521 L12.0132982,19.2092521 L17.7987232,22.4302521 C18.2785097,22.6582521 19.2620719,22.3332521 19.0591622,21.1762521 L17.7297539,15.0522521 L22.6885469,10.2722521 C23.3302613,9.65725207 22.9164454,8.56825207 22.0308396,8.54025207 L15.5477251,8.32925207 L12.9308898,2.10925207 C12.5840442,1.29525207 11.4355554,1.29725207 11.0917084,2.11325207 L8.48186998,8.32925207 Z M15.5377296,14.3792521 L16.6472357,19.4902521 L12.0202951,16.9142521 L7.32638427,19.4912521 L8.5038602,14.3872521 L4.41767888,10.4762521 L9.82627162,10.2972521 L12.0142978,5.08125207 L14.2033235,10.2962521 L19.5969229,10.4762521 L15.5377296,14.3792521 Z\" transform=\"\"></path></svg></span></span></div><div class=\"caas-xray-entity-follow-button-wf-container\"></div></div></div></div></div><template class=\"xray-lightbox-entity-template\" data-entity-id=\"^DJI\"><div class=\"xray-rmp-wrapper wafer-rapid-module\" id=\"xray-lightbox-rapid-module\"><div class=\"xray-rmp wafer-fetch\" data-wf-body=\"{&quot;articleId&quot;:&quot;6fdadfbd-86b1-4237-bd2b-1c4739f8d85a&quot;,&quot;bucket&quot;:[&quot;finance-US-en-US-def&quot;],&quot;device&quot;:&quot;smartphone&quot;,&quot;entityId&quot;:&quot;^DJI&quot;,&quot;entityType&quot;:&quot;ticker&quot;,&quot;lang&quot;:&quot;en-US&quot;,&quot;m_id&quot;:&quot;x-ray&quot;,&quot;m_mode&quot;:&quot;json&quot;,&quot;region&quot;:&quot;US&quot;,&quot;site&quot;:&quot;finance&quot;,&quot;theme&quot;:&quot;light&quot;,&quot;config&quot;:{&quot;features&quot;:{&quot;enableAthleteHeaderV2&quot;:false,&quot;enableMovieShowtimes&quot;:false,&quot;enableTeamBettingOdds&quot;:false}},&quot;ctrl&quot;:&quot;OverlayEntity&quot;,&quot;entitySubType&quot;:null}\" data-wf-boundary=\"xray-rmp-wrapper\" data-wf-credentials=\"include\" data-wf-replace=\"1\" data-wf-session-retry-count=\"1\" data-wf-target=\".xray-rmp\" data-wf-trigger=\"onLoad\" data-wf-url=\"https://embed.fireplace.yahoo.com/_rcv/remote\"><div class=\"xray-card-loader\"></div><div class=\"xray-error-wrapper\"><div class=\"xray-error\"><span class=\"exclamation icon\"><svg width=\"48\" height=\"48\" viewbox=\"0 0 48 48\"><path d=\"M22 26V14c0-1.106.896-2 2-2s2 .894 2 2v12c0 1.104-.896 2-2 2s-2-.896-2-2zm0 8c0-1.104.896-2 2-2s2 .896 2 2-.896 2-2 2-2-.896-2-2zM6.002 24c0 9.924 8.076 18 17.998 18 9.924 0 18-8.076 18-18S33.924 6 24 6C14.078 6 6.002 14.076 6.002 24zM2 24C2 11.87 11.87 2 24 2c12.128 0 22 9.87 22 22s-9.872 22-22 22C11.87 46 2 36.13 2 24z\" transform=\"\"></path></svg></span><div class=\"xray-error-msg\"><div>Oops!</div><div>Something went wrong.</div><div>Please try again later.</div><div>Swipe down to close.</div></div></div></div></div></div></template></li></ul><div class=\"xray-card-loader xray-card-loader-hidden\"></div><template id=\"xray-lightbox-wrapper-template-6fdadfbd-86b1-4237-bd2b-1c4739f8d85a\"><div class=\"xray-lightbox-scroll-view wafer-scrollview\" data-wf-behavior=\"native\" role=\"dialog\" aria-label=\"More info modal dialog\"><div class=\"xray-scroll-mask\"></div><div class=\"xray-bounce-mask hide\"></div><div class=\"xray-lightbox-scrollable-content\"><div class=\"xray-scroll-handlebar\"></div><ul class=\"caas-xray-pills xray-lightbox-pills wafer-rapid-module wafer-scrollview\" data-wf-behavior=\"native\" id=\"xray-lightbox-pills-rapid-module\"><li><button aria-label=\"^IXIC\" class=\"caas-xray-entity caas-xray-pill caas-xray-pill-type-ticker    \" data-entity-id=\"^IXIC\" data-ylk=\"cid:^IXIC;elmt:ticker;g:6fdadfbd-86b1-4237-bd2b-1c4739f8d85a;itc:1;pos:0;sec:pill;slk:^IXIC;elm:pill-toggle\"><div class=\"xray-pill-content\"><div class=\"xray-pill-label\"><span class=\"xray-entity-title-link\">^IXIC</span></div><fin-streamer class=\"xray-fin-streamer xray-fin-streamer-disable-colors-by-default xray-fin-streamer-type-quote xray-fin-streamer-percent-change xray-fin-streamer-loader-dots-centered\" data-field=\"regularMarketChangePercent\" data-symbol=\"^IXIC\" data-trend=\"txt\" data-watchlist-slug=\"\" data-xray-id=\"^IXIC\"><div class=\"xray-loading-dots xray-fin-streamer-loader\"><span class=\"xray-loading-dot\"></span><span class=\"xray-loading-dot\"></span><span class=\"xray-loading-dot\"></span></div></fin-streamer></div></button></li><li><button aria-label=\"^GSPC\" class=\"caas-xray-entity caas-xray-pill caas-xray-pill-type-ticker    \" data-entity-id=\"^GSPC\" data-ylk=\"cid:^GSPC;elmt:ticker;g:6fdadfbd-86b1-4237-bd2b-1c4739f8d85a;itc:1;pos:1;sec:pill;slk:^GSPC;elm:pill-toggle\"><div class=\"xray-pill-content\"><div class=\"xray-pill-label\"><span class=\"xray-entity-title-link\">^GSPC</span></div><fin-streamer class=\"xray-fin-streamer xray-fin-streamer-disable-colors-by-default xray-fin-streamer-type-quote xray-fin-streamer-percent-change xray-fin-streamer-loader-dots-centered\" data-field=\"regularMarketChangePercent\" data-symbol=\"^GSPC\" data-trend=\"txt\" data-watchlist-slug=\"\" data-xray-id=\"^GSPC\"><div class=\"xray-loading-dots xray-fin-streamer-loader\"><span class=\"xray-loading-dot\"></span><span class=\"xray-loading-dot\"></span><span class=\"xray-loading-dot\"></span></div></fin-streamer></div></button></li><li><button aria-label=\"^DJI\" class=\"caas-xray-entity caas-xray-pill caas-xray-pill-type-ticker    \" data-entity-id=\"^DJI\" data-ylk=\"cid:^DJI;elmt:ticker;g:6fdadfbd-86b1-4237-bd2b-1c4739f8d85a;itc:1;pos:2;sec:pill;slk:^DJI;elm:pill-toggle\"><div class=\"xray-pill-content\"><div class=\"xray-pill-label\"><span class=\"xray-entity-title-link\">^DJI</span></div><fin-streamer class=\"xray-fin-streamer xray-fin-streamer-disable-colors-by-default xray-fin-streamer-type-quote xray-fin-streamer-percent-change xray-fin-streamer-loader-dots-centered\" data-field=\"regularMarketChangePercent\" data-symbol=\"^DJI\" data-trend=\"txt\" data-watchlist-slug=\"\" data-xray-id=\"^DJI\"><div class=\"xray-loading-dots xray-fin-streamer-loader\"><span class=\"xray-loading-dot\"></span><span class=\"xray-loading-dot\"></span><span class=\"xray-loading-dot\"></span></div></fin-streamer></div></button></li></ul><div class=\"xray-lightbox-entity-container\"></div></div><div class=\"xray-lightbox-header wafer-rapid-module\" id=\"xray-lightbox-header-rapid-module\"><h2 class=\"xray-lightbox-title\"></h2><button class=\"link wafer-lightbox-close xray-lightbox-close\" aria-label=\"Close more info modal dialog\" title=\"\" data-ylk=\"g:6fdadfbd-86b1-4237-bd2b-1c4739f8d85a;itc:1;sec:pill;elm:pill-close;slk:close\"><span class=\"close icon\"><svg width=\"20\" height=\"20\" viewbox=\"0 0 20 20\"><path d=\"M10 8.823L5.585 4.408a.833.833 0 00-1.173.004.828.828 0 00-.003 1.173L8.823 10 4.41 14.414a.833.833 0 00.003 1.174.827.827 0 001.173.003L10 11.176l4.415 4.415a.832.832 0 001.176-1.177L11.177 10l4.414-4.415a.833.833 0 00-.003-1.173.829.829 0 00-1.173-.004L10 8.823z\" transform=\"\"></path></svg></span></button></div></div></template><script type=\"application/javascript\">\\n                if(!window.finWebCore){window.finWebCore=function r(e){const{isModern:s=!0,isDev:i=!1,lang:a=t,devAssets:o,prodAssets:r,crumb:n=\"\",strings:c}=e;let d={};const f=a.substring(a.lastIndexOf(\"-\")+1);return{crumb:n,lang:a,region:f,store:{},intl:f.toLowerCase(),strings:c,assets:i?o:r,addScriptTag(e,t,s){if(!e)return;const i=document.createElement(\"script\");i.setAttribute(\"src\",e),i.setAttribute(\"type\",\"text/javascript\"),\"function\"==typeof s&&(i.onload=()=>{s(!0)},i.onerror=()=>{s(!1)});for(const e in t)e&&Object.prototype.hasOwnProperty.call(t,e)&&void 0!==t[e]&&i.setAttribute(e,t[e]);document.body.appendChild(i)},addAsset(e,t={}){const{async:a=!0,defer:n,useModule:c=!1,callback:f}=t;if(d[e])return void(\"function\"==typeof f&&f(!0));let m;if(m=i?o:r,!m||0===m.length)return;d[e]=!0;let u=m[0]&&m[0][e]&&m[0][e].mjs;c?(this.addScriptTag(u,{async:a,defer:n,type:\"module\"},f),m.length>1&&!i&&(u=m[1]&&m[1][e]&&m[1][e].js,this.addScriptTag(u,{async:a,defer:n,nomodule:!0},f))):(m.length>1&&!s&&(u=m[1]&&m[1][e]&&m[1][e].js),this.addScriptTag(u,{async:a,defer:n},f))},reset(){d={}}}}({isModern:false,isDev:false,lang:\\'en-US\\',devAssets:{},prodAssets:[{\"_staticFinProtobuf\":{\"mjs\":\"https://s.yimg.com/uc/finance/webcore/js/_staticFinProtobuf.339ddbc0a309ddc8f1ec.mjs\"},\"chart\":{\"mjs\":\"https://s.yimg.com/uc/finance/webcore/js/chart.8034aab06339a64134c8.mjs\"},\"cryptoTrade\":{\"mjs\":\"https://s.yimg.com/uc/finance/webcore/js/cryptoTrade.1b63846425eebde99be9.mjs\"},\"finBarChart\":{\"mjs\":\"https://s.yimg.com/uc/finance/webcore/js/finBarChart.7d335a9a26b68f78551e.mjs\"},\"finGaugeChart\":{\"mjs\":\"https://s.yimg.com/uc/finance/webcore/js/finGaugeChart.64f55e246f3451bece40.mjs\"},\"finHorizontalBarChart\":{\"mjs\":\"https://s.yimg.com/uc/finance/webcore/js/finHorizontalBarChart.dfcff4dacd96582c465f.mjs\"},\"finIcon\":{\"mjs\":\"https://s.yimg.com/uc/finance/webcore/js/finIcon.490eb67000a52d7ce584.mjs\"},\"finPlaidLink\":{\"mjs\":\"https://s.yimg.com/uc/finance/webcore/js/finPlaidLink.71a6877cd933d0efc4a5.mjs\"},\"finVizChart\":{\"mjs\":\"https://s.yimg.com/uc/finance/webcore/js/finVizChart.ac193aaf562ae07cdb86.mjs\"},\"finYodlee\":{\"mjs\":\"https://s.yimg.com/uc/finance/webcore/js/finYodlee.78ba724fb61844851ed4.mjs\"},\"importantDates\":{\"mjs\":\"https://s.yimg.com/uc/finance/webcore/js/importantDates.9a298f75844f7b3b56c9.mjs\"},\"marketSummary\":{\"mjs\":\"https://s.yimg.com/uc/finance/webcore/js/marketSummary.091ba847ca0de1bafc29.mjs\"},\"marketTime\":{\"mjs\":\"https://s.yimg.com/uc/finance/webcore/js/marketTime.ccbebe37328e8d3580f3.mjs\"},\"navigation\":{\"mjs\":\"https://s.yimg.com/uc/finance/webcore/js/navigation.57f658cdc376781ba69d.mjs\"},\"portfolio\":{\"mjs\":\"https://s.yimg.com/uc/finance/webcore/js/portfolio.a76f83bf48269845a28d.mjs\"},\"quoteSummary\":{\"mjs\":\"https://s.yimg.com/uc/finance/webcore/js/quoteSummary.045c1b455472ec1e40ae.mjs\"},\"sparkLine\":{\"mjs\":\"https://s.yimg.com/uc/finance/webcore/js/sparkLine.a4c99ec52b01208543f3.mjs\"},\"streamer\":{\"mjs\":\"https://s.yimg.com/uc/finance/webcore/js/streamer.faee02bb8bf4d97c103a.mjs\"},\"ticker\":{\"mjs\":\"https://s.yimg.com/uc/finance/webcore/js/ticker.6573d53346e0565ef372.mjs\"},\"xrayStocks\":{\"mjs\":\"https://s.yimg.com/uc/finance/webcore/js/xrayStocks.b16ccf7307904fc1b3b7.mjs\"},\"\":{\"mjs\":\"https://s.yimg.com/uc/finance/webcore/js/streamer.worker.39f700902d471c0e3307.worker.mjs\"}},{\"_staticFinProtobuf\":{\"js\":\"https://s.yimg.com/uc/finance/webcore/js/_staticFinProtobuf.ac5310c007bfc7edea5b.js\"},\"chart\":{\"js\":\"https://s.yimg.com/uc/finance/webcore/js/chart.89d78eb17ac025c96d08.js\"},\"cryptoTrade\":{\"js\":\"https://s.yimg.com/uc/finance/webcore/js/cryptoTrade.79b830a90bfe6f77886b.js\"},\"finBarChart\":{\"js\":\"https://s.yimg.com/uc/finance/webcore/js/finBarChart.0f29b7cf39b6011df71e.js\"},\"finGaugeChart\":{\"js\":\"https://s.yimg.com/uc/finance/webcore/js/finGaugeChart.c238acc8755a473833b1.js\"},\"finHorizontalBarChart\":{\"js\":\"https://s.yimg.com/uc/finance/webcore/js/finHorizontalBarChart.fee926713d7f28182f8a.js\"},\"finIcon\":{\"js\":\"https://s.yimg.com/uc/finance/webcore/js/finIcon.de475baa2b257171967e.js\"},\"finPlaidLink\":{\"js\":\"https://s.yimg.com/uc/finance/webcore/js/finPlaidLink.daf5657dd311beda5f41.js\"},\"finVizChart\":{\"js\":\"https://s.yimg.com/uc/finance/webcore/js/finVizChart.9036fa8229fed4c59ee9.js\"},\"finYodlee\":{\"js\":\"https://s.yimg.com/uc/finance/webcore/js/finYodlee.323707fc1a2994ea01b4.js\"},\"importantDates\":{\"js\":\"https://s.yimg.com/uc/finance/webcore/js/importantDates.ca5179cb1779945e0d4f.js\"},\"marketSummary\":{\"js\":\"https://s.yimg.com/uc/finance/webcore/js/marketSummary.679776f017b21544c41f.js\"},\"marketTime\":{\"js\":\"https://s.yimg.com/uc/finance/webcore/js/marketTime.b3de95d150fb89492c59.js\"},\"navigation\":{\"js\":\"https://s.yimg.com/uc/finance/webcore/js/navigation.e8fc222a76e8ae68ebd8.js\"},\"portfolio\":{\"js\":\"https://s.yimg.com/uc/finance/webcore/js/portfolio.2442e50f92825551f83f.js\"},\"quoteSummary\":{\"js\":\"https://s.yimg.com/uc/finance/webcore/js/quoteSummary.4314e00d91e41032c570.js\"},\"sparkLine\":{\"js\":\"https://s.yimg.com/uc/finance/webcore/js/sparkLine.281ec73d657b8f5b918b.js\"},\"streamer\":{\"js\":\"https://s.yimg.com/uc/finance/webcore/js/streamer.ea82ccb8bd17887ef549.js\"},\"ticker\":{\"js\":\"https://s.yimg.com/uc/finance/webcore/js/ticker.478fbe9a810c00583672.js\"},\"xrayStocks\":{\"js\":\"https://s.yimg.com/uc/finance/webcore/js/xrayStocks.bf2cfa18922df3826dce.js\"},\"\":{\"js\":\"https://s.yimg.com/uc/finance/webcore/js/streamer.worker.1367d9b68286e691a4d8.worker.js\"}}],strings:{\"AUTHENTICATING\":\"Authenticating\",\"BUY\":\"Buy\",\"BUY_FALLBACK\":\"Buy {amount}\",\"CANCEL\":\"Cancel\",\"CLOSE\":\"Close\",\"COIN_BALANCE\":\"{coin} balance: {amount} {coin}\",\"COMPANY_NAME\":\"Company name\",\"CONFIRM\":\"Confirm\",\"CONGRATULATIONS\":\"Congratulations\",\"CRYPTO_BUY_SUCCESS\":\"You bought {proceeds} {coin} for {cost}\",\"CRYPTO_SALE_SUCCESS\":\"You sold {proceeds} {coin} for {cost}\",\"CRYPTO_FIRST_BUY_SUCCESS\":\"You made your first buy of {proceeds} {coin} for {cost}\",\"CRYPTO_FIRST_SALE_SUCCESS\":\"You made your first sale of {proceeds} {coin} for {cost}\",\"CRYPTO_NO_COIN\":\"You don’t have any {coinName} yet\",\"CRYPTO_NO_COIN_INFO\":\"Start purchasing coins now\",\"CRYPTO_BUY_COIN\":\"Buy {coinName}\",\"EDIT_LIST\":\"Edit list\",\"REFRESH\":\"Refresh\",\"HIDE_HOLDINGS\":\"Hide holdings\",\"INSUFFICIENT_COIN\":\"You have insufficient {coin} in your wallet to sell.\",\"INSUFFICIENT_FUNDS\":\"You have insufficient funds in your wallet.\",\"SHOW_HOLDINGS\":\"Show holdings\",\"DAY_GAIN\":\"Day gain\",\"TOTAL_GAIN\":\"Total gain\",\"AS_OF\":\"As of {time}\",\"ADD_SYMBOLS\":\"Add Symbols\",\"CUSTOM\":\"Custom\",\"DELETE\":\"Delete\",\"DELETE_WATCHLIST\":\"Delete Watchlist\",\"DONE\":\"Done\",\"GET_STARTED_ADD_SYMBOLS\":\"Get started by searching for companies to add to your new watchlist.\",\"N_SYMBOLS\":\"{n} symbols\",\"TOP_HOLDINGS\":\"Top holdings\",\"SELL_FALLBACK\":\"Sell all\",\"SEARCH_SYMBOLS\":\"Search for companies & symbols\",\"SHOW_MORE\":\"Show more\",\"SHOW_LESS\":\"Show less\",\"SORT_BY\":\"Sort by:\",\"SYMBOL\":\"Symbol\",\"GET_HELP_WITH_PREMIUM\":\"Get help with Premium\",\"PORTFOLIO_ONBOARD_TITLE\":\"Let\\'s build your first watchlist!\",\"PORTFOLIO_ONBOARD_DESC\":\"Get started by using the search bar to find your favorite companies to add to your watchlist.\",\"LINK_BROKER_VISIT\":\"Link your broker account by visiting\",\"LEARN_MORE\":\"Learn more\",\"MARKETS_OPEN\":\"Market open.\",\"MARKET_TIME_NOTICE_CLOSED\":\"As of {date} {time}. {marketState}\",\"MARKET_TIME_NOTICE_CLOSED_SHORT\":\"At close: {date} {time}\",\"MY_WATCHLIST\":\"My Watchlist\",\"ORDER_ERROR_TITLE\":\"There was a problem processing your order\",\"ORDER_ERROR_INFO\":\"Let\\'s get this sorted out for you\",\"ORDER_PREVIEW\":\"Order preview\",\"ORDER_PROGRESS\":\"It may take up to a minute.\",\"PORTFOLIOS_TOTAL\":\"Portfolios Total\",\"POST_MARKET_NOTICE\":\"After hours:\",\"POST\":\"Post\",\"POWERED_BY\":\"Powered by\",\"PRE\":\"Pre\",\"PRE_MARKET_NOTICE\":\"Pre-Market:\",\"PRIVACY_VZ\":\"Verizon Media Privacy\",\"PRIVACY_YAHOO\":\"Yahoo Privacy\",\"PROVIDE_FEEDBACK\":\"Provide Feedback\",\"PROGRESS_TRACK\":\"{current} of {total}\",\"PRICE\":\"Price\",\"PURCHASE_AMOUNT\":\"Purchase amount\",\"RECEIVED_ORDER\":\"We\\'ve received your order\",\"REVIEW_ORDER\":\"Review Order\",\"SELL\":\"Sell\",\"SALE_AMOUNT\":\"Sale amount\",\"SPRED_INFO_DISCLIMER\":\"The price is subjected to change.\",\"TAKE_TOUR\":\"Take the tour\",\"TERMS_VZ\":\"Verizon Media Terms\",\"TERMS_YAHOO\":\"Yahoo Terms\",\"TRADE_COIN\":\"Trade {coinName}\",\"TRACK_PORTFOLIO\":\"Track your portfolio\",\"TRANSFER_FUND\":\"Fund your Wallet\",\"TRY_AGAIN\":\"Try again\",\"TRY_OTHER_BROWSER\":\"Unfortunately broker linking is not currently supported on Chrome. Please try again with another browser\",\"VERIFY_ID\":\"Verify your ID for a full access\",\"VIEW_ON_YAHOO_FINANCE\":\"View on Yahoo Finance\",\"UNLINKING\":\"Unlinking your account\",\"WALLET_BALANCE\":\"Purchase power: {amount}\",\"YAHOO_FINANCE\":\"Yahoo Finance\",\"YODLEE_ERROR\":\"Something went wrong on our end. Please try again.\",\"YODLEE_BANK_ERROR\":\"Sorry, we couldn’t connect your bank account\",\"YODLEE_TIMEOUT\":\"Your session has timed out. Please sign in again\",\"YODLEE_BANK_STATEMENT\":\"Linking an account will show up on two cards: My spending and Upcoming bills.\",\"YODLEE_BANK_LOADING\":\"Loading\",\"MIN_AMOUNT\":\"You can buy minimum of $1.00\",\"IMPORTANT_DATE\":\"Important dates\"}}); function initStreamer(){ window.finWebCore.addAsset(\\'streamer\\',{async:true}); } if(document.readyState === \\'interactive\\' || document.readyState === \\'complete\\'){ initStreamer(); }else{window.addEventListener(\\'DOMContentLoaded\\', initStreamer);}}\\n            </script></div><div class=\"caas-yvideo-wrapper caas-yvideo-player yvideo caas-hero caas-cover\"><div style=\"padding-bottom:56.25%;\"><div class=\"caas-yvideo caas-yvideo-top\" data-videoconfig=\"{&quot;autoplay&quot;:true,&quot;duration&quot;:0,&quot;height&quot;:360,&quot;lang&quot;:&quot;en-US&quot;,&quot;pageSpaceId&quot;:&quot;980779999&quot;,&quot;queryParams&quot;:null,&quot;region&quot;:&quot;US&quot;,&quot;site&quot;:&quot;finance&quot;,&quot;startScreen&quot;:{},&quot;url&quot;:&quot;https://finance.yahoo.com/video/yahoo-finance-live-jun-1-124802911.html?format=embed&amp;region=US&amp;lang=en-US&amp;site=finance&amp;player_autoplay=1&amp;expName=y20&quot;,&quot;width&quot;:640,&quot;thumbnail&quot;:{&quot;type&quot;:&quot;image&quot;,&quot;size&quot;:{&quot;raw&quot;:null}},&quot;YVAP&quot;:{&quot;accountId&quot;:&quot;145&quot;},&quot;playlistUI&quot;:{&quot;playlistId&quot;:&quot;finance-videotron&quot;},&quot;expName&quot;:&quot;y20&quot;,&quot;playlist&quot;:{&quot;mediaItems&quot;:[{&quot;id&quot;:&quot;c424fae4-e454-3ef0-8e0d-9ad4d82ea6f3&quot;}],&quot;videoRecommendations&quot;:true,&quot;id&quot;:&quot;finance-videotron&quot;},&quot;videoAlias&quot;:&quot;yahoo-finance-live-jun-1-124802911&quot;,&quot;hidePlaylist&quot;:true,&quot;comscoreC4&quot;:&quot;US Finance&quot;,&quot;pageUrl&quot;:&quot;https://finance.yahoo.com/news/stock-market-news-today-live-updates-june-1-2023-115051823.html&quot;,&quot;referrerUrl&quot;:&quot;&quot;,&quot;videoPosition&quot;:&quot;top&quot;,&quot;articleUuid&quot;:&quot;6fdadfbd-86b1-4237-bd2b-1c4739f8d85a&quot;,&quot;pct&quot;:&quot;storywithleadvideo&quot;,&quot;expBucket&quot;:&quot;finance-US-en-US-def&quot;,&quot;expBucketName&quot;:&quot;finance-US-en-US-def&quot;,&quot;pblob&quot;:&quot;revsp:yahoofinance.com;lpstaid:6fdadfbd-86b1-4237-bd2b-1c4739f8d85a;lu:0;pct:story;pt:content;pd:non_modal;ver:article&quot;}\"><div class=\"player has-background\" style=\"background-image:url(https://s.yimg.com/uu/api/res/1.2/5yrTr3v6tHtE3Kkaq0NG_A--~B/Zmk9c3RyaW07aD0zNjA7dz02NDA7c209MTthcHBpZD15dGFjaHlvbg--/https://media-mbst-pub-ue1.s3.amazonaws.com/creatr-uploaded-images/2019-09/1af93af0-db18-11e9-bff7-e34690b9be52);\"></div></div></div></div><div class=\"caas-body\"><p>Stocks popped on Thursday after the<a data-i13n=\"cpos:1;pos:1\" href=\"https://finance.yahoo.com/news/house-passes-debt-ceiling-bill-shifting-focus-to-senate-015440568.html\" data-ylk=\"slk:House passed a bill t;cpos:1;pos:1;elm:context_link;itc:0;outcm:mb_qualified_link;_E:mb_qualified_link;ct:story;\" class=\"link  yahoo-link\"> House passed a bill t</a>o raise the debt ceiling late Wednesday evening and focus on Wall Street <a data-i13n=\"cpos:2;pos:1\" href=\"https://finance.yahoo.com/news/jobs-report-hiring-expected-to-slow-in-may-as-labor-strength-remains-in-focus-for-fed-200040569.html\" data-ylk=\"slk:turned to Friday\\'s all-important jobs report;cpos:2;pos:1;elm:context_link;itc:0;outcm:mb_qualified_link;_E:mb_qualified_link;ct:story;\" class=\"link  yahoo-link\">turned to Friday\\'s all-important jobs report</a>.</p><p>The S&amp;P 500 (<a data-i13n=\"cpos:3;pos:1\" href=\"https://finance.yahoo.com/quote/%5EGSPC?p=%5EGSPC&amp;.tsrc=fin-srch\" data-ylk=\"slk:^GSPC;cpos:3;pos:1;elm:context_link;itc:0\" class=\"link \">^GSPC</a>) rose 0.99%, while the Dow Jones Industrial Average (<a data-i13n=\"cpos:4;pos:1\" href=\"https://finance.yahoo.com/quote/%5EDJI?p=%5EDJI&amp;.tsrc=fin-srch\" data-ylk=\"slk:^DJI;cpos:4;pos:1;elm:context_link;itc:0\" class=\"link \">^DJI</a>) popped 0.47%, or 153 points. The technology-heavy Nasdaq Composite (<a data-i13n=\"cpos:5;pos:1\" href=\"https://finance.yahoo.com/quote/%5EIXIC?p=%5EIXIC&amp;.tsrc=fin-srch\" data-ylk=\"slk:^IXIC;cpos:5;pos:1;elm:context_link;itc:0\" class=\"link \">^IXIC</a>) was 1.28% higher.</p><div class=\"caas-stock-chart\"><div class=\"wafer-fetch\" data-wf-credentials=\"include\" data-wf-replace=\"1\" data-wf-session-retry-count=\"2\" data-wf-timeout=\"5000\" data-wf-trigger=\"viewport\" data-wf-trigger-offset=\"600 0\" data-wf-body=\"{&quot;m_id&quot;:&quot;quoteSummaryPreview&quot;,&quot;ctrl&quot;:&quot;QuoteSummaryPreview&quot;,&quot;m_mode&quot;:&quot;json&quot;,&quot;config&quot;:{&quot;className&quot;:&quot;ticker-chart&quot;,&quot;comparisons&quot;:&quot;^GSPC,^IXIC&quot;,&quot;defaultDateRange&quot;:&quot;5d&quot;,&quot;exchange&quot;:&quot;DJI&quot;,&quot;isSmartphone&quot;:true,&quot;requestId&quot;:&quot;fsGBrIHk&quot;,&quot;showAddToWatchlist&quot;:true,&quot;showChartToolBar&quot;:true,&quot;showFullScreenLink&quot;:true,&quot;showTitle&quot;:true,&quot;site&quot;:&quot;finance&quot;,&quot;symbol&quot;:&quot;^DJI&quot;,&quot;theme&quot;:&quot;light&quot;,&quot;type&quot;:&quot;enhanced&quot;,&quot;enableQuoteCrumb&quot;:&quot;1&quot;}}\" data-wf-url=\"/fin_ms/_rcv/remote?m_id=quoteSummaryPreview&amp;ctrl=QuoteSummaryPreview&amp;site=finance&amp;rid=fsGBrIHk&amp;m_mode=json\"><div class=\"caas-card-loader\"></div></div></div><p>A looming U.S. debt default, which Treasury Secretary Janet Yellen warned could come as soon as Monday, had begun to weigh on markets over the last week. But with the House passing the bill in a resounding 314-117 vote, investors will now await action in the Senate.</p><div class=\"caas-da\"><div class=\"smad-container\"><div class=\"smad-header\"><span>Scroll to continue with content</span><div class=\"smad-icon\"><span>Ad</span><a class=\"link\" href=\"https://info.yahoo.com/privacy/us/yahoo/relevantads.html\" rel=\"noopener noreferrer\" target=\"_blank\" data-ylk=\"elm:icon;slk:info\"><span class=\"ads icon\"><svg width=\"15\" height=\"15\" viewbox=\"0 0 24 24\"><path d=\"M5.636 4.222c-.39-.39-1.023-.39-1.414 0s-.39 1.024 0 1.414l.707.707c.39.39 1.022.39 1.414 0 .39-.39.39-1.023 0-1.414l-.708-.708zM4.93 17.658l-.708.707c-.39.39-.39 1.023 0 1.414.39.39 1.023.39 1.414 0l.707-.708c.39-.39.39-1.024 0-1.414-.39-.39-1.023-.39-1.414 0zm14.14 0c-.39-.39-1.023-.39-1.413 0-.39.39-.39 1.023 0 1.414l.707.707c.39.39 1.024.39 1.414 0 .39-.392.39-1.025 0-1.415l-.707-.707zm0-11.315l.708-.707c.39-.39.39-1.023 0-1.414s-1.024-.39-1.414 0l-.707.707c-.39.39-.39 1.024 0 1.414.39.39 1.023.39 1.414 0zM22 11h-1c-.553 0-1 .448-1 1s.447 1 1 1h1c.552 0 1-.448 1-1s-.448-1-1-1zM10 9h5c.552 0 1-.448 1-1s-.448-1-1-1h-2c0-.55-.447-1-1-1s-1 .45-1 1H9.5C8.12 7 7 8.12 7 9.5v1C7 11.88 8.12 13 9.5 13H13c.552 0 1 .448 1 1s-.448 1-1 1H8c-.553 0-1 .448-1 1s.447 1 1 1h3c0 .55.447 1 1 1s1-.45 1-1h.5c1.38 0 2.5-1.12 2.5-2.5v-1c0-1.38-1.37-2.5-3-2.5h-3c-.553 0-1-.448-1-1s.447-1 1-1zm2-5c.553 0 1-.448 1-1V2c0-.552-.447-1-1-1s-1 .448-1 1v1c0 .552.447 1 1 1zm-9 7H2c-.553 0-1 .448-1 1s.447 1 1 1h1c.552 0 1-.448 1-1s-.448-1-1-1zm9 9c-.553 0-1 .448-1 1v1c0 .552.447 1 1 1s1-.448 1-1v-1c0-.552-.447-1-1-1z\" transform=\"\"></path></svg></span></a></div></div><div class=\"smad-short-header\" style=\"display:none;\">ADVERTISEMENT</div><div class=\"smad-outer-container\"><div class=\"smad-clip-area\"><div class=\"smad-tag-container\"><div id=\"defaultdestMOMENTS\"></div></div></div></div></div></div><div class=\"caas-da\"><div id=\"sda-LREC\"><div id=\"sda-LREC-iframe\"></div></div></div><p>“The deadline to raise the debt ceiling is rapidly approaching, and the likelihood of triggering a negative market reaction with severe economic consequences will only increase as we approach the precipice,” Business Roundtable CEO Joshua Bolten said in a statement after the House vote.</p><p>“We call on the Senate to eliminate the threat of a default by passing this bipartisan bill as soon as possible,\" he added.</p><div id=\"caas-article-client-rmp-s1\" class=\"caas-rmp-container wafer-fetch wafer-rapid\" data-wf-replace=\"1\" data-wf-state-body=\"{&quot;ctrl&quot;:&quot;SubscriptionMonalixa&quot;,&quot;m_id&quot;:&quot;react-wafer-subscription&quot;,&quot;m_mode&quot;:&quot;json&quot;,&quot;module&quot;:&quot;articlePremUpsell&quot;,&quot;config&quot;:{&quot;apiVersion&quot;:&quot;2&quot;,&quot;pageContext&quot;:&quot;[state.publisherBlobPageContext]&quot;,&quot;placement&quot;:&quot;finance-mobile-web-article-body&quot;,&quot;appid&quot;:&quot;116ea02c-2fd4-4203-92e5-1ec1c8fae6af&quot;}}\" data-wf-retry-count=\"2\" data-wf-timeout=\"5000\" data-wf-trigger=\"viewport\" data-wf-trigger-offset=\"600 0\" data-wf-url=\"/fp_ms/_rcv/remote?m_id=react-wafer-subscription&amp;ctrl=SubscriptionMonalixa&amp;module=articlePremUpsell&amp;site=finance&amp;device=smartphone&amp;lang=en-US&amp;region=US&amp;rid=fsGBrIHk&amp;m_mode=json\"></div><p>The artificial intelligence hype train that has been <a data-i13n=\"cpos:6;pos:1\" href=\"https://finance.yahoo.com/news/the-magnificent-seven-tech-stocks-drive-markets-higher-as-ai-mania-grips-investors-123029634.html\" data-ylk=\"slk:driving a rally;cpos:6;pos:1;elm:context_link;itc:0;outcm:mb_qualified_link;_E:mb_qualified_link;ct:story;\" class=\"link  yahoo-link\">driving a rally </a>in the Nasdaq since Nvidia\\'s (<a data-i13n=\"cpos:7;pos:1\" href=\"https://finance.yahoo.com/quote/NVDA?p=NVDA&amp;.tsrc=fin-srch\" data-ylk=\"slk:NVDA;cpos:7;pos:1;elm:context_link;itc:0\" class=\"link \">NVDA</a>) <a data-i13n=\"cpos:8;pos:1\" href=\"https://finance.yahoo.com/news/the-generative-ai-hype-bubble-runs-through-nvidia-164142640.html\" data-ylk=\"slk:blowout;cpos:8;pos:1;elm:context_link;itc:0;outcm:mb_qualified_link;_E:mb_qualified_link;ct:story;\" class=\"link  yahoo-link\">blowout</a> earnings report last week hit a speed bump after the close on Wednesday. C3.ai (<a data-i13n=\"cpos:9;pos:1\" href=\"https://finance.yahoo.com/quote/AI?p=AI&amp;.tsrc=fin-srch\" data-ylk=\"slk:AI;cpos:9;pos:1;elm:context_link;itc:0\" class=\"link \">AI</a>) tumbled 13% on Thursday after the company <a data-i13n=\"cpos:10;pos:1\" href=\"https://finance.yahoo.com/news/c3ai-stock-plummets-after-q1-earnings-beat-expectations-210159080.html\" data-ylk=\"slk:reported;cpos:10;pos:1;elm:context_link;itc:0;outcm:mb_qualified_link;_E:mb_qualified_link;ct:story;\" class=\"link  yahoo-link\">reported </a>weaker-than-expected full-year revenue guidance. The AI software developer expects revenue in a range of $295-$320 million. Wall Street had hoped for $321 million, per S&amp;P Global Market Intelligence.</p><div class=\"caas-stock-chart\"><div class=\"wafer-fetch\" data-wf-credentials=\"include\" data-wf-replace=\"1\" data-wf-session-retry-count=\"2\" data-wf-timeout=\"5000\" data-wf-trigger=\"viewport\" data-wf-trigger-offset=\"600 0\" data-wf-body=\"{&quot;m_id&quot;:&quot;quoteSummaryPreview&quot;,&quot;ctrl&quot;:&quot;QuoteSummaryPreview&quot;,&quot;m_mode&quot;:&quot;json&quot;,&quot;config&quot;:{&quot;className&quot;:&quot;ticker-chart&quot;,&quot;comparisons&quot;:&quot;NVDA&quot;,&quot;defaultDateRange&quot;:&quot;ytd&quot;,&quot;exchange&quot;:&quot;NYQ&quot;,&quot;isSmartphone&quot;:true,&quot;requestId&quot;:&quot;fsGBrIHk&quot;,&quot;showAddToWatchlist&quot;:true,&quot;showChartToolBar&quot;:true,&quot;showFullScreenLink&quot;:true,&quot;showTitle&quot;:true,&quot;site&quot;:&quot;finance&quot;,&quot;symbol&quot;:&quot;AI&quot;,&quot;theme&quot;:&quot;light&quot;,&quot;type&quot;:&quot;enhanced&quot;,&quot;enableQuoteCrumb&quot;:&quot;1&quot;}}\" data-wf-url=\"/fin_ms/_rcv/remote?m_id=quoteSummaryPreview&amp;ctrl=QuoteSummaryPreview&amp;site=finance&amp;rid=fsGBrIHk&amp;m_mode=json\"><div class=\"caas-card-loader\"></div></div></div><p>Shares of Salesforce (<a data-i13n=\"cpos:11;pos:1\" href=\"https://finance.yahoo.com/quote/CRM\" data-ylk=\"slk:CRM;cpos:11;pos:1;elm:context_link;itc:0\" class=\"link \">CRM</a>) and CrowdStrike (<a data-i13n=\"cpos:12;pos:1\" href=\"https://finance.yahoo.com/quote/CRWD\" data-ylk=\"slk:CRWD;cpos:12;pos:1;elm:context_link;itc:0\" class=\"link \">CRWD</a>) also stumbled. Salesforce fell 4.66% as investors harped on capital expenditure growth of 36% in the quarter. CrowdStrike stock slipped 1.6% losses as its full-year profit forecast came in on the low end of analyst expectations.</p><p>Meanwhile retail earnings continued to provide a <a data-i13n=\"cpos:13;pos:1\" href=\"https://finance.yahoo.com/news/bjs-earnings-tell-the-whole-story-of-the-us-economy-right-now-142702842.html\" data-ylk=\"slk:mixed picture;cpos:13;pos:1;elm:context_link;itc:0;outcm:mb_qualified_link;_E:mb_qualified_link;ct:story;\" class=\"link  yahoo-link\">mixed picture</a> on consumer spending. After the bell on Wednesday, Nordstrom (<a data-i13n=\"cpos:14;pos:1\" href=\"https://finance.yahoo.com/quote/JWN\" data-ylk=\"slk:JWN;cpos:14;pos:1;elm:context_link;itc:0\" class=\"link \">JWN</a>) topped analyst expectations propelling shares up 4.77% during Thursday\\'s trading session. But on Thursday morning, Macy\\'s (<a data-i13n=\"cpos:15;pos:1\" href=\"https://finance.yahoo.com/quote/AI?p=AI&amp;.tsrc=fin-srch\" data-ylk=\"slk:M;cpos:15;pos:1;elm:context_link;itc:0\" class=\"link \">M</a>) cast a different tone. The retailer\\'s stock rose 1.2% despite lowering its full-year sales and earnings-per-share guidance.</p><div class=\"caas-da\"><a data-ylk=\"sec:article-body;elm:ad-slot;pos:1\" aria-hidden=\"true\" class=\"caas-ads-slot-rapid rapid-nonanchor-lt\" href=\"javascript:void(0);\">&nbsp;</a><div id=\"sda-INBODYLREC-2\"><div class=\"caas-da-placeholder\"><div class=\"caas-da-incremental wafer-darla\" data-wf-margin=\"400 0\" data-wf-trigger=\"viewport\" data-wf-darla-config=\"{&quot;bucket&quot;:&quot;finance-US-en-US-def&quot;,&quot;siteAttribute&quot;:&quot;ticker=\\\\\\\\\\\\&quot;^IXIC;^GSPC;^DJI\\\\\\\\\\\\&quot; wiki_topics=\\\\\\\\\\\\&quot;Janet_Yellen;Nasdaq_Composite;Dow_Jones_Industrial_Average;Default_%28finance%29;Wall_Street;United_States_Secretary_of_the_Treasury;Joshua_Bolten\\\\\\\\\\\\&quot; ctopid=\\\\\\\\\\\\&quot;1996000;1542500;1577000\\\\\\\\\\\\&quot; hashtag=\\\\\\\\\\\\&quot;news;$^gspc;yfstocksliveblog;yfmarkets;$^dji;$^ixic;1996000;1542500;1577000\\\\\\\\\\\\&quot; rs=\\\\\\\\\\\\&quot;lmsid:a077000000BAh3wAAD;revsp:yahoofinance.com;lpstaid:6fdadfbd-86b1-4237-bd2b-1c4739f8d85a;pct:story\\\\\\\\\\\\&quot; geminifed=1&quot;,&quot;spaceid&quot;:&quot;980779999&quot;,&quot;uuid&quot;:&quot;&quot;,&quot;pos&quot;:&quot;INBODYLREC-2&quot;,&quot;addAutoEvent&quot;:true,&quot;includeRapidKey&quot;:true,&quot;addCleanContainer&quot;:true,&quot;meta&quot;:{}}\"><div id=\"parent-sdaAdvText-INBODYLREC-2\"><div id=\"sdaAdvText-INBODYLREC-2\">Advertisement</div></div><div id=\"wafer-darla-clean-INBODYLREC-2\"><div id=\"wafer-darla-INBODYLREC-2\"><i data-content=\"Advertisement\" aria-label=\"Advertisement\" tabindex=\"0\"></i></div></div></div></div></div></div><p>\"We planned the year assuming that the economic health of the consumer would be challenged, but starting in late March, demand trends weakened further in our discretionary categories,\"Macy\\'s chairman and CEO Jeff Gennette said in the company\\'s earnings release.</p><figure class=\"caas-figure\"><div style=\"\"><div><div class=\"caas-img-container caas-img-loader noheight\"><img class=\"caas-img caas-lazy has-preview\" alt=\"Photo by: NDZ/STAR MAX/IPx 2023 5/31/23 People walk past Macy&amp;#39;s in Herald Square on May 31, 2023 in New York City.\" data-src=\"https://s.yimg.com/ny/api/res/1.2/kND6a0IJlYllvVf4.UlSaQ--/YXBwaWQ9aGlnaGxhbmRlcjt3PTY0MA--/https://s.yimg.com/os/creatr-uploaded-images/2023-05/923aa520-0073-11ee-8f54-4b36aa3a0134\"><noscript><img alt=\"Photo by: NDZ/STAR MAX/IPx 2023 5/31/23 People walk past Macy&amp;#39;s in Herald Square on May 31, 2023 in New York City.\" src=\"https://s.yimg.com/ny/api/res/1.2/kND6a0IJlYllvVf4.UlSaQ--/YXBwaWQ9aGlnaGxhbmRlcjt3PTY0MA--/https://s.yimg.com/os/creatr-uploaded-images/2023-05/923aa520-0073-11ee-8f54-4b36aa3a0134\" class=\"caas-img\"></noscript></div></div></div><div class=\"caption-wrapper caption-aligned-with-image\"><figcaption class=\"caption-collapse\">Photo by: NDZ/STAR MAX/IPx 2023 5/31/23 People walk past Macy\\'s in Herald Square on May 31, 2023 in New York City.</figcaption></div></figure><p>On the economic front, 235,000 jobless claims were filed in the week ending May 27. Economists had expected 235,000 claims. Friday\\'s nonfarm payroll report is set to show employment rose by 195,000 while the unemployment rate ticked up to 3.5%, according to expectations. In April, the US economy <a data-i13n=\"cpos:16;pos:1\" href=\"https://finance.yahoo.com/news/april-jobs-report-may-5-2023-215956320.html\" data-ylk=\"slk:added;cpos:16;pos:1;elm:context_link;itc:0;outcm:mb_qualified_link;_E:mb_qualified_link;ct:story;\" class=\"link  yahoo-link\">added</a> 253,000 jobs, while the unemployment rate fell to 3.4%.</p><p><em>Josh is a reporter for Yahoo Finance.</em></p><p><a data-i13n=\"cpos:17;pos:1\" href=\"https://finance.yahoo.com/topic/stock-market-news/\" data-ylk=\"slk:Click here for the latest stock market news and in-depth analysis, including events that move stocks;cpos:17;pos:1;elm:context_link;itc:0\" class=\"link \"><strong>Click here for the latest stock market news and in-depth analysis, including events that move stocks</strong></a></p><p><a data-i13n=\"cpos:18;pos:1\" href=\"https://finance.yahoo.com/news/\" data-ylk=\"slk:Read the latest financial and business news from Yahoo Finance;cpos:18;pos:1;elm:context_link;itc:0\" class=\"link \"><strong>Read the latest financial and business news from Yahoo Finance</strong></a></p><div class=\"caas-xray-wrapper caas-xray-wrapper-type-cards caas-xray-wrapper-position-bottom\"><div class=\"xray-entity-lightbox-trigger wafer-lightbox\" data-wf-lightbox-target=\"#xray-lightbox-wrapper-template-6fdadfbd-86b1-4237-bd2b-1c4739f8d85a\"></div><ul class=\"caas-xray-pills xray-as-lightbox xray-article-pills wafer-scrollview\" data-wf-behavior=\"native\"><li><div class=\"caas-xray-entity caas-xray-card caas-xray-card-type-ticker link  \" data-entity-id=\"^IXIC\" data-entity-type=\"ticker\" data-sports-player-id=\"\"><button aria-haspopup=\"dialog\" aria-label=\"^IXIC\" class=\"xray-card-click-target caas-button\" data-ylk=\"cid:^IXIC;elmt:ticker;g:6fdadfbd-86b1-4237-bd2b-1c4739f8d85a;itc:1;pos:0;sec:pill;slk:^IXIC;elm:pill-open;cpos:2\"></button><div class=\"xray-card-content\"><div class=\"xray-card-left-column\"><div class=\"xray-card-row-title\"><span class=\"xray-entity-title-link\">^IXIC</span></div><div class=\"xray-card-row-subtitle\"><fin-streamer class=\"xray-fin-streamer xray-fin-streamer-type-quote xray-fin-streamer-percent-change\" data-field=\"regularMarketChangePercent\" data-symbol=\"^IXIC\" data-trend=\"txt\" data-watchlist-slug=\"\" data-xray-id=\"^IXIC\"><div class=\"xray-loading-dots xray-fin-streamer-loader\"><span class=\"xray-loading-dot\"></span><span class=\"xray-loading-dot\"></span><span class=\"xray-loading-dot\"></span></div></fin-streamer></div></div><div class=\"caas-xray-entity-follow-button-boundary-container wafer-rapid-module\" id=\"xray-follow-rapid-module-1-bottom\"><div class=\"caas-xray-entity-follow-button wafer-fetch\" data-wf-body=\"{&quot;articleId&quot;:&quot;6fdadfbd-86b1-4237-bd2b-1c4739f8d85a&quot;,&quot;bucket&quot;:[&quot;finance-US-en-US-def&quot;],&quot;device&quot;:&quot;smartphone&quot;,&quot;entityId&quot;:&quot;^IXIC&quot;,&quot;entityType&quot;:&quot;ticker&quot;,&quot;lang&quot;:&quot;en-US&quot;,&quot;m_id&quot;:&quot;x-ray&quot;,&quot;m_mode&quot;:&quot;json&quot;,&quot;region&quot;:&quot;US&quot;,&quot;site&quot;:&quot;finance&quot;,&quot;theme&quot;:&quot;light&quot;,&quot;config&quot;:{&quot;features&quot;:{&quot;enableAthleteHeaderV2&quot;:false,&quot;enableMovieShowtimes&quot;:false,&quot;enableTeamBettingOdds&quot;:false}},&quot;ctrl&quot;:&quot;Follow&quot;,&quot;entityLabel&quot;:&quot;^IXIC&quot;,&quot;iconOnly&quot;:true,&quot;position&quot;:1}\" data-wf-boundary=\"caas-xray-entity-follow-button-boundary-container\" data-wf-cache=\"0\" data-wf-credentials=\"include\" data-wf-session-retry-count=\"1\" data-wf-target=\".caas-xray-entity-follow-button-wf-container\" data-wf-trigger=\"onLoad\" data-wf-url=\"https://embed.fireplace.yahoo.com/_rcv/remote\"><div class=\"caas-xray-entity-follow-button-placeholder\"><span class=\"caas-xray-entity-follow-button-placeholder-icon\"><span class=\"starOutline icon\"><svg width=\"18\" height=\"18\" viewbox=\"0 0 24 24\"><path d=\"M8.48186998,8.32925207 L1.96976839,8.54025207 C1.08316301,8.56825207 0.670346742,9.65725207 1.31106157,10.2722521 L6.29784205,15.0522521 L4.88447112,21.1762521 C4.68555965,22.3152521 5.65112989,22.6662521 6.14590968,22.4302521 L12.0132982,19.2092521 L17.7987232,22.4302521 C18.2785097,22.6582521 19.2620719,22.3332521 19.0591622,21.1762521 L17.7297539,15.0522521 L22.6885469,10.2722521 C23.3302613,9.65725207 22.9164454,8.56825207 22.0308396,8.54025207 L15.5477251,8.32925207 L12.9308898,2.10925207 C12.5840442,1.29525207 11.4355554,1.29725207 11.0917084,2.11325207 L8.48186998,8.32925207 Z M15.5377296,14.3792521 L16.6472357,19.4902521 L12.0202951,16.9142521 L7.32638427,19.4912521 L8.5038602,14.3872521 L4.41767888,10.4762521 L9.82627162,10.2972521 L12.0142978,5.08125207 L14.2033235,10.2962521 L19.5969229,10.4762521 L15.5377296,14.3792521 Z\" transform=\"\"></path></svg></span></span></div><div class=\"caas-xray-entity-follow-button-wf-container\"></div></div></div></div></div></li><li><div class=\"caas-xray-entity caas-xray-card caas-xray-card-type-ticker link  \" data-entity-id=\"^GSPC\" data-entity-type=\"ticker\" data-sports-player-id=\"\"><button aria-haspopup=\"dialog\" aria-label=\"^GSPC\" class=\"xray-card-click-target caas-button\" data-ylk=\"cid:^GSPC;elmt:ticker;g:6fdadfbd-86b1-4237-bd2b-1c4739f8d85a;itc:1;pos:1;sec:pill;slk:^GSPC;elm:pill-open;cpos:2\"></button><div class=\"xray-card-content\"><div class=\"xray-card-left-column\"><div class=\"xray-card-row-title\"><span class=\"xray-entity-title-link\">^GSPC</span></div><div class=\"xray-card-row-subtitle\"><fin-streamer class=\"xray-fin-streamer xray-fin-streamer-type-quote xray-fin-streamer-percent-change\" data-field=\"regularMarketChangePercent\" data-symbol=\"^GSPC\" data-trend=\"txt\" data-watchlist-slug=\"\" data-xray-id=\"^GSPC\"><div class=\"xray-loading-dots xray-fin-streamer-loader\"><span class=\"xray-loading-dot\"></span><span class=\"xray-loading-dot\"></span><span class=\"xray-loading-dot\"></span></div></fin-streamer></div></div><div class=\"caas-xray-entity-follow-button-boundary-container wafer-rapid-module\" id=\"xray-follow-rapid-module-2-bottom\"><div class=\"caas-xray-entity-follow-button wafer-fetch\" data-wf-body=\"{&quot;articleId&quot;:&quot;6fdadfbd-86b1-4237-bd2b-1c4739f8d85a&quot;,&quot;bucket&quot;:[&quot;finance-US-en-US-def&quot;],&quot;device&quot;:&quot;smartphone&quot;,&quot;entityId&quot;:&quot;^GSPC&quot;,&quot;entityType&quot;:&quot;ticker&quot;,&quot;lang&quot;:&quot;en-US&quot;,&quot;m_id&quot;:&quot;x-ray&quot;,&quot;m_mode&quot;:&quot;json&quot;,&quot;region&quot;:&quot;US&quot;,&quot;site&quot;:&quot;finance&quot;,&quot;theme&quot;:&quot;light&quot;,&quot;config&quot;:{&quot;features&quot;:{&quot;enableAthleteHeaderV2&quot;:false,&quot;enableMovieShowtimes&quot;:false,&quot;enableTeamBettingOdds&quot;:false}},&quot;ctrl&quot;:&quot;Follow&quot;,&quot;entityLabel&quot;:&quot;^GSPC&quot;,&quot;iconOnly&quot;:true,&quot;position&quot;:2,&quot;showIconOnlyLabel&quot;:false}\" data-wf-boundary=\"caas-xray-entity-follow-button-boundary-container\" data-wf-cache=\"0\" data-wf-credentials=\"include\" data-wf-session-retry-count=\"1\" data-wf-target=\".caas-xray-entity-follow-button-wf-container\" data-wf-trigger=\"onLoad\" data-wf-url=\"https://embed.fireplace.yahoo.com/_rcv/remote\"><div class=\"caas-xray-entity-follow-button-placeholder\"><span class=\"caas-xray-entity-follow-button-placeholder-icon\"><span class=\"starOutline icon\"><svg width=\"18\" height=\"18\" viewbox=\"0 0 24 24\"><path d=\"M8.48186998,8.32925207 L1.96976839,8.54025207 C1.08316301,8.56825207 0.670346742,9.65725207 1.31106157,10.2722521 L6.29784205,15.0522521 L4.88447112,21.1762521 C4.68555965,22.3152521 5.65112989,22.6662521 6.14590968,22.4302521 L12.0132982,19.2092521 L17.7987232,22.4302521 C18.2785097,22.6582521 19.2620719,22.3332521 19.0591622,21.1762521 L17.7297539,15.0522521 L22.6885469,10.2722521 C23.3302613,9.65725207 22.9164454,8.56825207 22.0308396,8.54025207 L15.5477251,8.32925207 L12.9308898,2.10925207 C12.5840442,1.29525207 11.4355554,1.29725207 11.0917084,2.11325207 L8.48186998,8.32925207 Z M15.5377296,14.3792521 L16.6472357,19.4902521 L12.0202951,16.9142521 L7.32638427,19.4912521 L8.5038602,14.3872521 L4.41767888,10.4762521 L9.82627162,10.2972521 L12.0142978,5.08125207 L14.2033235,10.2962521 L19.5969229,10.4762521 L15.5377296,14.3792521 Z\" transform=\"\"></path></svg></span></span></div><div class=\"caas-xray-entity-follow-button-wf-container\"></div></div></div></div></div></li><li><div class=\"caas-xray-entity caas-xray-card caas-xray-card-type-ticker link  \" data-entity-id=\"^DJI\" data-entity-type=\"ticker\" data-sports-player-id=\"\"><button aria-haspopup=\"dialog\" aria-label=\"^DJI\" class=\"xray-card-click-target caas-button\" data-ylk=\"cid:^DJI;elmt:ticker;g:6fdadfbd-86b1-4237-bd2b-1c4739f8d85a;itc:1;pos:2;sec:pill;slk:^DJI;elm:pill-open;cpos:2\"></button><div class=\"xray-card-content\"><div class=\"xray-card-left-column\"><div class=\"xray-card-row-title\"><span class=\"xray-entity-title-link\">^DJI</span></div><div class=\"xray-card-row-subtitle\"><fin-streamer class=\"xray-fin-streamer xray-fin-streamer-type-quote xray-fin-streamer-percent-change\" data-field=\"regularMarketChangePercent\" data-symbol=\"^DJI\" data-trend=\"txt\" data-watchlist-slug=\"\" data-xray-id=\"^DJI\"><div class=\"xray-loading-dots xray-fin-streamer-loader\"><span class=\"xray-loading-dot\"></span><span class=\"xray-loading-dot\"></span><span class=\"xray-loading-dot\"></span></div></fin-streamer></div></div><div class=\"caas-xray-entity-follow-button-boundary-container wafer-rapid-module\" id=\"xray-follow-rapid-module-3-bottom\"><div class=\"caas-xray-entity-follow-button wafer-fetch\" data-wf-body=\"{&quot;articleId&quot;:&quot;6fdadfbd-86b1-4237-bd2b-1c4739f8d85a&quot;,&quot;bucket&quot;:[&quot;finance-US-en-US-def&quot;],&quot;device&quot;:&quot;smartphone&quot;,&quot;entityId&quot;:&quot;^DJI&quot;,&quot;entityType&quot;:&quot;ticker&quot;,&quot;lang&quot;:&quot;en-US&quot;,&quot;m_id&quot;:&quot;x-ray&quot;,&quot;m_mode&quot;:&quot;json&quot;,&quot;region&quot;:&quot;US&quot;,&quot;site&quot;:&quot;finance&quot;,&quot;theme&quot;:&quot;light&quot;,&quot;config&quot;:{&quot;features&quot;:{&quot;enableAthleteHeaderV2&quot;:false,&quot;enableMovieShowtimes&quot;:false,&quot;enableTeamBettingOdds&quot;:false}},&quot;ctrl&quot;:&quot;Follow&quot;,&quot;entityLabel&quot;:&quot;^DJI&quot;,&quot;iconOnly&quot;:true,&quot;position&quot;:3,&quot;showIconOnlyLabel&quot;:false}\" data-wf-boundary=\"caas-xray-entity-follow-button-boundary-container\" data-wf-cache=\"0\" data-wf-credentials=\"include\" data-wf-session-retry-count=\"1\" data-wf-target=\".caas-xray-entity-follow-button-wf-container\" data-wf-trigger=\"onLoad\" data-wf-url=\"https://embed.fireplace.yahoo.com/_rcv/remote\"><div class=\"caas-xray-entity-follow-button-placeholder\"><span class=\"caas-xray-entity-follow-button-placeholder-icon\"><span class=\"starOutline icon\"><svg width=\"18\" height=\"18\" viewbox=\"0 0 24 24\"><path d=\"M8.48186998,8.32925207 L1.96976839,8.54025207 C1.08316301,8.56825207 0.670346742,9.65725207 1.31106157,10.2722521 L6.29784205,15.0522521 L4.88447112,21.1762521 C4.68555965,22.3152521 5.65112989,22.6662521 6.14590968,22.4302521 L12.0132982,19.2092521 L17.7987232,22.4302521 C18.2785097,22.6582521 19.2620719,22.3332521 19.0591622,21.1762521 L17.7297539,15.0522521 L22.6885469,10.2722521 C23.3302613,9.65725207 22.9164454,8.56825207 22.0308396,8.54025207 L15.5477251,8.32925207 L12.9308898,2.10925207 C12.5840442,1.29525207 11.4355554,1.29725207 11.0917084,2.11325207 L8.48186998,8.32925207 Z M15.5377296,14.3792521 L16.6472357,19.4902521 L12.0202951,16.9142521 L7.32638427,19.4912521 L8.5038602,14.3872521 L4.41767888,10.4762521 L9.82627162,10.2972521 L12.0142978,5.08125207 L14.2033235,10.2962521 L19.5969229,10.4762521 L15.5377296,14.3792521 Z\" transform=\"\"></path></svg></span></span></div><div class=\"caas-xray-entity-follow-button-wf-container\"></div></div></div></div></div></li></ul><div class=\"xray-card-loader xray-card-loader-hidden\"></div></div></div></article></div></div><script type=\"text/javascript\">\\n    (function(w) {\\n        var adsConfig = {\\n            clientPositionMeta: {\"positions\":[{\"clean\":\"sda-WFPAD2\",\"dest\":\"sda-WFPAD2-iframe\",\"h\":50,\"id\":\"WFPAD2\",\"metaSize\":true,\"pos\":\"WFPAD2\",\"supports\":{\"exp-ovr\":1,\"exp-push\":1,\"lyr\":1,\"resize-to\":1},\"w\":320}]},\\n            clientViewportAdFetchYOffset: undefined,\\n            clusterPositionMeta: {\"addAutoEvent\":true,\"positions\":[],\"siteAttributes\":\"LREC=\\\\\"300x250;1x1\\\\\" LREC2=\\\\\"300x250;1x1\\\\\" MON=\\\\\"300x600;1x1\\\\\" geminifed=1\"},\\n            enableAdSlugText: undefined,\\n            enableAdditionalPageContextParams: undefined,\\n            enableGAMAds: undefined,\\n            enableJac: undefined,\\n            pencilAdSections: {},\\n            positions: {\"BTNA\":{\"meta\":{\"clean\":\"sda-BTN\",\"dest\":\"sda-BTN-iframe\",\"fdb\":1,\"h\":60,\"id\":\"BTNA\",\"metaSize\":true,\"w\":120},\"sfoptin\":1},\"BTNB\":{\"meta\":{\"clean\":\"sda-BTN-1\",\"dest\":\"sda-BTN-1-iframe\",\"fdb\":1,\"h\":60,\"id\":\"BTNB\",\"metaSize\":true,\"w\":120},\"sfoptin\":1},\"BTNC\":{\"meta\":{\"clean\":\"sda-BTN-2\",\"dest\":\"sda-BTN-2-iframe\",\"fdb\":1,\"h\":60,\"id\":\"BTNC\",\"metaSize\":true,\"w\":120},\"sfoptin\":1},\"BTND\":{\"meta\":{\"clean\":\"sda-BTN-3\",\"dest\":\"sda-BTN-3-iframe\",\"fdb\":1,\"h\":60,\"id\":\"BTND\",\"metaSize\":true,\"w\":120},\"sfoptin\":1},\"COMMENTSWFPAD\":{\"meta\":{\"clean\":\"sda-COMMENTSWFPAD\",\"dest\":\"sda-COMMENTSWFPAD-iframe\",\"h\":50,\"id\":\"COMMENTSWFPAD\",\"metaSize\":true,\"pos\":\"COMMENTSWFPAD\",\"supports\":{\"exp-ovr\":1,\"exp-push\":1,\"lyr\":1,\"resize-to\":1},\"w\":320}},\"FSRVY\":{\"meta\":{\"clean\":\"sda-FSRVY\",\"dest\":\"sda-FSRVY-iframe\",\"fr\":\"expIfr_exp\",\"id\":\"FSRVY\",\"supports\":{\"lyr\":1}}},\"HPSPON\":{\"filtered\":1,\"sfoptin\":0},\"INARTICLE\":{\"meta\":{\"clean\":\"sda-INARTICLE-base\",\"dest\":\"sda-INARTICLE\",\"fdb\":1,\"flex\":{\"h\":{\"min\":10},\"ratio\":\"1.78x1\",\"w\":{\"min\":10}},\"h\":211,\"id\":\"INARTICLE\",\"supports\":{\"exp-ovr\":1,\"exp-push\":1,\"lyr\":0},\"w\":375},\"sfoptin\":1},\"INBODYLDRB-1\":{\"meta\":{\"clean\":\"wafer-darla-clean-INBODYLDRB-1\",\"dest\":\"wafer-darla-INBODYLDRB-1\",\"fdb\":1,\"h\":90,\"id\":\"INBODYLDRB-1\",\"metaSize\":true,\"pos\":\"LDRB\",\"supports\":{\"exp-ovr\":1,\"exp-push\":1,\"lyr\":0},\"w\":728},\"sfoptin\":1},\"INBODYLDRB-DISPLAY-PH\":{\"meta\":{\"clean\":\"sda-placeholder\",\"dest\":\"sda-placeholder-iframe\",\"fdb\":1,\"h\":90,\"id\":\"LDRB\",\"metaSize\":true,\"pos\":\"LDRB\",\"supports\":{\"exp-ovr\":1,\"exp-push\":1,\"lyr\":0},\"w\":728}},\"INBODYLDRB-NATIVE-PH\":{\"meta\":{\"clean\":\"sda-placeholder\",\"dest\":\"sda-placeholder-iframe\",\"fdb\":1,\"h\":90,\"id\":\"LDRB\",\"metaSize\":true,\"pos\":\"LDRB\",\"supports\":{\"exp-ovr\":1,\"exp-push\":1,\"lyr\":0},\"w\":728,\"doubleBuffering\":false}},\"INBODYLDRB2-DISPLAY-PH\":{\"meta\":{\"clean\":\"sda-placeholder\",\"dest\":\"sda-placeholder-iframe\",\"fdb\":1,\"h\":90,\"id\":\"LDRB\",\"metaSize\":true,\"pos\":\"LDRB\",\"supports\":{\"exp-ovr\":1,\"exp-push\":1,\"lyr\":0},\"w\":728}},\"INBODYLDRB2-NATIVE-PH\":{\"meta\":{\"clean\":\"sda-placeholder\",\"dest\":\"sda-placeholder-iframe\",\"fdb\":1,\"h\":90,\"id\":\"LDRB\",\"metaSize\":true,\"pos\":\"LDRB\",\"supports\":{\"exp-ovr\":1,\"exp-push\":1,\"lyr\":0},\"w\":728,\"doubleBuffering\":false}},\"INBODYLDRB3-DISPLAY-PH\":{\"meta\":{\"clean\":\"sda-placeholder\",\"dest\":\"sda-placeholder-iframe\",\"fdb\":1,\"h\":90,\"id\":\"LDRB\",\"metaSize\":true,\"pos\":\"LDRB\",\"supports\":{\"exp-ovr\":1,\"exp-push\":1,\"lyr\":0},\"w\":728}},\"INBODYLDRB3-NATIVE-PH\":{\"meta\":{\"clean\":\"sda-placeholder\",\"dest\":\"sda-placeholder-iframe\",\"fdb\":1,\"h\":90,\"id\":\"LDRB\",\"metaSize\":true,\"pos\":\"LDRB\",\"supports\":{\"exp-ovr\":1,\"exp-push\":1,\"lyr\":0},\"w\":728,\"doubleBuffering\":false}},\"INBODYLDRB4-DISPLAY-PH\":{\"meta\":{\"clean\":\"sda-placeholder\",\"dest\":\"sda-placeholder-iframe\",\"fdb\":1,\"h\":90,\"id\":\"LDRB\",\"metaSize\":true,\"pos\":\"LDRB\",\"supports\":{\"exp-ovr\":1,\"exp-push\":1,\"lyr\":0},\"w\":728}},\"INBODYLDRB4-NATIVE-PH\":{\"meta\":{\"clean\":\"sda-placeholder\",\"dest\":\"sda-placeholder-iframe\",\"fdb\":1,\"h\":90,\"id\":\"LDRB\",\"metaSize\":true,\"pos\":\"LDRB\",\"supports\":{\"exp-ovr\":1,\"exp-push\":1,\"lyr\":0},\"w\":728,\"doubleBuffering\":false}},\"INBODYLREC-1\":{\"meta\":{\"clean\":\"wafer-darla-clean-INBODYLREC-1\",\"dest\":\"wafer-darla-INBODYLREC-1\",\"fdb\":1,\"h\":250,\"id\":\"INBODYLREC-1\",\"metaSize\":true,\"pos\":\"LREC\",\"supports\":{\"exp-ovr\":0,\"exp-push\":1,\"lyr\":0},\"w\":300},\"sfoptin\":1},\"INBODYLREC-DISPLAY-PH\":{\"meta\":{\"clean\":\"sda-placeholder\",\"dest\":\"sda-placeholder-iframe\",\"fdb\":1,\"h\":250,\"id\":\"LREC\",\"metaSize\":true,\"pos\":\"LREC\",\"supports\":{\"exp-ovr\":0,\"exp-push\":1,\"lyr\":0},\"w\":300}},\"INBODYLREC-NATIVE-PH\":{\"meta\":{\"clean\":\"sda-placeholder\",\"dest\":\"sda-placeholder-iframe\",\"fdb\":1,\"h\":300,\"id\":\"LREC\",\"metaSize\":false,\"pos\":\"LREC\",\"supports\":{\"exp-ovr\":0,\"exp-push\":1,\"lyr\":0},\"w\":300,\"doubleBuffering\":false,\"flex\":{\"w\":{\"max\":375}}}},\"INBODYLREC2-DISPLAY-PH\":{\"meta\":{\"clean\":\"sda-placeholder\",\"dest\":\"sda-placeholder-iframe\",\"fdb\":1,\"h\":250,\"id\":\"LREC\",\"metaSize\":true,\"pos\":\"LREC\",\"supports\":{\"exp-ovr\":0,\"exp-push\":1,\"lyr\":0},\"w\":300}},\"INBODYLREC2-NATIVE-PH\":{\"meta\":{\"clean\":\"sda-placeholder\",\"dest\":\"sda-placeholder-iframe\",\"fdb\":1,\"h\":300,\"id\":\"LREC\",\"metaSize\":false,\"pos\":\"LREC\",\"supports\":{\"exp-ovr\":0,\"exp-push\":1,\"lyr\":0},\"w\":300,\"doubleBuffering\":false,\"flex\":{\"w\":{\"max\":375}}}},\"INBODYLREC3-DISPLAY-PH\":{\"meta\":{\"clean\":\"sda-placeholder\",\"dest\":\"sda-placeholder-iframe\",\"fdb\":1,\"h\":250,\"id\":\"LREC\",\"metaSize\":true,\"pos\":\"LREC\",\"supports\":{\"exp-ovr\":0,\"exp-push\":1,\"lyr\":0},\"w\":300}},\"INBODYLREC3-NATIVE-PH\":{\"meta\":{\"clean\":\"sda-placeholder\",\"dest\":\"sda-placeholder-iframe\",\"fdb\":1,\"h\":300,\"id\":\"LREC\",\"metaSize\":false,\"pos\":\"LREC\",\"supports\":{\"exp-ovr\":0,\"exp-push\":1,\"lyr\":0},\"w\":300,\"doubleBuffering\":false,\"flex\":{\"w\":{\"max\":375}}}},\"INBODYLREC4-DISPLAY-PH\":{\"meta\":{\"clean\":\"sda-placeholder\",\"dest\":\"sda-placeholder-iframe\",\"fdb\":1,\"h\":250,\"id\":\"LREC\",\"metaSize\":true,\"pos\":\"LREC\",\"supports\":{\"exp-ovr\":0,\"exp-push\":1,\"lyr\":0},\"w\":300}},\"INBODYLREC4-NATIVE-PH\":{\"meta\":{\"clean\":\"sda-placeholder\",\"dest\":\"sda-placeholder-iframe\",\"fdb\":1,\"h\":300,\"id\":\"LREC\",\"metaSize\":false,\"pos\":\"LREC\",\"supports\":{\"exp-ovr\":0,\"exp-push\":1,\"lyr\":0},\"w\":300,\"doubleBuffering\":false,\"flex\":{\"w\":{\"max\":375}}}},\"INBODYMAST-1\":{\"meta\":{\"clean\":\"wafer-darla-clean-INBODYMAST-1\",\"dest\":\"wafer-darla-INBODYMAST-1\",\"fdb\":1,\"h\":250,\"id\":\"INBODYMAST-1\",\"metaSize\":true,\"pos\":\"MAST\",\"supports\":{\"exp-ovr\":1,\"exp-push\":1,\"lyr\":0,\"resize-to\":1},\"w\":970},\"sfoptin\":1},\"INBODYMAST-DISPLAY-PH\":{\"meta\":{\"clean\":\"sda-placeholder\",\"dest\":\"sda-placeholder-iframe\",\"fdb\":1,\"h\":250,\"id\":\"MAST\",\"metaSize\":true,\"pos\":\"MAST\",\"supports\":{\"exp-ovr\":1,\"exp-push\":1,\"lyr\":0,\"resize-to\":1},\"w\":970}},\"INBODYMAST-NATIVE-PH\":{\"meta\":{\"clean\":\"sda-placeholder\",\"dest\":\"sda-placeholder-iframe\",\"fdb\":1,\"h\":250,\"id\":\"MAST\",\"metaSize\":true,\"pos\":\"MAST\",\"supports\":{\"exp-ovr\":1,\"exp-push\":1,\"lyr\":0,\"resize-to\":1},\"w\":970,\"doubleBuffering\":false,\"flex\":{\"w\":{\"max\":1220,\"min\":960}}}},\"INBODYMAST2-DISPLAY-PH\":{\"meta\":{\"clean\":\"sda-placeholder\",\"dest\":\"sda-placeholder-iframe\",\"fdb\":1,\"h\":250,\"id\":\"MAST\",\"metaSize\":true,\"pos\":\"MAST\",\"supports\":{\"exp-ovr\":1,\"exp-push\":1,\"lyr\":0,\"resize-to\":1},\"w\":970}},\"INBODYMAST2-NATIVE-PH\":{\"meta\":{\"clean\":\"sda-placeholder\",\"dest\":\"sda-placeholder-iframe\",\"fdb\":1,\"h\":250,\"id\":\"MAST\",\"metaSize\":true,\"pos\":\"MAST\",\"supports\":{\"exp-ovr\":1,\"exp-push\":1,\"lyr\":0,\"resize-to\":1},\"w\":970,\"doubleBuffering\":false,\"flex\":{\"w\":{\"max\":1220,\"min\":960}}}},\"INBODYMAST3-DISPLAY-PH\":{\"meta\":{\"clean\":\"sda-placeholder\",\"dest\":\"sda-placeholder-iframe\",\"fdb\":1,\"h\":250,\"id\":\"MAST\",\"metaSize\":true,\"pos\":\"MAST\",\"supports\":{\"exp-ovr\":1,\"exp-push\":1,\"lyr\":0,\"resize-to\":1},\"w\":970}},\"INBODYMAST3-NATIVE-PH\":{\"meta\":{\"clean\":\"sda-placeholder\",\"dest\":\"sda-placeholder-iframe\",\"fdb\":1,\"h\":250,\"id\":\"MAST\",\"metaSize\":true,\"pos\":\"MAST\",\"supports\":{\"exp-ovr\":1,\"exp-push\":1,\"lyr\":0,\"resize-to\":1},\"w\":970,\"doubleBuffering\":false,\"flex\":{\"w\":{\"max\":1220,\"min\":960}}}},\"INBODYMAST4-DISPLAY-PH\":{\"meta\":{\"clean\":\"sda-placeholder\",\"dest\":\"sda-placeholder-iframe\",\"fdb\":1,\"h\":250,\"id\":\"MAST\",\"metaSize\":true,\"pos\":\"MAST\",\"supports\":{\"exp-ovr\":1,\"exp-push\":1,\"lyr\":0,\"resize-to\":1},\"w\":970}},\"INBODYMAST4-NATIVE-PH\":{\"meta\":{\"clean\":\"sda-placeholder\",\"dest\":\"sda-placeholder-iframe\",\"fdb\":1,\"h\":250,\"id\":\"MAST\",\"metaSize\":true,\"pos\":\"MAST\",\"supports\":{\"exp-ovr\":1,\"exp-push\":1,\"lyr\":0,\"resize-to\":1},\"w\":970,\"doubleBuffering\":false,\"flex\":{\"w\":{\"max\":1220,\"min\":960}}}},\"LDRB\":{\"meta\":{\"clean\":\"sda-LDRB\",\"dest\":\"sda-LDRB-iframe\",\"fdb\":1,\"h\":90,\"id\":\"LDRB\",\"metaSize\":true,\"pos\":\"LDRB\",\"supports\":{\"exp-ovr\":1,\"exp-push\":1,\"lyr\":0},\"w\":728},\"sfoptin\":1},\"LDRB2\":{\"meta\":{\"clean\":\"sda-LDRB2\",\"dest\":\"sda-LDRB2-iframe\",\"fdb\":1,\"h\":90,\"id\":\"LDRB2\",\"metaSize\":true,\"pos\":\"LDRB2\",\"supports\":{\"exp-ovr\":1,\"exp-push\":1,\"lyr\":0},\"w\":728},\"sfoptin\":1},\"LDRB2-9\":{\"meta\":{\"clean\":\"sda-LDRB2-9\",\"dest\":\"sda-LDRB2-9-iframe\",\"fdb\":1,\"h\":90,\"id\":\"LDRB2-9\",\"metaSize\":true,\"pos\":\"LDRB2-9\",\"supports\":{\"exp-ovr\":1,\"exp-push\":1,\"lyr\":0},\"w\":728},\"sfoptin\":1},\"LREC\":{\"meta\":{\"clean\":null,\"dest\":\"sda-LREC-iframe\",\"fdb\":1,\"h\":250,\"id\":\"LREC\",\"metaSize\":true,\"pos\":\"LREC\",\"supports\":{\"exp-ovr\":0,\"exp-push\":1,\"lyr\":0},\"w\":300},\"sfoptin\":1},\"LREC2\":{\"meta\":{\"clean\":null,\"dest\":\"sda-LREC2-iframe\",\"fdb\":1,\"h\":250,\"id\":\"LREC2\",\"metaSize\":true,\"pos\":\"LREC2\",\"supports\":{\"exp-ovr\":0,\"exp-push\":1,\"lyr\":0},\"w\":300},\"sfoptin\":1},\"LREC3\":{\"meta\":{\"clean\":\"sda-LREC3\",\"dest\":\"sda-LREC3-iframe\",\"fdb\":1,\"h\":250,\"id\":\"LREC3\",\"metaSize\":true,\"pos\":\"LREC3\",\"supports\":{\"exp-ovr\":0,\"exp-push\":1,\"lyr\":0},\"w\":300},\"sfoptin\":1},\"LREC3-DISPLAY-PH\":{\"meta\":{\"clean\":\"sda-LREC\",\"dest\":\"sda-LREC-iframe\",\"fdb\":1,\"h\":250,\"id\":\"LREC\",\"metaSize\":true,\"pos\":\"LREC\",\"supports\":{\"exp-ovr\":0,\"exp-push\":1,\"lyr\":0},\"w\":300}},\"LREC3-NATIVE-PH\":{\"meta\":{\"clean\":\"sda-LREC\",\"dest\":\"sda-LREC-iframe\",\"fdb\":1,\"h\":250,\"id\":\"LREC\",\"metaSize\":true,\"pos\":\"LREC\",\"supports\":{\"exp-ovr\":0,\"exp-push\":1,\"lyr\":0},\"w\":300,\"doubleBuffering\":false,\"flex\":{\"h\":{\"max\":312,\"min\":250},\"ratio\":\"1.2x1\",\"w\":{\"align\":\"center\",\"max\":375,\"min\":300}}},\"sfoptin\":1},\"LREC4\":{\"meta\":{\"clean\":\"sda-LREC4\",\"dest\":\"sda-LREC4-iframe\",\"fdb\":1,\"h\":250,\"id\":\"LREC4\",\"metaSize\":true,\"pos\":\"LREC4\",\"supports\":{\"exp-ovr\":0,\"exp-push\":1,\"lyr\":0},\"w\":300},\"sfoptin\":1},\"LREC5\":{\"meta\":{\"clean\":\"sda-LREC5\",\"dest\":\"sda-LREC5-iframe\",\"fdb\":1,\"h\":250,\"id\":\"LREC5\",\"metaSize\":true,\"pos\":\"LREC5\",\"supports\":{\"exp-ovr\":0,\"exp-push\":1,\"lyr\":0},\"w\":300},\"sfoptin\":1},\"MAST\":{\"meta\":{\"clean\":\"sda-MAST\",\"dest\":\"sda-MAST-iframe\",\"fdb\":1,\"h\":250,\"id\":\"MAST\",\"metaSize\":true,\"pos\":\"MAST\",\"supports\":{\"exp-ovr\":1,\"exp-push\":1,\"lyr\":0,\"resize-to\":1},\"w\":970},\"sfoptin\":1},\"MAST-DISPLAY-PH\":{\"meta\":{\"clean\":\"sda-MAST-DISPLAY\",\"dest\":\"sda-MAST-DISPLAY\",\"fdb\":1,\"h\":250,\"id\":\"MAST\",\"metaSize\":true,\"pos\":\"MAST\",\"supports\":{\"exp-ovr\":1,\"exp-push\":1,\"lyr\":0,\"resize-to\":1},\"w\":970},\"sfoptin\":1},\"MAST-NATIVE-PH\":{\"meta\":{\"clean\":\"sda-MAST-NATIVE\",\"dest\":\"sda-MAST-NATIVE\",\"fdb\":1,\"h\":250,\"id\":\"MAST\",\"metaSize\":true,\"pos\":\"MAST\",\"supports\":{\"exp-ovr\":1,\"exp-push\":1,\"lyr\":0,\"resize-to\":1},\"w\":970,\"doubleBuffering\":false,\"flex\":{\"w\":{\"max\":1220,\"min\":960}}},\"sfoptin\":1},\"MAST2\":{\"meta\":{\"clean\":\"sda-MAST2\",\"dest\":\"sda-MAST2-iframe\",\"fdb\":1,\"h\":250,\"id\":\"MAST\",\"metaSize\":true,\"pos\":\"MAST\",\"supports\":{\"exp-ovr\":0,\"exp-push\":1,\"lyr\":0,\"resize-to\":1},\"w\":970}},\"MAST2-DISPLAY-PH\":{\"meta\":{\"clean\":\"sda-MAST2-DISPLAY\",\"dest\":\"sda-MAST2-DISPLAY\",\"fdb\":1,\"h\":250,\"id\":\"MAST\",\"metaSize\":true,\"pos\":\"MAST\",\"supports\":{\"exp-ovr\":0,\"exp-push\":1,\"lyr\":0,\"resize-to\":1},\"w\":970},\"sfoptin\":1},\"MAST2-NATIVE-PH\":{\"meta\":{\"clean\":\"sda-MAST2-NATIVE\",\"dest\":\"sda-MAST2-NATIVE\",\"fdb\":1,\"h\":250,\"id\":\"MAST\",\"metaSize\":true,\"pos\":\"MAST\",\"supports\":{\"exp-ovr\":0,\"exp-push\":1,\"lyr\":0,\"resize-to\":1},\"w\":970,\"doubleBuffering\":false,\"flex\":{\"w\":{\"max\":1220,\"min\":960}}},\"sfoptin\":1},\"MOMENTS\":{\"meta\":{\"clean\":\"sda-MOMENTS-base\",\"dest\":\"defaultdestMOMENTS\",\"fdb\":1,\"flex\":{\"h\":{\"min\":568},\"ratio\":\"1x1.78\",\"w\":{\"min\":320}},\"fr\":\"expIfr_exp\",\"h\":667,\"id\":\"MOMENTS\",\"supports\":{\"exp-ovr\":1,\"exp-push\":1,\"resize-to\":1},\"w\":375,\"z\":3}},\"MON\":{\"meta\":{\"clean\":\"sda-MON\",\"dest\":\"sda-MON-iframe\",\"fdb\":1,\"h\":600,\"id\":\"MON\",\"metaSize\":true,\"pos\":\"MON\",\"supports\":{\"exp-ovr\":1,\"exp-push\":1,\"lyr\":0,\"resize-to\":1},\"w\":300},\"sfoptin\":1},\"MON2\":{\"meta\":{\"clean\":\"sda-MON2\",\"dest\":\"sda-MON2-iframe\",\"fdb\":1,\"h\":600,\"id\":\"MON2\",\"metaSize\":true,\"pos\":\"MON2\",\"supports\":{\"exp-ovr\":1,\"exp-push\":1,\"lyr\":0,\"resize-to\":1},\"w\":300}},\"NE1\":{\"meta\":{\"clean\":\"sda-NE1\",\"dest\":\"sda-NE1-iframe\",\"fr\":\"expIfr_exp\",\"h\":35,\"id\":\"NE1\",\"metaSize\":false,\"pos\":\"NE1\",\"staticLayout\":true,\"supports\":{\"exp-ovr\":1,\"exp-push\":1,\"lyr\":1},\"w\":970,\"z\":9}},\"UMU\":{\"meta\":{\"clean\":\"sda-UMU\",\"dest\":\"sda-UMU-iframe\",\"fr\":\"expIfr_exp\",\"h\":32,\"id\":\"UMU\",\"metaSize\":false,\"pos\":\"UMU\",\"staticLayout\":true,\"supports\":{\"exp-ovr\":1,\"exp-push\":1,\"lyr\":1},\"w\":1220,\"z\":1000}},\"WFPAD\":{\"meta\":{\"clean\":\"sda-WFPAD\",\"dest\":\"sda-WFPAD-iframe\",\"h\":50,\"id\":\"WFPAD\",\"metaSize\":true,\"pos\":\"WFPAD\",\"supports\":{\"exp-ovr\":1,\"exp-push\":1,\"lyr\":1,\"resize-to\":1},\"w\":320},\"sfoptin\":0},\"WFPAD-DISPLAY-PH\":{\"meta\":{\"clean\":\"sda-WFPAD-DISPLAY\",\"dest\":\"sda-WFPAD-DISPLAY\",\"h\":50,\"id\":\"WFPAD\",\"metaSize\":true,\"pos\":\"WFPAD\",\"supports\":{\"exp-ovr\":1,\"exp-push\":1,\"lyr\":1,\"resize-to\":1},\"w\":320,\"flex\":{\"h\":{\"min\":50}}},\"sfoptin\":0},\"WFPAD-NATIVE-PH\":{\"meta\":{\"clean\":\"sda-WFPAD-NATIVE\",\"dest\":\"sda-WFPAD-NATIVE\",\"h\":50,\"id\":\"WFPAD\",\"metaSize\":true,\"pos\":\"WFPAD\",\"supports\":{\"exp-ovr\":1,\"exp-push\":1,\"lyr\":1,\"resize-to\":1},\"w\":320,\"doubleBuffering\":false,\"flex\":{\"h\":{\"max\":100,\"min\":80},\"w\":{\"max\":800,\"min\":300}}},\"sfoptin\":0},\"WFPAD2\":{\"meta\":{\"clean\":\"sda-WFPAD2\",\"dest\":\"sda-WFPAD2-iframe\",\"h\":50,\"id\":\"WFPAD2\",\"metaSize\":true,\"pos\":\"WFPAD2\",\"supports\":{\"exp-ovr\":1,\"exp-push\":1,\"lyr\":1,\"resize-to\":1},\"w\":320}},\"WIDGET\":{\"meta\":{\"clean\":\"sda-WIDGET\",\"dest\":\"sda-WIDGET-iframe\",\"fdb\":1,\"h\":450,\"id\":\"WIDGET\",\"metaSize\":false,\"pos\":\"WIDGET\",\"supports\":{\"exp-ovr\":1,\"exp-push\":1,\"lyr\":0,\"resize-to\":1},\"w\":750},\"sfoptin\":1},\"WIDGETA\":{\"meta\":{\"clean\":\"sda-WIDGETA\",\"dest\":\"sda-WIDGETA-iframe\",\"fdb\":1,\"h\":310,\"id\":\"WIDGETA\",\"metaSize\":false,\"pos\":\"WIDGETA\",\"supports\":{\"exp-ovr\":1,\"exp-push\":1},\"w\":343},\"sfoptin\":1},\"XFPAD\":{\"filtered\":1,\"sfoptin\":0}},\\n            rotateIndexPageAds: undefined,\\n            rotation: {},\\n            strings: {\"advertisement\":\"Advertisement\"},\\n            videoPublisherBlob: \"lu:0;lpstaid:6fdadfbd-86b1-4237-bd2b-1c4739f8d85a;yctIds:yct:001000348;yct:001000661;yct:001000323;yct:001000298;pt:content;ver:article;pd:non_modal;pct:storywithleadvideo\",\\n            viewerEnableLRECForShowBodyAdsFalse: undefined,\\n            viewerGAMPositionMeta: undefined,\\n            viewerGeminiSMAdConfig: {},\\n            viewerGeminiSMAdEnabled: undefined,\\n            viewerPositionMeta: undefined,\\n            viewerResetAutoEventOnClose: undefined,\\n            viewerSMAdEnabled: undefined,\\n            viewerViewportAdFetch: {},\\n            viewerWfpad2AdEnabled: undefined,\\n            viewerWfpadAdEnabled: undefined,\\n            viewerWfpadInVideoEnabled: undefined,\\n        };\\n\\n        // expose adsConfig for homepage-viewer client\\n        if (!w.adsConfig) {\\n            w.adsConfig = adsConfig;\\n        }\\n    }(window));\\n</script><script id=\"wafer-caas-config\" type=\"application/json\">{\\n  \"caasUrl\": \"https://www.yahoo.com/caas/content/article/\",\\n  \"contextParams\": \"lang=en-US&region=US&site=finance\"\\n}</script></div></div><div id=\"postArticle\" class=\"Mx(20px) Mb(24px) Mt(24px)\"><div id=\"module-editorialPicks\" class=\"wafer-rapid-module \"><div id=\"wafer-editorialPicks\" class=\"wafer-fetch-container wafer-fetch\" data-wf-cache-strategy=\"networkFirst\" data-wf-replace=\"1\" data-wf-retry-count=\"2\" data-wf-timeout=\"5000\" data-wf-trigger=\"viewport\" data-wf-trigger-offset=\"600 0\" data-wf-url=\"/nel_ms/_rcv/remote?m_id=tdv2-wafer-content-list&amp;ctrl=Trending&amp;module=editorialPicks&amp;site=finance&amp;device=smartphone-lite&amp;lang=en-US&amp;region=US&amp;bucket=finance-US-en-US-def&amp;rid=fsGBrIHk&amp;m_mode=json\" data-wf-state-body=\"{&quot;m_id&quot;:&quot;tdv2-wafer-content-list&quot;,&quot;ctrl&quot;:&quot;Trending&quot;,&quot;m_mode&quot;:&quot;json&quot;,&quot;config&quot;:{&quot;ads&quot;:{&quot;gemini&quot;:{&quot;adsEnabled&quot;:false}},&quot;categoryName&quot;:&quot;readMoreList&quot;,&quot;configName&quot;:&quot;Trending/componentEditorialPicks&quot;,&quot;enableRelativeLinks&quot;:false,&quot;headerConfig&quot;:{&quot;headerClasses&quot;:&quot;Fw(b) Fz(16px) Lh(1.5) Tt(n) C($c-fuji-grey-m) Cur(d)&quot;,&quot;headerWrapperClasses&quot;:&quot;D(f) Py(10px) Bdbw(1px) Bdc(#e0e4e9) Bdbs(s)&quot;,&quot;showHeaderLeftBorder&quot;:false,&quot;showHeaderTopBorder&quot;:false},&quot;i13n&quot;:{&quot;sec&quot;:&quot;readmore&quot;,&quot;subsec&quot;:&quot;readmore&quot;},&quot;itemClasses&quot;:{&quot;actionBarWrapperClasses&quot;:&quot;action-bar Mt(8px) Mend(8px) D(f) Fld(r) Fxw(w) Jc(sb) Ai(c) Mih(19px) Pos(r)&quot;,&quot;itemImgClasses&quot;:&quot;W(56px) H(56px) D(b)&quot;,&quot;itemImgWrapperClasses&quot;:&quot;Pos(r) Fl(end) Mstart(28px) Ov(h) Fxs(0) Bdrs(8px) Z(0)&quot;,&quot;itemTitleClasses&quot;:&quot;Fz(16px) Fw(600) Lh(1.25) D(b) Pos(r) T(2px) My(0) W(100%)&quot;,&quot;providerNameClasses&quot;:&quot;D(n)&quot;},&quot;maxItemCount&quot;:3,&quot;minItemCount&quot;:3,&quot;useWaferCaas&quot;:false,&quot;extraListClasses&quot;:&quot;List(n) My(0)&quot;,&quot;itemConfig&quot;:{&quot;showActionBar&quot;:true},&quot;itemWrapperClassNames&quot;:&quot;Mih(56px) Mt(20px)&quot;,&quot;moduleWrapperClasses&quot;:&quot;Bdrs(8px) Bdw(1px) Bdc(#e0e4e9) Bds(s) Pb(20px) Px(16px)&quot;,&quot;ncpQueryParams&quot;:{&quot;imageTags&quot;:&quot;56x56|2|80&quot;,&quot;thumbnailSizes&quot;:&quot;56x56|2|80&quot;,&quot;dedupUuids&quot;:&quot;[state.dedupUuids]&quot;,&quot;spaceId&quot;:&quot;980779999&quot;,&quot;geminiDedupeToken&quot;:&quot;&quot;},&quot;xhrPathPrefix&quot;:&quot;/nel_ms/_rcv/remote&quot;,&quot;clientPageContext&quot;:&quot;&quot;,&quot;listId&quot;:&quot;72731059-c3e9-4389-8d34-83fb84722eaa&quot;,&quot;pageContext&quot;:{&quot;lu&quot;:&quot;0&quot;,&quot;pageType&quot;:&quot;content&quot;,&quot;site&quot;:&quot;finance&quot;,&quot;appName&quot;:&quot;article&quot;,&quot;pageDesign&quot;:&quot;non_modal&quot;,&quot;pageContentType&quot;:&quot;story&quot;,&quot;ctopid&quot;:&quot;1996000;1542500;1577000&quot;,&quot;hashtag&quot;:&quot;news;$^gspc;yfstocksliveblog;yfmarkets;$^dji;$^ixic;1996000;1542500;1577000&quot;,&quot;wiki_topics&quot;:&quot;Janet_Yellen;Nasdaq_Composite;Dow_Jones_Industrial_Average;Default_(finance);Wall_Street;United_States_Secretary_of_the_Treasury;Joshua_Bolten&quot;,&quot;lmsid&quot;:&quot;a077000000BAh3wAAD&quot;,&quot;revsp&quot;:&quot;yahoofinance.com&quot;,&quot;lpstaid&quot;:&quot;6fdadfbd-86b1-4237-bd2b-1c4739f8d85a&quot;,&quot;yctIds&quot;:&quot;yct:001000348;yct:001000661;yct:001000323;yct:001000298&quot;}}}\"><div class=\"pholder-bg wafer-fetch-error_D(n) grid\"><div class=\"pholder\"><div class=\"ph-title\"></div><div class=\"ph-block\"></div></div></div></div></div></div></div><div id=\"module-spotIm\" class=\"wafer-rapid-module Pos(r) Mx(20px) \"><div><style>\\n    .wafer-lightbox-overlay {\\n        z-index: 10;\\n    }\\n    .wafer-lightbox-content #sb_rel_sda-WFPAD2-iframe {\\n        margin: 10px 0;\\n    }\\n    .wafer-lightbox-content #sb_rel_sda-COMMENTSWFPAD-iframe {\\n        margin: 10px 0;\\n    }\\n</style><script type=\"application/json\" class=\"wafer-state\">{\"spotIm\":{\"conversationEnabled\":true,\"device\":\"smartphone-lite\",\"jacDomain\":\"https://openweb.jac.yahoosandbox.com\",\"jacUrl\":\"https://openweb.jac.yahoosandbox.com/1.5.0/jac.js\",\"launcherUrl\":\"https://s.yimg.com/aaq/spotim/{spotId}_spot.v1.0.6.js\",\"messages_cnt\":5,\"mobileClusterEnabled\":false,\"passiveReactionEnabled\":true,\"showAdOnLightBox\":true,\"showFooterOnLightBox\":true,\"spotId\":\"sp_Rba9aFpG\",\"stageSpotId\":\"sp_n93tLsKu\",\"url\":\"https://finance.yahoo.com/news/stock-market-news-today-live-updates-june-1-2023-115051823.html\",\"useCase\":\"deeplink\",\"useCommentWfpad\":false,\"useStageToken\":false,\"uuid\":\"6fdadfbd-86b1-4237-bd2b-1c4739f8d85a\",\"xhrPathPrefix\":\"/nel_ms/_rcv/remote\"}}</script><div class=\"social-bar-fixed Ai(c) Bgc(#fff) D(f) W(100%) Bxz(bb) Z(10) B(0) Start(0) H(60px) P(10px) Pos(f) Bxsh($social-bar-box-shadow)\"><div id=\"spot-im-wafer-lightbox\" class=\"wafer-lightbox\" data-wf-lightbox-delay=\"500\" data-wf-lightbox-target=\"#wafer-lightbox-spotIm-template\"><button type=\"button\" class=\"D(f) Ai(c) Bg(n) Bd(n) W(100%) Ta(start) P(15px) Fz(15px) Fw(b) C(#828c93)\" data-ylk=\"subsec:openweb;itc:1;elm:cmmt_open;sec:view-cmnts-cta;slk:View Comments;\"><svg class=\"Mend(5px) Mt(5px) Cur(p)\" width=\"24\" style=\"fill:#828c93;stroke:#828c93;stroke-width:0;vertical-align:bottom\" height=\"24\" viewbox=\"0 0 24 24\" data-icon=\"share-comment\"><path d=\"M7.347 3C4.107 3 1.27 5.42 1.02 8.65a6.143 6.143 0 0 0 4.07 6.27v3.062a.41.41 0 0 0 .653.33l4.123-3.04h2.784c3.117 0 5.9-2.233 6.298-5.324A6.145 6.145 0 0 0 12.855 3H7.347zm8.897 3.17a4.46 4.46 0 0 1 1.08 3.57c-.286 2.22-2.296 3.896-4.674 3.896H9.328l-.433.32L6.727 15.8v-2.035l-1.09-.386A4.518 4.518 0 0 1 2.65 8.776c.18-2.322 2.243-4.14 4.697-4.14h5.508c1.296 0 2.532.56 3.39 1.534z\"></path></svg><span>View comments (498)</span></button></div><div class=\"custom-social Pos(a) End(18px) D(f) Fld(r) Fxw(w)\"><a class=\"wafer-bind D(ib) Mx(4px) W(30px) H(30px) Bdrs(50%) Ta(c) Bgc(#124bcb)\" data-wf-state-href=\"https://www.facebook.com/dialog/feed?app_id=458584288257241&amp;link=[state.currentArticleUrl]&amp;soc_src=social-sh&amp;soc_trk=fb&amp;tsrc=fb\" data-ylk=\"sec:social-sh;elm:share;elmt:sh-fb;slk:Facebook;itc:0;outcm:share;rspns:op\" href=\"https://www.facebook.com/dialog/feed?app_id=458584288257241&amp;link=https%3A%2F%2Ffinance.yahoo.com%2Fnews%2Fstock-market-news-today-live-updates-june-1-2023-115051823.html%3Fsoc_src%3Dsocial-sh%26soc_trk%3Dfb%26tsrc%3Dfb\" rel=\"nofollow noopener noreferrer\" target=\"_blank\" title=\"Share to Facebook\"><span class=\"facebook\"><svg class=\"Pt(5px) Cur(p)\" width=\"20\" style=\"fill:#fff;stroke:#fff;stroke-width:0;vertical-align:bottom\" height=\"20\" viewbox=\"0 0 32 32\" data-icon=\"LogoFacebook\"><path d=\"M12.752 30.4V16.888H9.365V12.02h3.387V7.865c0-3.264 2.002-6.264 6.613-6.264 1.866 0 3.248.19 3.248.19l-.11 4.54s-1.404-.013-2.943-.013c-1.66 0-1.93.81-1.93 2.152v3.553h5.008l-.22 4.867h-4.786V30.4h-4.88z\"></path></svg></span></a><a class=\"wafer-bind D(ib) Mx(4px) W(30px) H(30px) Bdrs(50%) Ta(c) Bgc(#33b6ff)\" data-wf-state-href=\"https://twitter.com/intent/tweet?text=[state.currentArticleTitle]&amp;url=[state.currentArticleUrl]&amp;soc_src=social-sh&amp;soc_trk=tw&amp;tsrc=twtr\" data-ylk=\"sec:social-sh;elm:share;elmt:sh-tw;slk:Twitter;itc:0;outcm:share;rspns:op\" href=\"https://twitter.com/intent/tweet?text=Stocks pop as house passes debt deal&amp;url=https%3A%2F%2Ffinance.yahoo.com%2Fnews%2Fstock-market-news-today-live-updates-june-1-2023-115051823.html%3Fsoc_src%3Dsocial-sh%26soc_trk%3Dtw%26tsrc%3Dtwtr\" rel=\"nofollow noopener noreferrer\" target=\"_blank\" title=\"Tweet\"><span class=\"twitter\"><svg class=\"Pt(5px) Cur(p)\" width=\"20\" style=\"fill:#fff;stroke:#fff;stroke-width:0;vertical-align:bottom\" height=\"20\" viewbox=\"0 0 32 32\" data-icon=\"LogoTwitter\"><path d=\"M30.402 7.094c-1.058.47-2.198.782-3.392.928 1.218-.725 2.154-1.885 2.595-3.256-1.134.674-2.405 1.165-3.75 1.43-1.077-1.148-2.612-1.862-4.31-1.862-3.268 0-5.915 2.635-5.915 5.893 0 .464.056.91.155 1.34-4.915-.244-9.266-2.59-12.18-6.158-.51.87-.806 1.885-.806 2.96 0 2.044 1.045 3.847 2.633 4.905-.974-.032-1.883-.3-2.68-.736v.07c0 2.857 2.034 5.236 4.742 5.773-.498.138-1.022.21-1.56.21-.38 0-.75-.034-1.11-.103.75 2.344 2.93 4.042 5.518 4.09-2.024 1.58-4.57 2.523-7.333 2.523-.478 0-.952-.032-1.41-.085 2.613 1.674 5.72 2.65 9.054 2.65 10.872 0 16.814-8.976 16.814-16.765 0-.254-.008-.507-.018-.762 1.155-.83 2.155-1.868 2.95-3.047z\"></path></svg></span></a><a class=\"wafer-bind D(ib) Mx(4px) W(30px) H(30px) Bdrs(50%) Ta(c) Bgc(#7759ff)\" data-wf-state-href=\"mailto:?subject=[state.currentArticleTitle]&amp;body=[state.currentArticleUrl]&amp;soc_src=social-sh&amp;soc_trk=ma\" data-ylk=\"sec:social-sh;elm:share;elmt:sh-ma;slk:Email;itc:0;outcm:share;rspns:op\" href=\"mailto:?subject=Stocks pop as house passes debt deal&amp;body=https%3A%2F%2Ffinance.yahoo.com%2Fnews%2Fstock-market-news-today-live-updates-june-1-2023-115051823.html%3Fsoc_src%3Dsocial-sh%26soc_trk%3Dma\" rel=\"nofollow noopener noreferrer\" target=\"_blank\" title=\"Email\"><span class=\"mail\"><svg class=\"Pt(5px) Cur(p)\" width=\"20\" style=\"fill:#fff;stroke:#fff;stroke-width:0;vertical-align:bottom\" height=\"20\" viewbox=\"0 0 32 32\" data-icon=\"PropertyMail\"><path d=\"M16.014 18.806L1.6 7.36v18.722l28.8-.006V7.36L16.014 18.808zM30.4 5.92H1.6L16 17.44 30.4 5.92z\"></path></svg></span></a></div><template id=\"wafer-lightbox-spotIm-template\"><div class=\"Bgc(#fff) Pos(f) W(100%) H(100%) Start(0) End(0) T(0) B(0) Ov(s) Z(10) TranslateY(100%) Trsp(transform) Trsdu(0.4s) wafer-lightbox-open_TranslateY(0)\"><div class=\"wafer-lightbox-spotIm-header W(100%) T(0) Z(11) Bgc(white) Bdbw(1px) Bdbs(s) Bdtw(1px) Bdts(s) Bdc(#e2e2e6) Bxz(bb) H(57px) Ov(h)\"><button aria-label=\"Close user comments\" class=\"wafer-lightbox-close Bg(n) Bd(n) Py(17px) Px(20px) back-button O(n):a O(n):h wafer-lightbox-spotIm-close\" type=\"button\"><svg class=\"Cur(p) Pe(n) Cur(p)\" width=\"18\" style=\"fill:#6000d2;stroke:#6000d2;stroke-width:0;vertical-align:bottom\" height=\"18\" viewbox=\"0 0 32 32\" data-icon=\"CoreArrowLeft\"><path d=\"M22.72.665c-.886-.887-2.323-.887-3.21 0L4.175 16 19.51 31.335c.442.443 1.023.665 1.604.665s1.162-.222 1.605-.665c.886-.887.886-2.324 0-3.21L10.596 16 22.72 3.876c.887-.887.887-2.324 0-3.21z\"></path></svg></button></div><div id=\"sda-WFPAD2\" class=\"Ta(c) Bgc(#f1f1f5)\"><div id=\"sda-WFPAD2-iframe\"></div></div><div id=\"spotIm-conversations-module-wrapper\"></div><div id=\"spotIm-footer-wrapper\" class=\"wafer-fetch-container wafer-fetch Pos(r) Mih(1px)\" data-wf-timeout=\"5000\" data-wf-retry-count=\"2\" data-wf-trigger=\"viewport\" data-wf-cache-strategy=\"cacheFirst\" data-wf-cache-ttl=\"3600\" data-wf-trigger-offset=\"600 0\" data-wf-url=\"/fp_ms/_rcv/remote?m_mode=json&amp;ctrl=FooterMobileLight&amp;m_id=react-wafer-footer&amp;module=footer&amp;site=finance&amp;region=US&amp;lang=en-US\"></div></div></template></div></div><script>\\n                    window.performance.mark(\\'spotIm\\');\\n                    window.performance.measure(\\'spotImDone\\',\\'PageStart\\',\\'spotIm\\');\\n                    </script></div><div id=\"sda-LREC2\" class=\" Mx(20px) Mb(24px) LREC2-status-unknown\"><div id=\"sda-LREC2-iframe\" data-content=\"Advertisement\"></div></div><div id=\"sda-WIDGETA\" class=\" Mx(20px) Mb(24px) WIDGETA-status-unknown\"><div id=\"sda-WIDGETA-iframe\" data-content=\"Advertisement\"></div></div><div id=\"module-relatedStories\" class=\"wafer-rapid-module  Mx(20px) Mb(24px)\"><div id=\"wafer-relatedStories\" class=\"wafer-fetch-container wafer-fetch\" data-wf-cache-strategy=\"networkFirst\" data-wf-replace=\"1\" data-wf-retry-count=\"2\" data-wf-timeout=\"5000\" data-wf-trigger=\"viewport\" data-wf-trigger-offset=\"600 0\" data-wf-url=\"/nel_ms/_rcv/remote?m_id=tdv2-wafer-content-list&amp;ctrl=TopicItems&amp;module=relatedStories&amp;site=finance&amp;device=smartphone-lite&amp;lang=en-US&amp;region=US&amp;bucket=finance-US-en-US-def&amp;rid=fsGBrIHk&amp;m_mode=json\" data-wf-state-body=\"{&quot;m_id&quot;:&quot;tdv2-wafer-content-list&quot;,&quot;ctrl&quot;:&quot;TopicItems&quot;,&quot;m_mode&quot;:&quot;json&quot;,&quot;config&quot;:{&quot;adItemClasses&quot;:{&quot;itemContentClasses&quot;:&quot;Bdrs(8px) Mih(120px)&quot;,&quot;itemImgWrapperClasses&quot;:&quot;Pos(r) Ov(h) Fxs(0) Z(0) Bdrs(8px)&quot;,&quot;itemProviderClasses&quot;:&quot;C($c-fuji-grey-h) Pt(12px) Pb(11px) D(f) Ai(c) Fz(12px) Fw(600) Lh(15px) Z(2)&quot;},&quot;ads&quot;:{&quot;gemini&quot;:{&quot;adsFrequency&quot;:2,&quot;adsMultiModuleDedupeEnabled&quot;:true,&quot;adsType&quot;:&quot;STRM,STRM_CONTENT&quot;,&quot;adsEnabled&quot;:false,&quot;adsSectionId&quot;:5598677,&quot;adsStartIndex&quot;:2,&quot;spaceId&quot;:980779999}},&quot;categoryName&quot;:&quot;relatedTopicContent&quot;,&quot;configName&quot;:&quot;TopicItems/componentTopicItemsArticle&quot;,&quot;forceLoadImage&quot;:false,&quot;isFirstModuleWithGemini&quot;:true,&quot;itemClasses&quot;:{&quot;itemProviderClasses&quot;:&quot;C($providerColor) Mb(6px) Mt(14px) Fw(500) Fz(12px) Lts(0.5px)&quot;,&quot;providerNameClasses&quot;:&quot;D(ib) Mt(2px) Mb(4px)&quot;},&quot;itemConfig&quot;:{&quot;showComments&quot;:false,&quot;showPlayIcon&quot;:true,&quot;showProviderLogo&quot;:false},&quot;ncpQueryParams&quot;:{&quot;configId&quot;:&quot;contentsim-nrtcoview&quot;,&quot;count&quot;:9,&quot;snippetCount&quot;:9,&quot;adsPublisherUrl&quot;:&quot;https://finance.yahoo.com/news/stock-market-news-today-live-updates-june-1-2023-115051823.html&quot;,&quot;dedupUuids&quot;:&quot;[state.dedupUuids]&quot;,&quot;device&quot;:&quot;smartphone-lite&quot;,&quot;spaceId&quot;:&quot;980779999&quot;,&quot;uuid&quot;:&quot;6fdadfbd-86b1-4237-bd2b-1c4739f8d85a&quot;,&quot;geminiDedupeToken&quot;:&quot;&quot;},&quot;useContentSite&quot;:false,&quot;adMeta&quot;:{&quot;enableAdFeedbackV2&quot;:true,&quot;enableAdLiteUpSellFeedback&quot;:true,&quot;adFeedbackToastTarget&quot;:&quot;#adfeedback-article-toast&quot;,&quot;enableAdDropdown&quot;:false,&quot;enableAdFeedback&quot;:false,&quot;isArticlePage&quot;:true},&quot;columnAdItemClasses&quot;:{&quot;itemProviderTitleClasses&quot;:&quot;Fz(12px) Fw(500) C($providerColor) Mb(4px)&quot;},&quot;columnItemConfig&quot;:{&quot;playIconWrapperClasses&quot;:&quot;Pos(a) Start(50%) T(50%) Translate(translate50PerNeg) Bgi(simpleListItemPlayIconBgGradient) Bxsh(simpleListItemPlayIconBoxShadow) P(10px) Bdrs(50%)&quot;,&quot;providerNameClasses&quot;:&quot;Fz(12px) Fw(500) C($providerColor)&quot;,&quot;showPlayIcon&quot;:true,&quot;showProviderLogo&quot;:false},&quot;headerConfig&quot;:{&quot;showProviderInTitle&quot;:false,&quot;title&quot;:&quot;Recommended Stories&quot;},&quot;xhrPathPrefix&quot;:&quot;/nel_ms/_rcv/remote&quot;,&quot;clientPageContext&quot;:&quot;&quot;,&quot;pageContext&quot;:{&quot;lu&quot;:&quot;0&quot;,&quot;pageType&quot;:&quot;content&quot;,&quot;site&quot;:&quot;finance&quot;,&quot;appName&quot;:&quot;article&quot;,&quot;pageDesign&quot;:&quot;non_modal&quot;,&quot;pageContentType&quot;:&quot;story&quot;,&quot;ctopid&quot;:&quot;1996000;1542500;1577000&quot;,&quot;hashtag&quot;:&quot;news;$^gspc;yfstocksliveblog;yfmarkets;$^dji;$^ixic;1996000;1542500;1577000&quot;,&quot;wiki_topics&quot;:&quot;Janet_Yellen;Nasdaq_Composite;Dow_Jones_Industrial_Average;Default_(finance);Wall_Street;United_States_Secretary_of_the_Treasury;Joshua_Bolten&quot;,&quot;lmsid&quot;:&quot;a077000000BAh3wAAD&quot;,&quot;revsp&quot;:&quot;yahoofinance.com&quot;,&quot;lpstaid&quot;:&quot;6fdadfbd-86b1-4237-bd2b-1c4739f8d85a&quot;,&quot;yctIds&quot;:&quot;yct:001000348;yct:001000661;yct:001000323;yct:001000298&quot;}}}\"><div class=\"pholder-bg wafer-fetch-error_D(n) grid\"><div class=\"pholder\"><div class=\"ph-title\"></div><div class=\"ph-block\"></div></div></div></div></div><div id=\"module-relatedContent\" class=\"wafer-rapid-module  Mx(20px) Mb(24px)\"><div id=\"wafer-relatedContent\" class=\"wafer-fetch-container wafer-fetch\" data-wf-cache-strategy=\"networkFirst\" data-wf-dependency=\"#wafer-relatedStories.wafer-fetch-container\" data-wf-replace=\"1\" data-wf-retry-count=\"2\" data-wf-timeout=\"5000\" data-wf-trigger=\"viewport\" data-wf-trigger-offset=\"600 0\" data-wf-url=\"/nel_ms/_rcv/remote?m_id=tdv2-wafer-content-list&amp;ctrl=TopicItems&amp;module=relatedContent&amp;site=finance&amp;device=smartphone-lite&amp;lang=en-US&amp;region=US&amp;bucket=finance-US-en-US-def&amp;rid=fsGBrIHk&amp;m_mode=json\" data-wf-state-body=\"{&quot;m_id&quot;:&quot;tdv2-wafer-content-list&quot;,&quot;ctrl&quot;:&quot;TopicItems&quot;,&quot;m_mode&quot;:&quot;json&quot;,&quot;config&quot;:{&quot;adItemClasses&quot;:{&quot;itemContentClasses&quot;:&quot;Bdrs(8px) Mih(120px)&quot;,&quot;itemImgWrapperClasses&quot;:&quot;Pos(r) Ov(h) Fxs(0) Z(0) Bdrs(8px)&quot;,&quot;itemProviderClasses&quot;:&quot;C($c-fuji-grey-h) Pt(12px) Pb(11px) D(f) Ai(c) Fz(12px) Fw(600) Lh(15px) Z(2)&quot;},&quot;ads&quot;:{&quot;gemini&quot;:{&quot;adsFrequency&quot;:5,&quot;adsMultiModuleDedupeEnabled&quot;:true,&quot;adsSectionId&quot;:5598677,&quot;adsStartIndex&quot;:2,&quot;adsType&quot;:&quot;STRM,STRM_CONTENT&quot;,&quot;adsEnabled&quot;:false,&quot;spaceId&quot;:980779999}},&quot;categoryName&quot;:&quot;relatedContent&quot;,&quot;configName&quot;:&quot;TopicItems/componentTopicItemsArticle&quot;,&quot;headerConfig&quot;:{&quot;showProviderInTitle&quot;:true,&quot;title&quot;:&quot;More From Yahoo Finance&quot;,&quot;showLogo&quot;:false},&quot;i13n&quot;:{&quot;sec&quot;:&quot;rel-ct&quot;},&quot;i13nComment&quot;:{&quot;sec&quot;:&quot;rel-ct&quot;},&quot;itemClasses&quot;:{&quot;itemProviderClasses&quot;:&quot;C($providerColor) Mb(6px) Mt(14px) Fw(500) Fz(12px) Lts(0.5px)&quot;,&quot;providerNameClasses&quot;:&quot;D(ib) Mt(2px) Mb(4px)&quot;},&quot;itemConfig&quot;:{&quot;showComments&quot;:false,&quot;showPlayIcon&quot;:true,&quot;showProviderLogo&quot;:false},&quot;listId&quot;:&quot;eec33a50-cb43-11e9-ab4e-f698b03eb661&quot;,&quot;mainItemsCount&quot;:0,&quot;minItemCount&quot;:0,&quot;ncpQueryParams&quot;:{&quot;count&quot;:4,&quot;snippetCount&quot;:4,&quot;adsPublisherUrl&quot;:&quot;https://finance.yahoo.com/news/stock-market-news-today-live-updates-june-1-2023-115051823.html&quot;,&quot;dedupUuids&quot;:&quot;[state.dedupUuids]&quot;,&quot;device&quot;:&quot;smartphone-lite&quot;,&quot;languagefilter&quot;:&quot;en-US&quot;,&quot;providername&quot;:[&quot;Yahoo Finance&quot;],&quot;spaceId&quot;:&quot;980779999&quot;,&quot;geminiDedupeToken&quot;:&quot;[state.geminiAds.geminiDedupeToken]&quot;},&quot;useContentSite&quot;:false,&quot;adMeta&quot;:{&quot;adFeedbackToastTarget&quot;:&quot;#adfeedback-article-toast&quot;,&quot;enableAdDropdown&quot;:false,&quot;enableAdFeedback&quot;:false,&quot;enableAdFeedbackV2&quot;:true,&quot;isArticlePage&quot;:true,&quot;enableAdLiteUpSellFeedback&quot;:true},&quot;columnAdItemClasses&quot;:{&quot;itemProviderTitleClasses&quot;:&quot;Fz(12px) Fw(500) C($providerColor) Mb(4px)&quot;},&quot;columnItemConfig&quot;:{&quot;playIconWrapperClasses&quot;:&quot;Pos(a) Start(50%) T(50%) Translate(translate50PerNeg) Bgi(simpleListItemPlayIconBgGradient) Bxsh(simpleListItemPlayIconBoxShadow) P(10px) Bdrs(50%)&quot;,&quot;providerNameClasses&quot;:&quot;Fz(12px) Fw(500) C($providerColor)&quot;,&quot;showPlayIcon&quot;:true,&quot;showProviderLogo&quot;:false},&quot;forceLoadImage&quot;:false,&quot;xhrPathPrefix&quot;:&quot;/nel_ms/_rcv/remote&quot;,&quot;clientPageContext&quot;:&quot;&quot;,&quot;pageContext&quot;:{&quot;lu&quot;:&quot;0&quot;,&quot;pageType&quot;:&quot;content&quot;,&quot;site&quot;:&quot;finance&quot;,&quot;appName&quot;:&quot;article&quot;,&quot;pageDesign&quot;:&quot;non_modal&quot;,&quot;pageContentType&quot;:&quot;story&quot;,&quot;ctopid&quot;:&quot;1996000;1542500;1577000&quot;,&quot;hashtag&quot;:&quot;news;$^gspc;yfstocksliveblog;yfmarkets;$^dji;$^ixic;1996000;1542500;1577000&quot;,&quot;wiki_topics&quot;:&quot;Janet_Yellen;Nasdaq_Composite;Dow_Jones_Industrial_Average;Default_(finance);Wall_Street;United_States_Secretary_of_the_Treasury;Joshua_Bolten&quot;,&quot;lmsid&quot;:&quot;a077000000BAh3wAAD&quot;,&quot;revsp&quot;:&quot;yahoofinance.com&quot;,&quot;lpstaid&quot;:&quot;6fdadfbd-86b1-4237-bd2b-1c4739f8d85a&quot;,&quot;yctIds&quot;:&quot;yct:001000348;yct:001000661;yct:001000323;yct:001000298&quot;}}}\"><div class=\"pholder-bg wafer-fetch-error_D(n) grid\"><div class=\"pholder\"><div class=\"ph-title\"></div><div class=\"ph-block\"></div></div></div></div></div></main></div></div><footer id=\"Footer\"><div id=\"module-smartDynamicAd\" class=\"wafer-rapid-module Pos(r)\"><div><div id=\"smartDaConfig\" class=\"D(n)\" data-smart-da-config=\"{&quot;dynamicData&quot;:{&quot;FIN_TICKER_PRICE_CHANGE_INDICATOR&quot;:&quot;UP&quot;,&quot;FIN_COMPANY_SHORT_NAME&quot;:&quot;NASDAQ Composite&quot;,&quot;FIN_CURRENCY_TYPE&quot;:&quot;USD&quot;,&quot;FIN_TICKER_PRICE_CHANGE_AMOUNT&quot;:&quot;+165.70&quot;,&quot;FIN_TICKER_PRICE_CHANGE_PERCENT&quot;:&quot;+1.28%&quot;,&quot;COUNTRY_LANG&quot;:&quot;en-US&quot;,&quot;FIN_TICKER_SYMBOL&quot;:&quot;IXIC&quot;,&quot;FIN_QUOTE_TYPE&quot;:&quot;INDEX&quot;,&quot;FIN_TICKER_PRICE&quot;:&quot;13100.98&quot;},&quot;adPositions&quot;:[&quot;WFPAD&quot;,&quot;LREC&quot;,&quot;LREC2&quot;,&quot;WIDGETA&quot;]}\"></div><script>setTimeout(\\n                    () => {\\n                        const rapidInstance = (window && window.YAHOO && window.YAHOO.i13n && window.YAHOO.i13n.rapidInstance) || window.rapidInstance;\\n                        const smartAdElement = document.getElementById(\\'smartDaConfig\\');\\n                        const smartda_config_status = smartAdElement && smartAdElement.dataset && smartAdElement.dataset.smartDaConfig;\\n\\n                        if (rapidInstance) {\\n                            rapidInstance.beaconEvent(\\'smartdynamicdata\\', {\\n                                outcm: \\'smart_dynamic_data_returned\\',\\n                                sec: \\'smartdynamicdata\\',\\n                                subsec: smartda_config_status ? \\'true\\' : \\'false\\'\\n                            });\\n                        }\\n                    }, 100)\\n                ;</script></div><script>\\n                    window.performance.mark(\\'smartDynamicAd\\');\\n                    window.performance.measure(\\'smartDynamicAdDone\\',\\'PageStart\\',\\'smartDynamicAd\\');\\n                    </script></div><div id=\"module-footer\" class=\"wafer-rapid-module fp-item-card\"><div id=\"wafer-footer\" class=\"wafer-fetch-container wafer-fetch\" data-wf-cache-strategy=\"cacheFirst\" data-wf-replace=\"1\" data-wf-retry-count=\"2\" data-wf-timeout=\"5000\" data-wf-trigger=\"viewport\" data-wf-trigger-offset=\"600 0\" data-wf-url=\"/fp_ms/_rcv/remote?m_id=react-wafer-footer&amp;ctrl=FooterMobileV2&amp;module=footer&amp;site=finance&amp;device=smartphone-lite&amp;lang=en-US&amp;region=US&amp;bucket=finance-US-en-US-def&amp;rid=fsGBrIHk&amp;m_mode=json\" data-wf-cache-ttl=\"3600\"><div class=\"pholder-bg wafer-fetch-error_D(n) grid\"><div class=\"pholder\"><div class=\"ph-title\"></div><div class=\"ph-block\"></div></div></div></div></div></footer><div id=\"adfeedback-article-toast\" class=\"wafer-rapid-module\"></div><script type=\"application/json\" id=\"wafer-config\">{\"assetsLoaded\":{\"/aaq/art/css/deeplink.atomic.ltr.67bd91705c697df31471fc2d7283e412.css\":true,\"/aaq/art/css/sdacontainer.7071768451db14ed357aca3116377c69.css\":true,\"/os/yc/css/bundle.c60a6d54.css\":true,\"/aaq/art/css/yahoosans.aed6490aa508ed41867accc82c4b153d.css\":true,\"/aaq/art/css/modules.atomic.ltr.5e862c43075fc2f317c7752b02c793ed.css\":true,\"/aaq/art/css/mobileweb.7703ddedd8fe0eed436b06d247ae7757.css\":true,\"/uc/finance/dd-site/modules/css/tdv2-wafer-adfeedback.custom.smartphone.892444a0239165161b3a5b8e7de0dd0f.css\":true,\"/uc/finance/dd-site/modules/css/tdv2-wafer-adfeedback.AdFeedbackAllComponents.atomic.ltr.f84933b42fcd77657e8bf65baadd65af.min.css\":true,\"/aaq/cprops/colors_1.1.27.min.css\":true,\"/aaq/nel/css/spotIm.SpotImJACForDeeplinkMobile.atomic.ltr.ba365f031d30522cbefb595054170abf.min.css\":true,\"/aaq/nel/css/tdv2-wafer-content-list.TopicItems.atomic.ltr.dabd6b05cea3b39e11ccc0b47c90431a.min.css\":true,\"/aaq/nel/css/tdv2-wafer-content-list.custom.45f01f005c629741cf7c510f94504957.css\":true,\"/aaq/nel/css/smart-ad-dynamic-data.SmartAdDynamicData.atomic.ltr.88115735231490dcb5680ea5084fb4e1.min.css\":true,\"/aaq/fp/css/react-wafer-footer.FooterMobileV2.atomic.ltr.6adda721dc59e9f3a7830f29539834a6.min.css\":true,\"/aaq/fp/css/react-wafer-featurebar.FeaturebarNew.atomic.ltr.26baa6fc29984965d1a6d27f1159b002.min.css\":true,\"/aaq/nel/css/tdv2-wafer-header.Header.atomic.ltr.c90f10c375fd821102d7f317cd140921.min.css\":true,\"/aaq/nel/css/tdv2-wafer-header.custom.smartphone.b0d0f0f882282ce0330ca02d643a17cd.css\":true,\"/aaq/nel/css/tdv2-wafer-content-list.Trending.atomic.ltr.86bc4beaa4a0f2b6429aa63cc8902c06.min.css\":true,\"/aaq/art/js/caas.3a6e69a64a04ae71af75502261ac65dc.js\":true,\"/rq/darla/4-11-1/js/g-r-min.js\":true,\"/aaq/wf/wf-loader-2.6.63.js\":true,\"/aaq/wf/wf-lightbox-1.10.6.js\":true,\"/ss/rapid-3.53.38.js\":true,\"/aaq/cmp/version/6.3.0/cmp.js\":true,\"/aaq/vzm/cs_1.4.0.js\":true,\"/aaq/nel/jsc/tdv2-wafer-utils.19c76fb8.js\":true,\"/oa/canary/consent.js\":true,\"/oath/js/1/oath-player.js\":true,\"/aaq/wf/wf-bind-1.1.3.js\":true,\"/aaq/wf/wf-toggle-1.15.4.js\":true,\"/aaq/wf/wf-fetch-1.18.12.js\":true,\"/aaq/nel/js/spotIm.custom.SpotIMJAC.deeplink.mobile.a9c94b4ce20322daf49ffd2d921e2e01.js\":true,\"/aaq/wf/wf-darla-1.9.4.js\":true,\"/aaq/wf/wf-video-2.22.12.js\":true,\"/aaq/wf/wf-beacon-1.3.4.js\":true,\"/aaq/wf/wf-scrollview-2.18.9.js\":true,\"/aaq/wf/wf-form-1.33.1.js\":true,\"/aaq/wf/wf-caas-1.33.1.js\":true,\"/aaq/wf/wf-countdown-1.2.5.js\":true,\"/aaq/wf/wf-image-1.4.0.js\":true,\"/aaq/nel/js/tdv2-wafer-content-list.custom.c5b1d1b30a366567b8d67f27e343f60d.js\":true,\"/aaq/fp/js/react-wafer-featurebar.custom.default.95a7979b4c06295e22960043d003fb49.js\":true,\"/aaq/wf/wf-text-1.2.0.js\":true,\"/aaq/wf/wf-rapid-1.10.7.js\":true,\"/aaq/wf/wf-progress-loader-1.2.10.js\":true,\"/aaq/c/356aa99.caas-article2_mweb.min.css\":true,\"/aaq/wf/wf-core-1.63.0.js\":true,\"/os/yaft/yaft-0.3.28.min.js\":true,\"/aaq/c/3ae7cf6.caas-article2_mweb.min.js\":true}}</script><script type=\"text/javascript\" src=\"https://s.yimg.com/aaq/wf/wf-core-1.63.0.js\"></script><script type=\"text/javascript\">\\n    (function(win) {\\n        win.addEventListener && win.addEventListener(\"DOMContentLoaded\", function () {\\n            var s = win.document.createElement(\"script\");\\n            s.async = true;\\n            s.defer = true;\\n            s.src = \"https://s.yimg.com/cx/pv/perf-vitals_3.1.0.js\";\\n            win.document.body.appendChild(s);\\n        });\\n    })(window);</script><script type=\"text/javascript\" src=\"https://s.yimg.com/os/yaft/yaft-0.3.28.min.js\" defer></script><script type=\"text/javascript\" src=\"https://s.yimg.com/aaq/c/3ae7cf6.caas-article2_mweb.min.js\"></script><script type=\"text/javascript\">\\n    (function(w) {\\n        if (w.YAHOO && w.YAHOO.i13n && w.YAHOO.i13n.Rapid) {\\n            YAHOO.i13n.SPACEID = \\'980779999\\';\\n            var enableApvBeacon = true;\\n            var clientOnly = undefined;\\n            var rapidConfig = {\"click_timeout\":200,\"keys\":{\"_rid\":\"fsGBrIHk\",\"abk\":\"\",\"colo\":\"gq1\",\"mrkt\":\"us\",\"p_sec\":\"default\",\"partner\":\"none\",\"site\":\"finance\",\"uh_vw\":0,\"navtype\":\"server\",\"p_hosted\":\"hosted\",\"pcp\":\" Josh Schafer\",\"pct\":\"storywithleadvideo\",\"pd\":\"non_modal\",\"pstaid\":\"6fdadfbd-86b1-4237-bd2b-1c4739f8d85a\",\"pstaid_p\":\"6fdadfbd-86b1-4237-bd2b-1c4739f8d85a\",\"pstcat\":\"business\",\"pt\":\"content\",\"ver\":\"article\",\"vidPos\":\"top\"},\"perf_navigationtime\":2,\"test_id\":\"finance-US-en-US-def\",\"tracked_mods_viewability\":{\"module-relatedStories\":\"rel-stories\",\"module-relatedContent\":\"rel-ct\",\"module-footer\":\"footer\",\"module-featurebar\":\"featurebar\",\"module-header\":\"hd\",\"module-editorialPicks\":\"trending\",\"close-button-section\":\"close-button\",\"close-fauxdal\":\"close-button\",\"module-article\":\"content-canvas\",\"module-spotIm\":\"cmmts\"},\"viewability\":true,\"yql_host\":\"udc.yahoo.com\",\"yql_path\":\"/v2/public/yql\"};\\n            rapidConfig.spaceid = YAHOO.i13n.SPACEID;\\n\\n            if(typeof clientOnly !== \\'undefined\\') {\\n                rapidConfig.client_only = clientOnly;\\n            }\\n            // beacon apv for mobile web\\n            if (enableApvBeacon) {\\n                rapidConfig.apv_callback = function(apvObj) {\\n                    try {\\n                        if (\\'980779999\\' === YAHOO.i13n.SPACEID) {\\n                            var img = new Image();\\n                            img.src = \\'/_td_api/beacon/error?beaconType=apv&sp=\\' + YAHOO.i13n.SPACEID\\n                                + \\'&device=smartphone-lite&intl=US&pixel_pos=\\'\\n                                + apvObj.pixel_pos + \\'&scroll_dir=\\'\\n                                + apvObj.scroll_dir;\\n                        }\\n                    } catch (e) {}\\n                };\\n            }\\n\\n            // ensure webworker is loaded from yaho.com cdn path\\n            YAHOO.i13n.WEBWORKER_FILE = \\'/__rapid-worker-1.2.js\\';\\n\\n            // setup rapid instance\\n            YAHOO.i13n.rapidInstance = w.rapidInstance = w.YAHOO.i13n.Rapid(rapidConfig);\\n\\n            // expose rapid config for homepage-viewer client\\n            if (!w.rapidPageConfig) {\\n                w.rapidPageConfig = {\\n                    rapidConfig: rapidConfig\\n                }\\n            }\\n        }\\n    }(window));\\n</script><script>\\n        (function(w) {\\n            w.YAHOO = w.YAHOO || {};\\n            w.YAHOO.comscore = {\"c14\":-1,\"enableTracking\":true};\\n\\n            w._comscore = w._comscore || [];\\n            w._comscore.push({\"c1\":\"2\",\"c2\":\"7241469\",\"c5\":\"980779999\",\"c7\":\"https://finance.yahoo.com/news/stock-market-news-today-live-updates-june-1-2023-115051823.html\",\"c14\":-1});\\n\\n            var s = document.createElement(\\'script\\');\\n            var el = document.getElementsByTagName(\\'script\\')[0];\\n            s.async = true;\\n            s.src = \\'https://s.yimg.com/aaq/vzm/cs_1.4.0.js\\';\\n            el.parentNode.insertBefore(s, el);\\n        }(window));\\n    </script><noscript><img src=\"https://sb.scorecardresearch.com/p?c1=2&amp;c2=7241469&amp;c5=980779999&amp;c7=https%3A%2F%2Ffinance.yahoo.com%2Fnews%2Fstock-market-news-today-live-updates-june-1-2023-115051823.html&amp;c14=-1\"></noscript><script type=\"text/javascript\">\\n    (function(w) {\\n        if (w.performance && typeof w.performance.now === \\'function\\' && w.document.addEventListener) {\\n            w.document.addEventListener(\\'DOMContentLoaded\\', function(){\\n                var yaftConfig = {\"adModules\":[\"sda-LDRB\",\"sda-LREC\",\"sda-LREC2\",\"sda-LREC3\",\"sda-MAST\",\"sda-MON\",\"sda-WFPAD\",\"sda-XFPAD\"],\"adModulesMap\":{\"LDRB\":\"sda-LDRB\",\"LREC\":\"sda-LREC\",\"LREC2\":\"sda-LREC2\",\"LREC3\":\"sda-LREC3\",\"MAST\":\"sda-MAST\",\"MON\":\"sda-MON\",\"WFPAD\":\"sda-WFPAD\",\"XFPAD\":\"sda-XFPAD\"},\"maxWaitTime\":4000,\"modules\":[\"module-\",\"sda-\"],\"modulesExclude\":[],\"preferDataModNameOverId\":true,\"punishAdsOnNoShow\":true,\"trackModulesMap\":{\"pencilAd\":\"ADEND_PENCIL\",\"sponsoredMoments\":\"ADEND_SPONSOREDMOMENTS\"}};\\n                if (w.YAFT && yaftConfig) {\\n                    var whiteListedAds = yaftConfig.adModulesMap;\\n                    var preProcess = function() {\\n                        // Override the ad load time as the ad module\\'s load time\\n                        var darlaAdTimings = [];\\n                        var adTiming;\\n                        var aft2StartRender = w.YAFT.AFT2.getAFT2StartRender() - 800;\\n                        if (typeof w._adLT !== \\'undefined\\') {\\n                            for (var i = 0; i < w._adLT.length; i++) {\\n                                adTiming = w._adLT[i];\\n                                var adIdAction = adTiming[0];\\n                                var adTime = adTiming[1];\\n                                var adAction = adIdAction.indexOf(\\'ADSTART_\\') > -1 ? \\'start\\' : \\'end\\';\\n                                var adId = \\'\\';\\n\\n                                if (adAction === \\'start\\') {\\n                                    adId = adIdAction.replace(\\'ADSTART_\\', \\'\\');\\n                                    darlaAdTimings[adId] = {\\n                                        started: adTime,\\n                                        loaded: 0\\n                                    };\\n                                } else {\\n                                    adId = adIdAction.replace(\\'ADEND_\\', \\'\\');\\n                                    if (typeof darlaAdTimings[adId] !== \\'undefined\\') {\\n                                        darlaAdTimings[adId].loaded = adTime;\\n                                    }\\n                                }\\n                            }\\n\\n                            for (var adObj in darlaAdTimings) {\\n                                if (darlaAdTimings.hasOwnProperty(adObj) && whiteListedAds && typeof whiteListedAds[adObj] !== undefined) {\\n                                    var adStartTime = darlaAdTimings[adObj].started;\\n                                    var adLoadTime = darlaAdTimings[adObj].loaded || w.performance.now();\\n                                    if (aft2StartRender > adStartTime) {continue;}\\n                                    w.YAFT.triggerCustomTiming(whiteListedAds[adObj], adStartTime, adLoadTime);\\n                                }\\n                            }\\n                        }\\n\\n                        // Override the video load time as the module\\'s load time\\n                        if (typeof w._videoLT !== \\'undefined\\') {\\n                            for (var key in w._videoLT) {\\n                                if (w._videoLT.hasOwnProperty(key)) {\\n                                    w.YAFT.triggerCustomTiming(key, w._videoLT[key].startTime, w._videoLT[key].loadTime || w.performance.now());\\n                                }\\n                            }\\n                        }\\n                    };\\n\\n                    var setPagePerfDataForTrackModules = function(pagePerfData) {\\n                        var trackModulesPerfMark = w.performance.getEntriesByType(\\'mark\\');\\n                        if (trackModulesPerfMark) {\\n                            var trackModules = yaftConfig.trackModulesMap;\\n                            if (trackModules) {\\n                                var trackModuleNames = [];\\n                                for (var trackModule in trackModules) {\\n                                    if (trackModules.hasOwnProperty(trackModule)) {\\n                                        trackModuleNames.push(trackModule);\\n                                    }\\n                                }\\n                                if (trackModuleNames.length > 0) {\\n                                    for (var t = 0; t < trackModulesPerfMark.length; t++) {\\n                                        var moduleMark = trackModulesPerfMark[t];\\n                                        if (trackModuleNames.indexOf(moduleMark.name) !== -1) {\\n                                            pagePerfData[trackModules[moduleMark.name]] = Math.round(moduleMark.startTime);\\n                                        }\\n                                    }\\n                                }\\n                            }\\n                        }\\n                    }\\n                    yaftConfig.preProcess = preProcess;\\n                    w.YAFT.init(yaftConfig, function(data, error) {\\n                        if (!error && w.rapidInstance) {\\n                            var aft = Math.round(data.aft);\\n                            var initialPageLoad = {\\n                                AFT: aft,\\n                                AFT1: aft,\\n                                AFTNOAD: Math.round(data.aftNoAd),\\n                                STR: Math.round(data.startRender),\\n                                VIC: data.visuallyComplete,\\n                                PLT: data.pageLoadTime,\\n                                DOMC: data.domElementsCount,\\n                                HTTPC: data.httpRequests.count,\\n                                CP: Math.round(data.totalCoveragePercentage),\\n                                NCP: Math.round(data.normTotalCoveragePercentage)\\n                            };\\n                            var customPerfData = {};\\n                            var pagePerfData = {};\\n                            if ( window._adLT) {\\n                                for (var i = 0; i < _adLT.length; i++) {\\n                                    pagePerfData[_adLT[i][0]]  = _adLT[i][1];\\n                                }\\n                            }\\n                            setPagePerfDataForTrackModules(pagePerfData);\\n                            // Track user connection type\\n                            var navConnection = navigator && (navigator.connection || navigator.mozConnection || navigator.webkitConnection) || {};\\n                            pagePerfData[\\'CONNECTION_TYPE\\'] = navConnection.effectiveType || \\'unknown\\';\\n                                                        \\n                            customPerfData[\\'utm\\'] = pagePerfData;\\n                            var perfData = {\\n                                perf_commontime: {\\n                                    initialPageLoad: initialPageLoad\\n                                },\\n                                perf_usertime: customPerfData\\n                            };\\n\\n                            w.rapidInstance.beaconPerformanceData(perfData);\\n                        }\\n                    });\\n                }\\n            });\\n        }\\n    })(window);\\n</script><script type=\"text/javascript\" src=\"https://s.yimg.com/nn/lib/metro/g/myy/advertisement_0.0.19.js\"></script><script type=\"text/javascript\">\\n    (function(w) {\\n        var dabConfig = {\"cookieDurationInDays\":7,\"detectionTimeout\":300,\"enableABPDetection\":true,\"enableDetection\":true,\"enableUBDetection\":false,\"positions\":[\"sda-LDRB\",\"sda-MAST\"]};\\n        var cookieName = \\'thamba\\';\\n        var thamba = false;\\n        var shouldCheckPosition = true;\\n        var cookieDuration = 10080;\\n        var pixelDetectUrl = \"https://www.yahoo.com/px.gif\";\\n        var detectABP = function(daTrk) {\\n    var DPba=new function(){this.detect=function(px,callback){var detected=false;var checksRemain=2;var error1=false;var error2=false;if(typeof callback!=\"function\")return;px+=\"?ch=*&rn=*\";function beforeCheck(callback,timeout){if(checksRemain==0|| timeout>1E3)callback(checksRemain==0&&detected);else setTimeout(function(){beforeCheck(callback,timeout*2)},timeout*2)}function checkImages(){if(--checksRemain)return;detected=!error1&&error2}var random=Math.random()*11;var img1=new Image;img1.onload=checkImages;img1.onerror=function(){error1=true;checkImages()};img1.src=px.replace(/\\\\*/,1).replace(/\\\\*/,random);var img2=new Image;img2.onload=checkImages;img2.onerror=function(){error2=true;checkImages()};img2.src=px.replace(/\\\\*/,2).replace(/\\\\*/,random);beforeCheck(callback,250)}}; \\n    DPba.detect(pixelDetectUrl, function(usesABP) {\\n        if (usesABP) {\\n            var expires = new Date();\\n            expires.setMinutes(expires.getMinutes() + cookieDuration);\\n            daTrk = \\'2\\';\\n            w.wafer.utils.setCookie(cookieName, \\'2\\', {expires: expires, domain: location.hostname, path:\\'/\\'});\\n        }\\n\\n        // this fires rapid when we set cookie either 1 or 2\\n        if ((!thamba && daTrk !== \\'0\\') && w.rapidInstance && w.rapidInstance.beaconEvent) {\\n            w.rapidInstance.beaconEvent(\"datrk\", {pl1: daTrk});\\n        }\\n    });\\n};\\n\\nvar ubDetection = function() {\\n    // primary check: create node has sensitive id on the fly\\n    const decoyId = \\'my-ads\\';\\n    const decoyNode = document.createElement(\\'div\\');\\n    decoyNode.setAttribute(\\'id\\', decoyId);\\n    decoyNode.innerHTML = decoyId;\\n    document.body.appendChild(decoyNode);\\n    \\n    const decoyNodeIns = document.querySelector(`#${decoyId}`);\\n    if (decoyNodeIns && decoyNodeIns.offsetHeight === 0) {\\n        decoyNodeIns.remove();\\n        return true;\\n    }\\n    decoyNodeIns.remove();\\n    \\n    // additional check: check all necessary ad pos dimension\\n    if (shouldCheckPosition) {\\n        const { positions } = dabConfig;\\n        let adposNodeCount = 0;\\n        let hidenPosNodeCount = 0;\\n        \\n        for (const position of positions) {\\n            const adposNode = document.querySelector(`#${position}`);\\n            if (adposNode) {\\n                adposNodeCount += 1;\\n                if (adposNode.offsetHeight === 0) {\\n                    hidenPosNodeCount += 1;\\n                }\\n            }\\n        }\\n\\n        if (adposNodeCount > 0 && adposNodeCount === hidenPosNodeCount) {\\n            return true;\\n        }\\n    }\\n    return false;\\n}\\n\\nvar initABDetection = function() {\\n    var daTrk = \\'0\\';\\n    var cExpiry = 0;\\n    var expires = new Date();\\n\\n    /* General AB Check */\\n    var abSelector = document.getElementById(\\'advertisement-thamba\\');\\n    if (!abSelector) {\\n        daTrk = \\'1\\';\\n        cExpiry = cookieDuration;\\n    }\\n\\n    /* Specific AB Check */\\n    if (dabConfig.enableUBDetection) {\\n        const isUBActive = ubDetection();\\n        if (isUBActive) {\\n            daTrk = \\'1\\';\\n            cExpiry = cookieDuration;\\n        }\\n    }\\n\\n    expires.setMinutes(expires.getMinutes() + cExpiry);\\n\\n    // Sets cookie if we have to clear (block -> non-blocked state) OR\\n    // set with value (non-block -> block state)\\n    if ((thamba && daTrk === \\'0\\') || (!thamba && daTrk === \\'1\\')) {\\n        w.wafer.utils.setCookie(cookieName, daTrk, {expires: expires, domain: location.hostname, path:\\'/\\'});\\n    }\\n\\n    // if (dabConfig.enableABPDetection && daTrk === \\'1\\') { // will uncomment when we can detect container collapsed\\n    if (dabConfig.enableABPDetection) {\\n        detectABP(daTrk);\\n    }\\n};\\n\\nw.wafer && w.wafer.utils && w.wafer.ready  && w.wafer.ready(function () {\\n    setTimeout(initABDetection, dabConfig.detectionTimeout || 300);\\n});\\n    }(window));\\n</script><template id=\"wafer-lightbox-wrapper-template\"><div class=\"wafer-lightbox-wrapper\" tabindex=\"-1\"><div class=\"wafer-lightbox-content\"></div></div></template><script>var fsbeacon = new Image();\\nfsbeacon.src = \\'//geo.yahoo.com/b?s=1197757129&t=\\' + new Date().getTime() + \\'&err_url=\\' + encodeURIComponent(document.URL) + \\'&err=&test=fsb\\';\\nvar fsbcn = new Image();\\nfsbcn.src = \\'//fsbcn.fp.yahoo.com/p?s=1197757129&t=\\' + new Date().getTime() + \\'&err_url=\\' + encodeURIComponent(document.URL) + \\'&err=&test=fsb\\';</script></body></html><!-- FS Fri 02 Jun 00:04:35 UTC 2023 device:smartphone-lite [finance.yahoo.com/smartphone-lite/news/stock-market-news-today-live-updates-june-1-2023-115051823.html] via:HTTP/1.1 istio-ingressgateway-7c8d556bdf-lcjvz.istio-system.canary1-gq1.omega.yahoo.com (Envoy/Istio 1.7.8), http/1.1 media-router-ui7002.canary.media.gq1.yahoo.com (ApacheTrafficServer [cMsSf ]) yrid:fsGBrIHk FS --><!-- YahooFailsafe -->'"
      ]
     },
     "execution_count": 21,
     "metadata": {},
     "output_type": "execute_result"
    }
   ],
   "source": [
    "r.text"
   ]
  },
  {
   "cell_type": "code",
   "execution_count": 16,
   "metadata": {},
   "outputs": [
    {
     "data": {
      "text/plain": [
       "[<p>Stocks popped on Thursday after the<a class=\"link yahoo-link\" data-i13n=\"cpos:1;pos:1\" data-ylk=\"slk:House passed a bill t;cpos:1;pos:1;elm:context_link;itc:0;outcm:mb_qualified_link;_E:mb_qualified_link;ct:story;\" href=\"https://finance.yahoo.com/news/house-passes-debt-ceiling-bill-shifting-focus-to-senate-015440568.html\"> House passed a bill t</a>o raise the debt ceiling late Wednesday evening and focus on Wall Street <a class=\"link yahoo-link\" data-i13n=\"cpos:2;pos:1\" data-ylk=\"slk:turned to Friday's all-important jobs report;cpos:2;pos:1;elm:context_link;itc:0;outcm:mb_qualified_link;_E:mb_qualified_link;ct:story;\" href=\"https://finance.yahoo.com/news/jobs-report-hiring-expected-to-slow-in-may-as-labor-strength-remains-in-focus-for-fed-200040569.html\">turned to Friday's all-important jobs report</a>.</p>,\n",
       " <p>The S&amp;P 500 (<a class=\"link\" data-i13n=\"cpos:3;pos:1\" data-ylk=\"slk:^GSPC;cpos:3;pos:1;elm:context_link;itc:0\" href=\"https://finance.yahoo.com/quote/%5EGSPC?p=%5EGSPC&amp;.tsrc=fin-srch\">^GSPC</a>) rose 0.99%, while the Dow Jones Industrial Average (<a class=\"link\" data-i13n=\"cpos:4;pos:1\" data-ylk=\"slk:^DJI;cpos:4;pos:1;elm:context_link;itc:0\" href=\"https://finance.yahoo.com/quote/%5EDJI?p=%5EDJI&amp;.tsrc=fin-srch\">^DJI</a>) popped 0.47%, or 153 points. The technology-heavy Nasdaq Composite (<a class=\"link\" data-i13n=\"cpos:5;pos:1\" data-ylk=\"slk:^IXIC;cpos:5;pos:1;elm:context_link;itc:0\" href=\"https://finance.yahoo.com/quote/%5EIXIC?p=%5EIXIC&amp;.tsrc=fin-srch\">^IXIC</a>) was 1.28% higher.</p>,\n",
       " <p>A looming U.S. debt default, which Treasury Secretary Janet Yellen warned could come as soon as Monday, had begun to weigh on markets over the last week. But with the House passing the bill in a resounding 314-117 vote, investors will now await action in the Senate.</p>,\n",
       " <p>“The deadline to raise the debt ceiling is rapidly approaching, and the likelihood of triggering a negative market reaction with severe economic consequences will only increase as we approach the precipice,” Business Roundtable CEO Joshua Bolten said in a statement after the House vote.</p>,\n",
       " <p>“We call on the Senate to eliminate the threat of a default by passing this bipartisan bill as soon as possible,\" he added.</p>,\n",
       " <p>The artificial intelligence hype train that has been <a class=\"link yahoo-link\" data-i13n=\"cpos:6;pos:1\" data-ylk=\"slk:driving a rally;cpos:6;pos:1;elm:context_link;itc:0;outcm:mb_qualified_link;_E:mb_qualified_link;ct:story;\" href=\"https://finance.yahoo.com/news/the-magnificent-seven-tech-stocks-drive-markets-higher-as-ai-mania-grips-investors-123029634.html\">driving a rally </a>in the Nasdaq since Nvidia's (<a class=\"link\" data-i13n=\"cpos:7;pos:1\" data-ylk=\"slk:NVDA;cpos:7;pos:1;elm:context_link;itc:0\" href=\"https://finance.yahoo.com/quote/NVDA?p=NVDA&amp;.tsrc=fin-srch\">NVDA</a>) <a class=\"link yahoo-link\" data-i13n=\"cpos:8;pos:1\" data-ylk=\"slk:blowout;cpos:8;pos:1;elm:context_link;itc:0;outcm:mb_qualified_link;_E:mb_qualified_link;ct:story;\" href=\"https://finance.yahoo.com/news/the-generative-ai-hype-bubble-runs-through-nvidia-164142640.html\">blowout</a> earnings report last week hit a speed bump after the close on Wednesday. C3.ai (<a class=\"link\" data-i13n=\"cpos:9;pos:1\" data-ylk=\"slk:AI;cpos:9;pos:1;elm:context_link;itc:0\" href=\"https://finance.yahoo.com/quote/AI?p=AI&amp;.tsrc=fin-srch\">AI</a>) tumbled 13% on Thursday after the company <a class=\"link yahoo-link\" data-i13n=\"cpos:10;pos:1\" data-ylk=\"slk:reported;cpos:10;pos:1;elm:context_link;itc:0;outcm:mb_qualified_link;_E:mb_qualified_link;ct:story;\" href=\"https://finance.yahoo.com/news/c3ai-stock-plummets-after-q1-earnings-beat-expectations-210159080.html\">reported </a>weaker-than-expected full-year revenue guidance. The AI software developer expects revenue in a range of $295-$320 million. Wall Street had hoped for $321 million, per S&amp;P Global Market Intelligence.</p>,\n",
       " <p>Shares of Salesforce (<a class=\"link\" data-i13n=\"cpos:11;pos:1\" data-ylk=\"slk:CRM;cpos:11;pos:1;elm:context_link;itc:0\" href=\"https://finance.yahoo.com/quote/CRM\">CRM</a>) and CrowdStrike (<a class=\"link\" data-i13n=\"cpos:12;pos:1\" data-ylk=\"slk:CRWD;cpos:12;pos:1;elm:context_link;itc:0\" href=\"https://finance.yahoo.com/quote/CRWD\">CRWD</a>) also stumbled. Salesforce fell 4.66% as investors harped on capital expenditure growth of 36% in the quarter. CrowdStrike stock slipped 1.6% losses as its full-year profit forecast came in on the low end of analyst expectations.</p>,\n",
       " <p>Meanwhile retail earnings continued to provide a <a class=\"link yahoo-link\" data-i13n=\"cpos:13;pos:1\" data-ylk=\"slk:mixed picture;cpos:13;pos:1;elm:context_link;itc:0;outcm:mb_qualified_link;_E:mb_qualified_link;ct:story;\" href=\"https://finance.yahoo.com/news/bjs-earnings-tell-the-whole-story-of-the-us-economy-right-now-142702842.html\">mixed picture</a> on consumer spending. After the bell on Wednesday, Nordstrom (<a class=\"link\" data-i13n=\"cpos:14;pos:1\" data-ylk=\"slk:JWN;cpos:14;pos:1;elm:context_link;itc:0\" href=\"https://finance.yahoo.com/quote/JWN\">JWN</a>) topped analyst expectations propelling shares up 4.77% during Thursday's trading session. But on Thursday morning, Macy's (<a class=\"link\" data-i13n=\"cpos:15;pos:1\" data-ylk=\"slk:M;cpos:15;pos:1;elm:context_link;itc:0\" href=\"https://finance.yahoo.com/quote/AI?p=AI&amp;.tsrc=fin-srch\">M</a>) cast a different tone. The retailer's stock rose 1.2% despite lowering its full-year sales and earnings-per-share guidance.</p>,\n",
       " <p>\"We planned the year assuming that the economic health of the consumer would be challenged, but starting in late March, demand trends weakened further in our discretionary categories,\"Macy's chairman and CEO Jeff Gennette said in the company's earnings release.</p>,\n",
       " <p>On the economic front, 235,000 jobless claims were filed in the week ending May 27. Economists had expected 235,000 claims. Friday's nonfarm payroll report is set to show employment rose by 195,000 while the unemployment rate ticked up to 3.5%, according to expectations. In April, the US economy <a class=\"link yahoo-link\" data-i13n=\"cpos:16;pos:1\" data-ylk=\"slk:added;cpos:16;pos:1;elm:context_link;itc:0;outcm:mb_qualified_link;_E:mb_qualified_link;ct:story;\" href=\"https://finance.yahoo.com/news/april-jobs-report-may-5-2023-215956320.html\">added</a> 253,000 jobs, while the unemployment rate fell to 3.4%.</p>,\n",
       " <p><em>Josh is a reporter for Yahoo Finance.</em></p>,\n",
       " <p><a class=\"link\" data-i13n=\"cpos:17;pos:1\" data-ylk=\"slk:Click here for the latest stock market news and in-depth analysis, including events that move stocks;cpos:17;pos:1;elm:context_link;itc:0\" href=\"https://finance.yahoo.com/topic/stock-market-news/\"><strong>Click here for the latest stock market news and in-depth analysis, including events that move stocks</strong></a></p>,\n",
       " <p><a class=\"link\" data-i13n=\"cpos:18;pos:1\" data-ylk=\"slk:Read the latest financial and business news from Yahoo Finance;cpos:18;pos:1;elm:context_link;itc:0\" href=\"https://finance.yahoo.com/news/\"><strong>Read the latest financial and business news from Yahoo Finance</strong></a></p>]"
      ]
     },
     "execution_count": 16,
     "metadata": {},
     "output_type": "execute_result"
    }
   ],
   "source": [
    "paragraphs"
   ]
  },
  {
   "cell_type": "code",
   "execution_count": 17,
   "metadata": {},
   "outputs": [
    {
     "data": {
      "text/plain": [
       "\"Stocks popped on Thursday after the House passed a bill to raise the debt ceiling late Wednesday evening and focus on Wall Street turned to Friday's all-important jobs report.\""
      ]
     },
     "execution_count": 17,
     "metadata": {},
     "output_type": "execute_result"
    }
   ],
   "source": [
    "paragraphs[0].text"
   ]
  },
  {
   "attachments": {},
   "cell_type": "markdown",
   "metadata": {},
   "source": [
    "Extract explicit texts from each paragraph"
   ]
  },
  {
   "cell_type": "code",
   "execution_count": 39,
   "metadata": {},
   "outputs": [],
   "source": [
    "text = [paragraph.text for paragraph in paragraphs]\n",
    "\n",
    "# grab 1st 375 words. you can play around with this number. Otheriwse it'll give index out of range error\n",
    "words = ' '.join(text).split(' ')[:375]\n",
    "ARTICLE = ' '.join(words)"
   ]
  },
  {
   "cell_type": "code",
   "execution_count": 40,
   "metadata": {},
   "outputs": [
    {
     "data": {
      "text/plain": [
       "['Stocks',\n",
       " 'popped',\n",
       " 'on',\n",
       " 'Thursday',\n",
       " 'after',\n",
       " 'the',\n",
       " 'House',\n",
       " 'passed',\n",
       " 'a',\n",
       " 'bill',\n",
       " 'to',\n",
       " 'raise',\n",
       " 'the',\n",
       " 'debt',\n",
       " 'ceiling',\n",
       " 'late',\n",
       " 'Wednesday',\n",
       " 'evening',\n",
       " 'and',\n",
       " 'focus',\n",
       " 'on',\n",
       " 'Wall',\n",
       " 'Street',\n",
       " 'turned',\n",
       " 'to',\n",
       " \"Friday's\",\n",
       " 'all-important',\n",
       " 'jobs',\n",
       " 'report.',\n",
       " 'The',\n",
       " 'S&P',\n",
       " '500',\n",
       " '(^GSPC)',\n",
       " 'rose',\n",
       " '0.99%,',\n",
       " 'while',\n",
       " 'the',\n",
       " 'Dow',\n",
       " 'Jones',\n",
       " 'Industrial',\n",
       " 'Average',\n",
       " '(^DJI)',\n",
       " 'popped',\n",
       " '0.47%,',\n",
       " 'or',\n",
       " '153',\n",
       " 'points.',\n",
       " 'The',\n",
       " 'technology-heavy',\n",
       " 'Nasdaq',\n",
       " 'Composite',\n",
       " '(^IXIC)',\n",
       " 'was',\n",
       " '1.28%',\n",
       " 'higher.',\n",
       " 'A',\n",
       " 'looming',\n",
       " 'U.S.',\n",
       " 'debt',\n",
       " 'default,',\n",
       " 'which',\n",
       " 'Treasury',\n",
       " 'Secretary',\n",
       " 'Janet',\n",
       " 'Yellen',\n",
       " 'warned',\n",
       " 'could',\n",
       " 'come',\n",
       " 'as',\n",
       " 'soon',\n",
       " 'as',\n",
       " 'Monday,',\n",
       " 'had',\n",
       " 'begun',\n",
       " 'to',\n",
       " 'weigh',\n",
       " 'on',\n",
       " 'markets',\n",
       " 'over',\n",
       " 'the',\n",
       " 'last',\n",
       " 'week.',\n",
       " 'But',\n",
       " 'with',\n",
       " 'the',\n",
       " 'House',\n",
       " 'passing',\n",
       " 'the',\n",
       " 'bill',\n",
       " 'in',\n",
       " 'a',\n",
       " 'resounding',\n",
       " '314-117',\n",
       " 'vote,',\n",
       " 'investors',\n",
       " 'will',\n",
       " 'now',\n",
       " 'await',\n",
       " 'action',\n",
       " 'in',\n",
       " 'the',\n",
       " 'Senate.',\n",
       " '“The',\n",
       " 'deadline',\n",
       " 'to',\n",
       " 'raise',\n",
       " 'the',\n",
       " 'debt',\n",
       " 'ceiling',\n",
       " 'is',\n",
       " 'rapidly',\n",
       " 'approaching,',\n",
       " 'and',\n",
       " 'the',\n",
       " 'likelihood',\n",
       " 'of',\n",
       " 'triggering',\n",
       " 'a',\n",
       " 'negative',\n",
       " 'market',\n",
       " 'reaction',\n",
       " 'with',\n",
       " 'severe',\n",
       " 'economic',\n",
       " 'consequences',\n",
       " 'will',\n",
       " 'only',\n",
       " 'increase',\n",
       " 'as',\n",
       " 'we',\n",
       " 'approach',\n",
       " 'the',\n",
       " 'precipice,”',\n",
       " 'Business',\n",
       " 'Roundtable',\n",
       " 'CEO',\n",
       " 'Joshua',\n",
       " 'Bolten',\n",
       " 'said',\n",
       " 'in',\n",
       " 'a',\n",
       " 'statement',\n",
       " 'after',\n",
       " 'the',\n",
       " 'House',\n",
       " 'vote.',\n",
       " '“We',\n",
       " 'call',\n",
       " 'on',\n",
       " 'the',\n",
       " 'Senate',\n",
       " 'to',\n",
       " 'eliminate',\n",
       " 'the',\n",
       " 'threat',\n",
       " 'of',\n",
       " 'a',\n",
       " 'default',\n",
       " 'by',\n",
       " 'passing',\n",
       " 'this',\n",
       " 'bipartisan',\n",
       " 'bill',\n",
       " 'as',\n",
       " 'soon',\n",
       " 'as',\n",
       " 'possible,\"',\n",
       " 'he',\n",
       " 'added.',\n",
       " 'The',\n",
       " 'artificial',\n",
       " 'intelligence',\n",
       " 'hype',\n",
       " 'train',\n",
       " 'that',\n",
       " 'has',\n",
       " 'been',\n",
       " 'driving',\n",
       " 'a',\n",
       " 'rally',\n",
       " 'in',\n",
       " 'the',\n",
       " 'Nasdaq',\n",
       " 'since',\n",
       " \"Nvidia's\",\n",
       " '(NVDA)',\n",
       " 'blowout',\n",
       " 'earnings',\n",
       " 'report',\n",
       " 'last',\n",
       " 'week',\n",
       " 'hit',\n",
       " 'a',\n",
       " 'speed',\n",
       " 'bump',\n",
       " 'after',\n",
       " 'the',\n",
       " 'close',\n",
       " 'on',\n",
       " 'Wednesday.',\n",
       " 'C3.ai',\n",
       " '(AI)',\n",
       " 'tumbled',\n",
       " '13%',\n",
       " 'on',\n",
       " 'Thursday',\n",
       " 'after',\n",
       " 'the',\n",
       " 'company',\n",
       " 'reported',\n",
       " 'weaker-than-expected',\n",
       " 'full-year',\n",
       " 'revenue',\n",
       " 'guidance.',\n",
       " 'The',\n",
       " 'AI',\n",
       " 'software',\n",
       " 'developer',\n",
       " 'expects',\n",
       " 'revenue',\n",
       " 'in',\n",
       " 'a',\n",
       " 'range',\n",
       " 'of',\n",
       " '$295-$320',\n",
       " 'million.',\n",
       " 'Wall',\n",
       " 'Street',\n",
       " 'had',\n",
       " 'hoped',\n",
       " 'for',\n",
       " '$321',\n",
       " 'million,',\n",
       " 'per',\n",
       " 'S&P',\n",
       " 'Global',\n",
       " 'Market',\n",
       " 'Intelligence.',\n",
       " 'Shares',\n",
       " 'of',\n",
       " 'Salesforce',\n",
       " '(CRM)',\n",
       " 'and',\n",
       " 'CrowdStrike',\n",
       " '(CRWD)',\n",
       " 'also',\n",
       " 'stumbled.',\n",
       " 'Salesforce',\n",
       " 'fell',\n",
       " '4.66%',\n",
       " 'as',\n",
       " 'investors',\n",
       " 'harped',\n",
       " 'on',\n",
       " 'capital',\n",
       " 'expenditure',\n",
       " 'growth',\n",
       " 'of',\n",
       " '36%',\n",
       " 'in',\n",
       " 'the',\n",
       " 'quarter.',\n",
       " 'CrowdStrike',\n",
       " 'stock',\n",
       " 'slipped',\n",
       " '1.6%',\n",
       " 'losses',\n",
       " 'as',\n",
       " 'its',\n",
       " 'full-year',\n",
       " 'profit',\n",
       " 'forecast',\n",
       " 'came',\n",
       " 'in',\n",
       " 'on',\n",
       " 'the',\n",
       " 'low',\n",
       " 'end',\n",
       " 'of',\n",
       " 'analyst',\n",
       " 'expectations.',\n",
       " 'Meanwhile',\n",
       " 'retail',\n",
       " 'earnings',\n",
       " 'continued',\n",
       " 'to',\n",
       " 'provide',\n",
       " 'a',\n",
       " 'mixed',\n",
       " 'picture',\n",
       " 'on',\n",
       " 'consumer',\n",
       " 'spending.',\n",
       " 'After',\n",
       " 'the',\n",
       " 'bell',\n",
       " 'on',\n",
       " 'Wednesday,',\n",
       " 'Nordstrom',\n",
       " '(JWN)',\n",
       " 'topped',\n",
       " 'analyst',\n",
       " 'expectations',\n",
       " 'propelling',\n",
       " 'shares',\n",
       " 'up',\n",
       " '4.77%',\n",
       " 'during',\n",
       " \"Thursday's\",\n",
       " 'trading',\n",
       " 'session.',\n",
       " 'But',\n",
       " 'on',\n",
       " 'Thursday',\n",
       " 'morning,',\n",
       " \"Macy's\",\n",
       " '(M)',\n",
       " 'cast',\n",
       " 'a',\n",
       " 'different',\n",
       " 'tone.',\n",
       " 'The',\n",
       " \"retailer's\",\n",
       " 'stock',\n",
       " 'rose',\n",
       " '1.2%',\n",
       " 'despite',\n",
       " 'lowering',\n",
       " 'its',\n",
       " 'full-year',\n",
       " 'sales',\n",
       " 'and',\n",
       " 'earnings-per-share',\n",
       " 'guidance.',\n",
       " '\"We',\n",
       " 'planned',\n",
       " 'the',\n",
       " 'year',\n",
       " 'assuming',\n",
       " 'that',\n",
       " 'the',\n",
       " 'economic',\n",
       " 'health',\n",
       " 'of',\n",
       " 'the',\n",
       " 'consumer',\n",
       " 'would',\n",
       " 'be',\n",
       " 'challenged,',\n",
       " 'but',\n",
       " 'starting',\n",
       " 'in',\n",
       " 'late',\n",
       " 'March,',\n",
       " 'demand',\n",
       " 'trends',\n",
       " 'weakened',\n",
       " 'further',\n",
       " 'in',\n",
       " 'our',\n",
       " 'discretionary',\n",
       " 'categories,\"Macy\\'s',\n",
       " 'chairman',\n",
       " 'and',\n",
       " 'CEO',\n",
       " 'Jeff',\n",
       " 'Gennette',\n",
       " 'said',\n",
       " 'in',\n",
       " 'the',\n",
       " \"company's\",\n",
       " 'earnings',\n",
       " 'release.',\n",
       " 'On',\n",
       " 'the']"
      ]
     },
     "execution_count": 40,
     "metadata": {},
     "output_type": "execute_result"
    }
   ],
   "source": [
    "words"
   ]
  },
  {
   "cell_type": "code",
   "execution_count": 41,
   "metadata": {},
   "outputs": [
    {
     "data": {
      "text/plain": [
       "375"
      ]
     },
     "execution_count": 41,
     "metadata": {},
     "output_type": "execute_result"
    }
   ],
   "source": [
    "len(words)"
   ]
  },
  {
   "cell_type": "code",
   "execution_count": 42,
   "metadata": {},
   "outputs": [
    {
     "data": {
      "text/plain": [
       "'Stocks popped on Thursday after the House passed a bill to raise the debt ceiling late Wednesday evening and focus on Wall Street turned to Friday\\'s all-important jobs report. The S&P 500 (^GSPC) rose 0.99%, while the Dow Jones Industrial Average (^DJI) popped 0.47%, or 153 points. The technology-heavy Nasdaq Composite (^IXIC) was 1.28% higher. A looming U.S. debt default, which Treasury Secretary Janet Yellen warned could come as soon as Monday, had begun to weigh on markets over the last week. But with the House passing the bill in a resounding 314-117 vote, investors will now await action in the Senate. “The deadline to raise the debt ceiling is rapidly approaching, and the likelihood of triggering a negative market reaction with severe economic consequences will only increase as we approach the precipice,” Business Roundtable CEO Joshua Bolten said in a statement after the House vote. “We call on the Senate to eliminate the threat of a default by passing this bipartisan bill as soon as possible,\" he added. The artificial intelligence hype train that has been driving a rally in the Nasdaq since Nvidia\\'s (NVDA) blowout earnings report last week hit a speed bump after the close on Wednesday. C3.ai (AI) tumbled 13% on Thursday after the company reported weaker-than-expected full-year revenue guidance. The AI software developer expects revenue in a range of $295-$320 million. Wall Street had hoped for $321 million, per S&P Global Market Intelligence. Shares of Salesforce (CRM) and CrowdStrike (CRWD) also stumbled. Salesforce fell 4.66% as investors harped on capital expenditure growth of 36% in the quarter. CrowdStrike stock slipped 1.6% losses as its full-year profit forecast came in on the low end of analyst expectations. Meanwhile retail earnings continued to provide a mixed picture on consumer spending. After the bell on Wednesday, Nordstrom (JWN) topped analyst expectations propelling shares up 4.77% during Thursday\\'s trading session. But on Thursday morning, Macy\\'s (M) cast a different tone. The retailer\\'s stock rose 1.2% despite lowering its full-year sales and earnings-per-share guidance. \"We planned the year assuming that the economic health of the consumer would be challenged, but starting in late March, demand trends weakened further in our discretionary categories,\"Macy\\'s chairman and CEO Jeff Gennette said in the company\\'s earnings release. On the'"
      ]
     },
     "execution_count": 42,
     "metadata": {},
     "output_type": "execute_result"
    }
   ],
   "source": [
    "ARTICLE"
   ]
  },
  {
   "cell_type": "code",
   "execution_count": 43,
   "metadata": {},
   "outputs": [],
   "source": [
    "# encode article return pytorch tensor\n",
    "input_ids = tokenizer.encode(ARTICLE, return_tensors='pt')\n",
    "\n",
    "# generate new text using encoded article. Max length of summary set to 55 words. \n",
    "output = model.generate(input_ids, max_length=55, num_beams=5, early_stopping=True)\n",
    "\n",
    "# decode the generated text\n",
    "summary = tokenizer.decode(output[0], skip_special_tokens=True)"
   ]
  },
  {
   "cell_type": "code",
   "execution_count": 45,
   "metadata": {},
   "outputs": [
    {
     "data": {
      "text/plain": [
       "tensor([[31249, 13999,   124,  1789,   244,   109,  1087,  1973,   114,  2272,\n",
       "           112,  2381,   109,  2271,  3307,  1095,  1900,  1709,   111,   777,\n",
       "           124,  2948,  1411,  1552,   112,  1197,   131,   116,   149,   121,\n",
       "         25162,  1665,   731,   107,   139,   520,   759,   969,  2527,   143,\n",
       "           105, 10560,  9747,   158,  3947, 11221, 42999,   108,   277,   109,\n",
       "         16393,  3852,  5411, 14898,   143,   105, 24279,   187,   158, 13999,\n",
       "         21769, 22436,   108,   132, 33752,   884,   107,   139,   552,   121,\n",
       "         22564, 37083, 17794,   143,   105, 23069, 13172,   158,   140, 10859,\n",
       "         19261,   902,   107,   202, 24172,   475,   107,   283,   107,  2271,\n",
       "          3298,   108,   162, 12596,  4754, 16833, 72249,  8112,   256,   331,\n",
       "           130,   783,   130,  1491,   108,   196,  6297,   112,  9835,   124,\n",
       "          2099,   204,   109,   289,   396,   107,   343,   122,   109,  1087,\n",
       "          3618,   109,  2272,   115,   114, 35401, 47422,   121, 34905,  2496,\n",
       "           108,  2714,   138,   239, 17512,   918,   115,   109,  4533,   107,\n",
       "           185,   159,  5591,   112,  2381,   109,  2271,  3307,   117,  4420,\n",
       "          8477,   108,   111,   109, 10396,   113, 24171,   114,  2404,   407,\n",
       "          4658,   122,  3726,  1500,  4726,   138,   209,   815,   130,   145,\n",
       "          1014,   109, 83949,   483,  1423, 45744,  2792, 13527, 23093,  1227,\n",
       "           243,   115,   114,  1736,   244,   109,  1087,  2496,   107,   185,\n",
       "           284,   443,   124,   109,  4533,   112,  4638,   109,  3865,   113,\n",
       "           114,  3298,   141,  3618,   136, 23902,  2272,   130,   783,   130,\n",
       "           433,   745,   178,   717,   107,   139,  4958,  3941, 13470,  1976,\n",
       "           120,   148,   174,  1528,   114,  8418,   115,   109, 37083,   381,\n",
       "         30859,   131,   116,   143, 31598, 15690,   158, 44256,  5264,   731,\n",
       "           289,   396,  1194,   114,  1309, 13338,   244,   109,   686,   124,\n",
       "          1900,   107,   597,  2204,  8025,   143, 13901,   158, 47854, 31081,\n",
       "           124,  1789,   244,   109,   301,  1668, 17389,   121, 10306,   121,\n",
       "         37254,   357,   121,  1019,  2563,  3090,   107,   139,  5344,   680,\n",
       "          4369, 10118,  2563,   115,   114,   499,   113, 27785, 21668,  4811,\n",
       "         18281,   604,   107,  2948,  1411,   196,  8549,   118, 32426,   740,\n",
       "           604,   108,   446,   520,   759,   969,  2871,  2863,  8630,   107,\n",
       "         25688,   113, 16727,   143, 36859,   158,   111, 20665, 46831,   143,\n",
       "         14348, 14472,   158,   163, 15234,   107, 16727,  3175,   384,   107,\n",
       "         79154,   130,  2714, 26077,   316,   124,  1863, 13809,   874,   113,\n",
       "         43693,   115,   109,  2349,   107, 20665, 46831,  1279, 15423,   110,\n",
       "         55990,  5054,   130,   203,   357,   121,  1019,  3508,  5656,   642,\n",
       "           115,   124,   109,   580,   370,   113,  8962,  2772,   107,  8199,\n",
       "          2366,  5264,  2059,   112,   319,   114,  3044,  1082,   124,  2510,\n",
       "          2027,   107,   721,   109, 10673,   124,  1900,   108, 37771,   143,\n",
       "         65514,  1400,   158,  7645,  8962,  2772, 82849,   273,  2853,   164,\n",
       "         27085, 22436,   333,  1789,   131,   116,  2430,  1617,   107,   343,\n",
       "           124,  1789,  1039,   108, 26292,   131,   116,   143,   897,   158,\n",
       "          2682,   114,   291,  4104,   107,   139,  7855,   131,   116,  1279,\n",
       "          3947,   110, 52874,  2409, 12424,   203,   357,   121,  1019,   835,\n",
       "           111,  5264,   121,  3752,   121, 11100,  3090,   107,   198,   284,\n",
       "          2771,   109,   232, 10957,   120,   109,  1500,   426,   113,   109,\n",
       "          2510,   192,   129,  8043,   108,   155,  1215,   115,  1095,  1051,\n",
       "           108,  1806,  2994, 22842,   701,   115,   150, 33192,  3510,   745,\n",
       "         12791,   415,   131,   116,  7046,   111,  2792,  5970,  6888, 34760,\n",
       "           243,   115,   109,   301,   131,   116,  5264,  1131,   107,   651,\n",
       "           109,     1]])"
      ]
     },
     "execution_count": 45,
     "metadata": {},
     "output_type": "execute_result"
    }
   ],
   "source": [
    "input_ids"
   ]
  },
  {
   "cell_type": "code",
   "execution_count": 46,
   "metadata": {},
   "outputs": [
    {
     "data": {
      "text/plain": [
       "tensor([[    0,   139,  1087,  1973,   114,  2272,   112,  2381,   109,  2271,\n",
       "          3307,  1095,  1900,   107, 17164, 17512,  1197,   123,   116,   149,\n",
       "           121, 25162,   475,   107,   283,   107,  1665,   731,     1]])"
      ]
     },
     "execution_count": 46,
     "metadata": {},
     "output_type": "execute_result"
    }
   ],
   "source": [
    "output"
   ]
  },
  {
   "cell_type": "code",
   "execution_count": 44,
   "metadata": {},
   "outputs": [
    {
     "data": {
      "text/plain": [
       "'The House passed a bill to raise the debt ceiling late Wednesday. Investors await Friday’s all-important U.S. jobs report'"
      ]
     },
     "execution_count": 44,
     "metadata": {},
     "output_type": "execute_result"
    }
   ],
   "source": [
    "summary"
   ]
  },
  {
   "attachments": {},
   "cell_type": "markdown",
   "metadata": {},
   "source": [
    "# 4. Building a News and Sentiment Piepline"
   ]
  },
  {
   "cell_type": "code",
   "execution_count": 49,
   "metadata": {},
   "outputs": [],
   "source": [
    "monitored_tickers = [\"GME\", \"TSLA\", \"BTC\"]"
   ]
  },
  {
   "attachments": {},
   "cell_type": "markdown",
   "metadata": {},
   "source": [
    "### 4.1 Search for Stocks News using Google and yahoo Finance"
   ]
  },
  {
   "cell_type": "code",
   "execution_count": 50,
   "metadata": {},
   "outputs": [],
   "source": [
    "def search_for_stocks_news_url(ticker):\n",
    "    \"\"\"returns baseline URLS for \"GME\", \"TSLA\", \"BTC\"\n",
    "\n",
    "    Args:\n",
    "        ticker list: [\"GME\", \"TSLA\", \"BTC\"]\n",
    "\n",
    "    Returns:\n",
    "        list: list of hrefs tags\n",
    "    \"\"\"\n",
    "    search_url = \"https://www.google.com/search?q=yahoo+finance+{}&tbm=nws\".format(ticker)\n",
    "    r = requests.get(search_url)\n",
    "    soup = BeautifulSoup(r.text, 'html.parser')\n",
    "    # look for a tags\n",
    "    atags = soup.find_all('a')\n",
    "    # look for href in a tags\n",
    "    hrefs = [link['href'] for link in atags]\n",
    "    return hrefs"
   ]
  },
  {
   "attachments": {},
   "cell_type": "markdown",
   "metadata": {},
   "source": [
    "Breakdown of the above code:"
   ]
  },
  {
   "cell_type": "code",
   "execution_count": 52,
   "metadata": {},
   "outputs": [],
   "source": [
    "ticker = \"ETH\"\n",
    "search_url = f\"https://www.google.com/search?q=yahoo+finance+{ticker}&tbm=nws\""
   ]
  },
  {
   "cell_type": "code",
   "execution_count": 53,
   "metadata": {},
   "outputs": [
    {
     "data": {
      "text/plain": [
       "'https://www.google.com/search?q=yahoo+finance+ETH&tbm=nws'"
      ]
     },
     "execution_count": 53,
     "metadata": {},
     "output_type": "execute_result"
    }
   ],
   "source": [
    "search_url"
   ]
  },
  {
   "cell_type": "code",
   "execution_count": 54,
   "metadata": {},
   "outputs": [],
   "source": [
    "r = requests.get(search_url)"
   ]
  },
  {
   "cell_type": "code",
   "execution_count": 55,
   "metadata": {},
   "outputs": [
    {
     "data": {
      "text/plain": [
       "<Response [200]>"
      ]
     },
     "execution_count": 55,
     "metadata": {},
     "output_type": "execute_result"
    }
   ],
   "source": [
    "r"
   ]
  },
  {
   "cell_type": "code",
   "execution_count": 56,
   "metadata": {},
   "outputs": [
    {
     "data": {
      "text/plain": [
       "'<!doctype html><html lang=\"en\"><head><meta charset=\"UTF-8\"><meta content=\"/images/branding/googleg/1x/googleg_standard_color_128dp.png\" itemprop=\"image\"><title>yahoo finance ETH - Google Search</title><script nonce=\"kuJ78BYDayES4KtKHyB0-g\">(function(){\\ndocument.documentElement.addEventListener(\"submit\",function(b){var a;if(a=b.target){var c=a.getAttribute(\"data-submitfalse\");a=\"1\"===c||\"q\"===c&&!a.elements.q.value?!0:!1}else a=!1;a&&(b.preventDefault(),b.stopPropagation())},!0);document.documentElement.addEventListener(\"click\",function(b){var a;a:{for(a=b.target;a&&a!==document.documentElement;a=a.parentElement)if(\"A\"===a.tagName){a=\"1\"===a.getAttribute(\"data-nohref\");break a}a=!1}a&&b.preventDefault()},!0);}).call(this);(function(){var a=window.performance;window.start=Date.now();a:{var b=window;if(a){var c=a.timing;if(c){var d=c.navigationStart,f=c.responseStart;if(f>d&&f<=window.start){window.start=f;b.wsrt=f-d;break a}}a.now&&(b.wsrt=Math.floor(a.now()))}}window.google=window.google||{};var h=function(g){g&&g.target.setAttribute(\"data-iml\",String(Date.now()))};document.documentElement.addEventListener(\"load\",h,!0);google.rglh=function(){document.documentElement.removeEventListener(\"load\",h,!0)};}).call(this);(function(){window._skwEvts=[];})();(function(){window.google.erd={jsr:1,bv:1803,de:true};})();(function(){var sdo=false;var mei=10;\\nvar h=this||self;var k,l=null!=(k=h.mei)?k:1,n,p=null!=(n=h.sdo)?n:!0,q=0,r,t=google.erd,v=t.jsr;google.ml=function(a,b,d,m,e){e=void 0===e?2:e;b&&(r=a&&a.message);if(google.dl)return google.dl(a,e,d),null;if(0>v){window.console&&console.error(a,d);if(-2===v)throw a;b=!1}else b=!a||!a.message||\"Error loading script\"===a.message||q>=l&&!m?!1:!0;if(!b)return null;q++;d=d||{};b=encodeURIComponent;var c=\"/gen_204?atyp=i&ei=\"+b(google.kEI);google.kEXPI&&(c+=\"&jexpid=\"+b(google.kEXPI));c+=\"&srcpg=\"+b(google.sn)+\"&jsr=\"+b(t.jsr)+\"&bver=\"+b(t.bv);var f=a.lineNumber;void 0!==f&&(c+=\"&line=\"+f);var g=\\na.fileName;g&&(0<g.indexOf(\"-extension:/\")&&(e=3),c+=\"&script=\"+b(g),f&&g===window.location.href&&(f=document.documentElement.outerHTML.split(\"\\\\n\")[f],c+=\"&cad=\"+b(f?f.substring(0,300):\"No script found.\")));c+=\"&jsel=\"+e;for(var u in d)c+=\"&\",c+=b(u),c+=\"=\",c+=b(d[u]);c=c+\"&emsg=\"+b(a.name+\": \"+a.message);c=c+\"&jsst=\"+b(a.stack||\"N/A\");12288<=c.length&&(c=c.substr(0,12288));a=c;m||google.log(0,\"\",a);return a};window.onerror=function(a,b,d,m,e){r!==a&&(a=e instanceof Error?e:Error(a),void 0===d||\"lineNumber\"in a||(a.lineNumber=d),void 0===b||\"fileName\"in a||(a.fileName=b),google.ml(a,!1,void 0,!1,\"SyntaxError\"===a.name||\"SyntaxError\"===a.message.substring(0,11)||-1!==a.message.indexOf(\"Script error\")?3:0));r=null;p&&q>=l&&(window.onerror=null)};})();(function(){var c=[],e=0;window.ping=function(b){-1==b.indexOf(\"&zx\")&&(b+=\"&zx=\"+Date.now());var a=new Image,d=e++;c[d]=a;a.onerror=a.onload=a.onabort=function(){delete c[d]};a.src=b};}).call(this);</script><style>a{color:#1a0dab;text-decoration:none;tap-highlight-color:rgba(0,0,0,.10)}a:visited{color:#4b11a8}a:hover{text-decoration:underline}img{border:0}html{font-family:arial,sans-serif;font-size:14px;line-height:20px;text-size-adjust:100%;color:#3c4043;word-wrap:break-word;background-color:#fff}.bRsWnc{background-color:#fff;border-top:1px solid #dadce0;height:39px;overflow:hidden}.N6RWV{height:51px;overflow-scrolling:touch;overflow-x:auto;overflow-y:hidden}.Uv67qb{box-pack:justify;font-size:12px;line-height:37px;justify-content:space-between;justify-content:space-between}.Uv67qb a,.Uv67qb span{color:#70757a;display:block;flex:none;padding:0 16px;text-align:center;text-transform:uppercase;}span.OXXup{border-bottom:2px solid #4285f4;color:#4285f4;font-weight:bold}a.eZt8xd:visited{color:#70757a}.FElbsf{border-left:1px solid rgba(0,0,0,.12)}header article{overflow:visible}.Pg70bf{height:39px;display:box;display:flex;display:flex;width:100%}.H0PQec{position:relative;flex:1}.sbc{display:flex;width:100%}.Pg70bf input{margin:2px 4px 2px 8px;}.x{width:26px;color:#70757a;font:27px/38px arial, sans-serif;line-height:40px;}#qdClwb{flex:0 0 auto;width:39px;height:39px;border-bottom:0;padding:0;border-top-right-radius:8px;background-color:#1a73e8;border:1px solid #1a73e8;background-image:url(data:image/gif;base64,R0lGODdhJAAjAPIHAODr/nCk+MPZ/FmV96zK+/7+/5K5+kqL9iwAAAAAJAAjAEADani63P4wykmbKcQRXDscQAEMXmmeaLQVLCukzyC09AjfeK7v/MAajACLhPMVAgwjsUcEiZa8xgAYrVqv2Kx2iwsIAAABknfBBAKrTE4IcMyot8ur8datqIbQfJdnAfo2WE6BV05wXIiJigkAOw==);}.sc{font-size:16px;position:absolute;top:39px;left:0;right:0;box-shadow:0 2px 5px rgba(0,0,0,.2);z-index:2;background-color:#fff}.sc>div{padding:10px 10px;padding-left:16px;padding-left:14px;border-top:1px solid #dfe1e5;}.scs{background-color:#fafafa;}.noHIxc{display:block;font-size:16px;padding:0 0 0 8px;flex:1;height:35px;outline:none;border:none;width:100%;-webkit-tap-highlight-color:rgba(0,0,0,0);overflow:hidden;}.sbc input[type=text]{background:none}.bz1lBb{background-color:#fff;border-radius:8px 8px 0 0;box-shadow:0 0 0 1px #dfe1e5;margin-top:24px;}.KP7LCb{border-radius:0 0 8px 8px;box-shadow:0px 1px 0px 1px #dfe1e5;margin-bottom:30px;overflow:hidden}html{background-color:#fff}body{margin:0 auto 0 156px;max-width:652px;min-width:652px;padding:0 8px}.cOl4Id{letter-spacing:-1px;text-align:center;font:22pt Futura, Arial, sans-serif;height:37px;font-smoothing:antialiased;padding:32px 28px 0 24px;position:absolute;left:0;top:0}.cOl4Id span{display:inline-block}.V6gwVd{color:#4285f4}.iWkuvd{color:#ea4335}.cDrQ7{color:#fcc934}.ntlR9{color:#34a853}.tJ3Myc{-webkit-transform:rotate(-20deg);position:relative;left:-1px;display:inline-block}footer{text-align:center;margin-top:18px}footer a,footer a:visited,.smiUbb{color:#70757a}.xeDNfc{margin:0 13px;white-space:nowrap}#EOlPnc{margin-top:36px}#EOlPnc>div{margin:20px}.Srfpq{color:#70757a}</style></head><body jsmodel=\"hspDDf\"><header id=\"hdr\"><script nonce=\"kuJ78BYDayES4KtKHyB0-g\">(function(){\\nvar k=this||self,l=function(a){var b=typeof a;return\"object\"==b&&null!=a||\"function\"==b},m=function(a,b){function c(){}c.prototype=b.prototype;a.j=b.prototype;a.prototype=new c;a.prototype.constructor=a;a.l=function(d,e,f){for(var g=Array(arguments.length-2),h=2;h<arguments.length;h++)g[h-2]=arguments[h];return b.prototype[e].apply(d,g)}};var n=Array.prototype.indexOf?function(a,b){return Array.prototype.indexOf.call(a,b,void 0)}:function(a,b){if(\"string\"===typeof a)return\"string\"!==typeof b||1!=b.length?-1:a.indexOf(b,0);for(var c=0;c<a.length;c++)if(c in a&&a[c]===b)return c;return-1};var p=function(a){return\"string\"==typeof a.className?a.className:a.getAttribute&&a.getAttribute(\"class\")||\"\"},q=function(a,b){\"string\"==typeof a.className?a.className=b:a.setAttribute&&a.setAttribute(\"class\",b)},r=function(a,b){a.classList?b=a.classList.contains(b):(a=a.classList?a.classList:p(a).match(/\\\\S+/g)||[],b=0<=n(a,b));return b},v=function(){var a=t,b=u;a.classList?a.classList.remove(b):r(a,b)&&q(a,Array.prototype.filter.call(a.classList?a.classList:p(a).match(/\\\\S+/g)||[],function(c){return c!=\\nb}).join(\" \"))};function w(){var a=k.navigator;return a&&(a=a.userAgent)?a:\"\"};var x=function(a){x[\" \"](a);return a};x[\" \"]=function(){};var y=-1!=w().indexOf(\"Gecko\")&&!(-1!=w().toLowerCase().indexOf(\"webkit\")&&-1==w().indexOf(\"Edge\"))&&!(-1!=w().indexOf(\"Trident\")||-1!=w().indexOf(\"MSIE\"))&&-1==w().indexOf(\"Edge\");var z=function(a,b){this.type=a;this.target=b};z.prototype.g=function(){};var A=function(){if(!k.addEventListener||!Object.defineProperty)return!1;var a=!1,b=Object.defineProperty({},\"passive\",{get:function(){a=!0}});try{var c=function(){};k.addEventListener(\"test\",c,b);k.removeEventListener(\"test\",c,b)}catch(d){}return a}();var C=function(a){z.call(this,a?a.type:\"\");this.relatedTarget=this.target=null;this.button=this.screenY=this.screenX=this.clientY=this.clientX=0;this.key=\"\";this.keyCode=0;this.metaKey=this.shiftKey=this.altKey=this.ctrlKey=!1;this.state=null;this.pointerId=0;this.pointerType=\"\";this.h=null;if(a){var b=this.type=a.type,c=a.changedTouches&&a.changedTouches.length?a.changedTouches[0]:null;this.target=a.target||a.srcElement;var d=a.relatedTarget;if(d){if(y){a:{try{x(d.nodeName);var e=!0;break a}catch(f){}e=\\n!1}e||(d=null)}}else\"mouseover\"==b?d=a.fromElement:\"mouseout\"==b&&(d=a.toElement);this.relatedTarget=d;c?(this.clientX=void 0!==c.clientX?c.clientX:c.pageX,this.clientY=void 0!==c.clientY?c.clientY:c.pageY,this.screenX=c.screenX||0,this.screenY=c.screenY||0):(this.clientX=void 0!==a.clientX?a.clientX:a.pageX,this.clientY=void 0!==a.clientY?a.clientY:a.pageY,this.screenX=a.screenX||0,this.screenY=a.screenY||0);this.button=a.button;this.keyCode=a.keyCode||0;this.key=a.key||\"\";this.ctrlKey=a.ctrlKey;this.altKey=a.altKey;this.shiftKey=a.shiftKey;this.metaKey=a.metaKey;this.pointerId=a.pointerId||0;this.pointerType=\"string\"===typeof a.pointerType?a.pointerType:B[a.pointerType]||\"\";this.state=a.state;this.h=a;a.defaultPrevented&&C.j.g.call(this)}};m(C,z);var B={2:\"touch\",3:\"pen\",4:\"mouse\"};C.prototype.g=function(){C.j.g.call(this);var a=this.h;a.preventDefault?a.preventDefault():a.returnValue=!1};var D=\"closure_listenable_\"+(1E6*Math.random()|0);var E=0;var F=function(a,b,c,d,e){this.listener=a;this.proxy=null;this.src=b;this.type=c;this.capture=!!d;this.h=e;this.key=++E;this.g=this.i=!1},G=function(a){a.g=!0;a.listener=null;a.proxy=null;a.src=null;a.h=null};var H=function(a){this.src=a;this.g={};this.h=0};H.prototype.add=function(a,b,c,d,e){var f=a.toString();a=this.g[f];a||(a=this.g[f]=[],this.h++);var g;a:{for(g=0;g<a.length;++g){var h=a[g];if(!h.g&&h.listener==b&&h.capture==!!d&&h.h==e)break a}g=-1}-1<g?(b=a[g],c||(b.i=!1)):(b=new F(b,this.src,f,!!d,e),b.i=c,a.push(b));return b};var I=\"closure_lm_\"+(1E6*Math.random()|0),J={},K=0,M=function(a,b,c,d,e){if(d&&d.once)return L(a,b,c,d,e);if(Array.isArray(b)){for(var f=0;f<b.length;f++)M(a,b[f],c,d,e);return null}c=N(c);return a&&a[D]?a.g(b,c,l(d)?!!d.capture:!!d,e):O(a,b,c,!1,d,e)},O=function(a,b,c,d,e,f){if(!b)throw Error(\"a\");var g=l(e)?!!e.capture:!!e,h=P(a);h||(a[I]=h=new H(a));c=h.add(b,c,d,g,f);if(c.proxy)return c;d=Q();c.proxy=d;d.src=a;d.listener=c;if(a.addEventListener)A||(e=g),void 0===e&&(e=!1),a.addEventListener(b.toString(),d,e);else if(a.attachEvent)a.attachEvent(R(b.toString()),d);else if(a.addListener&&a.removeListener)a.addListener(d);else throw Error(\"b\");K++;return c},Q=function(){var a=S,b=function(c){return a.call(b.src,b.listener,c)};return b},L=function(a,b,c,d,e){if(Array.isArray(b)){for(var f=0;f<b.length;f++)L(a,b[f],c,d,e);return null}c=N(c);return a&&a[D]?a.h(b,c,l(d)?!!d.capture:!!d,e):O(a,b,c,!0,d,e)},T=function(a){if(\"number\"!==typeof a&&a&&!a.g){var b=a.src;if(b&&b[D])b.o(a);else{var c=a.type,d=a.proxy;b.removeEventListener?b.removeEventListener(c,d,a.capture):b.detachEvent?b.detachEvent(R(c),d):b.addListener&&b.removeListener&&b.removeListener(d);K--;if(c=P(b)){d=a.type;if(d in c.g){var e=c.g[d],f=n(e,a),g;(g=0<=f)&&Array.prototype.splice.call(e,f,1);g&&(G(a),0==c.g[d].length&&(delete c.g[d],c.h--))}0==c.h&&(c.src=null,b[I]=null)}else G(a)}}},R=function(a){return a in J?J[a]:J[a]=\"on\"+a},S=function(a,b){if(a.g)a=!0;else{b=new C(b,this);var c=a.listener,d=a.h||a.src;a.i&&T(a);a=c.call(d,b)}return a},P=function(a){a=a[I];return a instanceof H?a:null},U=\"__closure_events_fn_\"+(1E9*Math.random()>>>0),N=function(a){if(\"function\"===typeof a)return a;a[U]||(a[U]=function(b){return a.handleEvent(b)});return a[U]};var u,t=document.documentElement,V;function W(){T(V);V=L(t,\"mousedown\",function(){v();X()},{capture:!0})}function X(){T(V);V=M(t,\"keydown\",function(a){if(9===a.keyCode){a=t;var b=u;if(a.classList)a.classList.add(b);else if(!r(a,b)){var c=p(a);q(a,c+(0<c.length?\" \"+b:b))}W()}})};u=\"zAoYTe\";X();}).call(this);</script><div class=\"cOl4Id\"><a href=\"/?sa=X&amp;ved=0ahUKEwiDh7KRg6X_AhVAOEQIHd-QDIEQOwgC\"><span class=\"V6gwVd\">G</span><span class=\"iWkuvd\">o</span><span class=\"cDrQ7\">o</span><span class=\"V6gwVd\">g</span><span class=\"ntlR9\">l</span><span class=\"iWkuvd tJ3Myc\">e</span></a></div><div class=\"bz1lBb\"><form class=\"Pg70bf\" id=\"sf\"><input name=\"ie\" value=\"ISO-8859-1\" type=\"hidden\"><input name=\"tbm\" value=\"nws\" type=\"hidden\"><div class=\"H0PQec\"><div class=\"sbc esbc\"><input class=\"noHIxc\" value=\"yahoo finance ETH\" autocapitalize=\"none\" autocomplete=\"off\" name=\"q\" spellcheck=\"false\" type=\"text\"><input name=\"oq\" type=\"hidden\"><input name=\"aqs\" type=\"hidden\"><div class=\"x\">×</div><div class=\"sc\"></div></div></div><button id=\"qdClwb\" type=\"submit\"></button></form></div><noscript><meta content=\"0;url=/search?q=yahoo+finance+ETH&amp;tbm=nws&amp;ie=UTF-8&amp;gbv=1&amp;sei=PRt6ZMP0M8DwkPIP36GyiAg\" http-equiv=\"refresh\"><style>table,div,span,p{display:none}</style><div style=\"display:block\">Please click <a href=\"/search?q=yahoo+finance+ETH&amp;tbm=nws&amp;ie=UTF-8&amp;gbv=1&amp;sei=PRt6ZMP0M8DwkPIP36GyiAg\">here</a> if you are not redirected within a few seconds.</div></noscript></header><div id=\"main\"><div><div class=\"KP7LCb\"> <div class=\"bRsWnc\"> <div class=\"N6RWV\"> <div class=\"Pg70bf Uv67qb\"> <a class=\"eZt8xd\" href=\"/search?q=yahoo+finance+ETH&amp;ie=UTF-8&amp;source=lnms&amp;sa=X&amp;ved=0ahUKEwiDh7KRg6X_AhVAOEQIHd-QDIEQ_AUIBSgA\">All</a><span class=\"OXXup\">News</span><a class=\"eZt8xd\" href=\"/search?q=yahoo+finance+ETH&amp;ie=UTF-8&amp;tbm=vid&amp;source=lnms&amp;sa=X&amp;ved=0ahUKEwiDh7KRg6X_AhVAOEQIHd-QDIEQ_AUIBygC\">Videos</a><a class=\"eZt8xd\" href=\"/search?q=yahoo+finance+ETH&amp;ie=UTF-8&amp;tbm=isch&amp;source=lnms&amp;sa=X&amp;ved=0ahUKEwiDh7KRg6X_AhVAOEQIHd-QDIEQ_AUICCgD\">Images</a>  <a href=\"https://maps.google.com/maps?q=yahoo+finance+ETH&amp;um=1&amp;ie=UTF-8&amp;sa=X&amp;ved=0ahUKEwiDh7KRg6X_AhVAOEQIHd-QDIEQ_AUICSgE\">Maps</a>  <a href=\"/search?q=yahoo+finance+ETH&amp;ie=UTF-8&amp;tbm=shop&amp;source=lnms&amp;sa=X&amp;ved=0ahUKEwiDh7KRg6X_AhVAOEQIHd-QDIEQ_AUICigF\">Shopping</a>  <a href=\"/search?q=yahoo+finance+ETH&amp;ie=UTF-8&amp;tbm=bks&amp;source=lnms&amp;sa=X&amp;ved=0ahUKEwiDh7KRg6X_AhVAOEQIHd-QDIEQ_AUICygG\">Books</a>  <div class=\"FElbsf\"><a href=\"/advanced_search\" style=\"white-space:nowrap\" id=\"st-toggle\" role=\"button\">Search tools</a></div> </div> </div> </div> </div><div class=\"Pg70bf wEsjbd Gx5Zad xpd EtOod pkphOe\" style=\"display:none\" id=\"st-card\"><style>.wEsjbd{background-color:#fff;height:44px;white-space:nowrap}.coPU8c{height:60px;overflow-scrolling:touch;overflow-x:auto;overflow-y:hidden}.Xj2aue{height:44px;overflow:hidden}.RnNGze{margin:11px 16px}.wEsjbd div,.wEsjbd a,.wEsjbd li{outline-width:0;outline:none}</style><div class=\"Xj2aue\"><div class=\"coPU8c\"><div class=\"RnNGze\"><style>.PA9J5{display:inline-block}.RXaOfd{display:inline-block;height:22px;position:relative;padding-top:0;padding-bottom:0;padding-right:16px;padding-left:0;line-height:22px;cursor:pointer;text-transform:uppercase;font-size:12px;color:#70757a}.sa1toc{background:#fff;display:none;position:absolute;border:1px solid #dadce0;box-shadow:0 2px 4px rgba(0,0,0,.3);margin:0;white-space:nowrap;z-index:103;line-height:17px;padding-top:5px;padding-bottom:5px;padding-left:0}.PA9J5:hover .sa1toc{display:block}.mGSy8d a:active,.RXaOfd:active{color:#4285f4}</style><div class=\"PA9J5\"><div class=\"RXaOfd\" role=\"button\" tabindex=\"0\"><style>.TWMOUc{display:inline-block;padding-right:14px;white-space:nowrap}.vQYuGf{font-weight:bold}.OmTIzf{border-color:#909090 transparent;border-style:solid;border-width:4px 4px 0 4px;width:0;height:0;margin-left:-10px;top:50%;margin-top:-2px;position:absolute}.RXaOfd:active .OmTIzf{border-color:#4285f4 transparent}</style><div class=\"TWMOUc\">Recent</div><span class=\"OmTIzf\"></span></div><ul class=\"sa1toc ozatM\"><style>.ozatM{font-size:12px;text-transform:uppercase}.ozatM .yNFsl,.ozatM li{list-style-type:none;list-style-position:outside;list-style-image:none}.yNFsl.SkUj4c,.yNFsl a{color:#70757a;text-decoration:none;padding:6px 44px 6px 14px;line-height:17px;display:block}.SkUj4c{background-image:url(//ssl.gstatic.com/ui/v1/menu/checkmark2.png);background-position:right center;background-repeat:no-repeat}.SkUj4c:active{background-color:#f8f9fa}</style><li class=\"yNFsl SkUj4c\">Recent</li><li class=\"yNFsl\"><a href=\"/search?q=yahoo+finance+ETH&amp;ie=UTF-8&amp;tbm=nws&amp;source=lnt&amp;tbs=qdr:h&amp;sa=X&amp;ved=0ahUKEwiDh7KRg6X_AhVAOEQIHd-QDIEQpwUIDQ\">Past hour</a></li><li class=\"yNFsl\"><a href=\"/search?q=yahoo+finance+ETH&amp;ie=UTF-8&amp;tbm=nws&amp;source=lnt&amp;tbs=qdr:d&amp;sa=X&amp;ved=0ahUKEwiDh7KRg6X_AhVAOEQIHd-QDIEQpwUIDg\">Past 24 hours</a></li><li class=\"yNFsl\"><a href=\"/search?q=yahoo+finance+ETH&amp;ie=UTF-8&amp;tbm=nws&amp;source=lnt&amp;tbs=qdr:w&amp;sa=X&amp;ved=0ahUKEwiDh7KRg6X_AhVAOEQIHd-QDIEQpwUIDw\">Past week</a></li><li class=\"yNFsl\"><a href=\"/search?q=yahoo+finance+ETH&amp;ie=UTF-8&amp;tbm=nws&amp;source=lnt&amp;tbs=qdr:m&amp;sa=X&amp;ved=0ahUKEwiDh7KRg6X_AhVAOEQIHd-QDIEQpwUIEA\">Past month</a></li><li class=\"yNFsl\"><a href=\"/search?q=yahoo+finance+ETH&amp;ie=UTF-8&amp;tbm=nws&amp;source=lnt&amp;tbs=qdr:y&amp;sa=X&amp;ved=0ahUKEwiDh7KRg6X_AhVAOEQIHd-QDIEQpwUIEQ\">Past year</a></li><li class=\"yNFsl\"><a href=\"/search?q=yahoo+finance+ETH&amp;ie=UTF-8&amp;tbm=nws&amp;source=lnt&amp;tbs=ar:1&amp;sa=X&amp;ved=0ahUKEwiDh7KRg6X_AhVAOEQIHd-QDIEQpwUIEg\">Archives</a></li></ul></div><div class=\"PA9J5\"><div class=\"RXaOfd\" role=\"button\" tabindex=\"0\"><div class=\"TWMOUc\">Sorted by relevance</div><span class=\"OmTIzf\"></span></div><ul class=\"sa1toc ozatM\"><li class=\"yNFsl SkUj4c\">Sorted by relevance</li><li class=\"yNFsl\"><a href=\"/search?q=yahoo+finance+ETH&amp;ie=UTF-8&amp;tbm=nws&amp;source=lnt&amp;tbs=sbd:1&amp;sa=X&amp;ved=0ahUKEwiDh7KRg6X_AhVAOEQIHd-QDIEQpwUIFA\">Sorted by date</a></li></ul></div></div></div></div><script nonce=\"kuJ78BYDayES4KtKHyB0-g\">(function(){var a=document.getElementById(\"st-toggle\"),b=document.getElementById(\"st-card\");a&&b&&a.addEventListener(\"click\",function(c){b.style.display=b.style.display?\"\":\"none\";c.preventDefault()},!1);}).call(this);</script></div></div><style>.Gx5Zad{background-color:#fff;margin-bottom:30px;box-shadow:0 0 0 1px #dfe1e5;border-radius:8px}.pkphOe{font-size:14px;line-height:22px;}.EtOod>*:first-child{border-top-left-radius:8px;border-top-right-radius:8px}.EtOod>*:last-child{border-bottom-left-radius:8px;border-bottom-right-radius:8px}.EtOod.avPKgf>*:last-child{border-bottom-left-radius:4px}.EtOod>.qxDOhb>*:first-child{border-top-left-radius:8px;border-top-right-radius:8px}.EtOod>.qxDOhb>*:last-child{border-bottom-left-radius:8px;border-bottom-right-radius:8px}.fP1Qef{background:transparent !important;box-shadow:none !important;border:none !important}.Gx5Zad.fP1Qef{margin-top:-12px;margin-bottom:18px}a.fdYsqf{color:#4b11a8}.rl7ilb{display:block;clear:both}.egMi0{margin-bottom:-19px}.kCrYT{padding:12px 16px 12px}.sCuL3{position:absolute;width:100%;top:0;left:0;padding-top:1px;margin-bottom:-1px}.j039Wc{padding-top:28px;margin-bottom:-1px}.DnJfK{position:relative}.l97dzf{font-weight:400}.zBAuLc{line-height:normal;margin:0;padding:0}.BNeawe{white-space:pre-line;word-wrap:break-word}.vvjwJb{color:#1a0dab;font-size:20px;line-height:26px}a:visited .vvjwJb,.vvjwJb a:visited{color:#4b11a8}.vvjwJb.HrGdeb{color:#fff}a:visited .vvjwJb.HrGdeb,.vvjwJb.HrGdeb a:visited{color:rgba(255,255,255,.70)}.UPmit{font-size:14px;line-height:22px}.UPmit.HrGdeb{color:rgba(255,255,255,.70)}.UPmit.AP7Wnd{color:#202124}.lRVwie{text-overflow:ellipsis;white-space:nowrap;overflow:hidden}.lcJF1d{border-radius:8px;margin-left:16px;float:right;}.h1hFNe{display:inline-block;position:relative}.Q6Xouf{overflow:hidden}.G6SP0b{display:inline-block}.eeoFaf{position:relative}.Ap5OSd{padding-bottom:12px}.s3v9rd{font-size:14px;line-height:22px}.s3v9rd.HrGdeb{color:#fff}.s3v9rd.AP7Wnd{color:#202124}.r0bn4c.tr0dw{color:rgba(255,255,255,.70)}.r0bn4c.rQMQod{color:#70757a}.rLshyf,.BmP5tf{padding-top:12px;padding-bottom:12px}.YOx3Ab{padding-left:16px;}.w1C3Le,.BmP5tf,.G5NbBd,.CS4w5b{padding-left:16px;padding-right:16px;}.G5NbBd{padding-bottom:12px}.CS4w5b{padding-top:12px}.nMymef{display:flex}.G5eFlf{flex:1;display:block}.nMymef span{text-align:center}.EYqSq{margin:6px 4px 9px 0;border-radius:100%;display:inline-block;height:10px;vertical-align:middle;width:10px}.dfB0uf{color:#3c4043;font-weight:bold}</style><div></div><div><div class=\"Gx5Zad fP1Qef xpd EtOod pkphOe\"><a href=\"/url?q=https://finance.yahoo.com/news/chatgpt-price-predictions-june-bitcoin-212203498.html&amp;sa=U&amp;ved=2ahUKEwiDh7KRg6X_AhVAOEQIHd-QDIEQxfQBegQIBRAC&amp;usg=AOvVaw0AWFFaxN61bu4BMLm77Z3D\" data-ved=\"2ahUKEwiDh7KRg6X_AhVAOEQIHd-QDIEQxfQBegQIBRAC\"><div class=\"egMi0 kCrYT\"><div class=\"DnJfK\"><div class=\"j039Wc\"><h3 class=\"zBAuLc l97dzf\"><div class=\"BNeawe vvjwJb AP7Wnd\">ChatGPT Price Predictions for June: Bitcoin, Ethereum, XRP &amp; Other Trending Coins</div></h3></div><div class=\"sCuL3\"><div class=\"BNeawe UPmit AP7Wnd lRVwie\">Yahoo Finance</div></div></div></div><div class=\"kCrYT\"><div class=\"lcJF1d Q6Xouf G6SP0b\"><div style=\"width:120px;height:68px;position:static\"><img class=\"h1hFNe\" alt=\"\" src=\"data:image/gif;base64,R0lGODlhAQABAIAAAP///////yH5BAEKAAEALAAAAAABAAEAAAICTAEAOw==\" style=\"width:120px;height:68px\" id=\"dimg_6\" data-deferred=\"1\"></div></div><div><div class=\"BNeawe s3v9rd AP7Wnd\"><div><div class=\"BNeawe s3v9rd AP7Wnd\">New York, NY --News Direct-- Finance News. May proved to be a tumultuous period for crypto investors as the prices of Bitcoin and other...<br><span class=\"r0bn4c rQMQod\">19 hours ago</span></div></div></div></div><div class=\"rl7ilb\"></div></div></a></div></div><div><div class=\"Gx5Zad fP1Qef xpd EtOod pkphOe\"><a href=\"/url?q=https://finance.yahoo.com/news/defi-blue-chips-suffer-more-224530662.html&amp;sa=U&amp;ved=2ahUKEwiDh7KRg6X_AhVAOEQIHd-QDIEQxfQBegQICRAC&amp;usg=AOvVaw0UHTFZiLvfzDq5i9meUHR7\" data-ved=\"2ahUKEwiDh7KRg6X_AhVAOEQIHd-QDIEQxfQBegQICRAC\"><div class=\"egMi0 kCrYT\"><div class=\"DnJfK\"><div class=\"j039Wc\"><h3 class=\"zBAuLc l97dzf\"><div class=\"BNeawe vvjwJb AP7Wnd\">DeFi Blue Chips Suffer as More Users Stake Ethereum</div></h3></div><div class=\"sCuL3\"><div class=\"BNeawe UPmit AP7Wnd lRVwie\">Yahoo Finance</div></div></div></div><div class=\"kCrYT\"><div class=\"lcJF1d Q6Xouf G6SP0b\"><div style=\"width:120px;height:66px;position:static\"><img class=\"h1hFNe\" alt=\"\" src=\"data:image/gif;base64,R0lGODlhAQABAIAAAP///////yH5BAEKAAEALAAAAAABAAEAAAICTAEAOw==\" style=\"width:120px;height:66px\" id=\"dimg_19\" data-deferred=\"1\"></div></div><div><div class=\"BNeawe s3v9rd AP7Wnd\"><div><div class=\"BNeawe s3v9rd AP7Wnd\">Decentralized finance&#8212;or DeFi&#8212;helped kickstart the 2020 bull run. But fast-forward to 2023 and investors have largely lost interest in the...<br><span class=\"r0bn4c rQMQod\">17 hours ago</span></div></div></div></div><div class=\"rl7ilb\"></div></div></a></div></div><div><div class=\"Gx5Zad fP1Qef xpd EtOod pkphOe\"><a href=\"/url?q=https://finance.yahoo.com/news/financial-advisors-real-world-assets-182032474.html&amp;sa=U&amp;ved=2ahUKEwiDh7KRg6X_AhVAOEQIHd-QDIEQxfQBegQIBxAC&amp;usg=AOvVaw0Tg91_FB7onG5V6dpu1hEN\" data-ved=\"2ahUKEwiDh7KRg6X_AhVAOEQIHd-QDIEQxfQBegQIBxAC\"><div class=\"egMi0 kCrYT\"><div class=\"DnJfK\"><div class=\"j039Wc\"><h3 class=\"zBAuLc l97dzf\"><div class=\"BNeawe vvjwJb AP7Wnd\">For Financial Advisors, Real World Assets Could Be a Safe(r) Path ...</div></h3></div><div class=\"sCuL3\"><div class=\"BNeawe UPmit AP7Wnd lRVwie\">Yahoo Finance</div></div></div></div><div class=\"kCrYT\"><div class=\"lcJF1d Q6Xouf G6SP0b\"><div style=\"width:120px;height:66px;position:static\"><img class=\"h1hFNe\" alt=\"\" src=\"data:image/gif;base64,R0lGODlhAQABAIAAAP///////yH5BAEKAAEALAAAAAABAAEAAAICTAEAOw==\" style=\"width:120px;height:66px\" id=\"dimg_13\" data-deferred=\"1\"></div></div><div><div class=\"BNeawe s3v9rd AP7Wnd\"><div><div class=\"BNeawe s3v9rd AP7Wnd\">Are Real World Assets like crypto assets? Most assets we talk about with regard to blockchain are chain-native assets like bitcoin, ETH, SOL, or...<br><span class=\"r0bn4c rQMQod\">22 hours ago</span></div></div></div></div><div class=\"rl7ilb\"></div></div></a></div></div><div><div class=\"Gx5Zad fP1Qef xpd EtOod pkphOe\"><a href=\"/url?q=https://finance.yahoo.com/news/degens-t-stop-sending-millions-205811007.html&amp;sa=U&amp;ved=2ahUKEwiDh7KRg6X_AhVAOEQIHd-QDIEQxfQBegQIBhAC&amp;usg=AOvVaw1Pzc8K_KQoNm2KqeLrJFlm\" data-ved=\"2ahUKEwiDh7KRg6X_AhVAOEQIHd-QDIEQxfQBegQIBhAC\"><div class=\"egMi0 kCrYT\"><div class=\"DnJfK\"><div class=\"j039Wc\"><h3 class=\"zBAuLc l97dzf\"><div class=\"BNeawe vvjwJb AP7Wnd\">Degens Can&#8217;t Stop Sending Millions in Ethereum to Random Wallets on Twitter</div></h3></div><div class=\"sCuL3\"><div class=\"BNeawe UPmit AP7Wnd lRVwie\">Yahoo Finance</div></div></div></div><div class=\"kCrYT\"><div class=\"lcJF1d Q6Xouf G6SP0b\"><div style=\"width:120px;height:66px;position:static\"><img class=\"h1hFNe\" alt=\"\" src=\"data:image/gif;base64,R0lGODlhAQABAIAAAP///////yH5BAEKAAEALAAAAAABAAEAAAICTAEAOw==\" style=\"width:120px;height:66px\" id=\"dimg_2\" data-deferred=\"1\"></div></div><div><div class=\"BNeawe s3v9rd AP7Wnd\"><div><div class=\"BNeawe s3v9rd AP7Wnd\">&#8220;There is no presale,&#8221; Pauly said, responding to a Twitter user who claimed he was playing with people\\'s emotions for financial speculation. &#8220;...<br><span class=\"r0bn4c rQMQod\">1 day ago</span></div></div></div></div><div class=\"rl7ilb\"></div></div></a></div></div><div><div class=\"Gx5Zad fP1Qef xpd EtOod pkphOe\"><a href=\"/url?q=https://finance.yahoo.com/news/5-years-500k-ethereum-wager-153000449.html&amp;sa=U&amp;ved=2ahUKEwiDh7KRg6X_AhVAOEQIHd-QDIEQxfQBegQICBAC&amp;usg=AOvVaw0Mwq7o6KTWgDaezAV0-WPj\" data-ved=\"2ahUKEwiDh7KRg6X_AhVAOEQIHd-QDIEQxfQBegQICBAC\"><div class=\"egMi0 kCrYT\"><div class=\"DnJfK\"><div class=\"j039Wc\"><h3 class=\"zBAuLc l97dzf\"><div class=\"BNeawe vvjwJb AP7Wnd\">5 Years After the $500K Ethereum Wager Between Joe Lubin and Jimmy Song, Who Won?</div></h3></div><div class=\"sCuL3\"><div class=\"BNeawe UPmit AP7Wnd lRVwie\">Yahoo Finance</div></div></div></div><div class=\"kCrYT\"><div class=\"lcJF1d Q6Xouf G6SP0b\"><div style=\"width:120px;height:66px;position:static\"><img class=\"h1hFNe\" alt=\"\" src=\"data:image/gif;base64,R0lGODlhAQABAIAAAP///////yH5BAEKAAEALAAAAAABAAEAAAICTAEAOw==\" style=\"width:120px;height:66px\" id=\"dimg_8\" data-deferred=\"1\"></div></div><div><div class=\"BNeawe s3v9rd AP7Wnd\"><div><div class=\"BNeawe s3v9rd AP7Wnd\">Yet, it\\'s not an irrelevant historical curiosity. The terms between bitcoin maximalist Jimmy Song and Ethereum co-founder Joe Lubin &#8211; major...<br><span class=\"r0bn4c rQMQod\">2 days ago</span></div></div></div></div><div class=\"rl7ilb\"></div></div></a></div></div><div><div class=\"Gx5Zad fP1Qef xpd EtOod pkphOe\"><a href=\"/url?q=https://uk.finance.yahoo.com/news/crypto-bitcoin-ethereum-prices-rise-us-debt-ceiling-083125385.html&amp;sa=U&amp;ved=2ahUKEwiDh7KRg6X_AhVAOEQIHd-QDIEQxfQBegQIABAC&amp;usg=AOvVaw2BpmbGMDyKwNv64yjx8PVB\" data-ved=\"2ahUKEwiDh7KRg6X_AhVAOEQIHd-QDIEQxfQBegQIABAC\"><div class=\"egMi0 kCrYT\"><div class=\"DnJfK\"><div class=\"j039Wc\"><h3 class=\"zBAuLc l97dzf\"><div class=\"BNeawe vvjwJb AP7Wnd\">Crypto: Bitcoin and ethereum prices rise after US debt ceiling deal announcement</div></h3></div><div class=\"sCuL3\"><div class=\"BNeawe UPmit AP7Wnd lRVwie\">Yahoo Finance</div></div></div></div><div class=\"kCrYT\"><div class=\"lcJF1d Q6Xouf G6SP0b\"><div style=\"width:120px;height:66px;position:static\"><img class=\"h1hFNe\" alt=\"\" src=\"data:image/gif;base64,R0lGODlhAQABAIAAAP///////yH5BAEKAAEALAAAAAABAAEAAAICTAEAOw==\" style=\"width:120px;height:66px\" id=\"dimg_5\" data-deferred=\"1\"></div></div><div><div class=\"BNeawe s3v9rd AP7Wnd\"><div><div class=\"BNeawe s3v9rd AP7Wnd\">Download the Yahoo Finance app, available for Apple and Android.<br><span class=\"r0bn4c rQMQod\">3 days ago</span></div></div></div></div><div class=\"rl7ilb\"></div></div></a></div></div><div><div class=\"Gx5Zad fP1Qef xpd EtOod pkphOe\"><a href=\"/url?q=https://finance.yahoo.com/news/bitcoin-ethereum-lose-steam-amid-172314504.html&amp;sa=U&amp;ved=2ahUKEwiDh7KRg6X_AhVAOEQIHd-QDIEQxfQBegQIARAC&amp;usg=AOvVaw3LPA_VRtSO4zJhcYYpZt5j\" data-ved=\"2ahUKEwiDh7KRg6X_AhVAOEQIHd-QDIEQxfQBegQIARAC\"><div class=\"egMi0 kCrYT\"><div class=\"DnJfK\"><div class=\"j039Wc\"><h3 class=\"zBAuLc l97dzf\"><div class=\"BNeawe vvjwJb AP7Wnd\">Bitcoin, Ethereum Lose Steam Amid Ledger Controversy and US Market Uncertainty</div></h3></div><div class=\"sCuL3\"><div class=\"BNeawe UPmit AP7Wnd lRVwie\">Yahoo Finance</div></div></div></div><div class=\"kCrYT\"><div class=\"lcJF1d Q6Xouf G6SP0b\"><div style=\"width:120px;height:66px;position:static\"><img class=\"h1hFNe\" alt=\"\" src=\"data:image/gif;base64,R0lGODlhAQABAIAAAP///////yH5BAEKAAEALAAAAAABAAEAAAICTAEAOw==\" style=\"width:120px;height:66px\" id=\"dimg_1\" data-deferred=\"1\"></div></div><div><div class=\"BNeawe s3v9rd AP7Wnd\"><div><div class=\"BNeawe s3v9rd AP7Wnd\">ETH fell to $1,786, marking a 1.3% loss on the week, according to Coingecko. Amid the top 50 cryptocurrencies, the market saw a lot of movement...<br><span class=\"r0bn4c rQMQod\">1 week ago</span></div></div></div></div><div class=\"rl7ilb\"></div></div></a></div></div><div><div class=\"Gx5Zad fP1Qef xpd EtOod pkphOe\"><a href=\"/url?q=https://finance.yahoo.com/news/dex-trading-bots-most-profitable-132000279.html&amp;sa=U&amp;ved=2ahUKEwiDh7KRg6X_AhVAOEQIHd-QDIEQxfQBegQIAxAC&amp;usg=AOvVaw2VRiRYjNuOv_gBSdAPhAvt\" data-ved=\"2ahUKEwiDh7KRg6X_AhVAOEQIHd-QDIEQxfQBegQIAxAC\"><div class=\"egMi0 kCrYT\"><div class=\"DnJfK\"><div class=\"j039Wc\"><h3 class=\"zBAuLc l97dzf\"><div class=\"BNeawe vvjwJb AP7Wnd\">DEX Trading Bots: The Most Profitable Crypto Trading Strategies Are Hiding in Plain Sight</div></h3></div><div class=\"sCuL3\"><div class=\"BNeawe UPmit AP7Wnd lRVwie\">Yahoo Finance</div></div></div></div><div class=\"kCrYT\"><div class=\"lcJF1d Q6Xouf G6SP0b\"><div style=\"width:120px;height:66px;position:static\"><img class=\"h1hFNe\" alt=\"\" src=\"data:image/gif;base64,R0lGODlhAQABAIAAAP///////yH5BAEKAAEALAAAAAABAAEAAAICTAEAOw==\" style=\"width:120px;height:66px\" id=\"dimg_9\" data-deferred=\"1\"></div></div><div><div class=\"BNeawe s3v9rd AP7Wnd\"><div><div class=\"BNeawe s3v9rd AP7Wnd\">However, hidden in the depths of the decentralized finance (DeFi) world ... For example, \"buy ETH when its price hits $1,800, and sell ETH...<br><span class=\"r0bn4c rQMQod\">3 hours ago</span></div></div></div></div><div class=\"rl7ilb\"></div></div></a></div></div><div><div class=\"Gx5Zad fP1Qef xpd EtOod pkphOe\"><a href=\"/url?q=https://finance.yahoo.com/news/dogemiyagi-emerges-ethereum-price-dangles-165159627.html&amp;sa=U&amp;ved=2ahUKEwiDh7KRg6X_AhVAOEQIHd-QDIEQxfQBegQIBBAC&amp;usg=AOvVaw1-fQZCvQYMOWXEPT1OYLfU\" data-ved=\"2ahUKEwiDh7KRg6X_AhVAOEQIHd-QDIEQxfQBegQIBBAC\"><div class=\"egMi0 kCrYT\"><div class=\"DnJfK\"><div class=\"j039Wc\"><h3 class=\"zBAuLc l97dzf\"><div class=\"BNeawe vvjwJb AP7Wnd\">DogeMiyagi Emerges as Ethereum Price Dangles, While Bitcoin&#8217;s Decline Intensifies with a 10% Fall in May 2023</div></h3></div><div class=\"sCuL3\"><div class=\"BNeawe UPmit AP7Wnd lRVwie\">Yahoo Finance</div></div></div></div><div class=\"kCrYT\"><div class=\"lcJF1d Q6Xouf G6SP0b\"><div style=\"width:120px;height:66px;position:static\"><img class=\"h1hFNe\" alt=\"\" src=\"data:image/gif;base64,R0lGODlhAQABAIAAAP///////yH5BAEKAAEALAAAAAABAAEAAAICTAEAOw==\" style=\"width:120px;height:66px\" id=\"dimg_17\" data-deferred=\"1\"></div></div><div><div class=\"BNeawe s3v9rd AP7Wnd\"><div><div class=\"BNeawe s3v9rd AP7Wnd\">A leaked document distributed to Democratic House Financial Services Committee members has revealed the &#8220;key messages&#8221; legislators were...<br><span class=\"r0bn4c rQMQod\">2 weeks ago</span></div></div></div></div><div class=\"rl7ilb\"></div></div></a></div></div><div><div class=\"Gx5Zad fP1Qef xpd EtOod pkphOe\"><a href=\"/url?q=https://finance.yahoo.com/news/bitcoin-ethereum-two-titans-battle-164002178.html&amp;sa=U&amp;ved=2ahUKEwiDh7KRg6X_AhVAOEQIHd-QDIEQxfQBegQIAhAC&amp;usg=AOvVaw3m2ZpMPGwMkdL2TjuSzyA6\" data-ved=\"2ahUKEwiDh7KRg6X_AhVAOEQIHd-QDIEQxfQBegQIAhAC\"><div class=\"egMi0 kCrYT\"><div class=\"DnJfK\"><div class=\"j039Wc\"><h3 class=\"zBAuLc l97dzf\"><div class=\"BNeawe vvjwJb AP7Wnd\">Bitcoin and Ethereum: Two titans battle for NFT supremacy</div></h3></div><div class=\"sCuL3\"><div class=\"BNeawe UPmit AP7Wnd lRVwie\">Yahoo Finance</div></div></div></div><div class=\"kCrYT\"><div class=\"lcJF1d Q6Xouf G6SP0b\"><div style=\"width:120px;height:66px;position:static\"><img class=\"h1hFNe\" alt=\"\" src=\"data:image/gif;base64,R0lGODlhAQABAIAAAP///////yH5BAEKAAEALAAAAAABAAEAAAICTAEAOw==\" style=\"width:120px;height:66px\" id=\"dimg_15\" data-deferred=\"1\"></div></div><div><div class=\"BNeawe s3v9rd AP7Wnd\"><div><div class=\"BNeawe s3v9rd AP7Wnd\">This past weekend, two major cryptocurrency/non-fungible tokens events happened, Veecon Indianapolis 2023 and the BTC Miami/Ordinals...<br><span class=\"r0bn4c rQMQod\">5 days ago</span></div></div></div></div><div class=\"rl7ilb\"></div></div></a></div></div><footer> <div>  <div class=\"Gx5Zad xpd EtOod pkphOe BmP5tf\"><div class=\"nMymef MUxGbd lyLwlc\"><a class=\"nBDE1b G5eFlf\" href=\"/search?q=yahoo+finance+ETH&amp;ie=UTF-8&amp;tbm=nws&amp;ei=PRt6ZMP0M8DwkPIP36GyiAg&amp;start=10&amp;sa=N\" aria-label=\"Next page\">Next &gt;</a></div></div> </div>  <div id=\"EOlPnc\"><div class=\"Srfpq\"><div><span class=\"EYqSq unknown_loc\"></span><span class=\"dfB0uf\">94085, Sunnyvale, CA</span></div><span>From your IP address</span><span>&nbsp;-&nbsp;</span><a href=\"/url?q=https://support.google.com/websearch%3Fp%3Dws_settings_location%26hl%3Den&amp;sa=U&amp;ved=0ahUKEwiDh7KRg6X_AhVAOEQIHd-QDIEQty4IUw&amp;usg=AOvVaw1gFUdwc7CbhRrftyWq-Uqm\" aria-label=\"Learn more about this location\" tabindex=\"0\">Learn more</a></div><div><a href=\"/url?q=https://accounts.google.com/ServiceLogin%3Fcontinue%3Dhttps://www.google.com/search%253Fq%253Dyahoo%252Bfinance%252BETH%2526tbm%253Dnws%26hl%3Den&amp;sa=U&amp;ved=0ahUKEwiDh7KRg6X_AhVAOEQIHd-QDIEQxs8CCFQ&amp;usg=AOvVaw101eSYCxieUMilBe5F3_i0\">Sign in</a></div><div><a class=\"xeDNfc\" href=\"https://www.google.com/preferences?hl=en&amp;fg=1&amp;sa=X&amp;ved=0ahUKEwiDh7KRg6X_AhVAOEQIHd-QDIEQ5fUCCFU\">Settings</a><a class=\"xeDNfc\" href=\"https://policies.google.com/privacy?hl=en&amp;fg=1\">Privacy</a><a class=\"xeDNfc\" href=\"https://policies.google.com/terms?hl=en&amp;fg=1\">Terms</a><a class=\"xeDNfc\" href=\"/setprefs?hl=en&amp;prev=https://www.google.com/search?q%3Dyahoo%2Bfinance%2BETH%26tbm%3Dnws%26pccc%3D1&amp;sig=0_K4iUSXHLoxbqDQ5HhzMYesIhD9Q%3D&amp;cs=2&amp;sa=X&amp;ved=0ahUKEwiDh7KRg6X_AhVAOEQIHd-QDIEQjcAJCFY\">Dark theme: Off</a></div></div> </footer><script nonce=\"kuJ78BYDayES4KtKHyB0-g\">(function(){var hl=\\'en\\';(function(){\\nvar f=this||self,g=function(a){return a};var h,k=function(){if(void 0===h){var a=null,b=f.trustedTypes;if(b&&b.createPolicy){try{a=b.createPolicy(\"goog#html\",{createHTML:g,createScript:g,createScriptURL:g})}catch(c){f.console&&f.console.error(c.message)}h=a}else h=a}return h};var p=function(a,b){this.h=a===l&&b||\"\";this.g=m},q=function(a){return a instanceof p&&a.constructor===p&&a.g===m?a.h:\"type_error:Const\"},m={},l={};var r=function(a){this.g=a};r.prototype.toString=function(){return this.g+\"\"};var t=function(a){return a instanceof r&&a.constructor===r?a.g:\"type_error:TrustedResourceUrl\"},x=function(){var a={},b=q(new p(l,\"/complete/search\"));if(!u.test(b))throw Error(\"e`\"+b);var c=b.replace(v,function(e,d){if(!Object.prototype.hasOwnProperty.call(a,d))throw Error(\"f`\"+d+\"`\"+b+\"`\"+JSON.stringify(a));e=a[d];return e instanceof p?q(e):encodeURIComponent(String(e))});return w(c)},v=/%{(\\\\w+)}/g,u=RegExp(\"^((https:)?//[0-9a-z.:[\\\\\\\\]-]+/|/[^/\\\\\\\\\\\\\\\\]|[^:/\\\\\\\\\\\\\\\\%]+/|[^:/\\\\\\\\\\\\\\\\%]*[?#]|about:blank#)\",\"i\"),y=/^([^?#]*)(\\\\?[^#]*)?(#[\\\\s\\\\S]*)?/,z={},w=function(a){var b=k();a=b?b.createScriptURL(a):a;return new r(a,z)},A=function(a,b,c){if(null==c)return b;if(\"string\"===typeof c)return c?a+encodeURIComponent(c):\"\";for(var e in c)if(Object.prototype.hasOwnProperty.call(c,e)){var d=c[e];d=Array.isArray(d)?d:[d];for(var n=0;n<d.length;n++){var O=d[n];null!=O&&(b||(b=a),b+=(b.length>a.length?\"&\":\"\")+encodeURIComponent(e)+\"=\"+encodeURIComponent(String(O)))}}return b};var B={},C=function(a){this.g=a};C.prototype.toString=function(){return this.g.toString()};\\nfunction D(a,b){if(1===a.nodeType){var c=a.tagName;if(\"SCRIPT\"===c||\"STYLE\"===c)throw Error(\"g\");}a.innerHTML=b instanceof C&&b.constructor===C?b.g:\"type_error:SafeHtml\"};function E(a){a=null===a?\"null\":void 0===a?\"undefined\":a;var b=k();a=b?b.createHTML(a):a;return new C(a,B)};var F=document.querySelector(\".l\"),G=document.querySelector(\"#sf\"),H=G.querySelector(\".sbc\"),I=G.querySelector(\"[type=text]\"),J=G.querySelector(\"[type=submit]\"),K=G.querySelector(\".sc\"),L=G.querySelector(\".x\"),M=I.value,N=[],P=-1,Q=M,R,S,T;M||(L&&(L.style.display=\"none\"),U(!1));function U(a){if(H.classList.contains(\"esbc\")){var b=H.classList.contains(\"chsbc\"),c=H.classList.contains(\"rtlsbc\");a&&(K.style.display=\"block\",b?(G.style.borderRadius=\"20px 20px 0 0\",K.style.borderBottom=\"1px solid #DFE1E5\",J.style.borderRadius=c?\"20px 0 0 0\":\"0 20px 0 0\"):H.style.borderRadius=c?\"0 8px 0 0\":\"8px 0 0 0\");a||(K.style.display=\"none\",b?(G.style.borderRadius=\"20px\",K.style.borderBottom=\"none\",J.style.borderRadius=c?\"20px 0 0 20px\":\"0 20px 20px 0\"):H.style.borderRadius=c?\"0 8px 8px 0\":\"8px 0 0 8px\")}}function V(){G.querySelector(\"[name=oq]\").value=Q;G.querySelector(\"[name=aqs]\").value=\"heirloom-srp.\"+(0<=P?P:\"\")+\".\"+(0<N.length?\"0l\"+N.length:\"\")}\\nfunction W(){R=null;if(S){var a={client:\"heirloom-srp\",hl:hl,json:\"t\",callback:\"hS\",q:S};\"undefined\"!==typeof ds&&ds&&(a.ds=ds);var b=document;var c=\"SCRIPT\";\"application/xhtml+xml\"===b.contentType&&(c=c.toLowerCase());c=b.createElement(c);b=x();b=y.exec(t(b).toString());var e=b[3]||\"\";a=w(b[1]+A(\"?\",b[2]||\"\",a)+A(\"#\",e));c.src=t(a);var d,n;(d=(a=null==(n=(d=(c.ownerDocument&&c.ownerDocument.defaultView||window).document).querySelector)?void 0:n.call(d,\"script[nonce]\"))?a.nonce||a.getAttribute(\"nonce\")||\\n\"\":\"\")&&c.setAttribute(\"nonce\",d);document.body.appendChild(c);S=null;R=setTimeout(W,500)}}function X(){for(;K.firstChild;)K.removeChild(K.firstChild);N=[];P=-1;U(!1)}function Y(){var a=K.querySelector(\".scs\");a&&(a.className=\"\");0<=P?(a=K.childNodes[P],a.className=\"scs\",M=a.textContent):M=Q;I.value=M}I.addEventListener(\"focus\",function(){F&&(F.style.display=\"none\")},!1);I.addEventListener(\"blur\",function(){X();F&&(F.style.display=\"\")},!1);I.addEventListener(\"keyup\",function(a){M=I.value;T=!1;13===a.which?V():27===a.which?(X(),F&&(F.style.display=\"\"),M=Q,I.value=M):40===a.which?(P++,P>=N.length&&(P=-1),Y()):38===a.which?(P--,-1>P&&(P=N.length-1),Y()):(a=M)?(L&&(L.style.display=\"\"),S=a,R||W(),Q=a):(L&&(L.style.display=\"none\"),U(!1),X(),Q=\"\",T=!0)},!1);J.addEventListener(\"click\",V,!1);L.addEventListener(\"click\",function(){I.value=\"\";L.style.display=\"none\";U(!1)},!1);H.addEventListener(\"click\",function(){I.focus()},!1);window.hS=function(a){if(!T){X();0===a[1].length&&U(!1);for(var b=0;b<a[1].length;b++){var c=a[1][b][0],e=document.createElement(\"div\");D(e,E(c));e.addEventListener(\"mousedown\",function(d){d.preventDefault();return!1},!1);c=c.replace(/<\\\\/?b>/g,\"\");e.addEventListener(\"click\",function(d){return function(){P=d;V();Y();X();G.submit()}}(b),!1);e.addEventListener(\"mouseover\",function(d){return function(){P!==d&&(P=d,Y())}}(b),!1);K.appendChild(e);U(!0);N.push(c)}}};}).call(this);})();(function(){function b(a){for(a=a.target||a.srcElement;a&&\"A\"!==a.nodeName;)a=a.parentElement;a&&(a.href||\"\").match(/\\\\/search.*[?&]tbm=isch/)&&(a.href+=\"&biw=\"+document.documentElement.clientWidth,a.href+=\"&bih=\"+document.documentElement.clientHeight)}document.addEventListener(\"click\",b,!1);document.addEventListener(\"touchStart\",b,!1);}).call(this);</script></div><!-- cctlcm 5 cctlcm --><textarea class=\"csi\" name=\"csi\" style=\"display:none\"></textarea><script nonce=\"kuJ78BYDayES4KtKHyB0-g\">(function(){var e=\\'PRt6ZMP0M8DwkPIP36GyiAg\\';var sn=\\'newssearch\\';var timl=false;(function(){function B(a){if(!a||C(a))return 0;if(!a.getBoundingClientRect)return 1;var c=function(b){return b.getBoundingClientRect()};return D(a,c)?0:J(a,c)}function D(a,c){var b;a:{for(b=a;b&&null!==b;b=b.parentElement)if(\"hidden\"===b.style.overflow||\"G-EXPANDABLE-CONTENT\"===b.tagName&&\"hidden\"===getComputedStyle(b).getPropertyValue(\"overflow\"))break a;b=null}if(!b)return!1;a=c(a);c=c(b);return a.bottom<c.top||a.top>=c.bottom||a.right<c.left||a.left>=c.right}\\nfunction C(a){return\"none\"===a.style.display?!0:document.defaultView&&document.defaultView.getComputedStyle?(a=document.defaultView.getComputedStyle(a),!!a&&(\"hidden\"===a.visibility||\"0px\"===a.height&&\"0px\"===a.width)):!1}\\nfunction J(a,c){var b=c(a);a=b.left+window.pageXOffset;c=b.top+window.pageYOffset;var f=b.width;b=b.height;var g=0;if(0>=b&&0>=f)return g;var q=window.innerHeight||document.documentElement.clientHeight;0>c+b?g=2:c>=q&&(g=4);if(0>a+f||a>=(window.innerWidth||document.documentElement.clientWidth))g|=8;g||(g=1,c+b>q&&(g|=4));return g};var K=e,L=sn,M=\"undefined\"===typeof de?!0:!1!==de,N=[];function O(a,c,b){a=\"/gen_204?atyp=csi&s=\"+L+\"&t=\"+a+(\"&lite=1&ei=\"+K+\"&conn=\"+(window.navigator&&window.navigator.connection?window.navigator.connection.type:-1)+c);c=\"&rt=\";for(var f in b)a+=\"\"+c+f+\".\"+b[f],c=\",\";return a}function P(a){a={prt:a};window.wsrt&&(a.wsrt=window.wsrt);return a}function Q(a){window.ping?window.ping(a):(new Image).src=a}\\n(function(){for(var a=(new Date).getTime()-window.start,c=P(a),b=0,f=0,g=0,q=document.getElementsByTagName(\"img\"),r=M?\"&biw=\"+window.innerWidth+\"&bih=\"+window.innerHeight:\"\",E=function(){r+=\"&ima=\"+g;c.aft=b;Q(O(\"aft\",r,c))},x=0,R=function(h,t,u){var n=h.src;h.onload=function(){u&&n&&n===h.src||(f=(new Date).getTime()-window.start,t&&++x===g&&(b=f,E()),h.onload=null)}},S=0,d=void 0;d=q[S++];){var v=B(d),p=!!(v&1);p&&++g;var l=d.hasAttribute(\"data-ilite\"),w=d.hasAttribute(\"data-deferred\"),F=d.hasAttribute(\"data-src\")||\\nd.hasAttribute(\"data-lzysrc\"),y=!w&&!l&&F;N.push([v,w||l,y,!!(google.ldi&&d.id&&google.ldi[d.id])||l&&F]);l=(v=d.complete&&!w&&!(p&&y))&&Number(d.getAttribute(\"data-iml\"))||0;v&&l?(p&&++x,l&&(d=l-window.start,p&&(b=Math.max(b,d)),f=Math.max(f,d))):R(d,p,w||y)}b||(b=a);f||(f=b);x===g&&E();google.rglh&&google.rglh();window.addEventListener(\"load\",function(){window.setTimeout(function(){c.ol=(new Date).getTime()-window.start;timl&&(c.iml=f);var h=window.performance&&window.performance.timing;h&&(c.rqst=\\nh.responseEnd-h.requestStart,c.rspt=h.responseEnd-h.responseStart);for(var t=h=0,u=0,n=0,G=0,H=0,T=0,k;k=N[T++];){var m=k[0],z=k[1],I=k[2];k=k[3];var U=0==m,V=m&8,A=m&1;m=!A&&m&4;A&&(z&&!k||++u,I&&++H);z&&(A&&k&&++h,m&&!k&&++t);U||V?I||++G:z||++n}r+=\"&ime=\"+u+\"&imel=\"+H+(\"&imex=\"+n+\"&imeh=\"+G)+(\"&imea=\"+h+\"&imeb=\"+t);Q(O(\"all\",r,c))},0)},!1)})();}).call(this);})();</script><script nonce=\"kuJ78BYDayES4KtKHyB0-g\">window._setImagesSrc=function(e,f){function g(b){b.onerror=function(){b.style.display=\"none\"};b.setAttribute(\"data-deferred\",\"2\");b.src=f}for(var c=0;c<e.length;++c){var a=e[c],d=document.getElementById(a)||document.querySelector(\\'img[data-iid=\"\\'+a+\\'\"]\\');d?(a=void 0,(null==(a=google.c)?0:a.setup)&&google.c.setup(d),g(d)):(google.iir=google.iir||{},google.iir[a]=f)}};\"undefined\"===typeof window.google&&(window.google={});</script><script nonce=\"kuJ78BYDayES4KtKHyB0-g\">(function(){var s=\\'data:image/jpeg;base64,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\\';var i=[\\'dimg_6\\'];_setImagesSrc(i,s);})();</script><script nonce=\"kuJ78BYDayES4KtKHyB0-g\">(function(){var s=\\'data:image/jpeg;base64,/9j/4AAQSkZJRgABAQAAAQABAAD/2wCEAAkGBwgHBgkIBwgKCgkLDRYPDQwMDRsUFRAWIB0iIiAdHx8kKDQsJCYxJx8fLT0tMTU3Ojo6Iys/RD84QzQ5OjcBCgoKDQwNGg8PGjclHyU3Nzc3Nzc3Nzc3Nzc3Nzc3Nzc3Nzc3Nzc3Nzc3Nzc3Nzc3Nzc3Nzc3Nzc3Nzc3Nzc3N//AABEIAEIAeAMBIgACEQEDEQH/xAAaAAACAwEBAAAAAAAAAAAAAAAAAwIEBQEG/8QALxAAAgEDAwMCAwgDAAAAAAAAAQIAAwQRBRIhMVGRE0EiUmEGIzJCcYGhsYLB8P/EABkBAAMBAQEAAAAAAAAAAAAAAAABAgMEBf/EAB0RAQEBAQABBQAAAAAAAAAAAAABAhEDEiExQVH/2gAMAwEAAhEDEQA/ANAA9zO4PcxgWd2z0wWAe5hg9zG7Z3bAE4Pc+YEHufMdtlzStMq6ndCjS+FRy7nooitknaGWc8Zbr9ZHkgENkfrPZ6rptLSNPvKekHfqFakxpK9QB/YHB7DPTgZngPs/RrUtO9O4RkZKjAKwwR/xzIzua+BKskHufMgQ3cy0Ui2WXw1Zg3c+Ypt3c+ZaZYtlkhVbd3PmKbd8x8y0yxLrEas275j5nZNlhFwPRgSQEkBJYmyUAsltksSQWATtbKtck+kvC/iYnAE9Ppnp2v2buHsjuuVp1GfB59RQeOO3SYt7fLpuig0cNVFPeAPmPUn+v2mde609rplrp+mNVommo9RiMO1Q9evTkzn36vJ7fSfkW1O7TUquo3NSsyGgadM11KtgsD0PvxzFFSxJPUmaFWhqZsba51NqbeqPhwMN/kOn148SsVlePP2cVWWLZZaKxbLNTVGWKZZaYRTCKw1VhEsJaYRLiSFZ1hJsIRG9EBOgQAjKNJ6rhKSM7noqjJmqXAJ2WDY3avsNtW3dcbDG2Om17u7FDY1PHLsy42jvFdSTvQdpFkKpa5rj7in3/MZnUNNsrr7Qre1Saas+59z4Ugc8+MfvPRav8FutjZJwq8jPt7zzpBU4YEEexk5vqlVbOcaeu6it/cKtLPo0shSfzE9TMwzmZwmVnMzORKLRTRjGLY8RglhFOI5opogQ4iWEsMIlhJpq7CEmwhEHoaVJ6tVKVMZdzgT2ul6ZS02ixVy1VwNzkfwPpPLWDrQu6VVuin/U3n1SkV4qCLy51faJalO4YsyBCSPcCNAL08JwT1J9pl2mp0FoH7xQxJPJxGpqdNlOHU895z3x6/C4XXsrem5a4dtzHmoPYfpJXOl2DU8+kCcfi3HMzdU1BNhy6+ZKtqNFNMpCm6l1QcA55xLmLOHxl6qlCjkKgQjoR7zLLjvI6zVr36qtGk+CcsSduB/cTStqiLhh/OZ0Z6Z5aRJEPTPaGz6SgWTINGlfpIlYgrtFMJaZYtliCowhHMsJIbwkhCE2S7OwhAOTjQhAImRM7CBoGRMISQWZAzkIBAxTQhEZTQhCSH//2Q\\\\x3d\\\\x3d\\';var i=[\\'dimg_19\\'];_setImagesSrc(i,s);})();</script><script nonce=\"kuJ78BYDayES4KtKHyB0-g\">(function(){var s=\\'data:image/jpeg;base64,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\\\\x3d\\\\x3d\\';var i=[\\'dimg_13\\'];_setImagesSrc(i,s);})();</script><script nonce=\"kuJ78BYDayES4KtKHyB0-g\">(function(){var s=\\'data:image/jpeg;base64,/9j/4AAQSkZJRgABAQAAAQABAAD/2wCEAAkGBwgHBgkIBwgKCgkLDRYPDQwMDRsUFRAWIB0iIiAdHx8kKDQsJCYxJx8fLT0tMTU3Ojo6Iys/RD84QzQ5OjcBCgoKDQwNGg8PGjclHyU3Nzc3Nzc3Nzc3Nzc3Nzc3Nzc3Nzc3Nzc3Nzc3Nzc3Nzc3Nzc3Nzc3Nzc3Nzc3Nzc3N//AABEIAEIAeAMBIgACEQEDEQH/xAAbAAACAwEBAQAAAAAAAAAAAAAAAwECBAUGB//EADgQAAICAQMDAQQHBQkAAAAAAAECAAMRBAUSITFBEwYUUXEiMmGRoeHwJDQ2svEVQ1JicnSBsdH/xAAaAQACAwEBAAAAAAAAAAAAAAAAAgEDBAUG/8QAKxEAAgIBAQUHBQEAAAAAAAAAAAECEQMEEnGBscEhIjEzQUNhIzJCUdEF/9oADAMBAAIRAxEAPwDxFaR6JJRI9Eno0jltlVSNCRldTuCURm4jLYGcD4y4WShGxQWW4xnGHGSKLxDEZxhxgAvEnEviTxgAvjIKR3GHGTQWZikWyTWVi2SRQyZhdITQ6Qi0PZCLHokitZbUkV6S1j/hMJvZi2KltSo26WpNTVRUtms0ltwUmyjDhgQSFKkdiPtiX2rW+qF0O4afVDmysjgI4AyOxxnqPGZu23dtL6D1rqERg1TA3ocD0wAuGGePQH4DBmvbm26xX9+QtWa8LfUotCvyZj1H/vxnnlqcsZOV+J2HhxOKRwwmspuNWp0ylj4XIK+eRzjx/wBxnGdnRaZnoRqGALuEANI4EM+OufsPjqJ0rPZyqzWNondKNT6IsBrf6D5ZgAAeo6Aeek34f9CNvbMeXRyq4HkamFicl7ZI+6X4zVp/ZvXaXTmxLfXqusZ6XrPXj3xxb85ivOp01DO6qzopLIRxxjrnP5TXh1KlBN9pmyYXGVIvxhxho7fedLVfwZPUUNxbuMiO4zSmmrRndp0K4yQsbxkhYxFiSsWyzUVlGWDJTMTrCOdYRRyqLE7olp0gWpGbLjlgZ6dz0m2tZoRYk4KcXH9gp7EkzyY1+l5Mnriq5cAhwUIz8/smutnRudburY+urYPjyJ0902k7hfpvTqQlW52s3TKKQcZhb7PadrvVquvRsdi5cefj1/GcmWjm5SjHto6C1UFFSl2WG377qNHYGfF4NgsVLlY9V+BHX+k9TpPaTZ9ze23dNA7ckTPBvUFeCeoIw/c/CeB3mnc9n0w1FbVXaVABb3B8AEjPxPj8JQ7qmjQ/2jtdmlsb+9GcD5HsfvmWeGUH3lRohljJXFn1Dbrqr7NjXR6uuz3dbBZh+BR+OOuQGGTE3AHTsusrS2nUXsKzYvLji0q64OOhUgjHwPbx4bbt12/XWj3bUKTg4rZcMPj18/rtNlm5a+m1a/Vd0R+YS0BgGHbv27+DK6a8CzaXqdm7bUq0Nd9NdVdfpq/Gu4nAJAH0W+kPPk9ph4yuk3FtR+zujqQCFHPkB1B6A5I7DzNPCdzQSlLF3n6nI1qjHL3RHCWCR3CSEm4x2IKRbJNZWLZYMYxOkiaHWEQexdazQiylYmlFghZD9EoNjAjuh7Sip3j9ICNSgHkNJRO8z4n9fJw5FuXyoceZzt20yX6CyuxOSMU5A+RyBmlKh6Srj6PEDEbrU/ZLD8AD+MetWFAHaPf13u6ieyn89Dxbez+h13tHuNWq0wNRpqevgSvE4wcYkv7JanTVg7Vu9yFR0S9Qyn7Onb7p3VrK+1TjP19FnHyadcVdJTDT4sie0vVls82SFU/RHkfZT3nUW6v316zdpLmpYVr0bt1z9/iek9OczYaBVvm+VAdWuSw/8g/lO/6Zlulio46XzzK9RJynb+DIK5PpzV6cgpNFlBkKRbLNjJEukixkYnWEa6wkDCKpqSEJCJY+r94q+Rjq/P68QhM2Lz8nDkW5fJhx5kav90u/0GPq+ovyhCP7/DqJ7PHociz+Lqv9k3807QhCGH8t/wDAy+Edx5/af4v3of5K/wCUT0UIQwfa975hn+5blyIMo0IS4pFvEPCEBkZ7IQhIGP/Z\\';var i=[\\'dimg_2\\'];_setImagesSrc(i,s);})();</script><script nonce=\"kuJ78BYDayES4KtKHyB0-g\">(function(){var s=\\'data:image/jpeg;base64,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\\\\x3d\\';var i=[\\'dimg_8\\'];_setImagesSrc(i,s);})();</script><script nonce=\"kuJ78BYDayES4KtKHyB0-g\">(function(){var s=\\'data:image/jpeg;base64,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\\\\x3d\\\\x3d\\';var i=[\\'dimg_5\\'];_setImagesSrc(i,s);})();</script><script nonce=\"kuJ78BYDayES4KtKHyB0-g\">(function(){var s=\\'data:image/jpeg;base64,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\\\\x3d\\';var i=[\\'dimg_1\\'];_setImagesSrc(i,s);})();</script><script nonce=\"kuJ78BYDayES4KtKHyB0-g\">(function(){var s=\\'data:image/jpeg;base64,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\\\\x3d\\\\x3d\\';var i=[\\'dimg_9\\'];_setImagesSrc(i,s);})();</script><script nonce=\"kuJ78BYDayES4KtKHyB0-g\">(function(){var s=\\'data:image/jpeg;base64,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\\';var i=[\\'dimg_17\\'];_setImagesSrc(i,s);})();</script><script nonce=\"kuJ78BYDayES4KtKHyB0-g\">(function(){var s=\\'data:image/jpeg;base64,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\\\\x3d\\';var i=[\\'dimg_15\\'];_setImagesSrc(i,s);})();</script><script nonce=\"kuJ78BYDayES4KtKHyB0-g\">(function(){var e=\\'PRt6ZMP0M8DwkPIP36GyiAg\\';(function(){var a=e;2===(window.performance&&window.performance.navigation&&window.performance.navigation.type)&&window.ping(\"/gen_204?ct=backbutton&ei=\"+a);}).call(this);})();(function(){var b=[function(){google.tick&&google.tick(\"load\",\"dcl\")}];google.dclc=function(a){b.length?b.push(a):a()};function c(){for(var a=b.shift();a;)a(),a=b.shift()}window.addEventListener?(document.addEventListener(\"DOMContentLoaded\",c,!1),window.addEventListener(\"load\",c,!1)):window.attachEvent&&window.attachEvent(\"onload\",c);}).call(this);(function(){\\nvar b=function(a){var c=0;return function(){return c<a.length?{done:!1,value:a[c++]}:{done:!0}}},e=this||self;var g,h;a:{for(var k=[\"CLOSURE_FLAGS\"],l=e,n=0;n<k.length;n++)if(l=l[k[n]],null==l){h=null;break a}h=l}var p=h&&h[610401301];g=null!=p?p:!1;var q,r=e.navigator;q=r?r.userAgentData||null:null;function t(a){return g?q?q.brands.some(function(c){return(c=c.brand)&&-1!=c.indexOf(a)}):!1:!1}function u(a){var c;a:{if(c=e.navigator)if(c=c.userAgent)break a;c=\"\"}return-1!=c.indexOf(a)};function v(){return g?!!q&&0<q.brands.length:!1}function w(){return u(\"Safari\")&&!(x()||(v()?0:u(\"Coast\"))||(v()?0:u(\"Opera\"))||(v()?0:u(\"Edge\"))||(v()?t(\"Microsoft Edge\"):u(\"Edg/\"))||(v()?t(\"Opera\"):u(\"OPR\"))||u(\"Firefox\")||u(\"FxiOS\")||u(\"Silk\")||u(\"Android\"))}function x(){return v()?t(\"Chromium\"):(u(\"Chrome\")||u(\"CriOS\"))&&!(v()?0:u(\"Edge\"))||u(\"Silk\")}function y(){return u(\"Android\")&&!(x()||u(\"Firefox\")||u(\"FxiOS\")||(v()?0:u(\"Opera\"))||u(\"Silk\"))};var z=v()?!1:u(\"Trident\")||u(\"MSIE\");y();x();w();var A=!z&&!w(),D=function(a){if(/-[a-z]/.test(\"ved\"))return null;if(A&&a.dataset){if(y()&&!(\"ved\"in a.dataset))return null;a=a.dataset.ved;return void 0===a?null:a}return a.getAttribute(\"data-\"+\"ved\".replace(/([A-Z])/g,\"-$1\").toLowerCase())};var E=[],F=null;function G(a){a=a.target;var c=performance.now(),f=[],H=f.concat,d=E;if(!(d instanceof Array)){var m=\"undefined\"!=typeof Symbol&&Symbol.iterator&&d[Symbol.iterator];if(m)d=m.call(d);else if(\"number\"==typeof d.length)d={next:b(d)};else throw Error(\"a`\"+String(d));for(var B=[];!(m=d.next()).done;)B.push(m.value);d=B}E=H.call(f,d,[c]);if(a&&a instanceof HTMLElement)if(a===F){if(c=4<=E.length)c=5>(E[E.length-1]-E[E.length-4])/1E3;if(c){c=google.getEI(a);a.hasAttribute(\"data-ved\")?f=a?D(a)||\"\":\"\":f=(f=\\na.closest(\"[data-ved]\"))?D(f)||\"\":\"\";f=f||\"\";if(a.hasAttribute(\"jsname\"))a=a.getAttribute(\"jsname\");else{var C;a=null==(C=a.closest(\"[jsname]\"))?void 0:C.getAttribute(\"jsname\")}google.log(\"rcm\",\"&ei=\"+c+\"&ved=\"+f+\"&jsname=\"+(a||\"\"))}}else F=a,E=[c]}window.document.addEventListener(\"DOMContentLoaded\",function(){document.body.addEventListener(\"click\",G)});}).call(this);window.jsl=window.jsl||{};window.jsl.dh=function(a,b,f){try{var g=document.getElementById(a);if(g)g.innerHTML=b,f&&f();else{var c={id:a,script:String(!!f),milestone:String(google.jslm||0)};google.jsla&&(c.async=google.jsla);var h=a.indexOf(\"_\"),d=0<h?a.substring(0,h):\"\",k=document.createElement(\"div\");k.innerHTML=b;var e=k.children[0];if(e&&(c.tag=e.tagName,c[\"class\"]=String(e.className||null),c.name=String(e.getAttribute(\"jsname\")),d)){a=[];var l=document.querySelectorAll(\\'[id^=\"\\'+d+\\'_\"]\\');for(b=0;b<l.length;++b)a.push(l[b].id);c.ids=a.join(\",\")}google.ml(Error(d?\"Missing ID with prefix \"+d:\"Missing ID\"),!1,c)}}catch(m){google.ml(m,!0,{\"jsl.dh\":!0})}};(function(){var x=false;google.jslm=x?2:1;})();(function(){(function(){google.csct={};google.csct.ps=\\'AOvVaw1Im7XdMbtk0ErWFxWeFs98\\\\x26ust\\\\x3d1685810365881621\\';})();})();(function(){(function(){google.csct.rd=true;})();})();(function(){(function(){google.csct.rl=true;})();})();google.drty&&google.drty(undefined,true);</script></body></html>'"
      ]
     },
     "execution_count": 56,
     "metadata": {},
     "output_type": "execute_result"
    }
   ],
   "source": [
    "r.text"
   ]
  },
  {
   "cell_type": "code",
   "execution_count": 57,
   "metadata": {},
   "outputs": [],
   "source": [
    "soup = BeautifulSoup(r.text, 'html.parser')"
   ]
  },
  {
   "cell_type": "code",
   "execution_count": 58,
   "metadata": {},
   "outputs": [],
   "source": [
    "atags = soup.find_all('a')"
   ]
  },
  {
   "cell_type": "code",
   "execution_count": 59,
   "metadata": {},
   "outputs": [
    {
     "data": {
      "text/plain": [
       "[<a href=\"/?sa=X&amp;ved=0ahUKEwiDh7KRg6X_AhVAOEQIHd-QDIEQOwgC\"><span class=\"V6gwVd\">G</span><span class=\"iWkuvd\">o</span><span class=\"cDrQ7\">o</span><span class=\"V6gwVd\">g</span><span class=\"ntlR9\">l</span><span class=\"iWkuvd tJ3Myc\">e</span></a>,\n",
       " <a href=\"/search?q=yahoo+finance+ETH&amp;tbm=nws&amp;ie=UTF-8&amp;gbv=1&amp;sei=PRt6ZMP0M8DwkPIP36GyiAg\">here</a>,\n",
       " <a class=\"eZt8xd\" href=\"/search?q=yahoo+finance+ETH&amp;ie=UTF-8&amp;source=lnms&amp;sa=X&amp;ved=0ahUKEwiDh7KRg6X_AhVAOEQIHd-QDIEQ_AUIBSgA\">All</a>,\n",
       " <a class=\"eZt8xd\" href=\"/search?q=yahoo+finance+ETH&amp;ie=UTF-8&amp;tbm=vid&amp;source=lnms&amp;sa=X&amp;ved=0ahUKEwiDh7KRg6X_AhVAOEQIHd-QDIEQ_AUIBygC\">Videos</a>,\n",
       " <a class=\"eZt8xd\" href=\"/search?q=yahoo+finance+ETH&amp;ie=UTF-8&amp;tbm=isch&amp;source=lnms&amp;sa=X&amp;ved=0ahUKEwiDh7KRg6X_AhVAOEQIHd-QDIEQ_AUICCgD\">Images</a>,\n",
       " <a href=\"https://maps.google.com/maps?q=yahoo+finance+ETH&amp;um=1&amp;ie=UTF-8&amp;sa=X&amp;ved=0ahUKEwiDh7KRg6X_AhVAOEQIHd-QDIEQ_AUICSgE\">Maps</a>,\n",
       " <a href=\"/search?q=yahoo+finance+ETH&amp;ie=UTF-8&amp;tbm=shop&amp;source=lnms&amp;sa=X&amp;ved=0ahUKEwiDh7KRg6X_AhVAOEQIHd-QDIEQ_AUICigF\">Shopping</a>,\n",
       " <a href=\"/search?q=yahoo+finance+ETH&amp;ie=UTF-8&amp;tbm=bks&amp;source=lnms&amp;sa=X&amp;ved=0ahUKEwiDh7KRg6X_AhVAOEQIHd-QDIEQ_AUICygG\">Books</a>,\n",
       " <a href=\"/advanced_search\" id=\"st-toggle\" role=\"button\" style=\"white-space:nowrap\">Search tools</a>,\n",
       " <a href=\"/search?q=yahoo+finance+ETH&amp;ie=UTF-8&amp;tbm=nws&amp;source=lnt&amp;tbs=qdr:h&amp;sa=X&amp;ved=0ahUKEwiDh7KRg6X_AhVAOEQIHd-QDIEQpwUIDQ\">Past hour</a>,\n",
       " <a href=\"/search?q=yahoo+finance+ETH&amp;ie=UTF-8&amp;tbm=nws&amp;source=lnt&amp;tbs=qdr:d&amp;sa=X&amp;ved=0ahUKEwiDh7KRg6X_AhVAOEQIHd-QDIEQpwUIDg\">Past 24 hours</a>,\n",
       " <a href=\"/search?q=yahoo+finance+ETH&amp;ie=UTF-8&amp;tbm=nws&amp;source=lnt&amp;tbs=qdr:w&amp;sa=X&amp;ved=0ahUKEwiDh7KRg6X_AhVAOEQIHd-QDIEQpwUIDw\">Past week</a>,\n",
       " <a href=\"/search?q=yahoo+finance+ETH&amp;ie=UTF-8&amp;tbm=nws&amp;source=lnt&amp;tbs=qdr:m&amp;sa=X&amp;ved=0ahUKEwiDh7KRg6X_AhVAOEQIHd-QDIEQpwUIEA\">Past month</a>,\n",
       " <a href=\"/search?q=yahoo+finance+ETH&amp;ie=UTF-8&amp;tbm=nws&amp;source=lnt&amp;tbs=qdr:y&amp;sa=X&amp;ved=0ahUKEwiDh7KRg6X_AhVAOEQIHd-QDIEQpwUIEQ\">Past year</a>,\n",
       " <a href=\"/search?q=yahoo+finance+ETH&amp;ie=UTF-8&amp;tbm=nws&amp;source=lnt&amp;tbs=ar:1&amp;sa=X&amp;ved=0ahUKEwiDh7KRg6X_AhVAOEQIHd-QDIEQpwUIEg\">Archives</a>,\n",
       " <a href=\"/search?q=yahoo+finance+ETH&amp;ie=UTF-8&amp;tbm=nws&amp;source=lnt&amp;tbs=sbd:1&amp;sa=X&amp;ved=0ahUKEwiDh7KRg6X_AhVAOEQIHd-QDIEQpwUIFA\">Sorted by date</a>,\n",
       " <a data-ved=\"2ahUKEwiDh7KRg6X_AhVAOEQIHd-QDIEQxfQBegQIBRAC\" href=\"/url?q=https://finance.yahoo.com/news/chatgpt-price-predictions-june-bitcoin-212203498.html&amp;sa=U&amp;ved=2ahUKEwiDh7KRg6X_AhVAOEQIHd-QDIEQxfQBegQIBRAC&amp;usg=AOvVaw0AWFFaxN61bu4BMLm77Z3D\"><div class=\"egMi0 kCrYT\"><div class=\"DnJfK\"><div class=\"j039Wc\"><h3 class=\"zBAuLc l97dzf\"><div class=\"BNeawe vvjwJb AP7Wnd\">ChatGPT Price Predictions for June: Bitcoin, Ethereum, XRP &amp; Other Trending Coins</div></h3></div><div class=\"sCuL3\"><div class=\"BNeawe UPmit AP7Wnd lRVwie\">Yahoo Finance</div></div></div></div><div class=\"kCrYT\"><div class=\"lcJF1d Q6Xouf G6SP0b\"><div style=\"width:120px;height:68px;position:static\"><img alt=\"\" class=\"h1hFNe\" data-deferred=\"1\" id=\"dimg_6\" src=\"data:image/gif;base64,R0lGODlhAQABAIAAAP///////yH5BAEKAAEALAAAAAABAAEAAAICTAEAOw==\" style=\"width:120px;height:68px\"/></div></div><div><div class=\"BNeawe s3v9rd AP7Wnd\"><div><div class=\"BNeawe s3v9rd AP7Wnd\">New York, NY --News Direct-- Finance News. May proved to be a tumultuous period for crypto investors as the prices of Bitcoin and other...<br/><span class=\"r0bn4c rQMQod\">19 hours ago</span></div></div></div></div><div class=\"rl7ilb\"></div></div></a>,\n",
       " <a data-ved=\"2ahUKEwiDh7KRg6X_AhVAOEQIHd-QDIEQxfQBegQICRAC\" href=\"/url?q=https://finance.yahoo.com/news/defi-blue-chips-suffer-more-224530662.html&amp;sa=U&amp;ved=2ahUKEwiDh7KRg6X_AhVAOEQIHd-QDIEQxfQBegQICRAC&amp;usg=AOvVaw0UHTFZiLvfzDq5i9meUHR7\"><div class=\"egMi0 kCrYT\"><div class=\"DnJfK\"><div class=\"j039Wc\"><h3 class=\"zBAuLc l97dzf\"><div class=\"BNeawe vvjwJb AP7Wnd\">DeFi Blue Chips Suffer as More Users Stake Ethereum</div></h3></div><div class=\"sCuL3\"><div class=\"BNeawe UPmit AP7Wnd lRVwie\">Yahoo Finance</div></div></div></div><div class=\"kCrYT\"><div class=\"lcJF1d Q6Xouf G6SP0b\"><div style=\"width:120px;height:66px;position:static\"><img alt=\"\" class=\"h1hFNe\" data-deferred=\"1\" id=\"dimg_19\" src=\"data:image/gif;base64,R0lGODlhAQABAIAAAP///////yH5BAEKAAEALAAAAAABAAEAAAICTAEAOw==\" style=\"width:120px;height:66px\"/></div></div><div><div class=\"BNeawe s3v9rd AP7Wnd\"><div><div class=\"BNeawe s3v9rd AP7Wnd\">Decentralized finance—or DeFi—helped kickstart the 2020 bull run. But fast-forward to 2023 and investors have largely lost interest in the...<br/><span class=\"r0bn4c rQMQod\">17 hours ago</span></div></div></div></div><div class=\"rl7ilb\"></div></div></a>,\n",
       " <a data-ved=\"2ahUKEwiDh7KRg6X_AhVAOEQIHd-QDIEQxfQBegQIBxAC\" href=\"/url?q=https://finance.yahoo.com/news/financial-advisors-real-world-assets-182032474.html&amp;sa=U&amp;ved=2ahUKEwiDh7KRg6X_AhVAOEQIHd-QDIEQxfQBegQIBxAC&amp;usg=AOvVaw0Tg91_FB7onG5V6dpu1hEN\"><div class=\"egMi0 kCrYT\"><div class=\"DnJfK\"><div class=\"j039Wc\"><h3 class=\"zBAuLc l97dzf\"><div class=\"BNeawe vvjwJb AP7Wnd\">For Financial Advisors, Real World Assets Could Be a Safe(r) Path ...</div></h3></div><div class=\"sCuL3\"><div class=\"BNeawe UPmit AP7Wnd lRVwie\">Yahoo Finance</div></div></div></div><div class=\"kCrYT\"><div class=\"lcJF1d Q6Xouf G6SP0b\"><div style=\"width:120px;height:66px;position:static\"><img alt=\"\" class=\"h1hFNe\" data-deferred=\"1\" id=\"dimg_13\" src=\"data:image/gif;base64,R0lGODlhAQABAIAAAP///////yH5BAEKAAEALAAAAAABAAEAAAICTAEAOw==\" style=\"width:120px;height:66px\"/></div></div><div><div class=\"BNeawe s3v9rd AP7Wnd\"><div><div class=\"BNeawe s3v9rd AP7Wnd\">Are Real World Assets like crypto assets? Most assets we talk about with regard to blockchain are chain-native assets like bitcoin, ETH, SOL, or...<br/><span class=\"r0bn4c rQMQod\">22 hours ago</span></div></div></div></div><div class=\"rl7ilb\"></div></div></a>,\n",
       " <a data-ved=\"2ahUKEwiDh7KRg6X_AhVAOEQIHd-QDIEQxfQBegQIBhAC\" href=\"/url?q=https://finance.yahoo.com/news/degens-t-stop-sending-millions-205811007.html&amp;sa=U&amp;ved=2ahUKEwiDh7KRg6X_AhVAOEQIHd-QDIEQxfQBegQIBhAC&amp;usg=AOvVaw1Pzc8K_KQoNm2KqeLrJFlm\"><div class=\"egMi0 kCrYT\"><div class=\"DnJfK\"><div class=\"j039Wc\"><h3 class=\"zBAuLc l97dzf\"><div class=\"BNeawe vvjwJb AP7Wnd\">Degens Can’t Stop Sending Millions in Ethereum to Random Wallets on Twitter</div></h3></div><div class=\"sCuL3\"><div class=\"BNeawe UPmit AP7Wnd lRVwie\">Yahoo Finance</div></div></div></div><div class=\"kCrYT\"><div class=\"lcJF1d Q6Xouf G6SP0b\"><div style=\"width:120px;height:66px;position:static\"><img alt=\"\" class=\"h1hFNe\" data-deferred=\"1\" id=\"dimg_2\" src=\"data:image/gif;base64,R0lGODlhAQABAIAAAP///////yH5BAEKAAEALAAAAAABAAEAAAICTAEAOw==\" style=\"width:120px;height:66px\"/></div></div><div><div class=\"BNeawe s3v9rd AP7Wnd\"><div><div class=\"BNeawe s3v9rd AP7Wnd\">“There is no presale,” Pauly said, responding to a Twitter user who claimed he was playing with people's emotions for financial speculation. “...<br/><span class=\"r0bn4c rQMQod\">1 day ago</span></div></div></div></div><div class=\"rl7ilb\"></div></div></a>,\n",
       " <a data-ved=\"2ahUKEwiDh7KRg6X_AhVAOEQIHd-QDIEQxfQBegQICBAC\" href=\"/url?q=https://finance.yahoo.com/news/5-years-500k-ethereum-wager-153000449.html&amp;sa=U&amp;ved=2ahUKEwiDh7KRg6X_AhVAOEQIHd-QDIEQxfQBegQICBAC&amp;usg=AOvVaw0Mwq7o6KTWgDaezAV0-WPj\"><div class=\"egMi0 kCrYT\"><div class=\"DnJfK\"><div class=\"j039Wc\"><h3 class=\"zBAuLc l97dzf\"><div class=\"BNeawe vvjwJb AP7Wnd\">5 Years After the $500K Ethereum Wager Between Joe Lubin and Jimmy Song, Who Won?</div></h3></div><div class=\"sCuL3\"><div class=\"BNeawe UPmit AP7Wnd lRVwie\">Yahoo Finance</div></div></div></div><div class=\"kCrYT\"><div class=\"lcJF1d Q6Xouf G6SP0b\"><div style=\"width:120px;height:66px;position:static\"><img alt=\"\" class=\"h1hFNe\" data-deferred=\"1\" id=\"dimg_8\" src=\"data:image/gif;base64,R0lGODlhAQABAIAAAP///////yH5BAEKAAEALAAAAAABAAEAAAICTAEAOw==\" style=\"width:120px;height:66px\"/></div></div><div><div class=\"BNeawe s3v9rd AP7Wnd\"><div><div class=\"BNeawe s3v9rd AP7Wnd\">Yet, it's not an irrelevant historical curiosity. The terms between bitcoin maximalist Jimmy Song and Ethereum co-founder Joe Lubin – major...<br/><span class=\"r0bn4c rQMQod\">2 days ago</span></div></div></div></div><div class=\"rl7ilb\"></div></div></a>,\n",
       " <a data-ved=\"2ahUKEwiDh7KRg6X_AhVAOEQIHd-QDIEQxfQBegQIABAC\" href=\"/url?q=https://uk.finance.yahoo.com/news/crypto-bitcoin-ethereum-prices-rise-us-debt-ceiling-083125385.html&amp;sa=U&amp;ved=2ahUKEwiDh7KRg6X_AhVAOEQIHd-QDIEQxfQBegQIABAC&amp;usg=AOvVaw2BpmbGMDyKwNv64yjx8PVB\"><div class=\"egMi0 kCrYT\"><div class=\"DnJfK\"><div class=\"j039Wc\"><h3 class=\"zBAuLc l97dzf\"><div class=\"BNeawe vvjwJb AP7Wnd\">Crypto: Bitcoin and ethereum prices rise after US debt ceiling deal announcement</div></h3></div><div class=\"sCuL3\"><div class=\"BNeawe UPmit AP7Wnd lRVwie\">Yahoo Finance</div></div></div></div><div class=\"kCrYT\"><div class=\"lcJF1d Q6Xouf G6SP0b\"><div style=\"width:120px;height:66px;position:static\"><img alt=\"\" class=\"h1hFNe\" data-deferred=\"1\" id=\"dimg_5\" src=\"data:image/gif;base64,R0lGODlhAQABAIAAAP///////yH5BAEKAAEALAAAAAABAAEAAAICTAEAOw==\" style=\"width:120px;height:66px\"/></div></div><div><div class=\"BNeawe s3v9rd AP7Wnd\"><div><div class=\"BNeawe s3v9rd AP7Wnd\">Download the Yahoo Finance app, available for Apple and Android.<br/><span class=\"r0bn4c rQMQod\">3 days ago</span></div></div></div></div><div class=\"rl7ilb\"></div></div></a>,\n",
       " <a data-ved=\"2ahUKEwiDh7KRg6X_AhVAOEQIHd-QDIEQxfQBegQIARAC\" href=\"/url?q=https://finance.yahoo.com/news/bitcoin-ethereum-lose-steam-amid-172314504.html&amp;sa=U&amp;ved=2ahUKEwiDh7KRg6X_AhVAOEQIHd-QDIEQxfQBegQIARAC&amp;usg=AOvVaw3LPA_VRtSO4zJhcYYpZt5j\"><div class=\"egMi0 kCrYT\"><div class=\"DnJfK\"><div class=\"j039Wc\"><h3 class=\"zBAuLc l97dzf\"><div class=\"BNeawe vvjwJb AP7Wnd\">Bitcoin, Ethereum Lose Steam Amid Ledger Controversy and US Market Uncertainty</div></h3></div><div class=\"sCuL3\"><div class=\"BNeawe UPmit AP7Wnd lRVwie\">Yahoo Finance</div></div></div></div><div class=\"kCrYT\"><div class=\"lcJF1d Q6Xouf G6SP0b\"><div style=\"width:120px;height:66px;position:static\"><img alt=\"\" class=\"h1hFNe\" data-deferred=\"1\" id=\"dimg_1\" src=\"data:image/gif;base64,R0lGODlhAQABAIAAAP///////yH5BAEKAAEALAAAAAABAAEAAAICTAEAOw==\" style=\"width:120px;height:66px\"/></div></div><div><div class=\"BNeawe s3v9rd AP7Wnd\"><div><div class=\"BNeawe s3v9rd AP7Wnd\">ETH fell to $1,786, marking a 1.3% loss on the week, according to Coingecko. Amid the top 50 cryptocurrencies, the market saw a lot of movement...<br/><span class=\"r0bn4c rQMQod\">1 week ago</span></div></div></div></div><div class=\"rl7ilb\"></div></div></a>,\n",
       " <a data-ved=\"2ahUKEwiDh7KRg6X_AhVAOEQIHd-QDIEQxfQBegQIAxAC\" href=\"/url?q=https://finance.yahoo.com/news/dex-trading-bots-most-profitable-132000279.html&amp;sa=U&amp;ved=2ahUKEwiDh7KRg6X_AhVAOEQIHd-QDIEQxfQBegQIAxAC&amp;usg=AOvVaw2VRiRYjNuOv_gBSdAPhAvt\"><div class=\"egMi0 kCrYT\"><div class=\"DnJfK\"><div class=\"j039Wc\"><h3 class=\"zBAuLc l97dzf\"><div class=\"BNeawe vvjwJb AP7Wnd\">DEX Trading Bots: The Most Profitable Crypto Trading Strategies Are Hiding in Plain Sight</div></h3></div><div class=\"sCuL3\"><div class=\"BNeawe UPmit AP7Wnd lRVwie\">Yahoo Finance</div></div></div></div><div class=\"kCrYT\"><div class=\"lcJF1d Q6Xouf G6SP0b\"><div style=\"width:120px;height:66px;position:static\"><img alt=\"\" class=\"h1hFNe\" data-deferred=\"1\" id=\"dimg_9\" src=\"data:image/gif;base64,R0lGODlhAQABAIAAAP///////yH5BAEKAAEALAAAAAABAAEAAAICTAEAOw==\" style=\"width:120px;height:66px\"/></div></div><div><div class=\"BNeawe s3v9rd AP7Wnd\"><div><div class=\"BNeawe s3v9rd AP7Wnd\">However, hidden in the depths of the decentralized finance (DeFi) world ... For example, \"buy ETH when its price hits $1,800, and sell ETH...<br/><span class=\"r0bn4c rQMQod\">3 hours ago</span></div></div></div></div><div class=\"rl7ilb\"></div></div></a>,\n",
       " <a data-ved=\"2ahUKEwiDh7KRg6X_AhVAOEQIHd-QDIEQxfQBegQIBBAC\" href=\"/url?q=https://finance.yahoo.com/news/dogemiyagi-emerges-ethereum-price-dangles-165159627.html&amp;sa=U&amp;ved=2ahUKEwiDh7KRg6X_AhVAOEQIHd-QDIEQxfQBegQIBBAC&amp;usg=AOvVaw1-fQZCvQYMOWXEPT1OYLfU\"><div class=\"egMi0 kCrYT\"><div class=\"DnJfK\"><div class=\"j039Wc\"><h3 class=\"zBAuLc l97dzf\"><div class=\"BNeawe vvjwJb AP7Wnd\">DogeMiyagi Emerges as Ethereum Price Dangles, While Bitcoin’s Decline Intensifies with a 10% Fall in May 2023</div></h3></div><div class=\"sCuL3\"><div class=\"BNeawe UPmit AP7Wnd lRVwie\">Yahoo Finance</div></div></div></div><div class=\"kCrYT\"><div class=\"lcJF1d Q6Xouf G6SP0b\"><div style=\"width:120px;height:66px;position:static\"><img alt=\"\" class=\"h1hFNe\" data-deferred=\"1\" id=\"dimg_17\" src=\"data:image/gif;base64,R0lGODlhAQABAIAAAP///////yH5BAEKAAEALAAAAAABAAEAAAICTAEAOw==\" style=\"width:120px;height:66px\"/></div></div><div><div class=\"BNeawe s3v9rd AP7Wnd\"><div><div class=\"BNeawe s3v9rd AP7Wnd\">A leaked document distributed to Democratic House Financial Services Committee members has revealed the “key messages” legislators were...<br/><span class=\"r0bn4c rQMQod\">2 weeks ago</span></div></div></div></div><div class=\"rl7ilb\"></div></div></a>,\n",
       " <a data-ved=\"2ahUKEwiDh7KRg6X_AhVAOEQIHd-QDIEQxfQBegQIAhAC\" href=\"/url?q=https://finance.yahoo.com/news/bitcoin-ethereum-two-titans-battle-164002178.html&amp;sa=U&amp;ved=2ahUKEwiDh7KRg6X_AhVAOEQIHd-QDIEQxfQBegQIAhAC&amp;usg=AOvVaw3m2ZpMPGwMkdL2TjuSzyA6\"><div class=\"egMi0 kCrYT\"><div class=\"DnJfK\"><div class=\"j039Wc\"><h3 class=\"zBAuLc l97dzf\"><div class=\"BNeawe vvjwJb AP7Wnd\">Bitcoin and Ethereum: Two titans battle for NFT supremacy</div></h3></div><div class=\"sCuL3\"><div class=\"BNeawe UPmit AP7Wnd lRVwie\">Yahoo Finance</div></div></div></div><div class=\"kCrYT\"><div class=\"lcJF1d Q6Xouf G6SP0b\"><div style=\"width:120px;height:66px;position:static\"><img alt=\"\" class=\"h1hFNe\" data-deferred=\"1\" id=\"dimg_15\" src=\"data:image/gif;base64,R0lGODlhAQABAIAAAP///////yH5BAEKAAEALAAAAAABAAEAAAICTAEAOw==\" style=\"width:120px;height:66px\"/></div></div><div><div class=\"BNeawe s3v9rd AP7Wnd\"><div><div class=\"BNeawe s3v9rd AP7Wnd\">This past weekend, two major cryptocurrency/non-fungible tokens events happened, Veecon Indianapolis 2023 and the BTC Miami/Ordinals...<br/><span class=\"r0bn4c rQMQod\">5 days ago</span></div></div></div></div><div class=\"rl7ilb\"></div></div></a>,\n",
       " <a aria-label=\"Next page\" class=\"nBDE1b G5eFlf\" href=\"/search?q=yahoo+finance+ETH&amp;ie=UTF-8&amp;tbm=nws&amp;ei=PRt6ZMP0M8DwkPIP36GyiAg&amp;start=10&amp;sa=N\">Next &gt;</a>,\n",
       " <a aria-label=\"Learn more about this location\" href=\"/url?q=https://support.google.com/websearch%3Fp%3Dws_settings_location%26hl%3Den&amp;sa=U&amp;ved=0ahUKEwiDh7KRg6X_AhVAOEQIHd-QDIEQty4IUw&amp;usg=AOvVaw1gFUdwc7CbhRrftyWq-Uqm\" tabindex=\"0\">Learn more</a>,\n",
       " <a href=\"/url?q=https://accounts.google.com/ServiceLogin%3Fcontinue%3Dhttps://www.google.com/search%253Fq%253Dyahoo%252Bfinance%252BETH%2526tbm%253Dnws%26hl%3Den&amp;sa=U&amp;ved=0ahUKEwiDh7KRg6X_AhVAOEQIHd-QDIEQxs8CCFQ&amp;usg=AOvVaw101eSYCxieUMilBe5F3_i0\">Sign in</a>,\n",
       " <a class=\"xeDNfc\" href=\"https://www.google.com/preferences?hl=en&amp;fg=1&amp;sa=X&amp;ved=0ahUKEwiDh7KRg6X_AhVAOEQIHd-QDIEQ5fUCCFU\">Settings</a>,\n",
       " <a class=\"xeDNfc\" href=\"https://policies.google.com/privacy?hl=en&amp;fg=1\">Privacy</a>,\n",
       " <a class=\"xeDNfc\" href=\"https://policies.google.com/terms?hl=en&amp;fg=1\">Terms</a>,\n",
       " <a class=\"xeDNfc\" href=\"/setprefs?hl=en&amp;prev=https://www.google.com/search?q%3Dyahoo%2Bfinance%2BETH%26tbm%3Dnws%26pccc%3D1&amp;sig=0_K4iUSXHLoxbqDQ5HhzMYesIhD9Q%3D&amp;cs=2&amp;sa=X&amp;ved=0ahUKEwiDh7KRg6X_AhVAOEQIHd-QDIEQjcAJCFY\">Dark theme: Off</a>]"
      ]
     },
     "execution_count": 59,
     "metadata": {},
     "output_type": "execute_result"
    }
   ],
   "source": [
    "atags"
   ]
  },
  {
   "attachments": {},
   "cell_type": "markdown",
   "metadata": {},
   "source": [
    "Loop through all the tickers to get all the URLs"
   ]
  },
  {
   "cell_type": "code",
   "execution_count": null,
   "metadata": {},
   "outputs": [],
   "source": [
    "# raw_urls = {}\n",
    "\n",
    "# for ticker in monitored_tickers:\n",
    "#     raw_urls[ticker] = search_for_stocks_news_url(ticker)"
   ]
  },
  {
   "attachments": {},
   "cell_type": "markdown",
   "metadata": {},
   "source": [
    "The above code can be rewritten as:"
   ]
  },
  {
   "cell_type": "code",
   "execution_count": 60,
   "metadata": {},
   "outputs": [
    {
     "data": {
      "text/plain": [
       "{'GME': ['/?sa=X&ved=0ahUKEwj88tvKi6X_AhXPIUQIHX-MDQ4QOwgC',\n",
       "  '/search?q=yahoo+finance+GME&tbm=nws&ie=UTF-8&gbv=1&sei=GSR6ZLyCIs_DkPIP_5i2cA',\n",
       "  '/search?q=yahoo+finance+GME&ie=UTF-8&source=lnms&sa=X&ved=0ahUKEwj88tvKi6X_AhXPIUQIHX-MDQ4Q_AUIBSgA',\n",
       "  '/search?q=yahoo+finance+GME&ie=UTF-8&tbm=vid&source=lnms&sa=X&ved=0ahUKEwj88tvKi6X_AhXPIUQIHX-MDQ4Q_AUIBygC',\n",
       "  '/search?q=yahoo+finance+GME&ie=UTF-8&tbm=isch&source=lnms&sa=X&ved=0ahUKEwj88tvKi6X_AhXPIUQIHX-MDQ4Q_AUICCgD',\n",
       "  'https://maps.google.com/maps?q=yahoo+finance+GME&um=1&ie=UTF-8&sa=X&ved=0ahUKEwj88tvKi6X_AhXPIUQIHX-MDQ4Q_AUICSgE',\n",
       "  '/search?q=yahoo+finance+GME&ie=UTF-8&tbm=shop&source=lnms&sa=X&ved=0ahUKEwj88tvKi6X_AhXPIUQIHX-MDQ4Q_AUICigF',\n",
       "  '/search?q=yahoo+finance+GME&ie=UTF-8&tbm=bks&source=lnms&sa=X&ved=0ahUKEwj88tvKi6X_AhXPIUQIHX-MDQ4Q_AUICygG',\n",
       "  '/advanced_search',\n",
       "  '/search?q=yahoo+finance+GME&ie=UTF-8&tbm=nws&source=lnt&tbs=qdr:h&sa=X&ved=0ahUKEwj88tvKi6X_AhXPIUQIHX-MDQ4QpwUIDQ',\n",
       "  '/search?q=yahoo+finance+GME&ie=UTF-8&tbm=nws&source=lnt&tbs=qdr:d&sa=X&ved=0ahUKEwj88tvKi6X_AhXPIUQIHX-MDQ4QpwUIDg',\n",
       "  '/search?q=yahoo+finance+GME&ie=UTF-8&tbm=nws&source=lnt&tbs=qdr:w&sa=X&ved=0ahUKEwj88tvKi6X_AhXPIUQIHX-MDQ4QpwUIDw',\n",
       "  '/search?q=yahoo+finance+GME&ie=UTF-8&tbm=nws&source=lnt&tbs=qdr:m&sa=X&ved=0ahUKEwj88tvKi6X_AhXPIUQIHX-MDQ4QpwUIEA',\n",
       "  '/search?q=yahoo+finance+GME&ie=UTF-8&tbm=nws&source=lnt&tbs=qdr:y&sa=X&ved=0ahUKEwj88tvKi6X_AhXPIUQIHX-MDQ4QpwUIEQ',\n",
       "  '/search?q=yahoo+finance+GME&ie=UTF-8&tbm=nws&source=lnt&tbs=ar:1&sa=X&ved=0ahUKEwj88tvKi6X_AhXPIUQIHX-MDQ4QpwUIEg',\n",
       "  '/search?q=yahoo+finance+GME&ie=UTF-8&tbm=nws&source=lnt&tbs=sbd:1&sa=X&ved=0ahUKEwj88tvKi6X_AhXPIUQIHX-MDQ4QpwUIFA',\n",
       "  '/url?q=https://finance.yahoo.com/news/gamestop-gme-gains-lags-market-221517734.html&sa=U&ved=2ahUKEwj88tvKi6X_AhXPIUQIHX-MDQ4QxfQBegQIAhAC&usg=AOvVaw2dOk2oqPfjfC_UXwjggGQG',\n",
       "  '/url?q=https://finance.yahoo.com/news/gamestop-teams-telos-foundation-grow-155032269.html&sa=U&ved=2ahUKEwj88tvKi6X_AhXPIUQIHX-MDQ4QxfQBegQICRAC&usg=AOvVaw09-Jakim7qEjek6XKm1qEi',\n",
       "  '/url?q=https://uk.finance.yahoo.com/news/mexico-extends-gmexico-train-concession-154127289.html&sa=U&ved=2ahUKEwj88tvKi6X_AhXPIUQIHX-MDQ4QxfQBegQIAxAC&usg=AOvVaw30EKSGzjJ8Z494lBk-MmDM',\n",
       "  '/url?q=https://finance.yahoo.com/news/are-banks-the-new-meme-stocks-193655826.html&sa=U&ved=2ahUKEwj88tvKi6X_AhXPIUQIHX-MDQ4QxfQBegQIBhAC&usg=AOvVaw3phUsAyQIvqcUfXHy4nUem',\n",
       "  '/url?q=https://finance.yahoo.com/news/saudi-flour-milling-company-ipo-093803396.html&sa=U&ved=2ahUKEwj88tvKi6X_AhXPIUQIHX-MDQ4QxfQBegQIABAC&usg=AOvVaw1GikauExjU3OPyRjUp1Hk5',\n",
       "  '/url?q=https://finance.yahoo.com/news/byju-lenders-scrap-talks-restructure-063304131.html&sa=U&ved=2ahUKEwj88tvKi6X_AhXPIUQIHX-MDQ4QxfQBegQICBAC&usg=AOvVaw2Lz8OedCmSNUcnzlVwMxcI',\n",
       "  '/url?q=https://finance.yahoo.com/news/robinhood-announces-plans-to-launch-24-hour-trading-with-names-like-apple-tesla-130110794.html&sa=U&ved=2ahUKEwj88tvKi6X_AhXPIUQIHX-MDQ4QxfQBegQIBRAC&usg=AOvVaw3poQri-MCXJ5iHVVvMjhGa',\n",
       "  '/url?q=https://finance.yahoo.com/video/bank-stock-declines-attributed-crowd-205127249.html&sa=U&ved=2ahUKEwj88tvKi6X_AhXPIUQIHX-MDQ4QxfQBegQIBxAC&usg=AOvVaw3NglDCrENPbksdiIKcax4p',\n",
       "  '/url?q=https://finance.yahoo.com/news/billionaire-chip-dreams-stymied-india-000225933.html&sa=U&ved=2ahUKEwj88tvKi6X_AhXPIUQIHX-MDQ4QxfQBegQIBBAC&usg=AOvVaw2Kqdr6mSIlu43mK6s9YZne',\n",
       "  '/url?q=https://finance.yahoo.com/news/strength-seen-gamestop-gme-14-144602277.html&sa=U&ved=2ahUKEwj88tvKi6X_AhXPIUQIHX-MDQ4QxfQBegQIARAC&usg=AOvVaw2QKhvhfycMfJklVQ0qr3tE',\n",
       "  '/search?q=yahoo+finance+GME&ie=UTF-8&tbm=nws&ei=GSR6ZLyCIs_DkPIP_5i2cA&start=10&sa=N',\n",
       "  '/url?q=https://support.google.com/websearch%3Fp%3Dws_settings_location%26hl%3Den&sa=U&ved=0ahUKEwj88tvKi6X_AhXPIUQIHX-MDQ4Qty4IUw&usg=AOvVaw0aT9FEjnUTZMLAISzZkrZd',\n",
       "  '/url?q=https://accounts.google.com/ServiceLogin%3Fcontinue%3Dhttps://www.google.com/search%253Fq%253Dyahoo%252Bfinance%252BGME%2526tbm%253Dnws%26hl%3Den&sa=U&ved=0ahUKEwj88tvKi6X_AhXPIUQIHX-MDQ4Qxs8CCFQ&usg=AOvVaw02SO6cEzWBkvAzsqgfGbwv',\n",
       "  'https://www.google.com/preferences?hl=en&fg=1&sa=X&ved=0ahUKEwj88tvKi6X_AhXPIUQIHX-MDQ4Q5fUCCFU',\n",
       "  'https://policies.google.com/privacy?hl=en&fg=1',\n",
       "  'https://policies.google.com/terms?hl=en&fg=1',\n",
       "  '/setprefs?hl=en&prev=https://www.google.com/search?q%3Dyahoo%2Bfinance%2BGME%26tbm%3Dnws%26pccc%3D1&sig=0__9e1EPdbkiPAhsO63gyihcaA0xI%3D&cs=2&sa=X&ved=0ahUKEwj88tvKi6X_AhXPIUQIHX-MDQ4QjcAJCFY'],\n",
       " 'TSLA': ['/?sa=X&ved=0ahUKEwj28vvKi6X_AhURHUQIHd-tDOkQOwgC',\n",
       "  '/search?q=yahoo+finance+TSLA&tbm=nws&ie=UTF-8&gbv=1&sei=GiR6ZPb9BJG6kPIP39uyyA4',\n",
       "  '/search?q=yahoo+finance+TSLA&ie=UTF-8&source=lnms&sa=X&ved=0ahUKEwj28vvKi6X_AhURHUQIHd-tDOkQ_AUIBSgA',\n",
       "  '/search?q=yahoo+finance+TSLA&ie=UTF-8&tbm=vid&source=lnms&sa=X&ved=0ahUKEwj28vvKi6X_AhURHUQIHd-tDOkQ_AUIBygC',\n",
       "  '/search?q=yahoo+finance+TSLA&ie=UTF-8&tbm=isch&source=lnms&sa=X&ved=0ahUKEwj28vvKi6X_AhURHUQIHd-tDOkQ_AUICCgD',\n",
       "  'https://maps.google.com/maps?q=yahoo+finance+TSLA&um=1&ie=UTF-8&sa=X&ved=0ahUKEwj28vvKi6X_AhURHUQIHd-tDOkQ_AUICSgE',\n",
       "  '/search?q=yahoo+finance+TSLA&ie=UTF-8&tbm=shop&source=lnms&sa=X&ved=0ahUKEwj28vvKi6X_AhURHUQIHd-tDOkQ_AUICigF',\n",
       "  '/search?q=yahoo+finance+TSLA&ie=UTF-8&tbm=bks&source=lnms&sa=X&ved=0ahUKEwj28vvKi6X_AhURHUQIHd-tDOkQ_AUICygG',\n",
       "  '/advanced_search',\n",
       "  '/search?q=yahoo+finance+TSLA&ie=UTF-8&tbm=nws&source=lnt&tbs=qdr:h&sa=X&ved=0ahUKEwj28vvKi6X_AhURHUQIHd-tDOkQpwUIDQ',\n",
       "  '/search?q=yahoo+finance+TSLA&ie=UTF-8&tbm=nws&source=lnt&tbs=qdr:d&sa=X&ved=0ahUKEwj28vvKi6X_AhURHUQIHd-tDOkQpwUIDg',\n",
       "  '/search?q=yahoo+finance+TSLA&ie=UTF-8&tbm=nws&source=lnt&tbs=qdr:w&sa=X&ved=0ahUKEwj28vvKi6X_AhURHUQIHd-tDOkQpwUIDw',\n",
       "  '/search?q=yahoo+finance+TSLA&ie=UTF-8&tbm=nws&source=lnt&tbs=qdr:m&sa=X&ved=0ahUKEwj28vvKi6X_AhURHUQIHd-tDOkQpwUIEA',\n",
       "  '/search?q=yahoo+finance+TSLA&ie=UTF-8&tbm=nws&source=lnt&tbs=qdr:y&sa=X&ved=0ahUKEwj28vvKi6X_AhURHUQIHd-tDOkQpwUIEQ',\n",
       "  '/search?q=yahoo+finance+TSLA&ie=UTF-8&tbm=nws&source=lnt&tbs=ar:1&sa=X&ved=0ahUKEwj28vvKi6X_AhURHUQIHd-tDOkQpwUIEg',\n",
       "  '/search?q=yahoo+finance+TSLA&ie=UTF-8&tbm=nws&source=lnt&tbs=sbd:1&sa=X&ved=0ahUKEwj28vvKi6X_AhURHUQIHd-tDOkQpwUIFA',\n",
       "  '/url?q=https://finance.yahoo.com/news/tesla-cybertruck-could-be-as-mainstream-as-the-model-y-ark-invest-203139255.html&sa=U&ved=2ahUKEwj28vvKi6X_AhURHUQIHd-tDOkQxfQBegQIBRAC&usg=AOvVaw26YFzTXOCDrau5PBXylFs7',\n",
       "  '/url?q=https://finance.yahoo.com/news/5-reasons-buy-tesla-now-121300017.html&sa=U&ved=2ahUKEwj28vvKi6X_AhURHUQIHd-tDOkQxfQBegQICRAC&usg=AOvVaw1cw5g17HzrFUrqFkalRtPU',\n",
       "  '/url?q=https://finance.yahoo.com/news/tesla-model-y-was-the-best-selling-car-worldwide-in-the-first-quarter-154909234.html&sa=U&ved=2ahUKEwj28vvKi6X_AhURHUQIHd-tDOkQxfQBegQIAhAC&usg=AOvVaw3NHRW-G8J8zUMftByFR7-z',\n",
       "  '/url?q=https://finance.yahoo.com/news/tesla-stock-jumps-55-on-friday-snaps-longest-weekly-losing-streak-since-2021-201813547.html&sa=U&ved=2ahUKEwj28vvKi6X_AhURHUQIHd-tDOkQxfQBegQIARAC&usg=AOvVaw0a8MBah3J3eMlMfIUwxS99',\n",
       "  '/url?q=https://finance.yahoo.com/video/tesla-likely-launch-more-conventional-160521632.html&sa=U&ved=2ahUKEwj28vvKi6X_AhURHUQIHd-tDOkQxfQBegQIABAC&usg=AOvVaw21G7SHZh13fE8uZq3su2Ts',\n",
       "  '/url?q=https://finance.yahoo.com/news/auto-roundup-tsla-fs-game-142800188.html&sa=U&ved=2ahUKEwj28vvKi6X_AhURHUQIHd-tDOkQxfQBegQIBxAC&usg=AOvVaw1frcYp_ITKiRIxBu_ig-b_',\n",
       "  '/url?q=https://ca.finance.yahoo.com/news/tesla-still-auto-stock-despite-200919415.html&sa=U&ved=2ahUKEwj28vvKi6X_AhURHUQIHd-tDOkQxfQBegQIBhAC&usg=AOvVaw3KU73u-cpPNi3Q3HJQvrO9',\n",
       "  '/url?q=https://finance.yahoo.com/news/tesla-doubles-discounts-model-3-002409554.html&sa=U&ved=2ahUKEwj28vvKi6X_AhURHUQIHd-tDOkQxfQBegQICBAC&usg=AOvVaw21ZMxCQmsQmlcrEYgKL61N',\n",
       "  '/url?q=https://finance.yahoo.com/news/top-research-reports-tesla-totalenergies-202900627.html&sa=U&ved=2ahUKEwj28vvKi6X_AhURHUQIHd-tDOkQxfQBegQIAxAC&usg=AOvVaw22-39iJqXnZ33UTALm0isI',\n",
       "  '/url?q=https://finance.yahoo.com/news/chinas-foreign-ministry-tesla-ceo-092412402.html&sa=U&ved=2ahUKEwj28vvKi6X_AhURHUQIHd-tDOkQxfQBegQIBBAC&usg=AOvVaw1ZYlNxdrntz-tAtGyFaWHw',\n",
       "  '/search?q=yahoo+finance+TSLA&ie=UTF-8&tbm=nws&ei=GiR6ZPb9BJG6kPIP39uyyA4&start=10&sa=N',\n",
       "  '/url?q=https://support.google.com/websearch%3Fp%3Dws_settings_location%26hl%3Den&sa=U&ved=0ahUKEwj28vvKi6X_AhURHUQIHd-tDOkQty4IUw&usg=AOvVaw27zD6PbYSMQeb8OfPszOY8',\n",
       "  '/url?q=https://accounts.google.com/ServiceLogin%3Fcontinue%3Dhttps://www.google.com/search%253Fq%253Dyahoo%252Bfinance%252BTSLA%2526tbm%253Dnws%26hl%3Den&sa=U&ved=0ahUKEwj28vvKi6X_AhURHUQIHd-tDOkQxs8CCFQ&usg=AOvVaw3gJ91pTvxTn9z6r6zJdsiS',\n",
       "  'https://www.google.com/preferences?hl=en&fg=1&sa=X&ved=0ahUKEwj28vvKi6X_AhURHUQIHd-tDOkQ5fUCCFU',\n",
       "  'https://policies.google.com/privacy?hl=en&fg=1',\n",
       "  'https://policies.google.com/terms?hl=en&fg=1',\n",
       "  '/setprefs?hl=en&prev=https://www.google.com/search?q%3Dyahoo%2Bfinance%2BTSLA%26tbm%3Dnws%26pccc%3D1&sig=0_9kSPJ4LGinYvtnNIvmfMlR-IRMI%3D&cs=2&sa=X&ved=0ahUKEwj28vvKi6X_AhURHUQIHd-tDOkQjcAJCFY'],\n",
       " 'BTC': ['/?sa=X&ved=0ahUKEwiJ1p3Li6X_AhUpM0QIHdS7BkAQOwgC',\n",
       "  '/search?q=yahoo+finance+BTC&tbm=nws&ie=UTF-8&gbv=1&sei=GiR6ZInhJqnmkPIP1PeagAQ',\n",
       "  '/search?q=yahoo+finance+BTC&ie=UTF-8&source=lnms&sa=X&ved=0ahUKEwiJ1p3Li6X_AhUpM0QIHdS7BkAQ_AUIBSgA',\n",
       "  '/search?q=yahoo+finance+BTC&ie=UTF-8&tbm=isch&source=lnms&sa=X&ved=0ahUKEwiJ1p3Li6X_AhUpM0QIHdS7BkAQ_AUIBygC',\n",
       "  '/search?q=yahoo+finance+BTC&ie=UTF-8&tbm=shop&source=lnms&sa=X&ved=0ahUKEwiJ1p3Li6X_AhUpM0QIHdS7BkAQ_AUICCgD',\n",
       "  'https://maps.google.com/maps?q=yahoo+finance+BTC&um=1&ie=UTF-8&sa=X&ved=0ahUKEwiJ1p3Li6X_AhUpM0QIHdS7BkAQ_AUICSgE',\n",
       "  '/search?q=yahoo+finance+BTC&ie=UTF-8&tbm=vid&source=lnms&sa=X&ved=0ahUKEwiJ1p3Li6X_AhUpM0QIHdS7BkAQ_AUICigF',\n",
       "  '/search?q=yahoo+finance+BTC&ie=UTF-8&tbm=bks&source=lnms&sa=X&ved=0ahUKEwiJ1p3Li6X_AhUpM0QIHdS7BkAQ_AUICygG',\n",
       "  '/advanced_search',\n",
       "  '/search?q=yahoo+finance+BTC&ie=UTF-8&tbm=nws&source=lnt&tbs=qdr:h&sa=X&ved=0ahUKEwiJ1p3Li6X_AhUpM0QIHdS7BkAQpwUIDQ',\n",
       "  '/search?q=yahoo+finance+BTC&ie=UTF-8&tbm=nws&source=lnt&tbs=qdr:d&sa=X&ved=0ahUKEwiJ1p3Li6X_AhUpM0QIHdS7BkAQpwUIDg',\n",
       "  '/search?q=yahoo+finance+BTC&ie=UTF-8&tbm=nws&source=lnt&tbs=qdr:w&sa=X&ved=0ahUKEwiJ1p3Li6X_AhUpM0QIHdS7BkAQpwUIDw',\n",
       "  '/search?q=yahoo+finance+BTC&ie=UTF-8&tbm=nws&source=lnt&tbs=qdr:m&sa=X&ved=0ahUKEwiJ1p3Li6X_AhUpM0QIHdS7BkAQpwUIEA',\n",
       "  '/search?q=yahoo+finance+BTC&ie=UTF-8&tbm=nws&source=lnt&tbs=qdr:y&sa=X&ved=0ahUKEwiJ1p3Li6X_AhUpM0QIHdS7BkAQpwUIEQ',\n",
       "  '/search?q=yahoo+finance+BTC&ie=UTF-8&tbm=nws&source=lnt&tbs=ar:1&sa=X&ved=0ahUKEwiJ1p3Li6X_AhUpM0QIHdS7BkAQpwUIEg',\n",
       "  '/search?q=yahoo+finance+BTC&ie=UTF-8&tbm=nws&source=lnt&tbs=sbd:1&sa=X&ved=0ahUKEwiJ1p3Li6X_AhUpM0QIHdS7BkAQpwUIFA',\n",
       "  '/url?q=https://finance.yahoo.com/news/bitcoin-mining-difficulty-rises-3-053415215.html&sa=U&ved=2ahUKEwiJ1p3Li6X_AhUpM0QIHdS7BkAQxfQBegQIBhAC&usg=AOvVaw0EVRmCMg2KEHDWEOUBBmRL',\n",
       "  '/url?q=https://finance.yahoo.com/news/cleanspark-releases-may-2023-bitcoin-130000163.html&sa=U&ved=2ahUKEwiJ1p3Li6X_AhUpM0QIHdS7BkAQxfQBegQICRAC&usg=AOvVaw1nzceTLos3MJpHhYo5opRG',\n",
       "  '/url?q=https://uk.finance.yahoo.com/news/bitcoin-poised-for-first-monthly-decline-of-2023-084014656.html&sa=U&ved=2ahUKEwiJ1p3Li6X_AhUpM0QIHdS7BkAQxfQBegQIBRAC&usg=AOvVaw1agnzCAxVCM6HdUJx51D4B',\n",
       "  '/url?q=https://finance.yahoo.com/news/chatgpt-price-predictions-june-bitcoin-212203498.html&sa=U&ved=2ahUKEwiJ1p3Li6X_AhUpM0QIHdS7BkAQxfQBegQIBxAC&usg=AOvVaw2lGc2_czFcquzP66K5PCyv',\n",
       "  '/url?q=https://finance.yahoo.com/news/someone-bought-loaf-bread-bitcoin-224725278.html&sa=U&ved=2ahUKEwiJ1p3Li6X_AhUpM0QIHdS7BkAQxfQBegQICBAC&usg=AOvVaw3bij2u6LhDpDObHPtaiFe5',\n",
       "  '/url?q=https://finance.yahoo.com/news/marathon-digital-holdings-announces-bitcoin-100000265.html&sa=U&ved=2ahUKEwiJ1p3Li6X_AhUpM0QIHdS7BkAQxfQBegQIBBAC&usg=AOvVaw1p7U5mnEmzkL6C_9fIs56P',\n",
       "  '/url?q=https://finance.yahoo.com/news/coinbase-derivatives-exchange-offer-institutional-081858007.html&sa=U&ved=2ahUKEwiJ1p3Li6X_AhUpM0QIHdS7BkAQxfQBegQIAxAC&usg=AOvVaw0Ikzyl1m7tcnNv1CbJ2EFW',\n",
       "  '/url?q=https://finance.yahoo.com/news/public-bitcoin-miner-sato-technologies-120500755.html&sa=U&ved=2ahUKEwiJ1p3Li6X_AhUpM0QIHdS7BkAQxfQBegQIABAC&usg=AOvVaw0ENsLOcebtB_evqbyHuw-4',\n",
       "  '/url?q=https://finance.yahoo.com/news/first-mover-asia-bitcoin-settles-020214108.html&sa=U&ved=2ahUKEwiJ1p3Li6X_AhUpM0QIHdS7BkAQxfQBegQIAhAC&usg=AOvVaw041fsLMlaFeexOeofQJ7Jt',\n",
       "  '/url?q=https://finance.yahoo.com/news/controversial-stablecoin-issuer-tether-plans-163724092.html&sa=U&ved=2ahUKEwiJ1p3Li6X_AhUpM0QIHdS7BkAQxfQBegQIARAC&usg=AOvVaw1WOcrUXevRI2gXQ-CwhvgJ',\n",
       "  '/search?q=yahoo+finance+BTC&ie=UTF-8&tbm=nws&ei=GiR6ZInhJqnmkPIP1PeagAQ&start=10&sa=N',\n",
       "  '/url?q=https://support.google.com/websearch%3Fp%3Dws_settings_location%26hl%3Den&sa=U&ved=0ahUKEwiJ1p3Li6X_AhUpM0QIHdS7BkAQty4IUw&usg=AOvVaw03V_E_627sJ7kNfrUdXZ3T',\n",
       "  '/url?q=https://accounts.google.com/ServiceLogin%3Fcontinue%3Dhttps://www.google.com/search%253Fq%253Dyahoo%252Bfinance%252BBTC%2526tbm%253Dnws%26hl%3Den&sa=U&ved=0ahUKEwiJ1p3Li6X_AhUpM0QIHdS7BkAQxs8CCFQ&usg=AOvVaw3oBjy4xp3N7nm4x_pf1HRN',\n",
       "  'https://www.google.com/preferences?hl=en&fg=1&sa=X&ved=0ahUKEwiJ1p3Li6X_AhUpM0QIHdS7BkAQ5fUCCFU',\n",
       "  'https://policies.google.com/privacy?hl=en&fg=1',\n",
       "  'https://policies.google.com/terms?hl=en&fg=1',\n",
       "  '/setprefs?hl=en&prev=https://www.google.com/search?q%3Dyahoo%2Bfinance%2BBTC%26tbm%3Dnws%26pccc%3D1&sig=0_pfIc4DF-qcYDHvNRGl5kDLsI-5c%3D&cs=2&sa=X&ved=0ahUKEwiJ1p3Li6X_AhUpM0QIHdS7BkAQjcAJCFY']}"
      ]
     },
     "execution_count": 60,
     "metadata": {},
     "output_type": "execute_result"
    }
   ],
   "source": [
    "raw_urls = {ticker:search_for_stocks_news_url(ticker) for ticker in monitored_tickers}\n",
    "raw_urls"
   ]
  },
  {
   "cell_type": "code",
   "execution_count": 61,
   "metadata": {},
   "outputs": [
    {
     "data": {
      "text/plain": [
       "dict_keys(['GME', 'TSLA', 'BTC'])"
      ]
     },
     "execution_count": 61,
     "metadata": {},
     "output_type": "execute_result"
    }
   ],
   "source": [
    "# check the keys in the map\n",
    "raw_urls.keys()"
   ]
  },
  {
   "cell_type": "code",
   "execution_count": 62,
   "metadata": {},
   "outputs": [
    {
     "data": {
      "text/plain": [
       "dict_values([['/?sa=X&ved=0ahUKEwj88tvKi6X_AhXPIUQIHX-MDQ4QOwgC', '/search?q=yahoo+finance+GME&tbm=nws&ie=UTF-8&gbv=1&sei=GSR6ZLyCIs_DkPIP_5i2cA', '/search?q=yahoo+finance+GME&ie=UTF-8&source=lnms&sa=X&ved=0ahUKEwj88tvKi6X_AhXPIUQIHX-MDQ4Q_AUIBSgA', '/search?q=yahoo+finance+GME&ie=UTF-8&tbm=vid&source=lnms&sa=X&ved=0ahUKEwj88tvKi6X_AhXPIUQIHX-MDQ4Q_AUIBygC', '/search?q=yahoo+finance+GME&ie=UTF-8&tbm=isch&source=lnms&sa=X&ved=0ahUKEwj88tvKi6X_AhXPIUQIHX-MDQ4Q_AUICCgD', 'https://maps.google.com/maps?q=yahoo+finance+GME&um=1&ie=UTF-8&sa=X&ved=0ahUKEwj88tvKi6X_AhXPIUQIHX-MDQ4Q_AUICSgE', '/search?q=yahoo+finance+GME&ie=UTF-8&tbm=shop&source=lnms&sa=X&ved=0ahUKEwj88tvKi6X_AhXPIUQIHX-MDQ4Q_AUICigF', '/search?q=yahoo+finance+GME&ie=UTF-8&tbm=bks&source=lnms&sa=X&ved=0ahUKEwj88tvKi6X_AhXPIUQIHX-MDQ4Q_AUICygG', '/advanced_search', '/search?q=yahoo+finance+GME&ie=UTF-8&tbm=nws&source=lnt&tbs=qdr:h&sa=X&ved=0ahUKEwj88tvKi6X_AhXPIUQIHX-MDQ4QpwUIDQ', '/search?q=yahoo+finance+GME&ie=UTF-8&tbm=nws&source=lnt&tbs=qdr:d&sa=X&ved=0ahUKEwj88tvKi6X_AhXPIUQIHX-MDQ4QpwUIDg', '/search?q=yahoo+finance+GME&ie=UTF-8&tbm=nws&source=lnt&tbs=qdr:w&sa=X&ved=0ahUKEwj88tvKi6X_AhXPIUQIHX-MDQ4QpwUIDw', '/search?q=yahoo+finance+GME&ie=UTF-8&tbm=nws&source=lnt&tbs=qdr:m&sa=X&ved=0ahUKEwj88tvKi6X_AhXPIUQIHX-MDQ4QpwUIEA', '/search?q=yahoo+finance+GME&ie=UTF-8&tbm=nws&source=lnt&tbs=qdr:y&sa=X&ved=0ahUKEwj88tvKi6X_AhXPIUQIHX-MDQ4QpwUIEQ', '/search?q=yahoo+finance+GME&ie=UTF-8&tbm=nws&source=lnt&tbs=ar:1&sa=X&ved=0ahUKEwj88tvKi6X_AhXPIUQIHX-MDQ4QpwUIEg', '/search?q=yahoo+finance+GME&ie=UTF-8&tbm=nws&source=lnt&tbs=sbd:1&sa=X&ved=0ahUKEwj88tvKi6X_AhXPIUQIHX-MDQ4QpwUIFA', '/url?q=https://finance.yahoo.com/news/gamestop-gme-gains-lags-market-221517734.html&sa=U&ved=2ahUKEwj88tvKi6X_AhXPIUQIHX-MDQ4QxfQBegQIAhAC&usg=AOvVaw2dOk2oqPfjfC_UXwjggGQG', '/url?q=https://finance.yahoo.com/news/gamestop-teams-telos-foundation-grow-155032269.html&sa=U&ved=2ahUKEwj88tvKi6X_AhXPIUQIHX-MDQ4QxfQBegQICRAC&usg=AOvVaw09-Jakim7qEjek6XKm1qEi', '/url?q=https://uk.finance.yahoo.com/news/mexico-extends-gmexico-train-concession-154127289.html&sa=U&ved=2ahUKEwj88tvKi6X_AhXPIUQIHX-MDQ4QxfQBegQIAxAC&usg=AOvVaw30EKSGzjJ8Z494lBk-MmDM', '/url?q=https://finance.yahoo.com/news/are-banks-the-new-meme-stocks-193655826.html&sa=U&ved=2ahUKEwj88tvKi6X_AhXPIUQIHX-MDQ4QxfQBegQIBhAC&usg=AOvVaw3phUsAyQIvqcUfXHy4nUem', '/url?q=https://finance.yahoo.com/news/saudi-flour-milling-company-ipo-093803396.html&sa=U&ved=2ahUKEwj88tvKi6X_AhXPIUQIHX-MDQ4QxfQBegQIABAC&usg=AOvVaw1GikauExjU3OPyRjUp1Hk5', '/url?q=https://finance.yahoo.com/news/byju-lenders-scrap-talks-restructure-063304131.html&sa=U&ved=2ahUKEwj88tvKi6X_AhXPIUQIHX-MDQ4QxfQBegQICBAC&usg=AOvVaw2Lz8OedCmSNUcnzlVwMxcI', '/url?q=https://finance.yahoo.com/news/robinhood-announces-plans-to-launch-24-hour-trading-with-names-like-apple-tesla-130110794.html&sa=U&ved=2ahUKEwj88tvKi6X_AhXPIUQIHX-MDQ4QxfQBegQIBRAC&usg=AOvVaw3poQri-MCXJ5iHVVvMjhGa', '/url?q=https://finance.yahoo.com/video/bank-stock-declines-attributed-crowd-205127249.html&sa=U&ved=2ahUKEwj88tvKi6X_AhXPIUQIHX-MDQ4QxfQBegQIBxAC&usg=AOvVaw3NglDCrENPbksdiIKcax4p', '/url?q=https://finance.yahoo.com/news/billionaire-chip-dreams-stymied-india-000225933.html&sa=U&ved=2ahUKEwj88tvKi6X_AhXPIUQIHX-MDQ4QxfQBegQIBBAC&usg=AOvVaw2Kqdr6mSIlu43mK6s9YZne', '/url?q=https://finance.yahoo.com/news/strength-seen-gamestop-gme-14-144602277.html&sa=U&ved=2ahUKEwj88tvKi6X_AhXPIUQIHX-MDQ4QxfQBegQIARAC&usg=AOvVaw2QKhvhfycMfJklVQ0qr3tE', '/search?q=yahoo+finance+GME&ie=UTF-8&tbm=nws&ei=GSR6ZLyCIs_DkPIP_5i2cA&start=10&sa=N', '/url?q=https://support.google.com/websearch%3Fp%3Dws_settings_location%26hl%3Den&sa=U&ved=0ahUKEwj88tvKi6X_AhXPIUQIHX-MDQ4Qty4IUw&usg=AOvVaw0aT9FEjnUTZMLAISzZkrZd', '/url?q=https://accounts.google.com/ServiceLogin%3Fcontinue%3Dhttps://www.google.com/search%253Fq%253Dyahoo%252Bfinance%252BGME%2526tbm%253Dnws%26hl%3Den&sa=U&ved=0ahUKEwj88tvKi6X_AhXPIUQIHX-MDQ4Qxs8CCFQ&usg=AOvVaw02SO6cEzWBkvAzsqgfGbwv', 'https://www.google.com/preferences?hl=en&fg=1&sa=X&ved=0ahUKEwj88tvKi6X_AhXPIUQIHX-MDQ4Q5fUCCFU', 'https://policies.google.com/privacy?hl=en&fg=1', 'https://policies.google.com/terms?hl=en&fg=1', '/setprefs?hl=en&prev=https://www.google.com/search?q%3Dyahoo%2Bfinance%2BGME%26tbm%3Dnws%26pccc%3D1&sig=0__9e1EPdbkiPAhsO63gyihcaA0xI%3D&cs=2&sa=X&ved=0ahUKEwj88tvKi6X_AhXPIUQIHX-MDQ4QjcAJCFY'], ['/?sa=X&ved=0ahUKEwj28vvKi6X_AhURHUQIHd-tDOkQOwgC', '/search?q=yahoo+finance+TSLA&tbm=nws&ie=UTF-8&gbv=1&sei=GiR6ZPb9BJG6kPIP39uyyA4', '/search?q=yahoo+finance+TSLA&ie=UTF-8&source=lnms&sa=X&ved=0ahUKEwj28vvKi6X_AhURHUQIHd-tDOkQ_AUIBSgA', '/search?q=yahoo+finance+TSLA&ie=UTF-8&tbm=vid&source=lnms&sa=X&ved=0ahUKEwj28vvKi6X_AhURHUQIHd-tDOkQ_AUIBygC', '/search?q=yahoo+finance+TSLA&ie=UTF-8&tbm=isch&source=lnms&sa=X&ved=0ahUKEwj28vvKi6X_AhURHUQIHd-tDOkQ_AUICCgD', 'https://maps.google.com/maps?q=yahoo+finance+TSLA&um=1&ie=UTF-8&sa=X&ved=0ahUKEwj28vvKi6X_AhURHUQIHd-tDOkQ_AUICSgE', '/search?q=yahoo+finance+TSLA&ie=UTF-8&tbm=shop&source=lnms&sa=X&ved=0ahUKEwj28vvKi6X_AhURHUQIHd-tDOkQ_AUICigF', '/search?q=yahoo+finance+TSLA&ie=UTF-8&tbm=bks&source=lnms&sa=X&ved=0ahUKEwj28vvKi6X_AhURHUQIHd-tDOkQ_AUICygG', '/advanced_search', '/search?q=yahoo+finance+TSLA&ie=UTF-8&tbm=nws&source=lnt&tbs=qdr:h&sa=X&ved=0ahUKEwj28vvKi6X_AhURHUQIHd-tDOkQpwUIDQ', '/search?q=yahoo+finance+TSLA&ie=UTF-8&tbm=nws&source=lnt&tbs=qdr:d&sa=X&ved=0ahUKEwj28vvKi6X_AhURHUQIHd-tDOkQpwUIDg', '/search?q=yahoo+finance+TSLA&ie=UTF-8&tbm=nws&source=lnt&tbs=qdr:w&sa=X&ved=0ahUKEwj28vvKi6X_AhURHUQIHd-tDOkQpwUIDw', '/search?q=yahoo+finance+TSLA&ie=UTF-8&tbm=nws&source=lnt&tbs=qdr:m&sa=X&ved=0ahUKEwj28vvKi6X_AhURHUQIHd-tDOkQpwUIEA', '/search?q=yahoo+finance+TSLA&ie=UTF-8&tbm=nws&source=lnt&tbs=qdr:y&sa=X&ved=0ahUKEwj28vvKi6X_AhURHUQIHd-tDOkQpwUIEQ', '/search?q=yahoo+finance+TSLA&ie=UTF-8&tbm=nws&source=lnt&tbs=ar:1&sa=X&ved=0ahUKEwj28vvKi6X_AhURHUQIHd-tDOkQpwUIEg', '/search?q=yahoo+finance+TSLA&ie=UTF-8&tbm=nws&source=lnt&tbs=sbd:1&sa=X&ved=0ahUKEwj28vvKi6X_AhURHUQIHd-tDOkQpwUIFA', '/url?q=https://finance.yahoo.com/news/tesla-cybertruck-could-be-as-mainstream-as-the-model-y-ark-invest-203139255.html&sa=U&ved=2ahUKEwj28vvKi6X_AhURHUQIHd-tDOkQxfQBegQIBRAC&usg=AOvVaw26YFzTXOCDrau5PBXylFs7', '/url?q=https://finance.yahoo.com/news/5-reasons-buy-tesla-now-121300017.html&sa=U&ved=2ahUKEwj28vvKi6X_AhURHUQIHd-tDOkQxfQBegQICRAC&usg=AOvVaw1cw5g17HzrFUrqFkalRtPU', '/url?q=https://finance.yahoo.com/news/tesla-model-y-was-the-best-selling-car-worldwide-in-the-first-quarter-154909234.html&sa=U&ved=2ahUKEwj28vvKi6X_AhURHUQIHd-tDOkQxfQBegQIAhAC&usg=AOvVaw3NHRW-G8J8zUMftByFR7-z', '/url?q=https://finance.yahoo.com/news/tesla-stock-jumps-55-on-friday-snaps-longest-weekly-losing-streak-since-2021-201813547.html&sa=U&ved=2ahUKEwj28vvKi6X_AhURHUQIHd-tDOkQxfQBegQIARAC&usg=AOvVaw0a8MBah3J3eMlMfIUwxS99', '/url?q=https://finance.yahoo.com/video/tesla-likely-launch-more-conventional-160521632.html&sa=U&ved=2ahUKEwj28vvKi6X_AhURHUQIHd-tDOkQxfQBegQIABAC&usg=AOvVaw21G7SHZh13fE8uZq3su2Ts', '/url?q=https://finance.yahoo.com/news/auto-roundup-tsla-fs-game-142800188.html&sa=U&ved=2ahUKEwj28vvKi6X_AhURHUQIHd-tDOkQxfQBegQIBxAC&usg=AOvVaw1frcYp_ITKiRIxBu_ig-b_', '/url?q=https://ca.finance.yahoo.com/news/tesla-still-auto-stock-despite-200919415.html&sa=U&ved=2ahUKEwj28vvKi6X_AhURHUQIHd-tDOkQxfQBegQIBhAC&usg=AOvVaw3KU73u-cpPNi3Q3HJQvrO9', '/url?q=https://finance.yahoo.com/news/tesla-doubles-discounts-model-3-002409554.html&sa=U&ved=2ahUKEwj28vvKi6X_AhURHUQIHd-tDOkQxfQBegQICBAC&usg=AOvVaw21ZMxCQmsQmlcrEYgKL61N', '/url?q=https://finance.yahoo.com/news/top-research-reports-tesla-totalenergies-202900627.html&sa=U&ved=2ahUKEwj28vvKi6X_AhURHUQIHd-tDOkQxfQBegQIAxAC&usg=AOvVaw22-39iJqXnZ33UTALm0isI', '/url?q=https://finance.yahoo.com/news/chinas-foreign-ministry-tesla-ceo-092412402.html&sa=U&ved=2ahUKEwj28vvKi6X_AhURHUQIHd-tDOkQxfQBegQIBBAC&usg=AOvVaw1ZYlNxdrntz-tAtGyFaWHw', '/search?q=yahoo+finance+TSLA&ie=UTF-8&tbm=nws&ei=GiR6ZPb9BJG6kPIP39uyyA4&start=10&sa=N', '/url?q=https://support.google.com/websearch%3Fp%3Dws_settings_location%26hl%3Den&sa=U&ved=0ahUKEwj28vvKi6X_AhURHUQIHd-tDOkQty4IUw&usg=AOvVaw27zD6PbYSMQeb8OfPszOY8', '/url?q=https://accounts.google.com/ServiceLogin%3Fcontinue%3Dhttps://www.google.com/search%253Fq%253Dyahoo%252Bfinance%252BTSLA%2526tbm%253Dnws%26hl%3Den&sa=U&ved=0ahUKEwj28vvKi6X_AhURHUQIHd-tDOkQxs8CCFQ&usg=AOvVaw3gJ91pTvxTn9z6r6zJdsiS', 'https://www.google.com/preferences?hl=en&fg=1&sa=X&ved=0ahUKEwj28vvKi6X_AhURHUQIHd-tDOkQ5fUCCFU', 'https://policies.google.com/privacy?hl=en&fg=1', 'https://policies.google.com/terms?hl=en&fg=1', '/setprefs?hl=en&prev=https://www.google.com/search?q%3Dyahoo%2Bfinance%2BTSLA%26tbm%3Dnws%26pccc%3D1&sig=0_9kSPJ4LGinYvtnNIvmfMlR-IRMI%3D&cs=2&sa=X&ved=0ahUKEwj28vvKi6X_AhURHUQIHd-tDOkQjcAJCFY'], ['/?sa=X&ved=0ahUKEwiJ1p3Li6X_AhUpM0QIHdS7BkAQOwgC', '/search?q=yahoo+finance+BTC&tbm=nws&ie=UTF-8&gbv=1&sei=GiR6ZInhJqnmkPIP1PeagAQ', '/search?q=yahoo+finance+BTC&ie=UTF-8&source=lnms&sa=X&ved=0ahUKEwiJ1p3Li6X_AhUpM0QIHdS7BkAQ_AUIBSgA', '/search?q=yahoo+finance+BTC&ie=UTF-8&tbm=isch&source=lnms&sa=X&ved=0ahUKEwiJ1p3Li6X_AhUpM0QIHdS7BkAQ_AUIBygC', '/search?q=yahoo+finance+BTC&ie=UTF-8&tbm=shop&source=lnms&sa=X&ved=0ahUKEwiJ1p3Li6X_AhUpM0QIHdS7BkAQ_AUICCgD', 'https://maps.google.com/maps?q=yahoo+finance+BTC&um=1&ie=UTF-8&sa=X&ved=0ahUKEwiJ1p3Li6X_AhUpM0QIHdS7BkAQ_AUICSgE', '/search?q=yahoo+finance+BTC&ie=UTF-8&tbm=vid&source=lnms&sa=X&ved=0ahUKEwiJ1p3Li6X_AhUpM0QIHdS7BkAQ_AUICigF', '/search?q=yahoo+finance+BTC&ie=UTF-8&tbm=bks&source=lnms&sa=X&ved=0ahUKEwiJ1p3Li6X_AhUpM0QIHdS7BkAQ_AUICygG', '/advanced_search', '/search?q=yahoo+finance+BTC&ie=UTF-8&tbm=nws&source=lnt&tbs=qdr:h&sa=X&ved=0ahUKEwiJ1p3Li6X_AhUpM0QIHdS7BkAQpwUIDQ', '/search?q=yahoo+finance+BTC&ie=UTF-8&tbm=nws&source=lnt&tbs=qdr:d&sa=X&ved=0ahUKEwiJ1p3Li6X_AhUpM0QIHdS7BkAQpwUIDg', '/search?q=yahoo+finance+BTC&ie=UTF-8&tbm=nws&source=lnt&tbs=qdr:w&sa=X&ved=0ahUKEwiJ1p3Li6X_AhUpM0QIHdS7BkAQpwUIDw', '/search?q=yahoo+finance+BTC&ie=UTF-8&tbm=nws&source=lnt&tbs=qdr:m&sa=X&ved=0ahUKEwiJ1p3Li6X_AhUpM0QIHdS7BkAQpwUIEA', '/search?q=yahoo+finance+BTC&ie=UTF-8&tbm=nws&source=lnt&tbs=qdr:y&sa=X&ved=0ahUKEwiJ1p3Li6X_AhUpM0QIHdS7BkAQpwUIEQ', '/search?q=yahoo+finance+BTC&ie=UTF-8&tbm=nws&source=lnt&tbs=ar:1&sa=X&ved=0ahUKEwiJ1p3Li6X_AhUpM0QIHdS7BkAQpwUIEg', '/search?q=yahoo+finance+BTC&ie=UTF-8&tbm=nws&source=lnt&tbs=sbd:1&sa=X&ved=0ahUKEwiJ1p3Li6X_AhUpM0QIHdS7BkAQpwUIFA', '/url?q=https://finance.yahoo.com/news/bitcoin-mining-difficulty-rises-3-053415215.html&sa=U&ved=2ahUKEwiJ1p3Li6X_AhUpM0QIHdS7BkAQxfQBegQIBhAC&usg=AOvVaw0EVRmCMg2KEHDWEOUBBmRL', '/url?q=https://finance.yahoo.com/news/cleanspark-releases-may-2023-bitcoin-130000163.html&sa=U&ved=2ahUKEwiJ1p3Li6X_AhUpM0QIHdS7BkAQxfQBegQICRAC&usg=AOvVaw1nzceTLos3MJpHhYo5opRG', '/url?q=https://uk.finance.yahoo.com/news/bitcoin-poised-for-first-monthly-decline-of-2023-084014656.html&sa=U&ved=2ahUKEwiJ1p3Li6X_AhUpM0QIHdS7BkAQxfQBegQIBRAC&usg=AOvVaw1agnzCAxVCM6HdUJx51D4B', '/url?q=https://finance.yahoo.com/news/chatgpt-price-predictions-june-bitcoin-212203498.html&sa=U&ved=2ahUKEwiJ1p3Li6X_AhUpM0QIHdS7BkAQxfQBegQIBxAC&usg=AOvVaw2lGc2_czFcquzP66K5PCyv', '/url?q=https://finance.yahoo.com/news/someone-bought-loaf-bread-bitcoin-224725278.html&sa=U&ved=2ahUKEwiJ1p3Li6X_AhUpM0QIHdS7BkAQxfQBegQICBAC&usg=AOvVaw3bij2u6LhDpDObHPtaiFe5', '/url?q=https://finance.yahoo.com/news/marathon-digital-holdings-announces-bitcoin-100000265.html&sa=U&ved=2ahUKEwiJ1p3Li6X_AhUpM0QIHdS7BkAQxfQBegQIBBAC&usg=AOvVaw1p7U5mnEmzkL6C_9fIs56P', '/url?q=https://finance.yahoo.com/news/coinbase-derivatives-exchange-offer-institutional-081858007.html&sa=U&ved=2ahUKEwiJ1p3Li6X_AhUpM0QIHdS7BkAQxfQBegQIAxAC&usg=AOvVaw0Ikzyl1m7tcnNv1CbJ2EFW', '/url?q=https://finance.yahoo.com/news/public-bitcoin-miner-sato-technologies-120500755.html&sa=U&ved=2ahUKEwiJ1p3Li6X_AhUpM0QIHdS7BkAQxfQBegQIABAC&usg=AOvVaw0ENsLOcebtB_evqbyHuw-4', '/url?q=https://finance.yahoo.com/news/first-mover-asia-bitcoin-settles-020214108.html&sa=U&ved=2ahUKEwiJ1p3Li6X_AhUpM0QIHdS7BkAQxfQBegQIAhAC&usg=AOvVaw041fsLMlaFeexOeofQJ7Jt', '/url?q=https://finance.yahoo.com/news/controversial-stablecoin-issuer-tether-plans-163724092.html&sa=U&ved=2ahUKEwiJ1p3Li6X_AhUpM0QIHdS7BkAQxfQBegQIARAC&usg=AOvVaw1WOcrUXevRI2gXQ-CwhvgJ', '/search?q=yahoo+finance+BTC&ie=UTF-8&tbm=nws&ei=GiR6ZInhJqnmkPIP1PeagAQ&start=10&sa=N', '/url?q=https://support.google.com/websearch%3Fp%3Dws_settings_location%26hl%3Den&sa=U&ved=0ahUKEwiJ1p3Li6X_AhUpM0QIHdS7BkAQty4IUw&usg=AOvVaw03V_E_627sJ7kNfrUdXZ3T', '/url?q=https://accounts.google.com/ServiceLogin%3Fcontinue%3Dhttps://www.google.com/search%253Fq%253Dyahoo%252Bfinance%252BBTC%2526tbm%253Dnws%26hl%3Den&sa=U&ved=0ahUKEwiJ1p3Li6X_AhUpM0QIHdS7BkAQxs8CCFQ&usg=AOvVaw3oBjy4xp3N7nm4x_pf1HRN', 'https://www.google.com/preferences?hl=en&fg=1&sa=X&ved=0ahUKEwiJ1p3Li6X_AhUpM0QIHdS7BkAQ5fUCCFU', 'https://policies.google.com/privacy?hl=en&fg=1', 'https://policies.google.com/terms?hl=en&fg=1', '/setprefs?hl=en&prev=https://www.google.com/search?q%3Dyahoo%2Bfinance%2BBTC%26tbm%3Dnws%26pccc%3D1&sig=0_pfIc4DF-qcYDHvNRGl5kDLsI-5c%3D&cs=2&sa=X&ved=0ahUKEwiJ1p3Li6X_AhUpM0QIHdS7BkAQjcAJCFY']])"
      ]
     },
     "execution_count": 62,
     "metadata": {},
     "output_type": "execute_result"
    }
   ],
   "source": [
    "# check the values in the map\n",
    "raw_urls.values()"
   ]
  },
  {
   "cell_type": "code",
   "execution_count": 63,
   "metadata": {},
   "outputs": [
    {
     "data": {
      "text/plain": [
       "['/?sa=X&ved=0ahUKEwj88tvKi6X_AhXPIUQIHX-MDQ4QOwgC',\n",
       " '/search?q=yahoo+finance+GME&tbm=nws&ie=UTF-8&gbv=1&sei=GSR6ZLyCIs_DkPIP_5i2cA',\n",
       " '/search?q=yahoo+finance+GME&ie=UTF-8&source=lnms&sa=X&ved=0ahUKEwj88tvKi6X_AhXPIUQIHX-MDQ4Q_AUIBSgA',\n",
       " '/search?q=yahoo+finance+GME&ie=UTF-8&tbm=vid&source=lnms&sa=X&ved=0ahUKEwj88tvKi6X_AhXPIUQIHX-MDQ4Q_AUIBygC',\n",
       " '/search?q=yahoo+finance+GME&ie=UTF-8&tbm=isch&source=lnms&sa=X&ved=0ahUKEwj88tvKi6X_AhXPIUQIHX-MDQ4Q_AUICCgD',\n",
       " 'https://maps.google.com/maps?q=yahoo+finance+GME&um=1&ie=UTF-8&sa=X&ved=0ahUKEwj88tvKi6X_AhXPIUQIHX-MDQ4Q_AUICSgE',\n",
       " '/search?q=yahoo+finance+GME&ie=UTF-8&tbm=shop&source=lnms&sa=X&ved=0ahUKEwj88tvKi6X_AhXPIUQIHX-MDQ4Q_AUICigF',\n",
       " '/search?q=yahoo+finance+GME&ie=UTF-8&tbm=bks&source=lnms&sa=X&ved=0ahUKEwj88tvKi6X_AhXPIUQIHX-MDQ4Q_AUICygG',\n",
       " '/advanced_search',\n",
       " '/search?q=yahoo+finance+GME&ie=UTF-8&tbm=nws&source=lnt&tbs=qdr:h&sa=X&ved=0ahUKEwj88tvKi6X_AhXPIUQIHX-MDQ4QpwUIDQ',\n",
       " '/search?q=yahoo+finance+GME&ie=UTF-8&tbm=nws&source=lnt&tbs=qdr:d&sa=X&ved=0ahUKEwj88tvKi6X_AhXPIUQIHX-MDQ4QpwUIDg',\n",
       " '/search?q=yahoo+finance+GME&ie=UTF-8&tbm=nws&source=lnt&tbs=qdr:w&sa=X&ved=0ahUKEwj88tvKi6X_AhXPIUQIHX-MDQ4QpwUIDw',\n",
       " '/search?q=yahoo+finance+GME&ie=UTF-8&tbm=nws&source=lnt&tbs=qdr:m&sa=X&ved=0ahUKEwj88tvKi6X_AhXPIUQIHX-MDQ4QpwUIEA',\n",
       " '/search?q=yahoo+finance+GME&ie=UTF-8&tbm=nws&source=lnt&tbs=qdr:y&sa=X&ved=0ahUKEwj88tvKi6X_AhXPIUQIHX-MDQ4QpwUIEQ',\n",
       " '/search?q=yahoo+finance+GME&ie=UTF-8&tbm=nws&source=lnt&tbs=ar:1&sa=X&ved=0ahUKEwj88tvKi6X_AhXPIUQIHX-MDQ4QpwUIEg',\n",
       " '/search?q=yahoo+finance+GME&ie=UTF-8&tbm=nws&source=lnt&tbs=sbd:1&sa=X&ved=0ahUKEwj88tvKi6X_AhXPIUQIHX-MDQ4QpwUIFA',\n",
       " '/url?q=https://finance.yahoo.com/news/gamestop-gme-gains-lags-market-221517734.html&sa=U&ved=2ahUKEwj88tvKi6X_AhXPIUQIHX-MDQ4QxfQBegQIAhAC&usg=AOvVaw2dOk2oqPfjfC_UXwjggGQG',\n",
       " '/url?q=https://finance.yahoo.com/news/gamestop-teams-telos-foundation-grow-155032269.html&sa=U&ved=2ahUKEwj88tvKi6X_AhXPIUQIHX-MDQ4QxfQBegQICRAC&usg=AOvVaw09-Jakim7qEjek6XKm1qEi',\n",
       " '/url?q=https://uk.finance.yahoo.com/news/mexico-extends-gmexico-train-concession-154127289.html&sa=U&ved=2ahUKEwj88tvKi6X_AhXPIUQIHX-MDQ4QxfQBegQIAxAC&usg=AOvVaw30EKSGzjJ8Z494lBk-MmDM',\n",
       " '/url?q=https://finance.yahoo.com/news/are-banks-the-new-meme-stocks-193655826.html&sa=U&ved=2ahUKEwj88tvKi6X_AhXPIUQIHX-MDQ4QxfQBegQIBhAC&usg=AOvVaw3phUsAyQIvqcUfXHy4nUem',\n",
       " '/url?q=https://finance.yahoo.com/news/saudi-flour-milling-company-ipo-093803396.html&sa=U&ved=2ahUKEwj88tvKi6X_AhXPIUQIHX-MDQ4QxfQBegQIABAC&usg=AOvVaw1GikauExjU3OPyRjUp1Hk5',\n",
       " '/url?q=https://finance.yahoo.com/news/byju-lenders-scrap-talks-restructure-063304131.html&sa=U&ved=2ahUKEwj88tvKi6X_AhXPIUQIHX-MDQ4QxfQBegQICBAC&usg=AOvVaw2Lz8OedCmSNUcnzlVwMxcI',\n",
       " '/url?q=https://finance.yahoo.com/news/robinhood-announces-plans-to-launch-24-hour-trading-with-names-like-apple-tesla-130110794.html&sa=U&ved=2ahUKEwj88tvKi6X_AhXPIUQIHX-MDQ4QxfQBegQIBRAC&usg=AOvVaw3poQri-MCXJ5iHVVvMjhGa',\n",
       " '/url?q=https://finance.yahoo.com/video/bank-stock-declines-attributed-crowd-205127249.html&sa=U&ved=2ahUKEwj88tvKi6X_AhXPIUQIHX-MDQ4QxfQBegQIBxAC&usg=AOvVaw3NglDCrENPbksdiIKcax4p',\n",
       " '/url?q=https://finance.yahoo.com/news/billionaire-chip-dreams-stymied-india-000225933.html&sa=U&ved=2ahUKEwj88tvKi6X_AhXPIUQIHX-MDQ4QxfQBegQIBBAC&usg=AOvVaw2Kqdr6mSIlu43mK6s9YZne',\n",
       " '/url?q=https://finance.yahoo.com/news/strength-seen-gamestop-gme-14-144602277.html&sa=U&ved=2ahUKEwj88tvKi6X_AhXPIUQIHX-MDQ4QxfQBegQIARAC&usg=AOvVaw2QKhvhfycMfJklVQ0qr3tE',\n",
       " '/search?q=yahoo+finance+GME&ie=UTF-8&tbm=nws&ei=GSR6ZLyCIs_DkPIP_5i2cA&start=10&sa=N',\n",
       " '/url?q=https://support.google.com/websearch%3Fp%3Dws_settings_location%26hl%3Den&sa=U&ved=0ahUKEwj88tvKi6X_AhXPIUQIHX-MDQ4Qty4IUw&usg=AOvVaw0aT9FEjnUTZMLAISzZkrZd',\n",
       " '/url?q=https://accounts.google.com/ServiceLogin%3Fcontinue%3Dhttps://www.google.com/search%253Fq%253Dyahoo%252Bfinance%252BGME%2526tbm%253Dnws%26hl%3Den&sa=U&ved=0ahUKEwj88tvKi6X_AhXPIUQIHX-MDQ4Qxs8CCFQ&usg=AOvVaw02SO6cEzWBkvAzsqgfGbwv',\n",
       " 'https://www.google.com/preferences?hl=en&fg=1&sa=X&ved=0ahUKEwj88tvKi6X_AhXPIUQIHX-MDQ4Q5fUCCFU',\n",
       " 'https://policies.google.com/privacy?hl=en&fg=1',\n",
       " 'https://policies.google.com/terms?hl=en&fg=1',\n",
       " '/setprefs?hl=en&prev=https://www.google.com/search?q%3Dyahoo%2Bfinance%2BGME%26tbm%3Dnws%26pccc%3D1&sig=0__9e1EPdbkiPAhsO63gyihcaA0xI%3D&cs=2&sa=X&ved=0ahUKEwj88tvKi6X_AhXPIUQIHX-MDQ4QjcAJCFY']"
      ]
     },
     "execution_count": 63,
     "metadata": {},
     "output_type": "execute_result"
    }
   ],
   "source": [
    "# check URLs for GME\n",
    "raw_urls['GME']"
   ]
  },
  {
   "cell_type": "code",
   "execution_count": 64,
   "metadata": {},
   "outputs": [
    {
     "data": {
      "text/plain": [
       "'/?sa=X&ved=0ahUKEwj88tvKi6X_AhXPIUQIHX-MDQ4QOwgC'"
      ]
     },
     "execution_count": 64,
     "metadata": {},
     "output_type": "execute_result"
    }
   ],
   "source": [
    "# check 1st URL for GME\n",
    "raw_urls['GME'][0]"
   ]
  },
  {
   "attachments": {},
   "cell_type": "markdown",
   "metadata": {},
   "source": [
    "This above URL is incorrect, so we need to scrap all the bad URLs "
   ]
  },
  {
   "cell_type": "markdown",
   "metadata": {},
   "source": [
    "### 4.2 Strip out unwanted URLs"
   ]
  },
  {
   "cell_type": "code",
   "execution_count": 65,
   "metadata": {},
   "outputs": [],
   "source": [
    "import re"
   ]
  },
  {
   "cell_type": "code",
   "execution_count": 66,
   "metadata": {},
   "outputs": [],
   "source": [
    "exclude_list = [\"map\", \"policies\", \"preferences\", \"accounts\", \"support\"]"
   ]
  },
  {
   "cell_type": "code",
   "execution_count": 67,
   "metadata": {},
   "outputs": [],
   "source": [
    "def strip_unwanted_urls(urls, exclude_list):\n",
    "    val = []\n",
    "    \n",
    "    for url in urls:\n",
    "        # find only https:// in url and exclude unwanted words from exclude_list\n",
    "        if \"https://\" in url and not any(exclude_word in url for exclude_word in exclude_list):\n",
    "            # grab only the url containing https. split by & and grab the 1st index so that we get only the url\n",
    "            res = re.findall(r'(https?://\\S+)', url)[0].split('&')[0]\n",
    "            val.append(res)\n",
    "    # make sure to remove duplicates\n",
    "    return list(set(val))"
   ]
  },
  {
   "attachments": {},
   "cell_type": "markdown",
   "metadata": {},
   "source": [
    "Test the above method"
   ]
  },
  {
   "cell_type": "code",
   "execution_count": 68,
   "metadata": {},
   "outputs": [
    {
     "data": {
      "text/plain": [
       "['https://finance.yahoo.com/news/strength-seen-gamestop-gme-14-144602277.html',\n",
       " 'https://www.google.com/search?q%3Dyahoo%2Bfinance%2BGME%26tbm%3Dnws%26pccc%3D1',\n",
       " 'https://finance.yahoo.com/news/byju-lenders-scrap-talks-restructure-063304131.html',\n",
       " 'https://finance.yahoo.com/news/saudi-flour-milling-company-ipo-093803396.html',\n",
       " 'https://finance.yahoo.com/news/billionaire-chip-dreams-stymied-india-000225933.html',\n",
       " 'https://finance.yahoo.com/video/bank-stock-declines-attributed-crowd-205127249.html',\n",
       " 'https://uk.finance.yahoo.com/news/mexico-extends-gmexico-train-concession-154127289.html',\n",
       " 'https://finance.yahoo.com/news/gamestop-teams-telos-foundation-grow-155032269.html',\n",
       " 'https://finance.yahoo.com/news/robinhood-announces-plans-to-launch-24-hour-trading-with-names-like-apple-tesla-130110794.html',\n",
       " 'https://finance.yahoo.com/news/are-banks-the-new-meme-stocks-193655826.html',\n",
       " 'https://finance.yahoo.com/news/gamestop-gme-gains-lags-market-221517734.html']"
      ]
     },
     "execution_count": 68,
     "metadata": {},
     "output_type": "execute_result"
    }
   ],
   "source": [
    "strip_unwanted_urls(raw_urls['GME'], exclude_list)"
   ]
  },
  {
   "attachments": {},
   "cell_type": "markdown",
   "metadata": {},
   "source": [
    "Now, we have cleaned URLs"
   ]
  },
  {
   "cell_type": "code",
   "execution_count": 69,
   "metadata": {},
   "outputs": [],
   "source": [
    "cleaned_urls = {ticker:strip_unwanted_urls(raw_urls[ticker], exclude_list) for ticker in monitored_tickers}"
   ]
  },
  {
   "cell_type": "code",
   "execution_count": 70,
   "metadata": {},
   "outputs": [
    {
     "data": {
      "text/plain": [
       "{'GME': ['https://finance.yahoo.com/news/strength-seen-gamestop-gme-14-144602277.html',\n",
       "  'https://www.google.com/search?q%3Dyahoo%2Bfinance%2BGME%26tbm%3Dnws%26pccc%3D1',\n",
       "  'https://finance.yahoo.com/news/byju-lenders-scrap-talks-restructure-063304131.html',\n",
       "  'https://finance.yahoo.com/news/saudi-flour-milling-company-ipo-093803396.html',\n",
       "  'https://finance.yahoo.com/news/billionaire-chip-dreams-stymied-india-000225933.html',\n",
       "  'https://finance.yahoo.com/video/bank-stock-declines-attributed-crowd-205127249.html',\n",
       "  'https://uk.finance.yahoo.com/news/mexico-extends-gmexico-train-concession-154127289.html',\n",
       "  'https://finance.yahoo.com/news/gamestop-teams-telos-foundation-grow-155032269.html',\n",
       "  'https://finance.yahoo.com/news/robinhood-announces-plans-to-launch-24-hour-trading-with-names-like-apple-tesla-130110794.html',\n",
       "  'https://finance.yahoo.com/news/are-banks-the-new-meme-stocks-193655826.html',\n",
       "  'https://finance.yahoo.com/news/gamestop-gme-gains-lags-market-221517734.html'],\n",
       " 'TSLA': ['https://ca.finance.yahoo.com/news/tesla-still-auto-stock-despite-200919415.html',\n",
       "  'https://finance.yahoo.com/news/top-research-reports-tesla-totalenergies-202900627.html',\n",
       "  'https://finance.yahoo.com/news/chinas-foreign-ministry-tesla-ceo-092412402.html',\n",
       "  'https://www.google.com/search?q%3Dyahoo%2Bfinance%2BTSLA%26tbm%3Dnws%26pccc%3D1',\n",
       "  'https://finance.yahoo.com/video/tesla-likely-launch-more-conventional-160521632.html',\n",
       "  'https://finance.yahoo.com/news/tesla-stock-jumps-55-on-friday-snaps-longest-weekly-losing-streak-since-2021-201813547.html',\n",
       "  'https://finance.yahoo.com/news/auto-roundup-tsla-fs-game-142800188.html',\n",
       "  'https://finance.yahoo.com/news/tesla-doubles-discounts-model-3-002409554.html',\n",
       "  'https://finance.yahoo.com/news/tesla-cybertruck-could-be-as-mainstream-as-the-model-y-ark-invest-203139255.html',\n",
       "  'https://finance.yahoo.com/news/5-reasons-buy-tesla-now-121300017.html',\n",
       "  'https://finance.yahoo.com/news/tesla-model-y-was-the-best-selling-car-worldwide-in-the-first-quarter-154909234.html'],\n",
       " 'BTC': ['https://finance.yahoo.com/news/coinbase-derivatives-exchange-offer-institutional-081858007.html',\n",
       "  'https://finance.yahoo.com/news/controversial-stablecoin-issuer-tether-plans-163724092.html',\n",
       "  'https://uk.finance.yahoo.com/news/bitcoin-poised-for-first-monthly-decline-of-2023-084014656.html',\n",
       "  'https://finance.yahoo.com/news/public-bitcoin-miner-sato-technologies-120500755.html',\n",
       "  'https://finance.yahoo.com/news/chatgpt-price-predictions-june-bitcoin-212203498.html',\n",
       "  'https://finance.yahoo.com/news/cleanspark-releases-may-2023-bitcoin-130000163.html',\n",
       "  'https://finance.yahoo.com/news/marathon-digital-holdings-announces-bitcoin-100000265.html',\n",
       "  'https://finance.yahoo.com/news/bitcoin-mining-difficulty-rises-3-053415215.html',\n",
       "  'https://finance.yahoo.com/news/someone-bought-loaf-bread-bitcoin-224725278.html',\n",
       "  'https://www.google.com/search?q%3Dyahoo%2Bfinance%2BBTC%26tbm%3Dnws%26pccc%3D1',\n",
       "  'https://finance.yahoo.com/news/first-mover-asia-bitcoin-settles-020214108.html']}"
      ]
     },
     "execution_count": 70,
     "metadata": {},
     "output_type": "execute_result"
    }
   ],
   "source": [
    "cleaned_urls"
   ]
  },
  {
   "attachments": {},
   "cell_type": "markdown",
   "metadata": {},
   "source": [
    "### 4.3 Search and Scrape Cleaned URLs"
   ]
  },
  {
   "cell_type": "code",
   "execution_count": 83,
   "metadata": {},
   "outputs": [],
   "source": [
    "def scrape_and_grab_text_from_url(URLs):\n",
    "    \"\"\"loops through the URLs and grabs the text from the article\n",
    "\n",
    "    Args:\n",
    "        URLs (list): list of URLs\n",
    "    \"\"\"\n",
    "    ARTICLES = []\n",
    "    for url in URLs:\n",
    "        r = requests.get(url)\n",
    "        soup = BeautifulSoup(r.text, 'html.parser')\n",
    "        paragraphs = soup.find_all('p')\n",
    "        text = [paragraph.text for paragraph in paragraphs]\n",
    "        words = ' '.join(text).split(' ')[:350]\n",
    "        ARTICLE = ' '.join(words)\n",
    "        ARTICLES.append(ARTICLE)\n",
    "    \n",
    "    return ARTICLES"
   ]
  },
  {
   "cell_type": "code",
   "execution_count": 84,
   "metadata": {},
   "outputs": [],
   "source": [
    "articles = {ticker:scrape_and_grab_text_from_url(cleaned_urls[ticker]) for ticker in monitored_tickers}"
   ]
  },
  {
   "cell_type": "code",
   "execution_count": 85,
   "metadata": {},
   "outputs": [
    {
     "data": {
      "text/plain": [
       "{'GME': ['Thank you for your patience. Our engineers are working quickly to resolve the issue.',\n",
       "  '© 2023 - Privacy - Terms',\n",
       "  '(Bloomberg) -- Creditors to Byju’s, India’s most valuable startup, have pulled out of negotiations with the company to recast a $1.2 billion loan, posing a new setback to the beleaguered tech firm, according to people familiar with the matter. Most Read from Bloomberg China Is Drilling a 10,000-Meter-Deep Hole Into the Earth Amazon Is in Talks to Offer Free Mobile Service to US Prime Members Inside the Making of Redfall, Xbox’s Latest Misfire Rich Latin Americans Transform Laid-Back Madrid Into a New Miami Hedge Funds at War for Top Traders Dangle $120 Million Payouts The talks were called off after the creditors moved court, and accused the firm of hiding $500 million of funds raised, the people said, asking not to be named as the information is not public. Lenders can now sell the term loan B securities of the firm as the restraint that came as part of the negotiations is lifted, they said. The move is a fresh challenge for one of India’s hottest tech companies, which has been working to appease creditors by offering prepayments and higher coupons to restructure the loan. Though the steering committee of lenders has discontinued the talks, the company will try to reach out to all lenders independently to renegotiate the terms, one of the people said. Byju’s has to make an interest payment on the loan by June 5, the people said. The company will get “a large capital infusion” soon that will allow it to pay down the loan, its lawyer said in a US court last month while denying allegations of hiding the funds raised as loan. The transfer of borrowed funds was in “full compliance of loan agreement and did not contravene any terms of the agreed-upon rights and responsibilities,” a Byju’s spokesperson said on Thursday. “Even lenders have not alleged that the transfer was not permitted under parties’ existing contractual arrangement,” the person said. Spokespersons for Byju’s and Houlihan Lokey Inc., hired by creditors to advise them on loan restructuring, declined to comment on queries about the talks being called off. The company had offered to increase',\n",
       "  '(Bloomberg) -- Saudi Arabia’s First Milling Co. set the price for its initial public offering at the top of the marketed range after being swamped by institutional orders, the latest sign of a revival in the kingdom’s IPO market. Most Read from Bloomberg Winklevoss Twins Attempt Pivot After Gemini Loses Money and Employees Putin Orders Tighter Defenses After Drone Strikes on Moscow Stock Rally Loses Steam After AI-Fueled Euphoria: Markets Wrap Taiwan Rushes to Prevent China From Cutting Internet, Phones Nvidia Touches $1 Trillion Mark After Beating Rivals to AI Big investors placed orders worth 68.8 billion riyals ($18 billion), almost 69 times more than was available to them, according to a statement. At a price of 60 riyals a share, the IPO will raise raise 999 million riyals for selling shareholders, valuing the company at 3.33 billion riyals. First Milling will take orders from retail buyers from June 6 to June 7. The IPO is set to be the second biggest in Saudi Arabia this year, after generic drugmaker Jamjoom Pharmaceuticals Factory Co.’s $336 million offering. That deal also priced at the top of the range last week and got institutional investor orders for 67 times the shares on offer. Saudi IPOs are returning to life after their slowest start since 2014 amid concerns over falling oil prices and a global economic slowdown. The benchmark Tadawul All Share Index has rebounded about 12% from a March low, helping boost investor sentiment. Just $72 million worth of IPOs have started trading in the kingdom so far this year, a sharp drop from the almost $4 billion seen a year ago, according to data compiled by Bloomberg. SNB Capital is acting as financial advisor, lead manager and bookrunner on First Milling’s IPO. SNB Capital and GIB Capital are the underwriters. Most Read from Bloomberg Businessweek Assault Allegations Plague a $1.4 Billion Home Eldercare Startup Sergey Brin Has a Secret Plan to Put Airships Back in the Skies Adidas After Yeezy You’re the CEO and Your Company Got Hacked—What Now? There’s Still Scary Stuff in Sunscreen ©2023 Bloomberg L.P.',\n",
       "  '(Bloomberg) -- India’s government is poised to deny crucial funding for billionaire Anil Agarwal’s chip venture, a setback for a $19 billion push to make semiconductors in the country. Most Read from Bloomberg China Is Drilling a 10,000-Meter-Deep Hole Into the Earth Amazon Is in Talks to Offer Free Mobile Service to US Prime Members Inside the Making of Redfall, Xbox’s Latest Misfire Rich Latin Americans Transform Laid-Back Madrid Into a New Miami Hedge Funds at War for Top Traders Dangle $120 Million Payouts The government is likely to tell the venture between Agarwal’s Vedanta Resources Ltd. and Taiwan’s Hon Hai Precision Industry Co. it won’t get incentives to make 28-nanometer chips, people familiar with the matter said. The venture has applied for such assistance, potentially worth billions of dollars, but hasn’t met the criteria set by the government. While Vedanta and Hon Hai can apply again, a rejection would mean delays for Agarwal’s ambition to establish India’s first major chipmaking operation, even as his metals and mining conglomerate struggles to reduce a heavy debt load. Nine months after Agarwal announced the chip partnership to build India’s “own Silicon Valley,” the project is yet to find a technology partner or license manufacturing-grade technology for the 28nm chips it was seeking to build, the people said. At least one of those steps is needed for the venture to get government assistance. Vedanta and Hon Hai, the assembler of a bulk of the world’s iPhones, have no previous significant experience in chipmaking. Their difficulty in finding production-ready technology underscores how hard it is to set up new semiconductor plants, massive complexes that cost billions to build and require very specialized expertise to run. A representative for Vedanta said the company was awaiting the outcome of its application from the government. Hon Hai, widely known as Foxconn, didn’t respond to an email seeking comment. Prime Minister Narendra Modi has pledged $10 billion to woo chipmakers to India, promising his administration will bear half the cost of setting up all semiconductor sites. Vedanta has previously said its partner Hon Hai had secured “production-grade, high-volume”',\n",
       "  'Thank you for your patience. Our engineers are working quickly to resolve the issue.',\n",
       "  'Thank you for your patience. Our engineers are working quickly to resolve the issue.',\n",
       "  'Leading game retailer GameStop (NYSE: GME) is teaming up with The Telos Foundation, the organization behind the layer 1 blockchain Telos, to expand its Web3 gaming offerings. The deal will link Web3 games utilizing Telos\\' decentralized blockchain infrastructure to GameStop’s upcoming Web3 game launchpad Playr, providing new opportunities for mainstream gaming distribution. AJ Dinger, head of business development at the Telos Foundation, said in a press release that the collaboration will help onboard new users to the Web3 gaming ecosystem using Telos’ robust network. \"We believe this collaboration will be a meaningful driver of new users into the Web3 space,” said Dinger. “By combining GameStop Playr with Web3 games utilizing Telos\\' high-performance blockchain infrastructure, we can break down many of the barriers currently deterring Web2 players from embracing Web3.\" Telos’ native token TLOS jumped 10% on the news before receding. GameStop has steadily been moving away from its brick and mortar strategy to focus on a digital expansion that includes Web3 gaming. In February 2022, it announced a partnership with layer 1 blockchain Immutable X to build a non-fungible token (NFT) marketplace for trading in-game assets. The marketplace, which has been operating as a public beta since July, officially launced to the public in October 2022. The retailer also released its self-custodial crypto and NFT wallet in May 2022.',\n",
       "  'Robinhood (HOOD) announced Wednesday that next Monday, May 16, the company will begin allowing users to trade 24 hours a day during the week on some stocks and ETFs. The company announced these new trading hours — which will run from 8:00 a.m. ET on Monday through 8:00 p.m. ET Friday — alongside its first quarter results Wednesday afternoon. Robinhood will enable around-the-clock trading on more than 40 stocks and ETFs, including names like Apple (AAPL) and Tesla (TSLA). \"This is an exciting upgrade to our stock trading product, it allows our customers to better manage their risk and take advantage of opportunities, no matter what time of day they arise,\" Vlad Tenev, co-founder and CEO of Robinhood, said during the company\\'s earnings call. The Menlo Park, Calif.-based trading platform, once criticized for its reliance on payment for order flow, has been aggressively launching features in order to grow revenue and ultimately reach profitability. In the first quarter, the company reported revenue that grew 47% over last year to $441 million, beating Wall Street expectations for $422 million. Robinhood\\'s adjusted loss per share came in at $0.57, a penny more than estimated. Monthly active users in the first quarter totaled 11.8 million, up from 11.4 million in the fourth quarter of 2022, but down about 25% from last year. Shares of Robinhood were up around 3% on Thursday. \"As we continue to roll out new products — that\\'s just going to further diversify and really strengthen the revenue profile of our business,\" CFO Jason Warnick said during the call. In January the platform launched IRA accounts with a 1% match. Tenev said customers have already invested over $500 million into their IRAs. The company also plans to offer advisory services, as well as futures trading by year-end, pending regulatory approval. Robinhood has also been luring customer deposits amid the recent banking turmoil, offering Gold tier subscribers a 4.65% yield on their uninvested cash. \"Robinhood is not a bank. We keep our customer cash liquid and we don\\'t have the risk of asset-liability mismatch that banks have to manage,\" said Warnick.',\n",
       "  'Amateur trader Matt Kohrs said he lost nearly $30,000 betting on the recovery of First Republic, a bank seized by regulators last Monday. Burnt by the trade, the 28-year-old decided it made more sense to bet that regional lenders would decline. He took short positions in PacWest (PACW), Western Alliance (WAL), Zions (ZION) and SPDR S&P Regional Banking ETF (KRE), an exchange-traded fund that tracks the performance of regional banks. Thus far his unrealized gains are more than $17,000, according to screenshots of his positions shared with Yahoo Finance on Friday, after investors pushed down the stocks of numerous regional lenders for much of this week. “I’m just doing the opposite thing because that’s what made money recently,” said Kohrs, who discusses his trades and other finance topics on a YouTube channel. He started live streaming in December 2020. Kohrs was part of the meme-stock movement that gripped a younger generation of investors earlier in the pandemic as amateur traders banded together on social media to push stocks of certain companies higher. Now some of these same investors are piling up bets against regional banks as volatility roils that industry following the seizures of three mid-sized institutions in the last two months. \"It\\'s definitely a sentiment trade right now,\" Alexander Yokum, an analyst with CFRA Research, told Yahoo Finance Thursday. The turn against banks is a newer trade for retail investors. In March, when the banking turmoil began, many were willing to buy the stocks at a discount and hope for a rebound. That changed this week, according to data monitored by Vanda Research, when retail investors began taking short positions against a number of regional banks. The new funds they added to put options, which are considered a sign of negative sentiment, amounted to $45 million for the five-day period ending Thursday, well above averages. That behavior matched actions taken by larger institutional investors like hedge funds that had the same sort of bets in place for some time. Those investors added another $100 million to put options over the same five-day period, according to Vanda, also higher than',\n",
       "  \"GameStop (GME) closed at $24.10 in the latest trading session, marking a +0.21% move from the prior day. This change lagged the S&P 500's 0.99% gain on the day. Heading into today, shares of the video game retailer had gained 27.25% over the past month, outpacing the Retail-Wholesale sector's loss of 0.04% and the S&P 500's gain of 0.42% in that time. Investors will be hoping for strength from GameStop as it approaches its next earnings release, which is expected to be June 7, 2023. In that report, analysts expect GameStop to post earnings of -$0.17 per share. This would mark year-over-year growth of 67.31%. Meanwhile, the Zacks Consensus Estimate for revenue is projecting net sales of $1.34 billion, down 2.68% from the year-ago period. Looking at the full year, our Zacks Consensus Estimates suggest analysts are expecting earnings of -$0.51 per share and revenue of $5.8 billion. These totals would mark changes of +50% and -2.19%, respectively, from last year. It is also important to note the recent changes to analyst estimates for GameStop. These recent revisions tend to reflect the evolving nature of short-term business trends. As such, positive estimate revisions reflect analyst optimism about the company's business and profitability. Based on our research, we believe these estimate revisions are directly related to near-team stock moves. To benefit from this, we have developed the Zacks Rank, a proprietary model which takes these estimate changes into account and provides an actionable rating system. Ranging from #1 (Strong Buy) to #5 (Strong Sell), the Zacks Rank system has a proven, outside-audited track record of outperformance, with #1 stocks returning an average of +25% annually since 1988. Within the past 30 days, our consensus EPS projection remained stagnant. GameStop is holding a Zacks Rank of #3 (Hold) right now. The Retail - Consumer Electronics industry is part of the Retail-Wholesale sector. This group has a Zacks Industry Rank of 236, putting it in the bottom 7% of all 250+ industries. The Zacks Industry Rank includes is listed in order from best to worst in terms of the average Zacks Rank of\"],\n",
       " 'TSLA': ['Thank you for your patience. Our engineers are working quickly to resolve the issue.',\n",
       "  \"Tuesday, May 30, 2023The Zacks Research Daily presents the best research output of our analyst team. Today's Research Daily features new research reports on 16 major stocks, including Tesla, Inc. (TSLA), TotalEnergies SE (TTE) and Intuitive Surgical, Inc. (ISRG). These research reports have been hand-picked from the roughly 70 reports published by our analyst team today.You can see all of today’s research reports here >>>Tesla’s shares have outperformed the Zacks Automotive - Domestic industry over the year-to-date period (+56.9% vs. +33.8%). The electric vehicle (EV) giant witnessed record deliveries for Models 3 and Y. The Zacks analyst expects deliveries to see an annualized growth of around 37% in 2023.Production ramp-up at gigafactory 4 (in Berlin) and 5 (in Austin) and introduction of new models, including Semi and Cybertruck, are set to support long-term deliveries growth. We anticipate automotive revenues to rise 19% this year.Additionally, Tesla’s energy generation and storage revenues outlook is promising. Falling debt levels is another positive. While inflation and economic concerns could pose near-term challenges, we expect Tesla to deliver outsized returns in the long run on the back of output ramp-up and introduction of new models.(You can read the full research report on Tesla here >>>)Shares of TotalEnergies have outperformed the Zacks Oil and Gas - Refining and Marketing industry over the past year (+6.8% vs. -6.8%). The company continues to benefit from startups, well-spread LNG assets and an expanding upstream portfolio that has exposure to fast-growing hydrocarbon-producing regions. Lower exposure to mature assets compared with the other oil and gas majors acts as a tailwind.TTE streamlines its portfolio through acquisitions, partnerships and divestitures. TTE is making steady investments to expand the renewable operation and aims to achieve net-zero emissions by 2050. Yet, TTE’s production is impacted by the security-related production cuts in some regions.TTE remains exposed to acquisition-related risks as these assets contribute a sizable volume to production. A natural decline in production and TTE’s withdrawal from Russia might affect profitability.(You can read the full research report on TotalEnergies here >>>)Shares of Intuitive Surgical have outperformed the Zacks Medical - Instruments industry over the past\",\n",
       "  'Investing.com -- Tesla (NASDAQ:TSLA) chief executive Elon Musk has told a top official in China that he is open to growing the business in the country, according to a statement from the Chinese foreign ministry on Tuesday quoted by Reuters. Musk met with Chinese foreign minister Qin Gang after he arrived in Beijing as part of a visit to speak with senior government leaders and tour Tesla\\'s Shanghai factory. A foreign ministry statement said Musk stressed how much he did not want to see a decoupling of the U.S. and Chinese economies. In remarks attributed by the foreign ministry to Musk, the billionaire described the two nations as intertwined \"like conjoined twins.\" Tesla did not provide a response to a request for comment. For his part, Qin told Musk that China would like to improve business conditions in the country. Shares in Tesla climbed by more than 3% in premarket U.S. trading on Tuesday. \"It is a big deal that he is now visiting [China] this week at a key time for Tesla,\" analysts at Wedbush said in a note to clients. \"Tesla continues to aggressively focus on building out its China footprint as this remains the golden goose [electric vehicle] market.\" Musk\\'s trip comes as Tesla attempts to address increasing competition from Chinese electric car makers and secure the expansion of its gigafactory in Shanghai. The company is targeting an uptick in output to 450,000 vehicles a year at the plant. China is the second-largest market for Tesla behind the U.S., where the automaker has been offering lower prices in a bid to gain a greater domestic market share. \"While the macro is not rosy Tesla must continue to build out in China to further cement its EV footprint in this key market for the stalwart,\" the Wedbush analysts said. Related Articles China\\'s foreign ministry: Tesla CEO Musk willing to expand in China - Reuters Airline stocks get a lift from strong holiday weekend passenger demand Nvidia joins trillion dollar club on booming AI demand',\n",
       "  '© 2023 - Privacy - Terms',\n",
       "  'Thank you for your patience. Our engineers are working quickly to resolve the issue.',\n",
       "  'Tesla (TSLA) stock soared to close up 5.5% on Friday, ending the week in the green and snapping its longest losing streak since 2021. Boosting shares may have been news out of China, where the China Passenger Car Association reported Tesla delivered 75,842 China-made vehicles in April, a figure that was down 14.7% compared to March, but was a considerable jump from a year ago when Tesla delivered only 1,512 vehicles due to COVID-19 lockdowns and parts shortages that hampered production. Tesla shares have been under pressure since the electric-vehicle maker’s disappointing earnings release last month, where margin pressure was a concern for investors. The margin pressure stemmed from a series of price cuts that occurred in Q1 and the start of Q2. Tesla did reverse some of those price cuts just this week, when it slightly raised the prices of the Model Y and Model 3 in China, the US, Canada, and Japan. However on Friday Tesla jacked up prices of its most expensive cars in China - the Model X and Model S - by 19,000 yuan, or $2,751 each. Tesla may be raising the prices of its luxury offerings to place it further above its Model 3 and Model Y cars in the mainland. Tesla’s jump today has the stock notching a 3.5% gain this week, snapping what would have been a 5-week losing streak if not for today’s performance. According to Investors’ Business Daily a fifth straight weekly loss would have been Tesla’s longest weekly losing streak since March 2021. Tesla shares may also be getting a boost from the broader market, which is experiencing a risk-on rally following the better than expected April jobs report. The tech-heavy Nasdaq closed well over 2%, with the S&P 500 finishing the day up 1.85%. — Pras Subramanian is a reporter for Yahoo Finance. You can follow him on Twitter and on Instagram. Click here for the latest stock market news and in-depth analysis, including events that move stocks Read the latest financial and business news from Yahoo Finance',\n",
       "  \"Last week’s major highlight was the ground-breaking deal between two auto titans Ford F and Tesla TSLA. The deal allows Ford to access more than 12,000 Tesla V3 superchargers in North America in 2024. Ford's adoption of Tesla's exclusive charging standard represents a momentous achievement, positioning Ford as the foremost major automaker to embrace this technology. Through this collaboration, Ford gains access to the expansive network of high-speed Superchargers in the United States, enhancing convenience and charging possibilities for their electric vehicle (EV) customers. Leading truck engine maker, Cummins CMI also hit the headlines with its plans to acquire Faurecia's commercial vehicle manufacturing facilities and related activities in Roermond and Columbus for EUR142 million. Meanwhile, Cummins' spinoff Atmus made a strong market debut. Auto parts retailer AutoZone AZO reported mixed third-quarter fiscal 2023\\xa0results, with earnings beating estimates but sales missing the mark. American Italian automaker Stellantis STLA made news with investment in Lyten's breakthrough Lithium-Sulfur EV battery tech. By partnering with Lyten, Stellantis is poised to drive clean, safe, and affordable mobility while contributing to the reduction of greenhouse gas emissions in the transportation sector. The combination of Lyten's innovative Lithium-Sulfur battery technology and Stellantis' expertise in the automotive industry sets the stage for a promising future in sustainable mobility. 1. Ford laid out its plan to profitably ramp up its EV production while parallelly growing its traditional operations. The company maintained its previous guidance of adjusted EBIT in the range of $9-$11 billion and adjusted free cash flow of around $6 billion in 2023. The auto giant targets an 8% EBIT margin on its EV units and expects to produce 2 million EVs annually by 2026.Ford has partnered with three lithium makers:\\xa0Albermarle, SQM and Nemaska Lithium, from whom it is likely to have secured 90% of the required amount of lithium and nickel.As soon as BlueOval SK starts its operations in 2026, Ford suggests offering the cheapest electric vehicle batteries in the United States. In other news, Fordis recalling more than 175,000 Bronco models from 2021 to 2023 due to a fault in the seatbelt latch. Per the National\",\n",
       "  \"By Hyunjoo Jin SAN FRANCISCO (Reuters) - Tesla Inc has doubled discounts on some already made new Model 3 electric cars and offered discounts on the Model Y and others in its U.S. inventory to entice buyers amid economic uncertainty, rising competition and the upcoming redesign of its mainstay model. In California, a Model 3 variant in inventory was priced at $42,060, a discount of $2,680 to the price of newly ordered cars, according to its website. That is double the $1,300 discount on Model 3 cars offered less than two weeks ago. Tesla also resumed discounts on some Model Ys of nearly $600 off each. Tesla offered steeper discounts of $6,330 and $5,000 on some higher-priced Model X and Model S vehicles, respectively. Facing economic headwinds, mounting competition and rising production, Tesla this year has aggressively cut vehicle prices in many countries and is resorting to the traditional automakers' tactic of offering incentives to clear inventory, analysts said. Tesla is preparing to launch a revamped version of its Model 3 in the United States this year and has started shipping some of its Model Ys with new hardware for its Autopilot partially automated driving system. Tesla CEO Elon Musk told shareholders this month that the company would try advertising for the first time, in a move seen by analysts to drum up demand. Musk also warned Tesla was not immune to the global economy, which he said will be difficult for the next 12 months. (Reporting by Hyunjoo Jin; Editing by Jamie Freed)\",\n",
       "  'Cathie Wood’s ARK Invest is out with another bullish call on Tesla (TSLA), specifically its upcoming Cybertruck pickup. In a post on the fund’s website, analyst Sam Korus outlined a path were the the Cybertruck will be more than a “niche product,” which the firm says the consensus believes it will be. “In addition to 1.5 million existing Cybertruck reservations, early Google Trends data suggest that the Cybertruck could be as mainstream as the Tesla Model Y,” Korus wrote. When Tesla CEO Elon Musk tweeted about Cybertruck production line in early April, Google searches for “Cybertruck” exceeded that of the Model Y, and Korus noted search volume originated in “truck-loving geographies,\" suggesting desire to buy the EV. While search volume and reservations are positive data points, they are not necessarily dispositive of a huge upside surprise for Cybertruck sales. Korus said that there are other larger trends at play. When the US Energy Information Administration (EIA) forecast long range EV penetration in 2014, it saw little to no market share by 2040, Korus noted. Last year, as US EV market share topped 5%, the EIA was still behind the curve with its projections and has been increasing its forecast over the years to catch up. In its most recent 2022 forecast, the EIA sees EV penetration hitting 14% by 2040 then plateauing. Furthermore, the EIA expects trucks to make up 69% of all vehicles by 2050, with only 10% of those being EVs. Korus and ARK believe there’s much more room to grow. Korus said the firm sees global EV market share hitting over 70% by 2027, with the US not far behind. The ARK chart above assumes drastic price reductions for the cost of EVs due to battery cost declines. Though the industry does expect cost declines for EVs, most analysts and industry experts are not calling for 70% market penetration by 2027. The Biden Administration is aiming for only 50% of new vehicle sales to be electric by 2030, and even some studies have called that goal unrealistic. ARK, which has had huge calls on Tesla in the',\n",
       "  'Over the years, Tesla (TSLA) has shifted from developing niche products for affluent buyers to making affordable electric vehicles for the masses. Though there have been many naysayers along the way, shares have increased by more than 12,000%. Despite a brutal correction in 2022, the EV maker has delivered positive earnings surprises in nine straight quarters, and shares have begun to recover as a result. Image Source: Zacks Investment Research Below are five reasons the momentum can continue into year-end: A Plethora of Catalysts Price Cuts Sparking Demand: Over the years, Tesla CEO Elon Musk has often said that the EV maker has a supply problem, not a demand problem. However, in early 2023, Musk boldly cut prices to counter rising interest rates that are driving financing costs higher, compete with rivals, and allow several models to be eligible for the hefty $7,500 tax rebates for electric vehicles. (Allowed on EVs under 55,000 and electric SUVs and trucks under $80,000). Stock Repurchase Plan: Apple (AAPL) is the best example of using buybacks to its advantage. AAPL has the most aggressive share repurchase plan on Wall Street, and the success of the strategy is undeniable. Stock buybacks increase earnings per share (The total number of shares outstanding decreases), create a favorable imbalance between supply and demand (Publics supply of shares is lower), and imply that the stock is undervalued and that it expects future growth. In Tesla’s recent earnings calls, Elon Musk suggested that the company would do a “meaningful buyback” in the fourth quarter of 2023. A Hummer Replacement? In the early 2000s, General Motors (GM) saw a wave of success with its best-selling Hummer SUV. The eccentric army truck became popular with people from all walks of life who wanted to stand out on the roads. However, during the 2008 financial crisis, the viability of the Hummer came into question. Not only was the economy working against it, but sky-high oil prices also made its gas-guzzling nature unattractive, and the green movement in the United States was beginning and consumers were looking to decrease their carbon emissions. Later this',\n",
       "  'Tesla (TSLA) scored a huge milestone in the first quarter amid its crusade to ramp up global EV adoption — producing the best-selling car in the world. But the electric vehicle maker may have paid a big price with lower profit margins. A new report from data firm JATO Dynamics, along with automotive site Motor.1.com, found the Tesla Model Y was the No. 1 selling vehicle globally in the first quarter of the year, marking the first time an EV was the top-selling vehicle. JATO said Tesla sold 267,200 Model Ys in Q1, up 69% from a year ago. The second-best-selling car was Toyota’s Corolla, with 256,400 vehicles sold globally. JATO’s data spanned 53 international markets, plus data and forecasts for 31 other markets and estimates for the balance of global markets. For Tesla, it could be the beginning of a new sales trend for the Model Y, which might see it being the global leader in sales for 2023. “It seems that Tesla has the wind in its sails because the Model Y is an SUV and it is electric, a win-win combination at the moment,” JATO industry specialist Felipe Munoz said in the report published on Motor1.com. “On the other hand, the Corolla has the advantage of being a truly global product, being available in almost every country in the world. This makes it less vulnerable to any geopolitical clashes between China and the United States, for example.” Drilling deeper into the data, JATO found that China accounted for 35% of all Model Y sales, with the US close behind at 31%. For those two countries, Model Y sales grew 26% in China and a whopping 68% in the US versus a year ago. The Tesla Model Y was also the top-selling vehicle in the EU. Of the top 5 selling vehicles, the other four spots are occupied by Toyota vehicles — the Corolla, Hilux pickup, RAV4/Wildlander CUV, and Camry sedan. Even as Tesla expands its footprint and aims to release a cheaper gen-3 vehicle, the company is paying a cost to grow its Model Y sales. Tesla'],\n",
       " 'BTC': ['Coinbase Derivatives Exchange, the regulated futures offering by crypto exchange Coinbase (COIN), will offer bitcoin (BTC) and ether (ETH) tracked futures for institutional clients starting June 5, it said in a Thursday release. Coinbase said it created these products to cater to increased institutional demand following the issuance of its nano Bitcoin (BIT) and nano Ether (ETI) contracts last year. The BTI and ETI futures contracts, sized at 1 bitcoin and 10 ether per contract respectively, will be settled in U.S. dollars monthly and let institutional traders hedge market bets, express long-term market views, or utilize the products in complex trading strategies. At current prices, BTI and ETI are worth $30,000 and $20,000 in notional value respectively. Coinbase said BTC and ETI are offered at “significantly lower fees” compared to traditional offerings, although these fees were not mentioned as of Friday. Crypto derivatives markets are a popular, albeit mostly unregulated, market among participants with over $134 billion in notional volume traded across exchanges in the past 24 hours, data shows, with bitcoin and ether tracked products amounting to over $25 billion of these volumes.',\n",
       "  'It\\'s been a year of retreat and punishing losses for Bitcoin miners—but undeterred, Tether is stepping into the breach. The stablecoin issuer has unveiled plans to invest in \"sustainable Bitcoin mining operations\" based in Uruguay, and will partner with a licensed company on the ground. The South American country may seem like an unusual choice at first—not least because its share of network hashrate is negligible when compared with the U.S. and Kazakhstan. But given how Uruguay generates more than 98% of its electricity from renewable sources—predominantly wind and hydropower—Tether believes there\\'s an opportunity to adopt a much greener approach as BTC becomes increasingly scarce, with another halving event less than 12 months away. Tether Boasts Record Profits—But Reserve Claims Remain \\'Dubious\\', Says Former SEC Attorney \"Our unwavering commitment to renewable energy ensures that every Bitcoin we mine leaves a minimal ecological footprint while upholding the security and integrity of the Bitcoin network,\" Tether\\'s chief technology officer Paolo Ardoino said in a news release. Tether is also planning to hire energy experts to drive its ambitions forward—and as job losses mount in the crypto sector, the company\\'s launched a recruitment portal to attract talent. It\\'s unclear how much Tether is planning to invest in this new venture, and the company hasn\\'t disclosed the name of its partner in the region. But it comes as the firm behind the world\\'s biggest stablecoin continues to gravitate toward Bitcoin. Earlier this month, Tether announced it would use up to 15% of its monthly net realized operating profits to build a BTC warchest. At the time, the company said this would \"strengthen and diversify\" its reserves—and holdings wouldn\\'t be entrusted with a third-party custodian. But there have been long-running concerns about the state of Tether\\'s reserves—with John Reed, a former SEC enforcement attorney, likening the stablecoin issuer to a \"mammoth house of cards.\" Tether Pledges to Plow 15% of Profits into Bitcoin Reed accused the company of issuing opaque financial statements, and while Tether does release assurance reports on a quarterly basis, a long-promised full audit is yet to materialize. Those with (relatively) long',\n",
       "  'Thank you for your patience. Our engineers are working quickly to resolve the issue.',\n",
       "  'Toronto, Ontario--(Newsfile Corp. - June 2, 2023) - SATO Technologies Corp. (TSXV: SATO) (OTCQB: CCPUF) (the \"Company\", or \"SATO\") is pleased to announce May 2023 Bitcoin Production and Efficiency and give more details about AI plans. Operational Highlights (unaudited): 20 MW of fully operational, high-grade, ≈100% renewable energy-based computing power generating consistent revenue 0.54 EH/s of bitcoin mining power running in the facility May 2023 Highlights (unaudited): 43.78 Bitcoin mined in May 2023 (Monthly average, aggregate of self-mining and hosting) 5,638 Average rigs operating throughout the month (self-mining and hosting) Weighted average Bitcoin mined per 1 EH/s: 91.17 BTC (compared to 90.27 BTC in Q1 2023) Bitcoin Mined on site per day: 1.41 BTC (Daily average, aggregate of self-mining and hosting) AI & HPC Ready SATO\\'s expertise in operating cost-effective and efficient data centers will play a critical role in delivering increased computing power to meet the burgeoning and rapidly expanding demands of the emerging AI sector. The two Quebec-based centers are currently being prepared to increase our Bitcoin mining capacity while deploying artificial intelligence and high-performance computing capabilities. \"As ChatGPT, Bard, Co-Pilot, MidJourney, and other groundbreaking innovations continue to emerge, the global demand for computing power will inevitably surge as their everyday applications are embraced. Our data centers, known for their efficiency and cost-effectiveness, are poised to serve as the perfect solution to meet the growing AI demands. At SATO, we are actively directing our efforts towards expanding our AI infrastructure to accommodate this growth, enabling the deployment of high-performance computing power on a large scale. Simultaneously, we remain committed to further enhancing our Bitcoin Mining capabilities, ensuring that our growth in this area continues alongside the advancements in AI,\" says Romain Nouzareth, CEO of SATO Technologies. The Company also announces that further to its press release of August 23, 2022, the Company has issued 520,000 warrants to the landlord of Center Two. The Company and the landlord amended their agreement to clarify that the warrants are being issued in connection with the interest-free loan by the landlord to the Company of the security deposit the landlord has placed',\n",
       "  \"New York, NY --News Direct-- Finance News May proved to be a tumultuous period for crypto investors as the prices of Bitcoin and other cryptocurrencies failed to establish a definitive trend. Nevertheless, as we enter June, investors are optimistic once more, eagerly anticipating a more stable market that will provide a clear direction for price. Luckily, ChatGPT is here to help – offering its take on the potential trajectories of some of the biggest coins in the space alongside a few new entrants that could be set to make their mark in the coming weeks.  Bitcoin ($BTC) It’s no surprise that Bitcoin ($BTC) is the first cryptocurrency to catch ChatGPT’s eye. Bitcoin fell by nearly 7% in May, ending the bullish momentum showcased in the first four months of the year. However, Bitcoin bulls are hopeful that this is just a minor blip – and that the coin can continue its upwards trajectory in June. Unfortunately, Bitcoin hasn’t started the month very well, dipping by 2.75% over the past two days. Nevertheless, ChatGPT remains bullish on Bitcoin's prospects and expects the coin's downtrend to end soon before the bulls retake control. Per ChatGPT, Bitcoin could reach $32,000 by the end of June. If this occurs, it would represent an 18% increase from today's price and create new yearly highs for the coin. However, ChatGPT also references the volatility in the market, cautioning that unforeseen events could impact Bitcoin's trajectory. Another cryptocurrency that ChatGPT believes could be set for a positive month is Ethereum ($ETH). Per CoinGecko, Ethereum is trading around the $1,864 level. Although this is significantly higher than at the turn of the year, the token is still down 61% from November 2021’s all-time high. Like Bitcoin, Ethereum’s value has been affected by numerous macroeconomic factors, including the ongoing US debt crisis and the lack of clarity around potential interest rate decreases. These factors have prompted a bearish wave to wash over $ETH recently, with the token trading 13% lower than mid-April's peak. The good news for $ETH bulls is that ChatGPT believes this bearish wave is only\",\n",
       "  'The Company’s bitcoin holdings grew 44%; Bitcoin mined increased 16% in May, to 609 BTC LAS VEGAS, June 02, 2023 (GLOBE NEWSWIRE) -- CleanSpark Inc. (Nasdaq: CLSK), America’s Bitcoin Miner™, today released its unaudited bitcoin mining and operations update for the month ending May 31, 2023. “We achieved a significant milestone during the month of May,” said Zach Bradford, CEO. “Not only do we continue to increase the amount of bitcoin in our treasury, but we also surpassed $100 million in revenue for our fiscal year to date. Importantly, we achieved this milestone with the bulk of our expansion expected to come later this year. “Additionally, the amount of bitcoin we mined this month exceeded expectations, largely due to increases in operational efficiency and a brief, albeit significant, increase in transaction fees. For about five days in May, fees were elevated because of increased interest in ordinals on the blockchain. At its peak, our bitcoin production jumped to nearly 30 bitcoins in a single day, almost double our normal daily production of about 18 bitcoins. Since then, transaction fees have normalized.” May Bitcoin Mining Update (unaudited) Bitcoin mined in May:\\xa0609 CY2023 bitcoin mined: 3,004 Total BTC holdings as of May 31: 451 Total BTC converted for operations and growth in May: 471 Currently deployed fleet of about 67,196\\xa0latest-generation bitcoin miners with a hashrate of 6.7\\xa0EH/s The Company funded growth and operations through the sale of 471 bitcoins in May 2023 at an average of approximately $27,400\\xa0per BTC. Sales of BTC equated to proceeds of approximately $12.9 million. May daily BTC mined averaged 19.6 and reached a high of 29.6, due to a brief period of unusually high transaction fees. Operational Updates Washington. The 50MW expansion continues to track according to projected timelines, despite a series of rain delays that temporarily slowed down progress. Miners are arriving daily with all units expected to be at the facility by the end of the month. Racking has begun and\\xa0energization is expected to begin in the second half of June. Sandersville. Crews are making headway in prepping the land for the Company’s expansion at',\n",
       "  '-\\xa0 \\xa0Produced a Record 1,245 BTC in May 2023 and 4,141 BTC Year-To-Date -\\xa0 \\xa0Increased Operational Hash Rate 9% to 15.2 EH/s and Installed Hash Rate 13% to 20.1 EH/s in May 2023 -\\xa0 \\xa0Raised nearly $800,000 for Bitcoin Core Developers in Collaboration with Brink -\\xa0 \\xa0Reported Unrestricted Cash and Cash Equivalents of $97.3 Million and Increased Unrestricted Bitcoin Holdings to 12,259 BTC (c. $333.7 Million) as of May 31, 2023 FORT LAUDERDALE, Fla., June 02, 2023 (GLOBE NEWSWIRE) -- Marathon Digital Holdings, Inc. (NASDAQ:MARA) (\"Marathon\" or \"Company\"), a leader in supporting and securing the Bitcoin ecosystem, today published unaudited bitcoin (“BTC”) production and miner installation updates for May 2023. Management Commentary“We produced a record 1,245 bitcoin in May, up 77% from last month and 366% from May 2022,” said Fred Thiel, Marathon’s chairman and CEO. “The increased production was due to an increased hash rate and a significant increase in transaction fees, which accounted for approximately 11.8% of the total bitcoin we earned in the last month. The emergence of Ordinals significantly increased transaction fees in May, which in some cases, were so high that they exceeded the 6.25 BTC block reward. With our scale and our improved uptime during the month, we were able to capitalize on this opportunity. While such abnormally high transaction fees are historically rare, we believe these events can serve as a positive sign for the future of mining economics. “In May, we increased our operational hash rate 9% month-over-month to 15.2 exahashes, and we increased our installed hash rate 13% month-over-month to 20.1 exahashes. With the construction of Applied Digital’s facility in Ellendale, ND progressing and optimizations across our fleet continuing, we believe we are on track to reach our 23 EH/s target near the middle of this year. “Also in May, we announced that we were joining forces with Brink to raise up to $1 million to support Bitcoin Core developers. In less than four days, we collectively raised nearly $800,000 for Bitcoin Core developers, $500,000 of which is Marathon’s contribution. We are incredibly grateful to the Bitcoin community for rallying behind',\n",
       "  'Bitcoin’s mining difficulty level rose 3.4% on Thursday to an all-time high, as the network’s hashrate also increased to a record high. The difficulty level changes roughly every two weeks and measures the additional computing power a miner has to use to verify transactions on a block. A higher difficulty reading indicates that it is more competitive to mine Bitcoin, reducing profit. See related article: U.S. congressman says crypto mining tax scrapped in debt ceiling deal The mining difficulty reading came in at 51.23 trillion at block height 792,288 in Thursday’s adjustment. That follows a 3.22% rise in the previous adjustment on May 18, according to data from BTC.com. The difficulty of mining Bitcoin typically rises when more miners go online, which raises competition. Miners are rewarded Bitcoin for validating transactions on the network. The higher the difficulty, the less chance a miner has to secure an entire block on the chain. Therefore, a miner’s profitability is dependent on the difficulty level. Mining difficulty adjustments are closely correlated to changes in hashrate, the level of computing power used for mining. “In short, difficulty follows hashrate up or down, and hashrate is driven by the overall profitability of building and operating bitcoin data centers,” said Andrew Webber, chief of Digital Power Optimization that works with power producers to deploy Bitcoin mining operations. “If Bitcoin spot price goes higher, it means larger profits for miners. Bitcoin’s hashrate was at around 375 exahashes per second on Wednesday. That was an increase from the 365.1 exahashes recorded during the last adjustment on May 18, data from Blockchain.com shows. At that time Bitcoin was trading at around US$26,800, up roughly 61% for the year. Its price stood at US$27,068 at 10:10 a.m. in Hong Kong on Thursday. That was a rise of 3.6% for the past seven days, according to data from CoinMarketCap. Meanwhile, most Bitcoin mining-related stocks in the U.S. gained this week. On Sunday, Republican congressman Warren Davidson indicated that a proposed tax on electricity use by cryptocurrency miners in the country had been scrapped. The decision is part of the ongoing U.S.',\n",
       "  'Yacht parties, tank tops, McLarens: For the last three years, the eponymous annual Bitcoin conference has taken root in Miami, celebrating the excess of crypto’s nouveau riche while showcasing a unique and particularly masculine strain of financialized tribalism.\\xa0\\xa0 Though the conference’s latest iteration last month featured notably smaller crowds and less exuberance than in past years, it also appears to have broken new barriers for a new and very different kind of eye-popping excess. On May 18, pseudonymous conceptual artist OONA sold a loaf of bread to a collector for 0.5 BTC, or just over $13,400 worth. The sale was not a trick or a gag. The loaf was real, perishable country bread. It was really sold to a man, Vladimir Kravets, who did in fact pay thousands of dollars for it. In fairness, the loaf—made in partnership with Bitcoin NFT marketplace DIBA—was unlike other grocery store varieties, as it contained a hardware wallet that stored an undisclosed amount of BTC. But neither the artist nor Kravets plan to disclose the amount. That may be because the actual value of \"Bit.Bread,\" as the piece is titled, has nothing to do with money itself. As with OONA’s previous works, it instead investigates the perception of value, particularly as that perception pertains to gender—an often fraught subject in the male-dominated crypto industry.\\xa0 “It fundamentally investigates the ways in which this technology is more progressive than the people that use it,” OONA told Decrypt of \"Bit.Bread.\" Since 2021, OONA has created works of performance art at crypto conferences, always sporting glasses and a draped mask that conceals her identity. Her work has focused on the treatment and perception of women in crypto, and the ways in which crypto—a technology the artist believes can financially and politically liberate and empower people of all backgrounds—has emerged within a culture that she believes does not adequately respect or include women. At Art Basel Miami last December, OONA, with the help of performance artist Lori Baldwin, auctioned off a cup of her own breast milk—milked live in front of a large audience—before being escorted away by conference',\n",
       "  '© 2023 - Privacy - Terms',\n",
       "  \"Good morning. Here’s what’s happening: Prices: Bitcoin settled above $27.1K after Cleveland's Federal Reserve Bank president spooked investors with hawkish comments and China reported dispiriting manufacturing data. Insights: Before House members approved a bill to raise the debt ceiling, bitcoin whales reduced their holdings and sent assets to exchange. CoinDesk Market Index (CMI) 1,178  −23.3 ▼ 1.9%   Bitcoin (BTC) $27,099  −683.3 ▼ 2.5%   Ethereum (ETH) $1,874  −32.7 ▼ 1.7%   S&P 500 4,179.83  −25.7 ▼ 0.6%   Gold $1,980  +15.8 ▲ 0.8%   Nikkei 225 30,887.88  −440.3 ▼ 1.4%   BTC/ETH prices per CoinDesk Indices, as of 7 a.m. ET (11 a.m. UTC) CoinDesk Market Index (CMI) 1,178   −23.3 ▼ 1.9%   Bitcoin (BTC) $27,099   −683.3 ▼ 2.5%   Ethereum (ETH) $1,874   −32.7 ▼ 1.7%   S&P 500 4,179.83   −25.7 ▼ 0.6%   Gold $1,980   +15.8 ▲ 0.8%   Nikkei 225 30,887.88   −440.3 ▼ 1.4%   BTC/ETH prices per CoinDesk Indices, as of 7 a.m. ET (11 a.m. UTC) Bitcoin Sinks Early, Then Holds Above $27.1K By James Rubin Hawkish comments by Cleveland’s Federal Reserve Bank president, the increasing likelihood of at least one more interest rate hike by the U.S. central bank and dispiriting Chinese manufacturing data kept crypto investors off-balance on Wednesday. Bitcoin, the largest cryptocurrency by market capitalization, was trading near $27,100, down more than 2.2% over the previous 24 hours, after spending much of the previous four days comfortably above $27,500. BTC finished May (UTC) with its first losing month of 2023 after soaring by more than 60% over the first four months. “Bitcoin encountered selling pressure in response to comments made by a prominent Federal Reserve official, indicating a lack of compelling reasons to pause liquidity tightening measures,” Mikkel Morch, chairman and non-executive director at crypto investment fund ARK36, said. “These remarks have had a disruptive impact on various risk assets, including cryptocurrencies. Morch added: “Simultaneously, the release of discouraging manufacturing data from\"]}"
      ]
     },
     "execution_count": 85,
     "metadata": {},
     "output_type": "execute_result"
    }
   ],
   "source": [
    "articles"
   ]
  },
  {
   "cell_type": "code",
   "execution_count": 86,
   "metadata": {},
   "outputs": [
    {
     "data": {
      "text/plain": [
       "['Thank you for your patience. Our engineers are working quickly to resolve the issue.',\n",
       " '© 2023 - Privacy - Terms',\n",
       " '(Bloomberg) -- Creditors to Byju’s, India’s most valuable startup, have pulled out of negotiations with the company to recast a $1.2 billion loan, posing a new setback to the beleaguered tech firm, according to people familiar with the matter. Most Read from Bloomberg China Is Drilling a 10,000-Meter-Deep Hole Into the Earth Amazon Is in Talks to Offer Free Mobile Service to US Prime Members Inside the Making of Redfall, Xbox’s Latest Misfire Rich Latin Americans Transform Laid-Back Madrid Into a New Miami Hedge Funds at War for Top Traders Dangle $120 Million Payouts The talks were called off after the creditors moved court, and accused the firm of hiding $500 million of funds raised, the people said, asking not to be named as the information is not public. Lenders can now sell the term loan B securities of the firm as the restraint that came as part of the negotiations is lifted, they said. The move is a fresh challenge for one of India’s hottest tech companies, which has been working to appease creditors by offering prepayments and higher coupons to restructure the loan. Though the steering committee of lenders has discontinued the talks, the company will try to reach out to all lenders independently to renegotiate the terms, one of the people said. Byju’s has to make an interest payment on the loan by June 5, the people said. The company will get “a large capital infusion” soon that will allow it to pay down the loan, its lawyer said in a US court last month while denying allegations of hiding the funds raised as loan. The transfer of borrowed funds was in “full compliance of loan agreement and did not contravene any terms of the agreed-upon rights and responsibilities,” a Byju’s spokesperson said on Thursday. “Even lenders have not alleged that the transfer was not permitted under parties’ existing contractual arrangement,” the person said. Spokespersons for Byju’s and Houlihan Lokey Inc., hired by creditors to advise them on loan restructuring, declined to comment on queries about the talks being called off. The company had offered to increase',\n",
       " '(Bloomberg) -- Saudi Arabia’s First Milling Co. set the price for its initial public offering at the top of the marketed range after being swamped by institutional orders, the latest sign of a revival in the kingdom’s IPO market. Most Read from Bloomberg Winklevoss Twins Attempt Pivot After Gemini Loses Money and Employees Putin Orders Tighter Defenses After Drone Strikes on Moscow Stock Rally Loses Steam After AI-Fueled Euphoria: Markets Wrap Taiwan Rushes to Prevent China From Cutting Internet, Phones Nvidia Touches $1 Trillion Mark After Beating Rivals to AI Big investors placed orders worth 68.8 billion riyals ($18 billion), almost 69 times more than was available to them, according to a statement. At a price of 60 riyals a share, the IPO will raise raise 999 million riyals for selling shareholders, valuing the company at 3.33 billion riyals. First Milling will take orders from retail buyers from June 6 to June 7. The IPO is set to be the second biggest in Saudi Arabia this year, after generic drugmaker Jamjoom Pharmaceuticals Factory Co.’s $336 million offering. That deal also priced at the top of the range last week and got institutional investor orders for 67 times the shares on offer. Saudi IPOs are returning to life after their slowest start since 2014 amid concerns over falling oil prices and a global economic slowdown. The benchmark Tadawul All Share Index has rebounded about 12% from a March low, helping boost investor sentiment. Just $72 million worth of IPOs have started trading in the kingdom so far this year, a sharp drop from the almost $4 billion seen a year ago, according to data compiled by Bloomberg. SNB Capital is acting as financial advisor, lead manager and bookrunner on First Milling’s IPO. SNB Capital and GIB Capital are the underwriters. Most Read from Bloomberg Businessweek Assault Allegations Plague a $1.4 Billion Home Eldercare Startup Sergey Brin Has a Secret Plan to Put Airships Back in the Skies Adidas After Yeezy You’re the CEO and Your Company Got Hacked—What Now? There’s Still Scary Stuff in Sunscreen ©2023 Bloomberg L.P.',\n",
       " '(Bloomberg) -- India’s government is poised to deny crucial funding for billionaire Anil Agarwal’s chip venture, a setback for a $19 billion push to make semiconductors in the country. Most Read from Bloomberg China Is Drilling a 10,000-Meter-Deep Hole Into the Earth Amazon Is in Talks to Offer Free Mobile Service to US Prime Members Inside the Making of Redfall, Xbox’s Latest Misfire Rich Latin Americans Transform Laid-Back Madrid Into a New Miami Hedge Funds at War for Top Traders Dangle $120 Million Payouts The government is likely to tell the venture between Agarwal’s Vedanta Resources Ltd. and Taiwan’s Hon Hai Precision Industry Co. it won’t get incentives to make 28-nanometer chips, people familiar with the matter said. The venture has applied for such assistance, potentially worth billions of dollars, but hasn’t met the criteria set by the government. While Vedanta and Hon Hai can apply again, a rejection would mean delays for Agarwal’s ambition to establish India’s first major chipmaking operation, even as his metals and mining conglomerate struggles to reduce a heavy debt load. Nine months after Agarwal announced the chip partnership to build India’s “own Silicon Valley,” the project is yet to find a technology partner or license manufacturing-grade technology for the 28nm chips it was seeking to build, the people said. At least one of those steps is needed for the venture to get government assistance. Vedanta and Hon Hai, the assembler of a bulk of the world’s iPhones, have no previous significant experience in chipmaking. Their difficulty in finding production-ready technology underscores how hard it is to set up new semiconductor plants, massive complexes that cost billions to build and require very specialized expertise to run. A representative for Vedanta said the company was awaiting the outcome of its application from the government. Hon Hai, widely known as Foxconn, didn’t respond to an email seeking comment. Prime Minister Narendra Modi has pledged $10 billion to woo chipmakers to India, promising his administration will bear half the cost of setting up all semiconductor sites. Vedanta has previously said its partner Hon Hai had secured “production-grade, high-volume”',\n",
       " 'Thank you for your patience. Our engineers are working quickly to resolve the issue.',\n",
       " 'Thank you for your patience. Our engineers are working quickly to resolve the issue.',\n",
       " 'Leading game retailer GameStop (NYSE: GME) is teaming up with The Telos Foundation, the organization behind the layer 1 blockchain Telos, to expand its Web3 gaming offerings. The deal will link Web3 games utilizing Telos\\' decentralized blockchain infrastructure to GameStop’s upcoming Web3 game launchpad Playr, providing new opportunities for mainstream gaming distribution. AJ Dinger, head of business development at the Telos Foundation, said in a press release that the collaboration will help onboard new users to the Web3 gaming ecosystem using Telos’ robust network. \"We believe this collaboration will be a meaningful driver of new users into the Web3 space,” said Dinger. “By combining GameStop Playr with Web3 games utilizing Telos\\' high-performance blockchain infrastructure, we can break down many of the barriers currently deterring Web2 players from embracing Web3.\" Telos’ native token TLOS jumped 10% on the news before receding. GameStop has steadily been moving away from its brick and mortar strategy to focus on a digital expansion that includes Web3 gaming. In February 2022, it announced a partnership with layer 1 blockchain Immutable X to build a non-fungible token (NFT) marketplace for trading in-game assets. The marketplace, which has been operating as a public beta since July, officially launced to the public in October 2022. The retailer also released its self-custodial crypto and NFT wallet in May 2022.',\n",
       " 'Robinhood (HOOD) announced Wednesday that next Monday, May 16, the company will begin allowing users to trade 24 hours a day during the week on some stocks and ETFs. The company announced these new trading hours — which will run from 8:00 a.m. ET on Monday through 8:00 p.m. ET Friday — alongside its first quarter results Wednesday afternoon. Robinhood will enable around-the-clock trading on more than 40 stocks and ETFs, including names like Apple (AAPL) and Tesla (TSLA). \"This is an exciting upgrade to our stock trading product, it allows our customers to better manage their risk and take advantage of opportunities, no matter what time of day they arise,\" Vlad Tenev, co-founder and CEO of Robinhood, said during the company\\'s earnings call. The Menlo Park, Calif.-based trading platform, once criticized for its reliance on payment for order flow, has been aggressively launching features in order to grow revenue and ultimately reach profitability. In the first quarter, the company reported revenue that grew 47% over last year to $441 million, beating Wall Street expectations for $422 million. Robinhood\\'s adjusted loss per share came in at $0.57, a penny more than estimated. Monthly active users in the first quarter totaled 11.8 million, up from 11.4 million in the fourth quarter of 2022, but down about 25% from last year. Shares of Robinhood were up around 3% on Thursday. \"As we continue to roll out new products — that\\'s just going to further diversify and really strengthen the revenue profile of our business,\" CFO Jason Warnick said during the call. In January the platform launched IRA accounts with a 1% match. Tenev said customers have already invested over $500 million into their IRAs. The company also plans to offer advisory services, as well as futures trading by year-end, pending regulatory approval. Robinhood has also been luring customer deposits amid the recent banking turmoil, offering Gold tier subscribers a 4.65% yield on their uninvested cash. \"Robinhood is not a bank. We keep our customer cash liquid and we don\\'t have the risk of asset-liability mismatch that banks have to manage,\" said Warnick.',\n",
       " 'Amateur trader Matt Kohrs said he lost nearly $30,000 betting on the recovery of First Republic, a bank seized by regulators last Monday. Burnt by the trade, the 28-year-old decided it made more sense to bet that regional lenders would decline. He took short positions in PacWest (PACW), Western Alliance (WAL), Zions (ZION) and SPDR S&P Regional Banking ETF (KRE), an exchange-traded fund that tracks the performance of regional banks. Thus far his unrealized gains are more than $17,000, according to screenshots of his positions shared with Yahoo Finance on Friday, after investors pushed down the stocks of numerous regional lenders for much of this week. “I’m just doing the opposite thing because that’s what made money recently,” said Kohrs, who discusses his trades and other finance topics on a YouTube channel. He started live streaming in December 2020. Kohrs was part of the meme-stock movement that gripped a younger generation of investors earlier in the pandemic as amateur traders banded together on social media to push stocks of certain companies higher. Now some of these same investors are piling up bets against regional banks as volatility roils that industry following the seizures of three mid-sized institutions in the last two months. \"It\\'s definitely a sentiment trade right now,\" Alexander Yokum, an analyst with CFRA Research, told Yahoo Finance Thursday. The turn against banks is a newer trade for retail investors. In March, when the banking turmoil began, many were willing to buy the stocks at a discount and hope for a rebound. That changed this week, according to data monitored by Vanda Research, when retail investors began taking short positions against a number of regional banks. The new funds they added to put options, which are considered a sign of negative sentiment, amounted to $45 million for the five-day period ending Thursday, well above averages. That behavior matched actions taken by larger institutional investors like hedge funds that had the same sort of bets in place for some time. Those investors added another $100 million to put options over the same five-day period, according to Vanda, also higher than',\n",
       " \"GameStop (GME) closed at $24.10 in the latest trading session, marking a +0.21% move from the prior day. This change lagged the S&P 500's 0.99% gain on the day. Heading into today, shares of the video game retailer had gained 27.25% over the past month, outpacing the Retail-Wholesale sector's loss of 0.04% and the S&P 500's gain of 0.42% in that time. Investors will be hoping for strength from GameStop as it approaches its next earnings release, which is expected to be June 7, 2023. In that report, analysts expect GameStop to post earnings of -$0.17 per share. This would mark year-over-year growth of 67.31%. Meanwhile, the Zacks Consensus Estimate for revenue is projecting net sales of $1.34 billion, down 2.68% from the year-ago period. Looking at the full year, our Zacks Consensus Estimates suggest analysts are expecting earnings of -$0.51 per share and revenue of $5.8 billion. These totals would mark changes of +50% and -2.19%, respectively, from last year. It is also important to note the recent changes to analyst estimates for GameStop. These recent revisions tend to reflect the evolving nature of short-term business trends. As such, positive estimate revisions reflect analyst optimism about the company's business and profitability. Based on our research, we believe these estimate revisions are directly related to near-team stock moves. To benefit from this, we have developed the Zacks Rank, a proprietary model which takes these estimate changes into account and provides an actionable rating system. Ranging from #1 (Strong Buy) to #5 (Strong Sell), the Zacks Rank system has a proven, outside-audited track record of outperformance, with #1 stocks returning an average of +25% annually since 1988. Within the past 30 days, our consensus EPS projection remained stagnant. GameStop is holding a Zacks Rank of #3 (Hold) right now. The Retail - Consumer Electronics industry is part of the Retail-Wholesale sector. This group has a Zacks Industry Rank of 236, putting it in the bottom 7% of all 250+ industries. The Zacks Industry Rank includes is listed in order from best to worst in terms of the average Zacks Rank of\"]"
      ]
     },
     "execution_count": 86,
     "metadata": {},
     "output_type": "execute_result"
    }
   ],
   "source": [
    "articles['GME']"
   ]
  },
  {
   "cell_type": "code",
   "execution_count": 87,
   "metadata": {},
   "outputs": [
    {
     "data": {
      "text/plain": [
       "'Thank you for your patience. Our engineers are working quickly to resolve the issue.'"
      ]
     },
     "execution_count": 87,
     "metadata": {},
     "output_type": "execute_result"
    }
   ],
   "source": [
    "# grab 1st article for GME\n",
    "articles['GME'][0]"
   ]
  },
  {
   "cell_type": "markdown",
   "metadata": {},
   "source": [
    "### 4.4 Summarize all Articles"
   ]
  },
  {
   "cell_type": "code",
   "execution_count": 88,
   "metadata": {},
   "outputs": [],
   "source": [
    "def summarize_articles(articles):\n",
    "    \"\"\"summarize articles\n",
    "    \n",
    "    Args:\n",
    "        articles (list): list of articles\n",
    "    \n",
    "    Returns:\n",
    "        list: list of summaries\n",
    "    \"\"\"\n",
    "    summaries = []\n",
    "    for article in articles:\n",
    "        input_ids = tokenizer.encode(article, return_tensors='pt')\n",
    "        output = model.generate(input_ids, max_length=55, num_beams=5, early_stopping=True)\n",
    "        summary = tokenizer.decode(output[0], skip_special_tokens=True)\n",
    "        summaries.append(summary)\n",
    "    return summaries"
   ]
  },
  {
   "cell_type": "code",
   "execution_count": 89,
   "metadata": {},
   "outputs": [],
   "source": [
    "summaries = {ticker:summarize_articles(articles[ticker]) for ticker in monitored_tickers}"
   ]
  },
  {
   "cell_type": "code",
   "execution_count": 90,
   "metadata": {},
   "outputs": [
    {
     "data": {
      "text/plain": [
       "{'GME': ['We are aware of the issue and are working to resolve it.',\n",
       "  'All images are copyrighted.',\n",
       "  'Lenders accused firm of hiding $500 million of funds. Firm has to make interest payment on $1.2 billion loan by June 5',\n",
       "  'First Milling’s IPO is set to be second biggest in 2020',\n",
       "  'Vedanta-Hon Hai venture hasn’t found production-ready technology. Billionaire’s plan to establish India’s first major chipmaking operation',\n",
       "  'We are aware of the issue and are working to resolve it.',\n",
       "  'We are aware of the issue and are working to resolve it.',\n",
       "  'Retailer to launch Web3 game launchpad Playr. Deal comes as retailer moves away from brick and mortar',\n",
       "  'Trading platform to allow users to trade 24 hours a day. Platform also saw monthly active users rise in the first quarter',\n",
       "  'Retail investors are piling into put options to short banks. ‘It’s a sentiment trade right now,’ CFRA’s Yokum says',\n",
       "  'Video game retailer had gained 27.25% over the past month. Heading into today, shares of the video game retailer had gained 27.25% over the past month.'],\n",
       " 'TSLA': ['We are aware of the issue and are working to resolve it.',\n",
       "  'Shares of Tesla have outperformed the Automotive - Domestic industry over the past year. TotalEnergies has outperformed the Oil and Gas - Refining and Marketing industry',\n",
       "  'Billionaire described U.S. and China like conjoined twins. Musk is in China this week to speak with officials',\n",
       "  'All images are copyrighted.',\n",
       "  'We are aware of the issue and are working to resolve it.',\n",
       "  'Electric-vehicle maker’s shares have been under pressure since earnings. Tesla jacked up prices of its most expensive cars in China',\n",
       "  'Deal allows Ford to access more than 12,000 Tesla superchargers in North America. Auto parts retailer AutoZone reports mixed third-quarter results',\n",
       "  'Tesla offers steeper discounts of $6,330, $5,000 on higher-priced vehicles.',\n",
       "  'Tesla’s new truck to be more than a ‘niche product,’ firm says. ARK sees EV market share hitting over 70% by 2027',\n",
       "  'EV maker has delivered positive earnings surprises in nine quarters. Musk hinted at share buyback in recent earnings call',\n",
       "  'The Model Y was the top-selling vehicle globally in the first quarter. Tesla may have paid a price with lower profit margins'],\n",
       " 'BTC': ['BTI and ETI contracts will be settled in U.S. dollars monthly, Coinbase says. Crypto derivatives are a popular, albeit mostly unregulated, market',\n",
       "  'stablecoin issuer to partner with a Uruguayan firm. Miners have suffered as network hashrate drops',\n",
       "  'We are aware of the issue and are working to resolve it.',\n",
       "  \"SATO's two Quebec-based data Centers are currently preparing to increase Bitcoin mining capacity.\",\n",
       "  'Coin could reach $32,000 by the end of June: ChatGPT. Ethereum could be set for a positive month: ChatGPT',\n",
       "  'Sales of BTC equated to proceeds of $12.9 million. May daily BTC mined averaged 19.6 and reached a high of 29.6',\n",
       "  'Mining firm produced a record 1,245 BTC in May, up 77% from last month and 366% from May. raised nearly $800,000 for Bitcoin Core developers in collaboration with Brink',\n",
       "  'Network’s hashrate also rose to a record high. Miners are rewarded for validating transactions on the network',\n",
       "  '‘Bit.Bread’ is latest in a string of works by artist OONA. Performance art has become a regular feature at Bitcoin conference',\n",
       "  'All images are copyrighted.',\n",
       "  'Hawkish comments keep crypto investors off-balance. Bitcoin finished May with first losing month in 2023']}"
      ]
     },
     "execution_count": 90,
     "metadata": {},
     "output_type": "execute_result"
    }
   ],
   "source": [
    "summaries"
   ]
  },
  {
   "cell_type": "code",
   "execution_count": 91,
   "metadata": {},
   "outputs": [
    {
     "data": {
      "text/plain": [
       "['We are aware of the issue and are working to resolve it.',\n",
       " 'All images are copyrighted.',\n",
       " 'Lenders accused firm of hiding $500 million of funds. Firm has to make interest payment on $1.2 billion loan by June 5',\n",
       " 'First Milling’s IPO is set to be second biggest in 2020',\n",
       " 'Vedanta-Hon Hai venture hasn’t found production-ready technology. Billionaire’s plan to establish India’s first major chipmaking operation',\n",
       " 'We are aware of the issue and are working to resolve it.',\n",
       " 'We are aware of the issue and are working to resolve it.',\n",
       " 'Retailer to launch Web3 game launchpad Playr. Deal comes as retailer moves away from brick and mortar',\n",
       " 'Trading platform to allow users to trade 24 hours a day. Platform also saw monthly active users rise in the first quarter',\n",
       " 'Retail investors are piling into put options to short banks. ‘It’s a sentiment trade right now,’ CFRA’s Yokum says',\n",
       " 'Video game retailer had gained 27.25% over the past month. Heading into today, shares of the video game retailer had gained 27.25% over the past month.']"
      ]
     },
     "execution_count": 91,
     "metadata": {},
     "output_type": "execute_result"
    }
   ],
   "source": [
    "summaries[\"GME\"]"
   ]
  },
  {
   "cell_type": "code",
   "execution_count": 92,
   "metadata": {},
   "outputs": [
    {
     "data": {
      "text/plain": [
       "['We are aware of the issue and are working to resolve it.',\n",
       " 'Shares of Tesla have outperformed the Automotive - Domestic industry over the past year. TotalEnergies has outperformed the Oil and Gas - Refining and Marketing industry',\n",
       " 'Billionaire described U.S. and China like conjoined twins. Musk is in China this week to speak with officials',\n",
       " 'All images are copyrighted.',\n",
       " 'We are aware of the issue and are working to resolve it.',\n",
       " 'Electric-vehicle maker’s shares have been under pressure since earnings. Tesla jacked up prices of its most expensive cars in China',\n",
       " 'Deal allows Ford to access more than 12,000 Tesla superchargers in North America. Auto parts retailer AutoZone reports mixed third-quarter results',\n",
       " 'Tesla offers steeper discounts of $6,330, $5,000 on higher-priced vehicles.',\n",
       " 'Tesla’s new truck to be more than a ‘niche product,’ firm says. ARK sees EV market share hitting over 70% by 2027',\n",
       " 'EV maker has delivered positive earnings surprises in nine quarters. Musk hinted at share buyback in recent earnings call',\n",
       " 'The Model Y was the top-selling vehicle globally in the first quarter. Tesla may have paid a price with lower profit margins']"
      ]
     },
     "execution_count": 92,
     "metadata": {},
     "output_type": "execute_result"
    }
   ],
   "source": [
    "summaries[\"TSLA\"]"
   ]
  },
  {
   "cell_type": "markdown",
   "metadata": {},
   "source": [
    "### 5. Adding Sentiment Analysis to the summaries"
   ]
  },
  {
   "cell_type": "code",
   "execution_count": 94,
   "metadata": {},
   "outputs": [
    {
     "name": "stderr",
     "output_type": "stream",
     "text": [
      "No model was supplied, defaulted to distilbert-base-uncased-finetuned-sst-2-english and revision af0f99b (https://huggingface.co/distilbert-base-uncased-finetuned-sst-2-english).\n",
      "Using a pipeline without specifying a model name and revision in production is not recommended.\n"
     ]
    },
    {
     "data": {
      "application/vnd.jupyter.widget-view+json": {
       "model_id": "1425601ec4174f0ebeb64b391b6b903a",
       "version_major": 2,
       "version_minor": 0
      },
      "text/plain": [
       "Downloading (…)lve/main/config.json:   0%|          | 0.00/629 [00:00<?, ?B/s]"
      ]
     },
     "metadata": {},
     "output_type": "display_data"
    },
    {
     "data": {
      "application/vnd.jupyter.widget-view+json": {
       "model_id": "6244dd3f3dfd47bbbf2f32ca6227cc43",
       "version_major": 2,
       "version_minor": 0
      },
      "text/plain": [
       "Downloading pytorch_model.bin:   0%|          | 0.00/268M [00:00<?, ?B/s]"
      ]
     },
     "metadata": {},
     "output_type": "display_data"
    },
    {
     "data": {
      "application/vnd.jupyter.widget-view+json": {
       "model_id": "3ab3222311eb409396d2c596dc7da668",
       "version_major": 2,
       "version_minor": 0
      },
      "text/plain": [
       "Downloading (…)okenizer_config.json:   0%|          | 0.00/48.0 [00:00<?, ?B/s]"
      ]
     },
     "metadata": {},
     "output_type": "display_data"
    },
    {
     "data": {
      "application/vnd.jupyter.widget-view+json": {
       "model_id": "3b0de65868914d0a825de54a360b874f",
       "version_major": 2,
       "version_minor": 0
      },
      "text/plain": [
       "Downloading (…)solve/main/vocab.txt:   0%|          | 0.00/232k [00:00<?, ?B/s]"
      ]
     },
     "metadata": {},
     "output_type": "display_data"
    },
    {
     "name": "stderr",
     "output_type": "stream",
     "text": [
      "Xformers is not installed correctly. If you want to use memorry_efficient_attention to accelerate training use the following command to install Xformers\n",
      "pip install xformers.\n"
     ]
    }
   ],
   "source": [
    "sentiment_pipeline = pipeline(\"sentiment-analysis\")"
   ]
  },
  {
   "cell_type": "code",
   "execution_count": 95,
   "metadata": {},
   "outputs": [
    {
     "data": {
      "text/plain": [
       "[{'label': 'POSITIVE', 'score': 0.9979088306427002},\n",
       " {'label': 'NEGATIVE', 'score': 0.9880996346473694},\n",
       " {'label': 'NEGATIVE', 'score': 0.9937775135040283},\n",
       " {'label': 'POSITIVE', 'score': 0.9689701199531555},\n",
       " {'label': 'NEGATIVE', 'score': 0.9980353713035583},\n",
       " {'label': 'POSITIVE', 'score': 0.9979088306427002},\n",
       " {'label': 'POSITIVE', 'score': 0.9979088306427002},\n",
       " {'label': 'NEGATIVE', 'score': 0.9740396738052368},\n",
       " {'label': 'POSITIVE', 'score': 0.9726309180259705},\n",
       " {'label': 'NEGATIVE', 'score': 0.960085928440094},\n",
       " {'label': 'NEGATIVE', 'score': 0.9038848280906677}]"
      ]
     },
     "execution_count": 95,
     "metadata": {},
     "output_type": "execute_result"
    }
   ],
   "source": [
    "sentiment_pipeline(summaries[\"GME\"])"
   ]
  },
  {
   "cell_type": "code",
   "execution_count": 96,
   "metadata": {},
   "outputs": [],
   "source": [
    "scores = {ticker:sentiment_pipeline(summaries[ticker]) for ticker in monitored_tickers}"
   ]
  },
  {
   "cell_type": "code",
   "execution_count": 97,
   "metadata": {},
   "outputs": [
    {
     "data": {
      "text/plain": [
       "{'GME': [{'label': 'POSITIVE', 'score': 0.9979088306427002},\n",
       "  {'label': 'NEGATIVE', 'score': 0.9880996346473694},\n",
       "  {'label': 'NEGATIVE', 'score': 0.9937775135040283},\n",
       "  {'label': 'POSITIVE', 'score': 0.9689701199531555},\n",
       "  {'label': 'NEGATIVE', 'score': 0.9980353713035583},\n",
       "  {'label': 'POSITIVE', 'score': 0.9979088306427002},\n",
       "  {'label': 'POSITIVE', 'score': 0.9979088306427002},\n",
       "  {'label': 'NEGATIVE', 'score': 0.9740396738052368},\n",
       "  {'label': 'POSITIVE', 'score': 0.9726309180259705},\n",
       "  {'label': 'NEGATIVE', 'score': 0.960085928440094},\n",
       "  {'label': 'NEGATIVE', 'score': 0.9038848280906677}],\n",
       " 'TSLA': [{'label': 'POSITIVE', 'score': 0.9979088306427002},\n",
       "  {'label': 'NEGATIVE', 'score': 0.8901519775390625},\n",
       "  {'label': 'POSITIVE', 'score': 0.9782180190086365},\n",
       "  {'label': 'NEGATIVE', 'score': 0.9880996346473694},\n",
       "  {'label': 'POSITIVE', 'score': 0.9979088306427002},\n",
       "  {'label': 'NEGATIVE', 'score': 0.9885679483413696},\n",
       "  {'label': 'NEGATIVE', 'score': 0.9910306930541992},\n",
       "  {'label': 'NEGATIVE', 'score': 0.9646244049072266},\n",
       "  {'label': 'POSITIVE', 'score': 0.9890111684799194},\n",
       "  {'label': 'POSITIVE', 'score': 0.9995946288108826},\n",
       "  {'label': 'NEGATIVE', 'score': 0.988255500793457}],\n",
       " 'BTC': [{'label': 'NEGATIVE', 'score': 0.983632504940033},\n",
       "  {'label': 'NEGATIVE', 'score': 0.9989707469940186},\n",
       "  {'label': 'POSITIVE', 'score': 0.9979088306427002},\n",
       "  {'label': 'POSITIVE', 'score': 0.7707810997962952},\n",
       "  {'label': 'POSITIVE', 'score': 0.9204605221748352},\n",
       "  {'label': 'NEGATIVE', 'score': 0.9615878462791443},\n",
       "  {'label': 'POSITIVE', 'score': 0.9456731677055359},\n",
       "  {'label': 'POSITIVE', 'score': 0.9842543601989746},\n",
       "  {'label': 'POSITIVE', 'score': 0.9977066516876221},\n",
       "  {'label': 'NEGATIVE', 'score': 0.9880996346473694},\n",
       "  {'label': 'NEGATIVE', 'score': 0.9883695840835571}]}"
      ]
     },
     "execution_count": 97,
     "metadata": {},
     "output_type": "execute_result"
    }
   ],
   "source": [
    "scores"
   ]
  },
  {
   "cell_type": "code",
   "execution_count": 103,
   "metadata": {},
   "outputs": [
    {
     "name": "stdout",
     "output_type": "stream",
     "text": [
      "Lenders accused firm of hiding $500 million of funds. Firm has to make interest payment on $1.2 billion loan by June 5 NEGATIVE 0.9937775135040283\n"
     ]
    }
   ],
   "source": [
    "print(summaries[\"GME\"][2], scores[\"GME\"][2]['label'], scores[\"GME\"][2]['score'])"
   ]
  },
  {
   "cell_type": "code",
   "execution_count": 106,
   "metadata": {},
   "outputs": [
    {
     "data": {
      "text/plain": [
       "'Lenders accused firm of hiding $500 million of funds. Firm has to make interest payment on $1.2 billion loan by June 5'"
      ]
     },
     "execution_count": 106,
     "metadata": {},
     "output_type": "execute_result"
    }
   ],
   "source": [
    "summaries[\"GME\"][2]"
   ]
  },
  {
   "cell_type": "code",
   "execution_count": 107,
   "metadata": {},
   "outputs": [
    {
     "data": {
      "text/plain": [
       "'NEGATIVE'"
      ]
     },
     "execution_count": 107,
     "metadata": {},
     "output_type": "execute_result"
    }
   ],
   "source": [
    "scores[\"GME\"][2]['label']"
   ]
  },
  {
   "cell_type": "code",
   "execution_count": 108,
   "metadata": {},
   "outputs": [
    {
     "data": {
      "text/plain": [
       "0.9937775135040283"
      ]
     },
     "execution_count": 108,
     "metadata": {},
     "output_type": "execute_result"
    }
   ],
   "source": [
    "scores[\"GME\"][2]['score']"
   ]
  },
  {
   "attachments": {},
   "cell_type": "markdown",
   "metadata": {},
   "source": [
    "# 6. Exporting Results to CSV"
   ]
  },
  {
   "cell_type": "code",
   "execution_count": 109,
   "metadata": {},
   "outputs": [
    {
     "data": {
      "text/plain": [
       "{'GME': ['We are aware of the issue and are working to resolve it.',\n",
       "  'All images are copyrighted.',\n",
       "  'Lenders accused firm of hiding $500 million of funds. Firm has to make interest payment on $1.2 billion loan by June 5',\n",
       "  'First Milling’s IPO is set to be second biggest in 2020',\n",
       "  'Vedanta-Hon Hai venture hasn’t found production-ready technology. Billionaire’s plan to establish India’s first major chipmaking operation',\n",
       "  'We are aware of the issue and are working to resolve it.',\n",
       "  'We are aware of the issue and are working to resolve it.',\n",
       "  'Retailer to launch Web3 game launchpad Playr. Deal comes as retailer moves away from brick and mortar',\n",
       "  'Trading platform to allow users to trade 24 hours a day. Platform also saw monthly active users rise in the first quarter',\n",
       "  'Retail investors are piling into put options to short banks. ‘It’s a sentiment trade right now,’ CFRA’s Yokum says',\n",
       "  'Video game retailer had gained 27.25% over the past month. Heading into today, shares of the video game retailer had gained 27.25% over the past month.'],\n",
       " 'TSLA': ['We are aware of the issue and are working to resolve it.',\n",
       "  'Shares of Tesla have outperformed the Automotive - Domestic industry over the past year. TotalEnergies has outperformed the Oil and Gas - Refining and Marketing industry',\n",
       "  'Billionaire described U.S. and China like conjoined twins. Musk is in China this week to speak with officials',\n",
       "  'All images are copyrighted.',\n",
       "  'We are aware of the issue and are working to resolve it.',\n",
       "  'Electric-vehicle maker’s shares have been under pressure since earnings. Tesla jacked up prices of its most expensive cars in China',\n",
       "  'Deal allows Ford to access more than 12,000 Tesla superchargers in North America. Auto parts retailer AutoZone reports mixed third-quarter results',\n",
       "  'Tesla offers steeper discounts of $6,330, $5,000 on higher-priced vehicles.',\n",
       "  'Tesla’s new truck to be more than a ‘niche product,’ firm says. ARK sees EV market share hitting over 70% by 2027',\n",
       "  'EV maker has delivered positive earnings surprises in nine quarters. Musk hinted at share buyback in recent earnings call',\n",
       "  'The Model Y was the top-selling vehicle globally in the first quarter. Tesla may have paid a price with lower profit margins'],\n",
       " 'BTC': ['BTI and ETI contracts will be settled in U.S. dollars monthly, Coinbase says. Crypto derivatives are a popular, albeit mostly unregulated, market',\n",
       "  'stablecoin issuer to partner with a Uruguayan firm. Miners have suffered as network hashrate drops',\n",
       "  'We are aware of the issue and are working to resolve it.',\n",
       "  \"SATO's two Quebec-based data Centers are currently preparing to increase Bitcoin mining capacity.\",\n",
       "  'Coin could reach $32,000 by the end of June: ChatGPT. Ethereum could be set for a positive month: ChatGPT',\n",
       "  'Sales of BTC equated to proceeds of $12.9 million. May daily BTC mined averaged 19.6 and reached a high of 29.6',\n",
       "  'Mining firm produced a record 1,245 BTC in May, up 77% from last month and 366% from May. raised nearly $800,000 for Bitcoin Core developers in collaboration with Brink',\n",
       "  'Network’s hashrate also rose to a record high. Miners are rewarded for validating transactions on the network',\n",
       "  '‘Bit.Bread’ is latest in a string of works by artist OONA. Performance art has become a regular feature at Bitcoin conference',\n",
       "  'All images are copyrighted.',\n",
       "  'Hawkish comments keep crypto investors off-balance. Bitcoin finished May with first losing month in 2023']}"
      ]
     },
     "execution_count": 109,
     "metadata": {},
     "output_type": "execute_result"
    }
   ],
   "source": [
    "summaries"
   ]
  },
  {
   "cell_type": "code",
   "execution_count": 110,
   "metadata": {},
   "outputs": [
    {
     "data": {
      "text/plain": [
       "{'GME': [{'label': 'POSITIVE', 'score': 0.9979088306427002},\n",
       "  {'label': 'NEGATIVE', 'score': 0.9880996346473694},\n",
       "  {'label': 'NEGATIVE', 'score': 0.9937775135040283},\n",
       "  {'label': 'POSITIVE', 'score': 0.9689701199531555},\n",
       "  {'label': 'NEGATIVE', 'score': 0.9980353713035583},\n",
       "  {'label': 'POSITIVE', 'score': 0.9979088306427002},\n",
       "  {'label': 'POSITIVE', 'score': 0.9979088306427002},\n",
       "  {'label': 'NEGATIVE', 'score': 0.9740396738052368},\n",
       "  {'label': 'POSITIVE', 'score': 0.9726309180259705},\n",
       "  {'label': 'NEGATIVE', 'score': 0.960085928440094},\n",
       "  {'label': 'NEGATIVE', 'score': 0.9038848280906677}],\n",
       " 'TSLA': [{'label': 'POSITIVE', 'score': 0.9979088306427002},\n",
       "  {'label': 'NEGATIVE', 'score': 0.8901519775390625},\n",
       "  {'label': 'POSITIVE', 'score': 0.9782180190086365},\n",
       "  {'label': 'NEGATIVE', 'score': 0.9880996346473694},\n",
       "  {'label': 'POSITIVE', 'score': 0.9979088306427002},\n",
       "  {'label': 'NEGATIVE', 'score': 0.9885679483413696},\n",
       "  {'label': 'NEGATIVE', 'score': 0.9910306930541992},\n",
       "  {'label': 'NEGATIVE', 'score': 0.9646244049072266},\n",
       "  {'label': 'POSITIVE', 'score': 0.9890111684799194},\n",
       "  {'label': 'POSITIVE', 'score': 0.9995946288108826},\n",
       "  {'label': 'NEGATIVE', 'score': 0.988255500793457}],\n",
       " 'BTC': [{'label': 'NEGATIVE', 'score': 0.983632504940033},\n",
       "  {'label': 'NEGATIVE', 'score': 0.9989707469940186},\n",
       "  {'label': 'POSITIVE', 'score': 0.9979088306427002},\n",
       "  {'label': 'POSITIVE', 'score': 0.7707810997962952},\n",
       "  {'label': 'POSITIVE', 'score': 0.9204605221748352},\n",
       "  {'label': 'NEGATIVE', 'score': 0.9615878462791443},\n",
       "  {'label': 'POSITIVE', 'score': 0.9456731677055359},\n",
       "  {'label': 'POSITIVE', 'score': 0.9842543601989746},\n",
       "  {'label': 'POSITIVE', 'score': 0.9977066516876221},\n",
       "  {'label': 'NEGATIVE', 'score': 0.9880996346473694},\n",
       "  {'label': 'NEGATIVE', 'score': 0.9883695840835571}]}"
      ]
     },
     "execution_count": 110,
     "metadata": {},
     "output_type": "execute_result"
    }
   ],
   "source": [
    "scores"
   ]
  },
  {
   "cell_type": "code",
   "execution_count": 111,
   "metadata": {},
   "outputs": [
    {
     "data": {
      "text/plain": [
       "{'GME': ['https://finance.yahoo.com/news/strength-seen-gamestop-gme-14-144602277.html',\n",
       "  'https://www.google.com/search?q%3Dyahoo%2Bfinance%2BGME%26tbm%3Dnws%26pccc%3D1',\n",
       "  'https://finance.yahoo.com/news/byju-lenders-scrap-talks-restructure-063304131.html',\n",
       "  'https://finance.yahoo.com/news/saudi-flour-milling-company-ipo-093803396.html',\n",
       "  'https://finance.yahoo.com/news/billionaire-chip-dreams-stymied-india-000225933.html',\n",
       "  'https://finance.yahoo.com/video/bank-stock-declines-attributed-crowd-205127249.html',\n",
       "  'https://uk.finance.yahoo.com/news/mexico-extends-gmexico-train-concession-154127289.html',\n",
       "  'https://finance.yahoo.com/news/gamestop-teams-telos-foundation-grow-155032269.html',\n",
       "  'https://finance.yahoo.com/news/robinhood-announces-plans-to-launch-24-hour-trading-with-names-like-apple-tesla-130110794.html',\n",
       "  'https://finance.yahoo.com/news/are-banks-the-new-meme-stocks-193655826.html',\n",
       "  'https://finance.yahoo.com/news/gamestop-gme-gains-lags-market-221517734.html'],\n",
       " 'TSLA': ['https://ca.finance.yahoo.com/news/tesla-still-auto-stock-despite-200919415.html',\n",
       "  'https://finance.yahoo.com/news/top-research-reports-tesla-totalenergies-202900627.html',\n",
       "  'https://finance.yahoo.com/news/chinas-foreign-ministry-tesla-ceo-092412402.html',\n",
       "  'https://www.google.com/search?q%3Dyahoo%2Bfinance%2BTSLA%26tbm%3Dnws%26pccc%3D1',\n",
       "  'https://finance.yahoo.com/video/tesla-likely-launch-more-conventional-160521632.html',\n",
       "  'https://finance.yahoo.com/news/tesla-stock-jumps-55-on-friday-snaps-longest-weekly-losing-streak-since-2021-201813547.html',\n",
       "  'https://finance.yahoo.com/news/auto-roundup-tsla-fs-game-142800188.html',\n",
       "  'https://finance.yahoo.com/news/tesla-doubles-discounts-model-3-002409554.html',\n",
       "  'https://finance.yahoo.com/news/tesla-cybertruck-could-be-as-mainstream-as-the-model-y-ark-invest-203139255.html',\n",
       "  'https://finance.yahoo.com/news/5-reasons-buy-tesla-now-121300017.html',\n",
       "  'https://finance.yahoo.com/news/tesla-model-y-was-the-best-selling-car-worldwide-in-the-first-quarter-154909234.html'],\n",
       " 'BTC': ['https://finance.yahoo.com/news/coinbase-derivatives-exchange-offer-institutional-081858007.html',\n",
       "  'https://finance.yahoo.com/news/controversial-stablecoin-issuer-tether-plans-163724092.html',\n",
       "  'https://uk.finance.yahoo.com/news/bitcoin-poised-for-first-monthly-decline-of-2023-084014656.html',\n",
       "  'https://finance.yahoo.com/news/public-bitcoin-miner-sato-technologies-120500755.html',\n",
       "  'https://finance.yahoo.com/news/chatgpt-price-predictions-june-bitcoin-212203498.html',\n",
       "  'https://finance.yahoo.com/news/cleanspark-releases-may-2023-bitcoin-130000163.html',\n",
       "  'https://finance.yahoo.com/news/marathon-digital-holdings-announces-bitcoin-100000265.html',\n",
       "  'https://finance.yahoo.com/news/bitcoin-mining-difficulty-rises-3-053415215.html',\n",
       "  'https://finance.yahoo.com/news/someone-bought-loaf-bread-bitcoin-224725278.html',\n",
       "  'https://www.google.com/search?q%3Dyahoo%2Bfinance%2BBTC%26tbm%3Dnws%26pccc%3D1',\n",
       "  'https://finance.yahoo.com/news/first-mover-asia-bitcoin-settles-020214108.html']}"
      ]
     },
     "execution_count": 111,
     "metadata": {},
     "output_type": "execute_result"
    }
   ],
   "source": [
    "cleaned_urls"
   ]
  },
  {
   "cell_type": "code",
   "execution_count": 117,
   "metadata": {},
   "outputs": [],
   "source": [
    "def create_output_array(summaries, scores, cleaned_urls):\n",
    "    \"\"\"create output array\n",
    "    \n",
    "    Args:\n",
    "        summaries (list): list of summaries\n",
    "        scores (list): list of scores\n",
    "        cleaned_urls (list): list of cleaned urls\n",
    "    \n",
    "    Returns:\n",
    "        list: list of dictionaries\n",
    "    \"\"\"\n",
    "    output = []\n",
    "    # loop through the tickers\n",
    "    for ticker in monitored_tickers:\n",
    "        # loop through the summaries\n",
    "        for counter in range(len(summaries[ticker])):\n",
    "            output_this = [\n",
    "                ticker,\n",
    "                summaries[ticker][counter],\n",
    "                scores[ticker][counter]['label'],\n",
    "                scores[ticker][counter]['score'],\n",
    "                cleaned_urls[ticker][counter]\n",
    "            ]\n",
    "            output.append(output_this)\n",
    "    return output"
   ]
  },
  {
   "cell_type": "markdown",
   "metadata": {},
   "source": [
    "breakdown of above code"
   ]
  },
  {
   "cell_type": "code",
   "execution_count": 112,
   "metadata": {},
   "outputs": [
    {
     "data": {
      "text/plain": [
       "['We are aware of the issue and are working to resolve it.',\n",
       " 'All images are copyrighted.',\n",
       " 'Lenders accused firm of hiding $500 million of funds. Firm has to make interest payment on $1.2 billion loan by June 5',\n",
       " 'First Milling’s IPO is set to be second biggest in 2020',\n",
       " 'Vedanta-Hon Hai venture hasn’t found production-ready technology. Billionaire’s plan to establish India’s first major chipmaking operation',\n",
       " 'We are aware of the issue and are working to resolve it.',\n",
       " 'We are aware of the issue and are working to resolve it.',\n",
       " 'Retailer to launch Web3 game launchpad Playr. Deal comes as retailer moves away from brick and mortar',\n",
       " 'Trading platform to allow users to trade 24 hours a day. Platform also saw monthly active users rise in the first quarter',\n",
       " 'Retail investors are piling into put options to short banks. ‘It’s a sentiment trade right now,’ CFRA’s Yokum says',\n",
       " 'Video game retailer had gained 27.25% over the past month. Heading into today, shares of the video game retailer had gained 27.25% over the past month.']"
      ]
     },
     "execution_count": 112,
     "metadata": {},
     "output_type": "execute_result"
    }
   ],
   "source": [
    "summaries[\"GME\"]"
   ]
  },
  {
   "cell_type": "code",
   "execution_count": 113,
   "metadata": {},
   "outputs": [
    {
     "data": {
      "text/plain": [
       "11"
      ]
     },
     "execution_count": 113,
     "metadata": {},
     "output_type": "execute_result"
    }
   ],
   "source": [
    "len(summaries[\"GME\"])"
   ]
  },
  {
   "cell_type": "code",
   "execution_count": 114,
   "metadata": {},
   "outputs": [
    {
     "data": {
      "text/plain": [
       "range(0, 11)"
      ]
     },
     "execution_count": 114,
     "metadata": {},
     "output_type": "execute_result"
    }
   ],
   "source": [
    "range(len(summaries[\"GME\"]))"
   ]
  },
  {
   "cell_type": "code",
   "execution_count": 115,
   "metadata": {},
   "outputs": [
    {
     "data": {
      "text/plain": [
       "'We are aware of the issue and are working to resolve it.'"
      ]
     },
     "execution_count": 115,
     "metadata": {},
     "output_type": "execute_result"
    }
   ],
   "source": [
    "# grab the 1st summary for GME\n",
    "summaries[\"GME\"][0]"
   ]
  },
  {
   "attachments": {},
   "cell_type": "markdown",
   "metadata": {},
   "source": [
    "Create the final output array"
   ]
  },
  {
   "cell_type": "code",
   "execution_count": 118,
   "metadata": {},
   "outputs": [],
   "source": [
    "final_output = create_output_array(summaries, scores, cleaned_urls)"
   ]
  },
  {
   "cell_type": "code",
   "execution_count": 119,
   "metadata": {},
   "outputs": [
    {
     "data": {
      "text/plain": [
       "[['GME',\n",
       "  'We are aware of the issue and are working to resolve it.',\n",
       "  'POSITIVE',\n",
       "  0.9979088306427002,\n",
       "  'https://finance.yahoo.com/news/strength-seen-gamestop-gme-14-144602277.html'],\n",
       " ['GME',\n",
       "  'All images are copyrighted.',\n",
       "  'NEGATIVE',\n",
       "  0.9880996346473694,\n",
       "  'https://www.google.com/search?q%3Dyahoo%2Bfinance%2BGME%26tbm%3Dnws%26pccc%3D1'],\n",
       " ['GME',\n",
       "  'Lenders accused firm of hiding $500 million of funds. Firm has to make interest payment on $1.2 billion loan by June 5',\n",
       "  'NEGATIVE',\n",
       "  0.9937775135040283,\n",
       "  'https://finance.yahoo.com/news/byju-lenders-scrap-talks-restructure-063304131.html'],\n",
       " ['GME',\n",
       "  'First Milling’s IPO is set to be second biggest in 2020',\n",
       "  'POSITIVE',\n",
       "  0.9689701199531555,\n",
       "  'https://finance.yahoo.com/news/saudi-flour-milling-company-ipo-093803396.html'],\n",
       " ['GME',\n",
       "  'Vedanta-Hon Hai venture hasn’t found production-ready technology. Billionaire’s plan to establish India’s first major chipmaking operation',\n",
       "  'NEGATIVE',\n",
       "  0.9980353713035583,\n",
       "  'https://finance.yahoo.com/news/billionaire-chip-dreams-stymied-india-000225933.html'],\n",
       " ['GME',\n",
       "  'We are aware of the issue and are working to resolve it.',\n",
       "  'POSITIVE',\n",
       "  0.9979088306427002,\n",
       "  'https://finance.yahoo.com/video/bank-stock-declines-attributed-crowd-205127249.html'],\n",
       " ['GME',\n",
       "  'We are aware of the issue and are working to resolve it.',\n",
       "  'POSITIVE',\n",
       "  0.9979088306427002,\n",
       "  'https://uk.finance.yahoo.com/news/mexico-extends-gmexico-train-concession-154127289.html'],\n",
       " ['GME',\n",
       "  'Retailer to launch Web3 game launchpad Playr. Deal comes as retailer moves away from brick and mortar',\n",
       "  'NEGATIVE',\n",
       "  0.9740396738052368,\n",
       "  'https://finance.yahoo.com/news/gamestop-teams-telos-foundation-grow-155032269.html'],\n",
       " ['GME',\n",
       "  'Trading platform to allow users to trade 24 hours a day. Platform also saw monthly active users rise in the first quarter',\n",
       "  'POSITIVE',\n",
       "  0.9726309180259705,\n",
       "  'https://finance.yahoo.com/news/robinhood-announces-plans-to-launch-24-hour-trading-with-names-like-apple-tesla-130110794.html'],\n",
       " ['GME',\n",
       "  'Retail investors are piling into put options to short banks. ‘It’s a sentiment trade right now,’ CFRA’s Yokum says',\n",
       "  'NEGATIVE',\n",
       "  0.960085928440094,\n",
       "  'https://finance.yahoo.com/news/are-banks-the-new-meme-stocks-193655826.html'],\n",
       " ['GME',\n",
       "  'Video game retailer had gained 27.25% over the past month. Heading into today, shares of the video game retailer had gained 27.25% over the past month.',\n",
       "  'NEGATIVE',\n",
       "  0.9038848280906677,\n",
       "  'https://finance.yahoo.com/news/gamestop-gme-gains-lags-market-221517734.html'],\n",
       " ['TSLA',\n",
       "  'We are aware of the issue and are working to resolve it.',\n",
       "  'POSITIVE',\n",
       "  0.9979088306427002,\n",
       "  'https://ca.finance.yahoo.com/news/tesla-still-auto-stock-despite-200919415.html'],\n",
       " ['TSLA',\n",
       "  'Shares of Tesla have outperformed the Automotive - Domestic industry over the past year. TotalEnergies has outperformed the Oil and Gas - Refining and Marketing industry',\n",
       "  'NEGATIVE',\n",
       "  0.8901519775390625,\n",
       "  'https://finance.yahoo.com/news/top-research-reports-tesla-totalenergies-202900627.html'],\n",
       " ['TSLA',\n",
       "  'Billionaire described U.S. and China like conjoined twins. Musk is in China this week to speak with officials',\n",
       "  'POSITIVE',\n",
       "  0.9782180190086365,\n",
       "  'https://finance.yahoo.com/news/chinas-foreign-ministry-tesla-ceo-092412402.html'],\n",
       " ['TSLA',\n",
       "  'All images are copyrighted.',\n",
       "  'NEGATIVE',\n",
       "  0.9880996346473694,\n",
       "  'https://www.google.com/search?q%3Dyahoo%2Bfinance%2BTSLA%26tbm%3Dnws%26pccc%3D1'],\n",
       " ['TSLA',\n",
       "  'We are aware of the issue and are working to resolve it.',\n",
       "  'POSITIVE',\n",
       "  0.9979088306427002,\n",
       "  'https://finance.yahoo.com/video/tesla-likely-launch-more-conventional-160521632.html'],\n",
       " ['TSLA',\n",
       "  'Electric-vehicle maker’s shares have been under pressure since earnings. Tesla jacked up prices of its most expensive cars in China',\n",
       "  'NEGATIVE',\n",
       "  0.9885679483413696,\n",
       "  'https://finance.yahoo.com/news/tesla-stock-jumps-55-on-friday-snaps-longest-weekly-losing-streak-since-2021-201813547.html'],\n",
       " ['TSLA',\n",
       "  'Deal allows Ford to access more than 12,000 Tesla superchargers in North America. Auto parts retailer AutoZone reports mixed third-quarter results',\n",
       "  'NEGATIVE',\n",
       "  0.9910306930541992,\n",
       "  'https://finance.yahoo.com/news/auto-roundup-tsla-fs-game-142800188.html'],\n",
       " ['TSLA',\n",
       "  'Tesla offers steeper discounts of $6,330, $5,000 on higher-priced vehicles.',\n",
       "  'NEGATIVE',\n",
       "  0.9646244049072266,\n",
       "  'https://finance.yahoo.com/news/tesla-doubles-discounts-model-3-002409554.html'],\n",
       " ['TSLA',\n",
       "  'Tesla’s new truck to be more than a ‘niche product,’ firm says. ARK sees EV market share hitting over 70% by 2027',\n",
       "  'POSITIVE',\n",
       "  0.9890111684799194,\n",
       "  'https://finance.yahoo.com/news/tesla-cybertruck-could-be-as-mainstream-as-the-model-y-ark-invest-203139255.html'],\n",
       " ['TSLA',\n",
       "  'EV maker has delivered positive earnings surprises in nine quarters. Musk hinted at share buyback in recent earnings call',\n",
       "  'POSITIVE',\n",
       "  0.9995946288108826,\n",
       "  'https://finance.yahoo.com/news/5-reasons-buy-tesla-now-121300017.html'],\n",
       " ['TSLA',\n",
       "  'The Model Y was the top-selling vehicle globally in the first quarter. Tesla may have paid a price with lower profit margins',\n",
       "  'NEGATIVE',\n",
       "  0.988255500793457,\n",
       "  'https://finance.yahoo.com/news/tesla-model-y-was-the-best-selling-car-worldwide-in-the-first-quarter-154909234.html'],\n",
       " ['BTC',\n",
       "  'BTI and ETI contracts will be settled in U.S. dollars monthly, Coinbase says. Crypto derivatives are a popular, albeit mostly unregulated, market',\n",
       "  'NEGATIVE',\n",
       "  0.983632504940033,\n",
       "  'https://finance.yahoo.com/news/coinbase-derivatives-exchange-offer-institutional-081858007.html'],\n",
       " ['BTC',\n",
       "  'stablecoin issuer to partner with a Uruguayan firm. Miners have suffered as network hashrate drops',\n",
       "  'NEGATIVE',\n",
       "  0.9989707469940186,\n",
       "  'https://finance.yahoo.com/news/controversial-stablecoin-issuer-tether-plans-163724092.html'],\n",
       " ['BTC',\n",
       "  'We are aware of the issue and are working to resolve it.',\n",
       "  'POSITIVE',\n",
       "  0.9979088306427002,\n",
       "  'https://uk.finance.yahoo.com/news/bitcoin-poised-for-first-monthly-decline-of-2023-084014656.html'],\n",
       " ['BTC',\n",
       "  \"SATO's two Quebec-based data Centers are currently preparing to increase Bitcoin mining capacity.\",\n",
       "  'POSITIVE',\n",
       "  0.7707810997962952,\n",
       "  'https://finance.yahoo.com/news/public-bitcoin-miner-sato-technologies-120500755.html'],\n",
       " ['BTC',\n",
       "  'Coin could reach $32,000 by the end of June: ChatGPT. Ethereum could be set for a positive month: ChatGPT',\n",
       "  'POSITIVE',\n",
       "  0.9204605221748352,\n",
       "  'https://finance.yahoo.com/news/chatgpt-price-predictions-june-bitcoin-212203498.html'],\n",
       " ['BTC',\n",
       "  'Sales of BTC equated to proceeds of $12.9 million. May daily BTC mined averaged 19.6 and reached a high of 29.6',\n",
       "  'NEGATIVE',\n",
       "  0.9615878462791443,\n",
       "  'https://finance.yahoo.com/news/cleanspark-releases-may-2023-bitcoin-130000163.html'],\n",
       " ['BTC',\n",
       "  'Mining firm produced a record 1,245 BTC in May, up 77% from last month and 366% from May. raised nearly $800,000 for Bitcoin Core developers in collaboration with Brink',\n",
       "  'POSITIVE',\n",
       "  0.9456731677055359,\n",
       "  'https://finance.yahoo.com/news/marathon-digital-holdings-announces-bitcoin-100000265.html'],\n",
       " ['BTC',\n",
       "  'Network’s hashrate also rose to a record high. Miners are rewarded for validating transactions on the network',\n",
       "  'POSITIVE',\n",
       "  0.9842543601989746,\n",
       "  'https://finance.yahoo.com/news/bitcoin-mining-difficulty-rises-3-053415215.html'],\n",
       " ['BTC',\n",
       "  '‘Bit.Bread’ is latest in a string of works by artist OONA. Performance art has become a regular feature at Bitcoin conference',\n",
       "  'POSITIVE',\n",
       "  0.9977066516876221,\n",
       "  'https://finance.yahoo.com/news/someone-bought-loaf-bread-bitcoin-224725278.html'],\n",
       " ['BTC',\n",
       "  'All images are copyrighted.',\n",
       "  'NEGATIVE',\n",
       "  0.9880996346473694,\n",
       "  'https://www.google.com/search?q%3Dyahoo%2Bfinance%2BBTC%26tbm%3Dnws%26pccc%3D1'],\n",
       " ['BTC',\n",
       "  'Hawkish comments keep crypto investors off-balance. Bitcoin finished May with first losing month in 2023',\n",
       "  'NEGATIVE',\n",
       "  0.9883695840835571,\n",
       "  'https://finance.yahoo.com/news/first-mover-asia-bitcoin-settles-020214108.html']]"
      ]
     },
     "execution_count": 119,
     "metadata": {},
     "output_type": "execute_result"
    }
   ],
   "source": [
    "final_output"
   ]
  },
  {
   "attachments": {},
   "cell_type": "markdown",
   "metadata": {},
   "source": [
    "Add column names to each column in the final output"
   ]
  },
  {
   "cell_type": "code",
   "execution_count": 120,
   "metadata": {},
   "outputs": [],
   "source": [
    "final_output.insert(0, [\"Ticker\", \"Summary\", \"Sentiment\", \"Confidence\", \"URL\"])"
   ]
  },
  {
   "cell_type": "code",
   "execution_count": 121,
   "metadata": {},
   "outputs": [
    {
     "data": {
      "text/plain": [
       "[['Ticker', 'Summary', 'Sentiment', 'Confidence', 'URL'],\n",
       " ['GME',\n",
       "  'We are aware of the issue and are working to resolve it.',\n",
       "  'POSITIVE',\n",
       "  0.9979088306427002,\n",
       "  'https://finance.yahoo.com/news/strength-seen-gamestop-gme-14-144602277.html'],\n",
       " ['GME',\n",
       "  'All images are copyrighted.',\n",
       "  'NEGATIVE',\n",
       "  0.9880996346473694,\n",
       "  'https://www.google.com/search?q%3Dyahoo%2Bfinance%2BGME%26tbm%3Dnws%26pccc%3D1'],\n",
       " ['GME',\n",
       "  'Lenders accused firm of hiding $500 million of funds. Firm has to make interest payment on $1.2 billion loan by June 5',\n",
       "  'NEGATIVE',\n",
       "  0.9937775135040283,\n",
       "  'https://finance.yahoo.com/news/byju-lenders-scrap-talks-restructure-063304131.html'],\n",
       " ['GME',\n",
       "  'First Milling’s IPO is set to be second biggest in 2020',\n",
       "  'POSITIVE',\n",
       "  0.9689701199531555,\n",
       "  'https://finance.yahoo.com/news/saudi-flour-milling-company-ipo-093803396.html'],\n",
       " ['GME',\n",
       "  'Vedanta-Hon Hai venture hasn’t found production-ready technology. Billionaire’s plan to establish India’s first major chipmaking operation',\n",
       "  'NEGATIVE',\n",
       "  0.9980353713035583,\n",
       "  'https://finance.yahoo.com/news/billionaire-chip-dreams-stymied-india-000225933.html'],\n",
       " ['GME',\n",
       "  'We are aware of the issue and are working to resolve it.',\n",
       "  'POSITIVE',\n",
       "  0.9979088306427002,\n",
       "  'https://finance.yahoo.com/video/bank-stock-declines-attributed-crowd-205127249.html'],\n",
       " ['GME',\n",
       "  'We are aware of the issue and are working to resolve it.',\n",
       "  'POSITIVE',\n",
       "  0.9979088306427002,\n",
       "  'https://uk.finance.yahoo.com/news/mexico-extends-gmexico-train-concession-154127289.html'],\n",
       " ['GME',\n",
       "  'Retailer to launch Web3 game launchpad Playr. Deal comes as retailer moves away from brick and mortar',\n",
       "  'NEGATIVE',\n",
       "  0.9740396738052368,\n",
       "  'https://finance.yahoo.com/news/gamestop-teams-telos-foundation-grow-155032269.html'],\n",
       " ['GME',\n",
       "  'Trading platform to allow users to trade 24 hours a day. Platform also saw monthly active users rise in the first quarter',\n",
       "  'POSITIVE',\n",
       "  0.9726309180259705,\n",
       "  'https://finance.yahoo.com/news/robinhood-announces-plans-to-launch-24-hour-trading-with-names-like-apple-tesla-130110794.html'],\n",
       " ['GME',\n",
       "  'Retail investors are piling into put options to short banks. ‘It’s a sentiment trade right now,’ CFRA’s Yokum says',\n",
       "  'NEGATIVE',\n",
       "  0.960085928440094,\n",
       "  'https://finance.yahoo.com/news/are-banks-the-new-meme-stocks-193655826.html'],\n",
       " ['GME',\n",
       "  'Video game retailer had gained 27.25% over the past month. Heading into today, shares of the video game retailer had gained 27.25% over the past month.',\n",
       "  'NEGATIVE',\n",
       "  0.9038848280906677,\n",
       "  'https://finance.yahoo.com/news/gamestop-gme-gains-lags-market-221517734.html'],\n",
       " ['TSLA',\n",
       "  'We are aware of the issue and are working to resolve it.',\n",
       "  'POSITIVE',\n",
       "  0.9979088306427002,\n",
       "  'https://ca.finance.yahoo.com/news/tesla-still-auto-stock-despite-200919415.html'],\n",
       " ['TSLA',\n",
       "  'Shares of Tesla have outperformed the Automotive - Domestic industry over the past year. TotalEnergies has outperformed the Oil and Gas - Refining and Marketing industry',\n",
       "  'NEGATIVE',\n",
       "  0.8901519775390625,\n",
       "  'https://finance.yahoo.com/news/top-research-reports-tesla-totalenergies-202900627.html'],\n",
       " ['TSLA',\n",
       "  'Billionaire described U.S. and China like conjoined twins. Musk is in China this week to speak with officials',\n",
       "  'POSITIVE',\n",
       "  0.9782180190086365,\n",
       "  'https://finance.yahoo.com/news/chinas-foreign-ministry-tesla-ceo-092412402.html'],\n",
       " ['TSLA',\n",
       "  'All images are copyrighted.',\n",
       "  'NEGATIVE',\n",
       "  0.9880996346473694,\n",
       "  'https://www.google.com/search?q%3Dyahoo%2Bfinance%2BTSLA%26tbm%3Dnws%26pccc%3D1'],\n",
       " ['TSLA',\n",
       "  'We are aware of the issue and are working to resolve it.',\n",
       "  'POSITIVE',\n",
       "  0.9979088306427002,\n",
       "  'https://finance.yahoo.com/video/tesla-likely-launch-more-conventional-160521632.html'],\n",
       " ['TSLA',\n",
       "  'Electric-vehicle maker’s shares have been under pressure since earnings. Tesla jacked up prices of its most expensive cars in China',\n",
       "  'NEGATIVE',\n",
       "  0.9885679483413696,\n",
       "  'https://finance.yahoo.com/news/tesla-stock-jumps-55-on-friday-snaps-longest-weekly-losing-streak-since-2021-201813547.html'],\n",
       " ['TSLA',\n",
       "  'Deal allows Ford to access more than 12,000 Tesla superchargers in North America. Auto parts retailer AutoZone reports mixed third-quarter results',\n",
       "  'NEGATIVE',\n",
       "  0.9910306930541992,\n",
       "  'https://finance.yahoo.com/news/auto-roundup-tsla-fs-game-142800188.html'],\n",
       " ['TSLA',\n",
       "  'Tesla offers steeper discounts of $6,330, $5,000 on higher-priced vehicles.',\n",
       "  'NEGATIVE',\n",
       "  0.9646244049072266,\n",
       "  'https://finance.yahoo.com/news/tesla-doubles-discounts-model-3-002409554.html'],\n",
       " ['TSLA',\n",
       "  'Tesla’s new truck to be more than a ‘niche product,’ firm says. ARK sees EV market share hitting over 70% by 2027',\n",
       "  'POSITIVE',\n",
       "  0.9890111684799194,\n",
       "  'https://finance.yahoo.com/news/tesla-cybertruck-could-be-as-mainstream-as-the-model-y-ark-invest-203139255.html'],\n",
       " ['TSLA',\n",
       "  'EV maker has delivered positive earnings surprises in nine quarters. Musk hinted at share buyback in recent earnings call',\n",
       "  'POSITIVE',\n",
       "  0.9995946288108826,\n",
       "  'https://finance.yahoo.com/news/5-reasons-buy-tesla-now-121300017.html'],\n",
       " ['TSLA',\n",
       "  'The Model Y was the top-selling vehicle globally in the first quarter. Tesla may have paid a price with lower profit margins',\n",
       "  'NEGATIVE',\n",
       "  0.988255500793457,\n",
       "  'https://finance.yahoo.com/news/tesla-model-y-was-the-best-selling-car-worldwide-in-the-first-quarter-154909234.html'],\n",
       " ['BTC',\n",
       "  'BTI and ETI contracts will be settled in U.S. dollars monthly, Coinbase says. Crypto derivatives are a popular, albeit mostly unregulated, market',\n",
       "  'NEGATIVE',\n",
       "  0.983632504940033,\n",
       "  'https://finance.yahoo.com/news/coinbase-derivatives-exchange-offer-institutional-081858007.html'],\n",
       " ['BTC',\n",
       "  'stablecoin issuer to partner with a Uruguayan firm. Miners have suffered as network hashrate drops',\n",
       "  'NEGATIVE',\n",
       "  0.9989707469940186,\n",
       "  'https://finance.yahoo.com/news/controversial-stablecoin-issuer-tether-plans-163724092.html'],\n",
       " ['BTC',\n",
       "  'We are aware of the issue and are working to resolve it.',\n",
       "  'POSITIVE',\n",
       "  0.9979088306427002,\n",
       "  'https://uk.finance.yahoo.com/news/bitcoin-poised-for-first-monthly-decline-of-2023-084014656.html'],\n",
       " ['BTC',\n",
       "  \"SATO's two Quebec-based data Centers are currently preparing to increase Bitcoin mining capacity.\",\n",
       "  'POSITIVE',\n",
       "  0.7707810997962952,\n",
       "  'https://finance.yahoo.com/news/public-bitcoin-miner-sato-technologies-120500755.html'],\n",
       " ['BTC',\n",
       "  'Coin could reach $32,000 by the end of June: ChatGPT. Ethereum could be set for a positive month: ChatGPT',\n",
       "  'POSITIVE',\n",
       "  0.9204605221748352,\n",
       "  'https://finance.yahoo.com/news/chatgpt-price-predictions-june-bitcoin-212203498.html'],\n",
       " ['BTC',\n",
       "  'Sales of BTC equated to proceeds of $12.9 million. May daily BTC mined averaged 19.6 and reached a high of 29.6',\n",
       "  'NEGATIVE',\n",
       "  0.9615878462791443,\n",
       "  'https://finance.yahoo.com/news/cleanspark-releases-may-2023-bitcoin-130000163.html'],\n",
       " ['BTC',\n",
       "  'Mining firm produced a record 1,245 BTC in May, up 77% from last month and 366% from May. raised nearly $800,000 for Bitcoin Core developers in collaboration with Brink',\n",
       "  'POSITIVE',\n",
       "  0.9456731677055359,\n",
       "  'https://finance.yahoo.com/news/marathon-digital-holdings-announces-bitcoin-100000265.html'],\n",
       " ['BTC',\n",
       "  'Network’s hashrate also rose to a record high. Miners are rewarded for validating transactions on the network',\n",
       "  'POSITIVE',\n",
       "  0.9842543601989746,\n",
       "  'https://finance.yahoo.com/news/bitcoin-mining-difficulty-rises-3-053415215.html'],\n",
       " ['BTC',\n",
       "  '‘Bit.Bread’ is latest in a string of works by artist OONA. Performance art has become a regular feature at Bitcoin conference',\n",
       "  'POSITIVE',\n",
       "  0.9977066516876221,\n",
       "  'https://finance.yahoo.com/news/someone-bought-loaf-bread-bitcoin-224725278.html'],\n",
       " ['BTC',\n",
       "  'All images are copyrighted.',\n",
       "  'NEGATIVE',\n",
       "  0.9880996346473694,\n",
       "  'https://www.google.com/search?q%3Dyahoo%2Bfinance%2BBTC%26tbm%3Dnws%26pccc%3D1'],\n",
       " ['BTC',\n",
       "  'Hawkish comments keep crypto investors off-balance. Bitcoin finished May with first losing month in 2023',\n",
       "  'NEGATIVE',\n",
       "  0.9883695840835571,\n",
       "  'https://finance.yahoo.com/news/first-mover-asia-bitcoin-settles-020214108.html']]"
      ]
     },
     "execution_count": 121,
     "metadata": {},
     "output_type": "execute_result"
    }
   ],
   "source": [
    "final_output"
   ]
  },
  {
   "cell_type": "markdown",
   "metadata": {},
   "source": [
    "Output to CSV"
   ]
  },
  {
   "cell_type": "code",
   "execution_count": 123,
   "metadata": {},
   "outputs": [],
   "source": [
    "with open(\"./output/asset_summaries.csv\", mode = \"w\", newline = \"\") as f:\n",
    "    writer = csv.writer(f, delimiter = \",\", quotechar = '\"', quoting = csv.QUOTE_MINIMAL)\n",
    "    writer.writerows(final_output)"
   ]
  },
  {
   "cell_type": "code",
   "execution_count": null,
   "metadata": {},
   "outputs": [],
   "source": []
  }
 ],
 "metadata": {
  "kernelspec": {
   "display_name": "nick_stock_sentiment",
   "language": "python",
   "name": "python3"
  },
  "language_info": {
   "codemirror_mode": {
    "name": "ipython",
    "version": 3
   },
   "file_extension": ".py",
   "mimetype": "text/x-python",
   "name": "python",
   "nbconvert_exporter": "python",
   "pygments_lexer": "ipython3",
   "version": "3.9.16"
  },
  "orig_nbformat": 4
 },
 "nbformat": 4,
 "nbformat_minor": 2
}
